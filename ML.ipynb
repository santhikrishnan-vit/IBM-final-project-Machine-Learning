{
  "nbformat": 4,
  "nbformat_minor": 0,
  "metadata": {
    "colab": {
      "provenance": [],
      "authorship_tag": "ABX9TyMJn8DX5ZV+hx5oDC5uTdUZ",
      "include_colab_link": true
    },
    "kernelspec": {
      "name": "python3",
      "display_name": "Python 3"
    },
    "language_info": {
      "name": "python"
    }
  },
  "cells": [
    {
      "cell_type": "markdown",
      "metadata": {
        "id": "view-in-github",
        "colab_type": "text"
      },
      "source": [
        "<a href=\"https://colab.research.google.com/github/santhikrishnan-vit/IBM-final-project-Machine-Learning/blob/master/ML.ipynb\" target=\"_parent\"><img src=\"https://colab.research.google.com/assets/colab-badge.svg\" alt=\"Open In Colab\"/></a>"
      ]
    },
    {
      "cell_type": "code",
      "execution_count": null,
      "metadata": {
        "id": "ADT548cIFvOH"
      },
      "outputs": [],
      "source": [
        "import itertools\n",
        "import numpy as np\n",
        "import matplotlib.pyplot as plt\n",
        "from matplotlib.ticker import NullFormatter\n",
        "import pandas as pd\n",
        "import numpy as np\n",
        "import matplotlib.ticker as ticker\n",
        "from sklearn import preprocessing\n",
        "%matplotlib inline"
      ]
    },
    {
      "cell_type": "code",
      "source": [
        "np.random.seed(7)"
      ],
      "metadata": {
        "id": "VJZdCCziGBao"
      },
      "execution_count": null,
      "outputs": []
    },
    {
      "cell_type": "code",
      "source": [
        "!wget -O loan_train.csv https://s3-api.us-geo.objectstorage.softlayer.net/cf-courses-data/CognitiveClass/ML0101ENv3/labs/loan_train.csv\n"
      ],
      "metadata": {
        "colab": {
          "base_uri": "https://localhost:8080/"
        },
        "id": "jEpv2sv8GDYh",
        "outputId": "2baad786-8cb3-45bc-b4ad-6e94254c5247"
      },
      "execution_count": null,
      "outputs": [
        {
          "output_type": "stream",
          "name": "stdout",
          "text": [
            "--2022-09-10 06:31:32--  https://s3-api.us-geo.objectstorage.softlayer.net/cf-courses-data/CognitiveClass/ML0101ENv3/labs/loan_train.csv\n",
            "Resolving s3-api.us-geo.objectstorage.softlayer.net (s3-api.us-geo.objectstorage.softlayer.net)... 67.228.254.196\n",
            "Connecting to s3-api.us-geo.objectstorage.softlayer.net (s3-api.us-geo.objectstorage.softlayer.net)|67.228.254.196|:443... connected.\n",
            "HTTP request sent, awaiting response... 200 OK\n",
            "Length: 23101 (23K) [text/csv]\n",
            "Saving to: ‘loan_train.csv’\n",
            "\n",
            "loan_train.csv      100%[===================>]  22.56K  --.-KB/s    in 0.01s   \n",
            "\n",
            "2022-09-10 06:31:32 (1.85 MB/s) - ‘loan_train.csv’ saved [23101/23101]\n",
            "\n"
          ]
        }
      ]
    },
    {
      "cell_type": "code",
      "source": [
        "df = pd.read_csv('loan_train.csv')\n",
        "df.head()"
      ],
      "metadata": {
        "colab": {
          "base_uri": "https://localhost:8080/",
          "height": 206
        },
        "id": "aZWeZXS8GRGY",
        "outputId": "993ccda3-fd8d-4467-d940-3663cdb5da97"
      },
      "execution_count": null,
      "outputs": [
        {
          "output_type": "execute_result",
          "data": {
            "text/plain": [
              "   Unnamed: 0  Unnamed: 0.1 loan_status  Principal  terms effective_date  \\\n",
              "0           0             0     PAIDOFF       1000     30       9/8/2016   \n",
              "1           2             2     PAIDOFF       1000     30       9/8/2016   \n",
              "2           3             3     PAIDOFF       1000     15       9/8/2016   \n",
              "3           4             4     PAIDOFF       1000     30       9/9/2016   \n",
              "4           6             6     PAIDOFF       1000     30       9/9/2016   \n",
              "\n",
              "    due_date  age             education  Gender  \n",
              "0  10/7/2016   45  High School or Below    male  \n",
              "1  10/7/2016   33              Bechalor  female  \n",
              "2  9/22/2016   27               college    male  \n",
              "3  10/8/2016   28               college  female  \n",
              "4  10/8/2016   29               college    male  "
            ],
            "text/html": [
              "\n",
              "  <div id=\"df-0385bfe3-ebcf-46c8-818d-e48d63ac162a\">\n",
              "    <div class=\"colab-df-container\">\n",
              "      <div>\n",
              "<style scoped>\n",
              "    .dataframe tbody tr th:only-of-type {\n",
              "        vertical-align: middle;\n",
              "    }\n",
              "\n",
              "    .dataframe tbody tr th {\n",
              "        vertical-align: top;\n",
              "    }\n",
              "\n",
              "    .dataframe thead th {\n",
              "        text-align: right;\n",
              "    }\n",
              "</style>\n",
              "<table border=\"1\" class=\"dataframe\">\n",
              "  <thead>\n",
              "    <tr style=\"text-align: right;\">\n",
              "      <th></th>\n",
              "      <th>Unnamed: 0</th>\n",
              "      <th>Unnamed: 0.1</th>\n",
              "      <th>loan_status</th>\n",
              "      <th>Principal</th>\n",
              "      <th>terms</th>\n",
              "      <th>effective_date</th>\n",
              "      <th>due_date</th>\n",
              "      <th>age</th>\n",
              "      <th>education</th>\n",
              "      <th>Gender</th>\n",
              "    </tr>\n",
              "  </thead>\n",
              "  <tbody>\n",
              "    <tr>\n",
              "      <th>0</th>\n",
              "      <td>0</td>\n",
              "      <td>0</td>\n",
              "      <td>PAIDOFF</td>\n",
              "      <td>1000</td>\n",
              "      <td>30</td>\n",
              "      <td>9/8/2016</td>\n",
              "      <td>10/7/2016</td>\n",
              "      <td>45</td>\n",
              "      <td>High School or Below</td>\n",
              "      <td>male</td>\n",
              "    </tr>\n",
              "    <tr>\n",
              "      <th>1</th>\n",
              "      <td>2</td>\n",
              "      <td>2</td>\n",
              "      <td>PAIDOFF</td>\n",
              "      <td>1000</td>\n",
              "      <td>30</td>\n",
              "      <td>9/8/2016</td>\n",
              "      <td>10/7/2016</td>\n",
              "      <td>33</td>\n",
              "      <td>Bechalor</td>\n",
              "      <td>female</td>\n",
              "    </tr>\n",
              "    <tr>\n",
              "      <th>2</th>\n",
              "      <td>3</td>\n",
              "      <td>3</td>\n",
              "      <td>PAIDOFF</td>\n",
              "      <td>1000</td>\n",
              "      <td>15</td>\n",
              "      <td>9/8/2016</td>\n",
              "      <td>9/22/2016</td>\n",
              "      <td>27</td>\n",
              "      <td>college</td>\n",
              "      <td>male</td>\n",
              "    </tr>\n",
              "    <tr>\n",
              "      <th>3</th>\n",
              "      <td>4</td>\n",
              "      <td>4</td>\n",
              "      <td>PAIDOFF</td>\n",
              "      <td>1000</td>\n",
              "      <td>30</td>\n",
              "      <td>9/9/2016</td>\n",
              "      <td>10/8/2016</td>\n",
              "      <td>28</td>\n",
              "      <td>college</td>\n",
              "      <td>female</td>\n",
              "    </tr>\n",
              "    <tr>\n",
              "      <th>4</th>\n",
              "      <td>6</td>\n",
              "      <td>6</td>\n",
              "      <td>PAIDOFF</td>\n",
              "      <td>1000</td>\n",
              "      <td>30</td>\n",
              "      <td>9/9/2016</td>\n",
              "      <td>10/8/2016</td>\n",
              "      <td>29</td>\n",
              "      <td>college</td>\n",
              "      <td>male</td>\n",
              "    </tr>\n",
              "  </tbody>\n",
              "</table>\n",
              "</div>\n",
              "      <button class=\"colab-df-convert\" onclick=\"convertToInteractive('df-0385bfe3-ebcf-46c8-818d-e48d63ac162a')\"\n",
              "              title=\"Convert this dataframe to an interactive table.\"\n",
              "              style=\"display:none;\">\n",
              "        \n",
              "  <svg xmlns=\"http://www.w3.org/2000/svg\" height=\"24px\"viewBox=\"0 0 24 24\"\n",
              "       width=\"24px\">\n",
              "    <path d=\"M0 0h24v24H0V0z\" fill=\"none\"/>\n",
              "    <path d=\"M18.56 5.44l.94 2.06.94-2.06 2.06-.94-2.06-.94-.94-2.06-.94 2.06-2.06.94zm-11 1L8.5 8.5l.94-2.06 2.06-.94-2.06-.94L8.5 2.5l-.94 2.06-2.06.94zm10 10l.94 2.06.94-2.06 2.06-.94-2.06-.94-.94-2.06-.94 2.06-2.06.94z\"/><path d=\"M17.41 7.96l-1.37-1.37c-.4-.4-.92-.59-1.43-.59-.52 0-1.04.2-1.43.59L10.3 9.45l-7.72 7.72c-.78.78-.78 2.05 0 2.83L4 21.41c.39.39.9.59 1.41.59.51 0 1.02-.2 1.41-.59l7.78-7.78 2.81-2.81c.8-.78.8-2.07 0-2.86zM5.41 20L4 18.59l7.72-7.72 1.47 1.35L5.41 20z\"/>\n",
              "  </svg>\n",
              "      </button>\n",
              "      \n",
              "  <style>\n",
              "    .colab-df-container {\n",
              "      display:flex;\n",
              "      flex-wrap:wrap;\n",
              "      gap: 12px;\n",
              "    }\n",
              "\n",
              "    .colab-df-convert {\n",
              "      background-color: #E8F0FE;\n",
              "      border: none;\n",
              "      border-radius: 50%;\n",
              "      cursor: pointer;\n",
              "      display: none;\n",
              "      fill: #1967D2;\n",
              "      height: 32px;\n",
              "      padding: 0 0 0 0;\n",
              "      width: 32px;\n",
              "    }\n",
              "\n",
              "    .colab-df-convert:hover {\n",
              "      background-color: #E2EBFA;\n",
              "      box-shadow: 0px 1px 2px rgba(60, 64, 67, 0.3), 0px 1px 3px 1px rgba(60, 64, 67, 0.15);\n",
              "      fill: #174EA6;\n",
              "    }\n",
              "\n",
              "    [theme=dark] .colab-df-convert {\n",
              "      background-color: #3B4455;\n",
              "      fill: #D2E3FC;\n",
              "    }\n",
              "\n",
              "    [theme=dark] .colab-df-convert:hover {\n",
              "      background-color: #434B5C;\n",
              "      box-shadow: 0px 1px 3px 1px rgba(0, 0, 0, 0.15);\n",
              "      filter: drop-shadow(0px 1px 2px rgba(0, 0, 0, 0.3));\n",
              "      fill: #FFFFFF;\n",
              "    }\n",
              "  </style>\n",
              "\n",
              "      <script>\n",
              "        const buttonEl =\n",
              "          document.querySelector('#df-0385bfe3-ebcf-46c8-818d-e48d63ac162a button.colab-df-convert');\n",
              "        buttonEl.style.display =\n",
              "          google.colab.kernel.accessAllowed ? 'block' : 'none';\n",
              "\n",
              "        async function convertToInteractive(key) {\n",
              "          const element = document.querySelector('#df-0385bfe3-ebcf-46c8-818d-e48d63ac162a');\n",
              "          const dataTable =\n",
              "            await google.colab.kernel.invokeFunction('convertToInteractive',\n",
              "                                                     [key], {});\n",
              "          if (!dataTable) return;\n",
              "\n",
              "          const docLinkHtml = 'Like what you see? Visit the ' +\n",
              "            '<a target=\"_blank\" href=https://colab.research.google.com/notebooks/data_table.ipynb>data table notebook</a>'\n",
              "            + ' to learn more about interactive tables.';\n",
              "          element.innerHTML = '';\n",
              "          dataTable['output_type'] = 'display_data';\n",
              "          await google.colab.output.renderOutput(dataTable, element);\n",
              "          const docLink = document.createElement('div');\n",
              "          docLink.innerHTML = docLinkHtml;\n",
              "          element.appendChild(docLink);\n",
              "        }\n",
              "      </script>\n",
              "    </div>\n",
              "  </div>\n",
              "  "
            ]
          },
          "metadata": {},
          "execution_count": 4
        }
      ]
    },
    {
      "cell_type": "code",
      "source": [
        "df.shape"
      ],
      "metadata": {
        "colab": {
          "base_uri": "https://localhost:8080/"
        },
        "id": "K7JDe1IwGZiW",
        "outputId": "c7ceb512-9a14-46b4-b0e6-4a3587eaaaff"
      },
      "execution_count": null,
      "outputs": [
        {
          "output_type": "execute_result",
          "data": {
            "text/plain": [
              "(346, 10)"
            ]
          },
          "metadata": {},
          "execution_count": 5
        }
      ]
    },
    {
      "cell_type": "code",
      "source": [
        "df['due_date'] = pd.to_datetime(df['due_date'])\n",
        "df['effective_date'] = pd.to_datetime(df['effective_date'])\n",
        "df.head()"
      ],
      "metadata": {
        "colab": {
          "base_uri": "https://localhost:8080/",
          "height": 206
        },
        "id": "qjpf4bgVGfwe",
        "outputId": "982e0890-0ca8-4a2d-8a41-5ae2a3d7cb1a"
      },
      "execution_count": null,
      "outputs": [
        {
          "output_type": "execute_result",
          "data": {
            "text/plain": [
              "   Unnamed: 0  Unnamed: 0.1 loan_status  Principal  terms effective_date  \\\n",
              "0           0             0     PAIDOFF       1000     30     2016-09-08   \n",
              "1           2             2     PAIDOFF       1000     30     2016-09-08   \n",
              "2           3             3     PAIDOFF       1000     15     2016-09-08   \n",
              "3           4             4     PAIDOFF       1000     30     2016-09-09   \n",
              "4           6             6     PAIDOFF       1000     30     2016-09-09   \n",
              "\n",
              "    due_date  age             education  Gender  \n",
              "0 2016-10-07   45  High School or Below    male  \n",
              "1 2016-10-07   33              Bechalor  female  \n",
              "2 2016-09-22   27               college    male  \n",
              "3 2016-10-08   28               college  female  \n",
              "4 2016-10-08   29               college    male  "
            ],
            "text/html": [
              "\n",
              "  <div id=\"df-654b7e04-1fc4-4164-a0c1-103a3ef6751c\">\n",
              "    <div class=\"colab-df-container\">\n",
              "      <div>\n",
              "<style scoped>\n",
              "    .dataframe tbody tr th:only-of-type {\n",
              "        vertical-align: middle;\n",
              "    }\n",
              "\n",
              "    .dataframe tbody tr th {\n",
              "        vertical-align: top;\n",
              "    }\n",
              "\n",
              "    .dataframe thead th {\n",
              "        text-align: right;\n",
              "    }\n",
              "</style>\n",
              "<table border=\"1\" class=\"dataframe\">\n",
              "  <thead>\n",
              "    <tr style=\"text-align: right;\">\n",
              "      <th></th>\n",
              "      <th>Unnamed: 0</th>\n",
              "      <th>Unnamed: 0.1</th>\n",
              "      <th>loan_status</th>\n",
              "      <th>Principal</th>\n",
              "      <th>terms</th>\n",
              "      <th>effective_date</th>\n",
              "      <th>due_date</th>\n",
              "      <th>age</th>\n",
              "      <th>education</th>\n",
              "      <th>Gender</th>\n",
              "    </tr>\n",
              "  </thead>\n",
              "  <tbody>\n",
              "    <tr>\n",
              "      <th>0</th>\n",
              "      <td>0</td>\n",
              "      <td>0</td>\n",
              "      <td>PAIDOFF</td>\n",
              "      <td>1000</td>\n",
              "      <td>30</td>\n",
              "      <td>2016-09-08</td>\n",
              "      <td>2016-10-07</td>\n",
              "      <td>45</td>\n",
              "      <td>High School or Below</td>\n",
              "      <td>male</td>\n",
              "    </tr>\n",
              "    <tr>\n",
              "      <th>1</th>\n",
              "      <td>2</td>\n",
              "      <td>2</td>\n",
              "      <td>PAIDOFF</td>\n",
              "      <td>1000</td>\n",
              "      <td>30</td>\n",
              "      <td>2016-09-08</td>\n",
              "      <td>2016-10-07</td>\n",
              "      <td>33</td>\n",
              "      <td>Bechalor</td>\n",
              "      <td>female</td>\n",
              "    </tr>\n",
              "    <tr>\n",
              "      <th>2</th>\n",
              "      <td>3</td>\n",
              "      <td>3</td>\n",
              "      <td>PAIDOFF</td>\n",
              "      <td>1000</td>\n",
              "      <td>15</td>\n",
              "      <td>2016-09-08</td>\n",
              "      <td>2016-09-22</td>\n",
              "      <td>27</td>\n",
              "      <td>college</td>\n",
              "      <td>male</td>\n",
              "    </tr>\n",
              "    <tr>\n",
              "      <th>3</th>\n",
              "      <td>4</td>\n",
              "      <td>4</td>\n",
              "      <td>PAIDOFF</td>\n",
              "      <td>1000</td>\n",
              "      <td>30</td>\n",
              "      <td>2016-09-09</td>\n",
              "      <td>2016-10-08</td>\n",
              "      <td>28</td>\n",
              "      <td>college</td>\n",
              "      <td>female</td>\n",
              "    </tr>\n",
              "    <tr>\n",
              "      <th>4</th>\n",
              "      <td>6</td>\n",
              "      <td>6</td>\n",
              "      <td>PAIDOFF</td>\n",
              "      <td>1000</td>\n",
              "      <td>30</td>\n",
              "      <td>2016-09-09</td>\n",
              "      <td>2016-10-08</td>\n",
              "      <td>29</td>\n",
              "      <td>college</td>\n",
              "      <td>male</td>\n",
              "    </tr>\n",
              "  </tbody>\n",
              "</table>\n",
              "</div>\n",
              "      <button class=\"colab-df-convert\" onclick=\"convertToInteractive('df-654b7e04-1fc4-4164-a0c1-103a3ef6751c')\"\n",
              "              title=\"Convert this dataframe to an interactive table.\"\n",
              "              style=\"display:none;\">\n",
              "        \n",
              "  <svg xmlns=\"http://www.w3.org/2000/svg\" height=\"24px\"viewBox=\"0 0 24 24\"\n",
              "       width=\"24px\">\n",
              "    <path d=\"M0 0h24v24H0V0z\" fill=\"none\"/>\n",
              "    <path d=\"M18.56 5.44l.94 2.06.94-2.06 2.06-.94-2.06-.94-.94-2.06-.94 2.06-2.06.94zm-11 1L8.5 8.5l.94-2.06 2.06-.94-2.06-.94L8.5 2.5l-.94 2.06-2.06.94zm10 10l.94 2.06.94-2.06 2.06-.94-2.06-.94-.94-2.06-.94 2.06-2.06.94z\"/><path d=\"M17.41 7.96l-1.37-1.37c-.4-.4-.92-.59-1.43-.59-.52 0-1.04.2-1.43.59L10.3 9.45l-7.72 7.72c-.78.78-.78 2.05 0 2.83L4 21.41c.39.39.9.59 1.41.59.51 0 1.02-.2 1.41-.59l7.78-7.78 2.81-2.81c.8-.78.8-2.07 0-2.86zM5.41 20L4 18.59l7.72-7.72 1.47 1.35L5.41 20z\"/>\n",
              "  </svg>\n",
              "      </button>\n",
              "      \n",
              "  <style>\n",
              "    .colab-df-container {\n",
              "      display:flex;\n",
              "      flex-wrap:wrap;\n",
              "      gap: 12px;\n",
              "    }\n",
              "\n",
              "    .colab-df-convert {\n",
              "      background-color: #E8F0FE;\n",
              "      border: none;\n",
              "      border-radius: 50%;\n",
              "      cursor: pointer;\n",
              "      display: none;\n",
              "      fill: #1967D2;\n",
              "      height: 32px;\n",
              "      padding: 0 0 0 0;\n",
              "      width: 32px;\n",
              "    }\n",
              "\n",
              "    .colab-df-convert:hover {\n",
              "      background-color: #E2EBFA;\n",
              "      box-shadow: 0px 1px 2px rgba(60, 64, 67, 0.3), 0px 1px 3px 1px rgba(60, 64, 67, 0.15);\n",
              "      fill: #174EA6;\n",
              "    }\n",
              "\n",
              "    [theme=dark] .colab-df-convert {\n",
              "      background-color: #3B4455;\n",
              "      fill: #D2E3FC;\n",
              "    }\n",
              "\n",
              "    [theme=dark] .colab-df-convert:hover {\n",
              "      background-color: #434B5C;\n",
              "      box-shadow: 0px 1px 3px 1px rgba(0, 0, 0, 0.15);\n",
              "      filter: drop-shadow(0px 1px 2px rgba(0, 0, 0, 0.3));\n",
              "      fill: #FFFFFF;\n",
              "    }\n",
              "  </style>\n",
              "\n",
              "      <script>\n",
              "        const buttonEl =\n",
              "          document.querySelector('#df-654b7e04-1fc4-4164-a0c1-103a3ef6751c button.colab-df-convert');\n",
              "        buttonEl.style.display =\n",
              "          google.colab.kernel.accessAllowed ? 'block' : 'none';\n",
              "\n",
              "        async function convertToInteractive(key) {\n",
              "          const element = document.querySelector('#df-654b7e04-1fc4-4164-a0c1-103a3ef6751c');\n",
              "          const dataTable =\n",
              "            await google.colab.kernel.invokeFunction('convertToInteractive',\n",
              "                                                     [key], {});\n",
              "          if (!dataTable) return;\n",
              "\n",
              "          const docLinkHtml = 'Like what you see? Visit the ' +\n",
              "            '<a target=\"_blank\" href=https://colab.research.google.com/notebooks/data_table.ipynb>data table notebook</a>'\n",
              "            + ' to learn more about interactive tables.';\n",
              "          element.innerHTML = '';\n",
              "          dataTable['output_type'] = 'display_data';\n",
              "          await google.colab.output.renderOutput(dataTable, element);\n",
              "          const docLink = document.createElement('div');\n",
              "          docLink.innerHTML = docLinkHtml;\n",
              "          element.appendChild(docLink);\n",
              "        }\n",
              "      </script>\n",
              "    </div>\n",
              "  </div>\n",
              "  "
            ]
          },
          "metadata": {},
          "execution_count": 6
        }
      ]
    },
    {
      "cell_type": "markdown",
      "source": [
        "Data visualization and pre-processing\n"
      ],
      "metadata": {
        "id": "h2scZzOvGinw"
      }
    },
    {
      "cell_type": "code",
      "source": [
        "df['loan_status'].value_counts()\n"
      ],
      "metadata": {
        "colab": {
          "base_uri": "https://localhost:8080/"
        },
        "id": "tWYEdIiUGn_0",
        "outputId": "0e0bb34d-d795-42e4-a95b-6b2f1d6dfae7"
      },
      "execution_count": null,
      "outputs": [
        {
          "output_type": "execute_result",
          "data": {
            "text/plain": [
              "PAIDOFF       260\n",
              "COLLECTION     86\n",
              "Name: loan_status, dtype: int64"
            ]
          },
          "metadata": {},
          "execution_count": 7
        }
      ]
    },
    {
      "cell_type": "code",
      "source": [
        "import seaborn as sns\n",
        "\n",
        "bins = np.linspace(df.Principal.min(), df.Principal.max(), 10)\n",
        "g = sns.FacetGrid(df, col=\"Gender\", hue=\"loan_status\", palette=\"Set1\", col_wrap=2)\n",
        "g.map(plt.hist, 'Principal', bins=bins, ec=\"k\")\n",
        "\n",
        "g.axes[-1].legend()\n",
        "plt.show()"
      ],
      "metadata": {
        "colab": {
          "base_uri": "https://localhost:8080/",
          "height": 225
        },
        "id": "p9VD3rJNGxNc",
        "outputId": "458f4051-f7c2-4b70-d485-5a7403f19359"
      },
      "execution_count": null,
      "outputs": [
        {
          "output_type": "display_data",
          "data": {
            "text/plain": [
              "<Figure size 432x216 with 2 Axes>"
            ],
            "image/png": "[encoded data removed]"
          },
          "metadata": {
            "needs_background": "light"
          }
        }
      ]
    },
    {
      "cell_type": "code",
      "source": [
        "bins = np.linspace(df.age.min(), df.age.max(), 10)\n",
        "g = sns.FacetGrid(df, col=\"Gender\", hue=\"loan_status\", palette=\"Set1\", col_wrap=2)\n",
        "g.map(plt.hist, 'age', bins=bins, ec=\"k\")\n",
        "\n",
        "g.axes[-1].legend()\n",
        "plt.show()"
      ],
      "metadata": {
        "colab": {
          "base_uri": "https://localhost:8080/",
          "height": 225
        },
        "id": "hwDXVgXFG0ra",
        "outputId": "d7661986-04c1-468d-a8cb-55f689eaab4a"
      },
      "execution_count": null,
      "outputs": [
        {
          "output_type": "display_data",
          "data": {
            "text/plain": [
              "<Figure size 432x216 with 2 Axes>"
            ],
            "image/png": "[encoded data removed]"
          },
          "metadata": {
            "needs_background": "light"
          }
        }
      ]
    },
    {
      "cell_type": "markdown",
      "source": [
        "Pre-processing: Feature selection/extraction\n",
        "Lets look at the day of the week people get the loan\n"
      ],
      "metadata": {
        "id": "ntLfnuYiG9t_"
      }
    },
    {
      "cell_type": "markdown",
      "source": [
        "Lets look at the Months people get the loan\n"
      ],
      "metadata": {
        "id": "Gv3IvbFmHMoQ"
      }
    },
    {
      "cell_type": "code",
      "source": [
        "df['Month'] = df.due_date.dt.month\n",
        "bins = np.linspace(df.Month.min()-1, df.Month.max()+1, 10)\n",
        "g = sns.FacetGrid(df, col=\"Gender\", hue=\"loan_status\", palette=\"Set1\", col_wrap=2)\n",
        "g.map(plt.hist, 'Month', bins=bins, ec=\"k\")\n",
        "g.axes[-1].legend()\n",
        "plt.show()"
      ],
      "metadata": {
        "colab": {
          "base_uri": "https://localhost:8080/",
          "height": 225
        },
        "id": "6Ew7Q0G_HOeE",
        "outputId": "c11e08f8-9b96-4e70-e135-a5f75207e510"
      },
      "execution_count": null,
      "outputs": [
        {
          "output_type": "display_data",
          "data": {
            "text/plain": [
              "<Figure size 432x216 with 2 Axes>"
            ],
            "image/png": "[encoded data removed]"
          },
          "metadata": {
            "needs_background": "light"
          }
        }
      ]
    },
    {
      "cell_type": "markdown",
      "source": [
        "there is higher possibility that people pay off the loan in 9th month than paying it in 10th or 11th\n",
        "as the observation shows people who get the loan at the end of the week don't pay it off, so lets use Feature binarization to set a threshold values less then day 4"
      ],
      "metadata": {
        "id": "hxPPzuU-HZXZ"
      }
    },
    {
      "cell_type": "code",
      "source": [
        "\n",
        "df.head()"
      ],
      "metadata": {
        "colab": {
          "base_uri": "https://localhost:8080/",
          "height": 206
        },
        "id": "zBXqE20IHrfF",
        "outputId": "558d24c9-de6d-4b2c-d7e4-bd84c628ce3d"
      },
      "execution_count": null,
      "outputs": [
        {
          "output_type": "execute_result",
          "data": {
            "text/plain": [
              "   Unnamed: 0  Unnamed: 0.1 loan_status  Principal  terms effective_date  \\\n",
              "0           0             0     PAIDOFF       1000     30     2016-09-08   \n",
              "1           2             2     PAIDOFF       1000     30     2016-09-08   \n",
              "2           3             3     PAIDOFF       1000     15     2016-09-08   \n",
              "3           4             4     PAIDOFF       1000     30     2016-09-09   \n",
              "4           6             6     PAIDOFF       1000     30     2016-09-09   \n",
              "\n",
              "    due_date  age             education  Gender  Month  \n",
              "0 2016-10-07   45  High School or Below    male     10  \n",
              "1 2016-10-07   33              Bechalor  female     10  \n",
              "2 2016-09-22   27               college    male      9  \n",
              "3 2016-10-08   28               college  female     10  \n",
              "4 2016-10-08   29               college    male     10  "
            ],
            "text/html": [
              "\n",
              "  <div id=\"df-89e5563d-ff05-48f1-ae73-c25495772c92\">\n",
              "    <div class=\"colab-df-container\">\n",
              "      <div>\n",
              "<style scoped>\n",
              "    .dataframe tbody tr th:only-of-type {\n",
              "        vertical-align: middle;\n",
              "    }\n",
              "\n",
              "    .dataframe tbody tr th {\n",
              "        vertical-align: top;\n",
              "    }\n",
              "\n",
              "    .dataframe thead th {\n",
              "        text-align: right;\n",
              "    }\n",
              "</style>\n",
              "<table border=\"1\" class=\"dataframe\">\n",
              "  <thead>\n",
              "    <tr style=\"text-align: right;\">\n",
              "      <th></th>\n",
              "      <th>Unnamed: 0</th>\n",
              "      <th>Unnamed: 0.1</th>\n",
              "      <th>loan_status</th>\n",
              "      <th>Principal</th>\n",
              "      <th>terms</th>\n",
              "      <th>effective_date</th>\n",
              "      <th>due_date</th>\n",
              "      <th>age</th>\n",
              "      <th>education</th>\n",
              "      <th>Gender</th>\n",
              "      <th>Month</th>\n",
              "    </tr>\n",
              "  </thead>\n",
              "  <tbody>\n",
              "    <tr>\n",
              "      <th>0</th>\n",
              "      <td>0</td>\n",
              "      <td>0</td>\n",
              "      <td>PAIDOFF</td>\n",
              "      <td>1000</td>\n",
              "      <td>30</td>\n",
              "      <td>2016-09-08</td>\n",
              "      <td>2016-10-07</td>\n",
              "      <td>45</td>\n",
              "      <td>High School or Below</td>\n",
              "      <td>male</td>\n",
              "      <td>10</td>\n",
              "    </tr>\n",
              "    <tr>\n",
              "      <th>1</th>\n",
              "      <td>2</td>\n",
              "      <td>2</td>\n",
              "      <td>PAIDOFF</td>\n",
              "      <td>1000</td>\n",
              "      <td>30</td>\n",
              "      <td>2016-09-08</td>\n",
              "      <td>2016-10-07</td>\n",
              "      <td>33</td>\n",
              "      <td>Bechalor</td>\n",
              "      <td>female</td>\n",
              "      <td>10</td>\n",
              "    </tr>\n",
              "    <tr>\n",
              "      <th>2</th>\n",
              "      <td>3</td>\n",
              "      <td>3</td>\n",
              "      <td>PAIDOFF</td>\n",
              "      <td>1000</td>\n",
              "      <td>15</td>\n",
              "      <td>2016-09-08</td>\n",
              "      <td>2016-09-22</td>\n",
              "      <td>27</td>\n",
              "      <td>college</td>\n",
              "      <td>male</td>\n",
              "      <td>9</td>\n",
              "    </tr>\n",
              "    <tr>\n",
              "      <th>3</th>\n",
              "      <td>4</td>\n",
              "      <td>4</td>\n",
              "      <td>PAIDOFF</td>\n",
              "      <td>1000</td>\n",
              "      <td>30</td>\n",
              "      <td>2016-09-09</td>\n",
              "      <td>2016-10-08</td>\n",
              "      <td>28</td>\n",
              "      <td>college</td>\n",
              "      <td>female</td>\n",
              "      <td>10</td>\n",
              "    </tr>\n",
              "    <tr>\n",
              "      <th>4</th>\n",
              "      <td>6</td>\n",
              "      <td>6</td>\n",
              "      <td>PAIDOFF</td>\n",
              "      <td>1000</td>\n",
              "      <td>30</td>\n",
              "      <td>2016-09-09</td>\n",
              "      <td>2016-10-08</td>\n",
              "      <td>29</td>\n",
              "      <td>college</td>\n",
              "      <td>male</td>\n",
              "      <td>10</td>\n",
              "    </tr>\n",
              "  </tbody>\n",
              "</table>\n",
              "</div>\n",
              "      <button class=\"colab-df-convert\" onclick=\"convertToInteractive('df-89e5563d-ff05-48f1-ae73-c25495772c92')\"\n",
              "              title=\"Convert this dataframe to an interactive table.\"\n",
              "              style=\"display:none;\">\n",
              "        \n",
              "  <svg xmlns=\"http://www.w3.org/2000/svg\" height=\"24px\"viewBox=\"0 0 24 24\"\n",
              "       width=\"24px\">\n",
              "    <path d=\"M0 0h24v24H0V0z\" fill=\"none\"/>\n",
              "    <path d=\"M18.56 5.44l.94 2.06.94-2.06 2.06-.94-2.06-.94-.94-2.06-.94 2.06-2.06.94zm-11 1L8.5 8.5l.94-2.06 2.06-.94-2.06-.94L8.5 2.5l-.94 2.06-2.06.94zm10 10l.94 2.06.94-2.06 2.06-.94-2.06-.94-.94-2.06-.94 2.06-2.06.94z\"/><path d=\"M17.41 7.96l-1.37-1.37c-.4-.4-.92-.59-1.43-.59-.52 0-1.04.2-1.43.59L10.3 9.45l-7.72 7.72c-.78.78-.78 2.05 0 2.83L4 21.41c.39.39.9.59 1.41.59.51 0 1.02-.2 1.41-.59l7.78-7.78 2.81-2.81c.8-.78.8-2.07 0-2.86zM5.41 20L4 18.59l7.72-7.72 1.47 1.35L5.41 20z\"/>\n",
              "  </svg>\n",
              "      </button>\n",
              "      \n",
              "  <style>\n",
              "    .colab-df-container {\n",
              "      display:flex;\n",
              "      flex-wrap:wrap;\n",
              "      gap: 12px;\n",
              "    }\n",
              "\n",
              "    .colab-df-convert {\n",
              "      background-color: #E8F0FE;\n",
              "      border: none;\n",
              "      border-radius: 50%;\n",
              "      cursor: pointer;\n",
              "      display: none;\n",
              "      fill: #1967D2;\n",
              "      height: 32px;\n",
              "      padding: 0 0 0 0;\n",
              "      width: 32px;\n",
              "    }\n",
              "\n",
              "    .colab-df-convert:hover {\n",
              "      background-color: #E2EBFA;\n",
              "      box-shadow: 0px 1px 2px rgba(60, 64, 67, 0.3), 0px 1px 3px 1px rgba(60, 64, 67, 0.15);\n",
              "      fill: #174EA6;\n",
              "    }\n",
              "\n",
              "    [theme=dark] .colab-df-convert {\n",
              "      background-color: #3B4455;\n",
              "      fill: #D2E3FC;\n",
              "    }\n",
              "\n",
              "    [theme=dark] .colab-df-convert:hover {\n",
              "      background-color: #434B5C;\n",
              "      box-shadow: 0px 1px 3px 1px rgba(0, 0, 0, 0.15);\n",
              "      filter: drop-shadow(0px 1px 2px rgba(0, 0, 0, 0.3));\n",
              "      fill: #FFFFFF;\n",
              "    }\n",
              "  </style>\n",
              "\n",
              "      <script>\n",
              "        const buttonEl =\n",
              "          document.querySelector('#df-89e5563d-ff05-48f1-ae73-c25495772c92 button.colab-df-convert');\n",
              "        buttonEl.style.display =\n",
              "          google.colab.kernel.accessAllowed ? 'block' : 'none';\n",
              "\n",
              "        async function convertToInteractive(key) {\n",
              "          const element = document.querySelector('#df-89e5563d-ff05-48f1-ae73-c25495772c92');\n",
              "          const dataTable =\n",
              "            await google.colab.kernel.invokeFunction('convertToInteractive',\n",
              "                                                     [key], {});\n",
              "          if (!dataTable) return;\n",
              "\n",
              "          const docLinkHtml = 'Like what you see? Visit the ' +\n",
              "            '<a target=\"_blank\" href=https://colab.research.google.com/notebooks/data_table.ipynb>data table notebook</a>'\n",
              "            + ' to learn more about interactive tables.';\n",
              "          element.innerHTML = '';\n",
              "          dataTable['output_type'] = 'display_data';\n",
              "          await google.colab.output.renderOutput(dataTable, element);\n",
              "          const docLink = document.createElement('div');\n",
              "          docLink.innerHTML = docLinkHtml;\n",
              "          element.appendChild(docLink);\n",
              "        }\n",
              "      </script>\n",
              "    </div>\n",
              "  </div>\n",
              "  "
            ]
          },
          "metadata": {},
          "execution_count": 14
        }
      ]
    },
    {
      "cell_type": "markdown",
      "source": [
        "# Convert Categorical features to numerical values"
      ],
      "metadata": {
        "id": "ujmIpNziIkkn"
      }
    },
    {
      "cell_type": "code",
      "source": [
        "df.groupby(['Gender'])['loan_status'].value_counts(normalize=True)"
      ],
      "metadata": {
        "colab": {
          "base_uri": "https://localhost:8080/"
        },
        "id": "HQGmxai2IoA_",
        "outputId": "b53c3f1f-5431-4af5-ab40-ac8a95dc9a18"
      },
      "execution_count": null,
      "outputs": [
        {
          "output_type": "execute_result",
          "data": {
            "text/plain": [
              "Gender  loan_status\n",
              "female  PAIDOFF        0.865385\n",
              "        COLLECTION     0.134615\n",
              "male    PAIDOFF        0.731293\n",
              "        COLLECTION     0.268707\n",
              "Name: loan_status, dtype: float64"
            ]
          },
          "metadata": {},
          "execution_count": 15
        }
      ]
    },
    {
      "cell_type": "code",
      "source": [
        "df['Gender'].replace(to_replace=['male','female'], value=[0,1],inplace=True)\n",
        "df.head()"
      ],
      "metadata": {
        "colab": {
          "base_uri": "https://localhost:8080/",
          "height": 206
        },
        "id": "tuq-llwhIuoZ",
        "outputId": "9d0fd7a4-ca98-42e6-fc29-cb82fab5c174"
      },
      "execution_count": null,
      "outputs": [
        {
          "output_type": "execute_result",
          "data": {
            "text/plain": [
              "   Unnamed: 0  Unnamed: 0.1 loan_status  Principal  terms effective_date  \\\n",
              "0           0             0     PAIDOFF       1000     30     2016-09-08   \n",
              "1           2             2     PAIDOFF       1000     30     2016-09-08   \n",
              "2           3             3     PAIDOFF       1000     15     2016-09-08   \n",
              "3           4             4     PAIDOFF       1000     30     2016-09-09   \n",
              "4           6             6     PAIDOFF       1000     30     2016-09-09   \n",
              "\n",
              "    due_date  age             education  Gender  Month  \n",
              "0 2016-10-07   45  High School or Below       0     10  \n",
              "1 2016-10-07   33              Bechalor       1     10  \n",
              "2 2016-09-22   27               college       0      9  \n",
              "3 2016-10-08   28               college       1     10  \n",
              "4 2016-10-08   29               college       0     10  "
            ],
            "text/html": [
              "\n",
              "  <div id=\"df-80074305-94f3-4275-b711-525082d1e3b4\">\n",
              "    <div class=\"colab-df-container\">\n",
              "      <div>\n",
              "<style scoped>\n",
              "    .dataframe tbody tr th:only-of-type {\n",
              "        vertical-align: middle;\n",
              "    }\n",
              "\n",
              "    .dataframe tbody tr th {\n",
              "        vertical-align: top;\n",
              "    }\n",
              "\n",
              "    .dataframe thead th {\n",
              "        text-align: right;\n",
              "    }\n",
              "</style>\n",
              "<table border=\"1\" class=\"dataframe\">\n",
              "  <thead>\n",
              "    <tr style=\"text-align: right;\">\n",
              "      <th></th>\n",
              "      <th>Unnamed: 0</th>\n",
              "      <th>Unnamed: 0.1</th>\n",
              "      <th>loan_status</th>\n",
              "      <th>Principal</th>\n",
              "      <th>terms</th>\n",
              "      <th>effective_date</th>\n",
              "      <th>due_date</th>\n",
              "      <th>age</th>\n",
              "      <th>education</th>\n",
              "      <th>Gender</th>\n",
              "      <th>Month</th>\n",
              "    </tr>\n",
              "  </thead>\n",
              "  <tbody>\n",
              "    <tr>\n",
              "      <th>0</th>\n",
              "      <td>0</td>\n",
              "      <td>0</td>\n",
              "      <td>PAIDOFF</td>\n",
              "      <td>1000</td>\n",
              "      <td>30</td>\n",
              "      <td>2016-09-08</td>\n",
              "      <td>2016-10-07</td>\n",
              "      <td>45</td>\n",
              "      <td>High School or Below</td>\n",
              "      <td>0</td>\n",
              "      <td>10</td>\n",
              "    </tr>\n",
              "    <tr>\n",
              "      <th>1</th>\n",
              "      <td>2</td>\n",
              "      <td>2</td>\n",
              "      <td>PAIDOFF</td>\n",
              "      <td>1000</td>\n",
              "      <td>30</td>\n",
              "      <td>2016-09-08</td>\n",
              "      <td>2016-10-07</td>\n",
              "      <td>33</td>\n",
              "      <td>Bechalor</td>\n",
              "      <td>1</td>\n",
              "      <td>10</td>\n",
              "    </tr>\n",
              "    <tr>\n",
              "      <th>2</th>\n",
              "      <td>3</td>\n",
              "      <td>3</td>\n",
              "      <td>PAIDOFF</td>\n",
              "      <td>1000</td>\n",
              "      <td>15</td>\n",
              "      <td>2016-09-08</td>\n",
              "      <td>2016-09-22</td>\n",
              "      <td>27</td>\n",
              "      <td>college</td>\n",
              "      <td>0</td>\n",
              "      <td>9</td>\n",
              "    </tr>\n",
              "    <tr>\n",
              "      <th>3</th>\n",
              "      <td>4</td>\n",
              "      <td>4</td>\n",
              "      <td>PAIDOFF</td>\n",
              "      <td>1000</td>\n",
              "      <td>30</td>\n",
              "      <td>2016-09-09</td>\n",
              "      <td>2016-10-08</td>\n",
              "      <td>28</td>\n",
              "      <td>college</td>\n",
              "      <td>1</td>\n",
              "      <td>10</td>\n",
              "    </tr>\n",
              "    <tr>\n",
              "      <th>4</th>\n",
              "      <td>6</td>\n",
              "      <td>6</td>\n",
              "      <td>PAIDOFF</td>\n",
              "      <td>1000</td>\n",
              "      <td>30</td>\n",
              "      <td>2016-09-09</td>\n",
              "      <td>2016-10-08</td>\n",
              "      <td>29</td>\n",
              "      <td>college</td>\n",
              "      <td>0</td>\n",
              "      <td>10</td>\n",
              "    </tr>\n",
              "  </tbody>\n",
              "</table>\n",
              "</div>\n",
              "      <button class=\"colab-df-convert\" onclick=\"convertToInteractive('df-80074305-94f3-4275-b711-525082d1e3b4')\"\n",
              "              title=\"Convert this dataframe to an interactive table.\"\n",
              "              style=\"display:none;\">\n",
              "        \n",
              "  <svg xmlns=\"http://www.w3.org/2000/svg\" height=\"24px\"viewBox=\"0 0 24 24\"\n",
              "       width=\"24px\">\n",
              "    <path d=\"M0 0h24v24H0V0z\" fill=\"none\"/>\n",
              "    <path d=\"M18.56 5.44l.94 2.06.94-2.06 2.06-.94-2.06-.94-.94-2.06-.94 2.06-2.06.94zm-11 1L8.5 8.5l.94-2.06 2.06-.94-2.06-.94L8.5 2.5l-.94 2.06-2.06.94zm10 10l.94 2.06.94-2.06 2.06-.94-2.06-.94-.94-2.06-.94 2.06-2.06.94z\"/><path d=\"M17.41 7.96l-1.37-1.37c-.4-.4-.92-.59-1.43-.59-.52 0-1.04.2-1.43.59L10.3 9.45l-7.72 7.72c-.78.78-.78 2.05 0 2.83L4 21.41c.39.39.9.59 1.41.59.51 0 1.02-.2 1.41-.59l7.78-7.78 2.81-2.81c.8-.78.8-2.07 0-2.86zM5.41 20L4 18.59l7.72-7.72 1.47 1.35L5.41 20z\"/>\n",
              "  </svg>\n",
              "      </button>\n",
              "      \n",
              "  <style>\n",
              "    .colab-df-container {\n",
              "      display:flex;\n",
              "      flex-wrap:wrap;\n",
              "      gap: 12px;\n",
              "    }\n",
              "\n",
              "    .colab-df-convert {\n",
              "      background-color: #E8F0FE;\n",
              "      border: none;\n",
              "      border-radius: 50%;\n",
              "      cursor: pointer;\n",
              "      display: none;\n",
              "      fill: #1967D2;\n",
              "      height: 32px;\n",
              "      padding: 0 0 0 0;\n",
              "      width: 32px;\n",
              "    }\n",
              "\n",
              "    .colab-df-convert:hover {\n",
              "      background-color: #E2EBFA;\n",
              "      box-shadow: 0px 1px 2px rgba(60, 64, 67, 0.3), 0px 1px 3px 1px rgba(60, 64, 67, 0.15);\n",
              "      fill: #174EA6;\n",
              "    }\n",
              "\n",
              "    [theme=dark] .colab-df-convert {\n",
              "      background-color: #3B4455;\n",
              "      fill: #D2E3FC;\n",
              "    }\n",
              "\n",
              "    [theme=dark] .colab-df-convert:hover {\n",
              "      background-color: #434B5C;\n",
              "      box-shadow: 0px 1px 3px 1px rgba(0, 0, 0, 0.15);\n",
              "      filter: drop-shadow(0px 1px 2px rgba(0, 0, 0, 0.3));\n",
              "      fill: #FFFFFF;\n",
              "    }\n",
              "  </style>\n",
              "\n",
              "      <script>\n",
              "        const buttonEl =\n",
              "          document.querySelector('#df-80074305-94f3-4275-b711-525082d1e3b4 button.colab-df-convert');\n",
              "        buttonEl.style.display =\n",
              "          google.colab.kernel.accessAllowed ? 'block' : 'none';\n",
              "\n",
              "        async function convertToInteractive(key) {\n",
              "          const element = document.querySelector('#df-80074305-94f3-4275-b711-525082d1e3b4');\n",
              "          const dataTable =\n",
              "            await google.colab.kernel.invokeFunction('convertToInteractive',\n",
              "                                                     [key], {});\n",
              "          if (!dataTable) return;\n",
              "\n",
              "          const docLinkHtml = 'Like what you see? Visit the ' +\n",
              "            '<a target=\"_blank\" href=https://colab.research.google.com/notebooks/data_table.ipynb>data table notebook</a>'\n",
              "            + ' to learn more about interactive tables.';\n",
              "          element.innerHTML = '';\n",
              "          dataTable['output_type'] = 'display_data';\n",
              "          await google.colab.output.renderOutput(dataTable, element);\n",
              "          const docLink = document.createElement('div');\n",
              "          docLink.innerHTML = docLinkHtml;\n",
              "          element.appendChild(docLink);\n",
              "        }\n",
              "      </script>\n",
              "    </div>\n",
              "  </div>\n",
              "  "
            ]
          },
          "metadata": {},
          "execution_count": 16
        }
      ]
    },
    {
      "cell_type": "code",
      "source": [
        "df['deadline']=df['due_date']-df['effective_date']\n",
        "\n",
        "df.head()"
      ],
      "metadata": {
        "colab": {
          "base_uri": "https://localhost:8080/",
          "height": 206
        },
        "id": "6-UL_G6KIwyT",
        "outputId": "20d65460-55ae-4e8d-86d4-93a12f986174"
      },
      "execution_count": null,
      "outputs": [
        {
          "output_type": "execute_result",
          "data": {
            "text/plain": [
              "   Unnamed: 0  Unnamed: 0.1 loan_status  Principal  terms effective_date  \\\n",
              "0           0             0     PAIDOFF       1000     30     2016-09-08   \n",
              "1           2             2     PAIDOFF       1000     30     2016-09-08   \n",
              "2           3             3     PAIDOFF       1000     15     2016-09-08   \n",
              "3           4             4     PAIDOFF       1000     30     2016-09-09   \n",
              "4           6             6     PAIDOFF       1000     30     2016-09-09   \n",
              "\n",
              "    due_date  age             education  Gender  Month deadline  \n",
              "0 2016-10-07   45  High School or Below       0     10  29 days  \n",
              "1 2016-10-07   33              Bechalor       1     10  29 days  \n",
              "2 2016-09-22   27               college       0      9  14 days  \n",
              "3 2016-10-08   28               college       1     10  29 days  \n",
              "4 2016-10-08   29               college       0     10  29 days  "
            ],
            "text/html": [
              "\n",
              "  <div id=\"df-6592ca9a-534f-4a9b-8347-3eac404fd3d4\">\n",
              "    <div class=\"colab-df-container\">\n",
              "      <div>\n",
              "<style scoped>\n",
              "    .dataframe tbody tr th:only-of-type {\n",
              "        vertical-align: middle;\n",
              "    }\n",
              "\n",
              "    .dataframe tbody tr th {\n",
              "        vertical-align: top;\n",
              "    }\n",
              "\n",
              "    .dataframe thead th {\n",
              "        text-align: right;\n",
              "    }\n",
              "</style>\n",
              "<table border=\"1\" class=\"dataframe\">\n",
              "  <thead>\n",
              "    <tr style=\"text-align: right;\">\n",
              "      <th></th>\n",
              "      <th>Unnamed: 0</th>\n",
              "      <th>Unnamed: 0.1</th>\n",
              "      <th>loan_status</th>\n",
              "      <th>Principal</th>\n",
              "      <th>terms</th>\n",
              "      <th>effective_date</th>\n",
              "      <th>due_date</th>\n",
              "      <th>age</th>\n",
              "      <th>education</th>\n",
              "      <th>Gender</th>\n",
              "      <th>Month</th>\n",
              "      <th>deadline</th>\n",
              "    </tr>\n",
              "  </thead>\n",
              "  <tbody>\n",
              "    <tr>\n",
              "      <th>0</th>\n",
              "      <td>0</td>\n",
              "      <td>0</td>\n",
              "      <td>PAIDOFF</td>\n",
              "      <td>1000</td>\n",
              "      <td>30</td>\n",
              "      <td>2016-09-08</td>\n",
              "      <td>2016-10-07</td>\n",
              "      <td>45</td>\n",
              "      <td>High School or Below</td>\n",
              "      <td>0</td>\n",
              "      <td>10</td>\n",
              "      <td>29 days</td>\n",
              "    </tr>\n",
              "    <tr>\n",
              "      <th>1</th>\n",
              "      <td>2</td>\n",
              "      <td>2</td>\n",
              "      <td>PAIDOFF</td>\n",
              "      <td>1000</td>\n",
              "      <td>30</td>\n",
              "      <td>2016-09-08</td>\n",
              "      <td>2016-10-07</td>\n",
              "      <td>33</td>\n",
              "      <td>Bechalor</td>\n",
              "      <td>1</td>\n",
              "      <td>10</td>\n",
              "      <td>29 days</td>\n",
              "    </tr>\n",
              "    <tr>\n",
              "      <th>2</th>\n",
              "      <td>3</td>\n",
              "      <td>3</td>\n",
              "      <td>PAIDOFF</td>\n",
              "      <td>1000</td>\n",
              "      <td>15</td>\n",
              "      <td>2016-09-08</td>\n",
              "      <td>2016-09-22</td>\n",
              "      <td>27</td>\n",
              "      <td>college</td>\n",
              "      <td>0</td>\n",
              "      <td>9</td>\n",
              "      <td>14 days</td>\n",
              "    </tr>\n",
              "    <tr>\n",
              "      <th>3</th>\n",
              "      <td>4</td>\n",
              "      <td>4</td>\n",
              "      <td>PAIDOFF</td>\n",
              "      <td>1000</td>\n",
              "      <td>30</td>\n",
              "      <td>2016-09-09</td>\n",
              "      <td>2016-10-08</td>\n",
              "      <td>28</td>\n",
              "      <td>college</td>\n",
              "      <td>1</td>\n",
              "      <td>10</td>\n",
              "      <td>29 days</td>\n",
              "    </tr>\n",
              "    <tr>\n",
              "      <th>4</th>\n",
              "      <td>6</td>\n",
              "      <td>6</td>\n",
              "      <td>PAIDOFF</td>\n",
              "      <td>1000</td>\n",
              "      <td>30</td>\n",
              "      <td>2016-09-09</td>\n",
              "      <td>2016-10-08</td>\n",
              "      <td>29</td>\n",
              "      <td>college</td>\n",
              "      <td>0</td>\n",
              "      <td>10</td>\n",
              "      <td>29 days</td>\n",
              "    </tr>\n",
              "  </tbody>\n",
              "</table>\n",
              "</div>\n",
              "      <button class=\"colab-df-convert\" onclick=\"convertToInteractive('df-6592ca9a-534f-4a9b-8347-3eac404fd3d4')\"\n",
              "              title=\"Convert this dataframe to an interactive table.\"\n",
              "              style=\"display:none;\">\n",
              "        \n",
              "  <svg xmlns=\"http://www.w3.org/2000/svg\" height=\"24px\"viewBox=\"0 0 24 24\"\n",
              "       width=\"24px\">\n",
              "    <path d=\"M0 0h24v24H0V0z\" fill=\"none\"/>\n",
              "    <path d=\"M18.56 5.44l.94 2.06.94-2.06 2.06-.94-2.06-.94-.94-2.06-.94 2.06-2.06.94zm-11 1L8.5 8.5l.94-2.06 2.06-.94-2.06-.94L8.5 2.5l-.94 2.06-2.06.94zm10 10l.94 2.06.94-2.06 2.06-.94-2.06-.94-.94-2.06-.94 2.06-2.06.94z\"/><path d=\"M17.41 7.96l-1.37-1.37c-.4-.4-.92-.59-1.43-.59-.52 0-1.04.2-1.43.59L10.3 9.45l-7.72 7.72c-.78.78-.78 2.05 0 2.83L4 21.41c.39.39.9.59 1.41.59.51 0 1.02-.2 1.41-.59l7.78-7.78 2.81-2.81c.8-.78.8-2.07 0-2.86zM5.41 20L4 18.59l7.72-7.72 1.47 1.35L5.41 20z\"/>\n",
              "  </svg>\n",
              "      </button>\n",
              "      \n",
              "  <style>\n",
              "    .colab-df-container {\n",
              "      display:flex;\n",
              "      flex-wrap:wrap;\n",
              "      gap: 12px;\n",
              "    }\n",
              "\n",
              "    .colab-df-convert {\n",
              "      background-color: #E8F0FE;\n",
              "      border: none;\n",
              "      border-radius: 50%;\n",
              "      cursor: pointer;\n",
              "      display: none;\n",
              "      fill: #1967D2;\n",
              "      height: 32px;\n",
              "      padding: 0 0 0 0;\n",
              "      width: 32px;\n",
              "    }\n",
              "\n",
              "    .colab-df-convert:hover {\n",
              "      background-color: #E2EBFA;\n",
              "      box-shadow: 0px 1px 2px rgba(60, 64, 67, 0.3), 0px 1px 3px 1px rgba(60, 64, 67, 0.15);\n",
              "      fill: #174EA6;\n",
              "    }\n",
              "\n",
              "    [theme=dark] .colab-df-convert {\n",
              "      background-color: #3B4455;\n",
              "      fill: #D2E3FC;\n",
              "    }\n",
              "\n",
              "    [theme=dark] .colab-df-convert:hover {\n",
              "      background-color: #434B5C;\n",
              "      box-shadow: 0px 1px 3px 1px rgba(0, 0, 0, 0.15);\n",
              "      filter: drop-shadow(0px 1px 2px rgba(0, 0, 0, 0.3));\n",
              "      fill: #FFFFFF;\n",
              "    }\n",
              "  </style>\n",
              "\n",
              "      <script>\n",
              "        const buttonEl =\n",
              "          document.querySelector('#df-6592ca9a-534f-4a9b-8347-3eac404fd3d4 button.colab-df-convert');\n",
              "        buttonEl.style.display =\n",
              "          google.colab.kernel.accessAllowed ? 'block' : 'none';\n",
              "\n",
              "        async function convertToInteractive(key) {\n",
              "          const element = document.querySelector('#df-6592ca9a-534f-4a9b-8347-3eac404fd3d4');\n",
              "          const dataTable =\n",
              "            await google.colab.kernel.invokeFunction('convertToInteractive',\n",
              "                                                     [key], {});\n",
              "          if (!dataTable) return;\n",
              "\n",
              "          const docLinkHtml = 'Like what you see? Visit the ' +\n",
              "            '<a target=\"_blank\" href=https://colab.research.google.com/notebooks/data_table.ipynb>data table notebook</a>'\n",
              "            + ' to learn more about interactive tables.';\n",
              "          element.innerHTML = '';\n",
              "          dataTable['output_type'] = 'display_data';\n",
              "          await google.colab.output.renderOutput(dataTable, element);\n",
              "          const docLink = document.createElement('div');\n",
              "          docLink.innerHTML = docLinkHtml;\n",
              "          element.appendChild(docLink);\n",
              "        }\n",
              "      </script>\n",
              "    </div>\n",
              "  </div>\n",
              "  "
            ]
          },
          "metadata": {},
          "execution_count": 17
        }
      ]
    },
    {
      "cell_type": "code",
      "source": [
        "df['deadline']=df['deadline'].dt.days\n",
        "df.head(3)"
      ],
      "metadata": {
        "colab": {
          "base_uri": "https://localhost:8080/",
          "height": 143
        },
        "id": "4TLKMe6GI3xY",
        "outputId": "dc910ba5-99b6-414c-d566-8fad2c704dbb"
      },
      "execution_count": null,
      "outputs": [
        {
          "output_type": "execute_result",
          "data": {
            "text/plain": [
              "   Unnamed: 0  Unnamed: 0.1 loan_status  Principal  terms effective_date  \\\n",
              "0           0             0     PAIDOFF       1000     30     2016-09-08   \n",
              "1           2             2     PAIDOFF       1000     30     2016-09-08   \n",
              "2           3             3     PAIDOFF       1000     15     2016-09-08   \n",
              "\n",
              "    due_date  age             education  Gender  Month  deadline  \n",
              "0 2016-10-07   45  High School or Below       0     10        29  \n",
              "1 2016-10-07   33              Bechalor       1     10        29  \n",
              "2 2016-09-22   27               college       0      9        14  "
            ],
            "text/html": [
              "\n",
              "  <div id=\"df-cb77486d-9929-4000-bf6e-cbee1dbc77aa\">\n",
              "    <div class=\"colab-df-container\">\n",
              "      <div>\n",
              "<style scoped>\n",
              "    .dataframe tbody tr th:only-of-type {\n",
              "        vertical-align: middle;\n",
              "    }\n",
              "\n",
              "    .dataframe tbody tr th {\n",
              "        vertical-align: top;\n",
              "    }\n",
              "\n",
              "    .dataframe thead th {\n",
              "        text-align: right;\n",
              "    }\n",
              "</style>\n",
              "<table border=\"1\" class=\"dataframe\">\n",
              "  <thead>\n",
              "    <tr style=\"text-align: right;\">\n",
              "      <th></th>\n",
              "      <th>Unnamed: 0</th>\n",
              "      <th>Unnamed: 0.1</th>\n",
              "      <th>loan_status</th>\n",
              "      <th>Principal</th>\n",
              "      <th>terms</th>\n",
              "      <th>effective_date</th>\n",
              "      <th>due_date</th>\n",
              "      <th>age</th>\n",
              "      <th>education</th>\n",
              "      <th>Gender</th>\n",
              "      <th>Month</th>\n",
              "      <th>deadline</th>\n",
              "    </tr>\n",
              "  </thead>\n",
              "  <tbody>\n",
              "    <tr>\n",
              "      <th>0</th>\n",
              "      <td>0</td>\n",
              "      <td>0</td>\n",
              "      <td>PAIDOFF</td>\n",
              "      <td>1000</td>\n",
              "      <td>30</td>\n",
              "      <td>2016-09-08</td>\n",
              "      <td>2016-10-07</td>\n",
              "      <td>45</td>\n",
              "      <td>High School or Below</td>\n",
              "      <td>0</td>\n",
              "      <td>10</td>\n",
              "      <td>29</td>\n",
              "    </tr>\n",
              "    <tr>\n",
              "      <th>1</th>\n",
              "      <td>2</td>\n",
              "      <td>2</td>\n",
              "      <td>PAIDOFF</td>\n",
              "      <td>1000</td>\n",
              "      <td>30</td>\n",
              "      <td>2016-09-08</td>\n",
              "      <td>2016-10-07</td>\n",
              "      <td>33</td>\n",
              "      <td>Bechalor</td>\n",
              "      <td>1</td>\n",
              "      <td>10</td>\n",
              "      <td>29</td>\n",
              "    </tr>\n",
              "    <tr>\n",
              "      <th>2</th>\n",
              "      <td>3</td>\n",
              "      <td>3</td>\n",
              "      <td>PAIDOFF</td>\n",
              "      <td>1000</td>\n",
              "      <td>15</td>\n",
              "      <td>2016-09-08</td>\n",
              "      <td>2016-09-22</td>\n",
              "      <td>27</td>\n",
              "      <td>college</td>\n",
              "      <td>0</td>\n",
              "      <td>9</td>\n",
              "      <td>14</td>\n",
              "    </tr>\n",
              "  </tbody>\n",
              "</table>\n",
              "</div>\n",
              "      <button class=\"colab-df-convert\" onclick=\"convertToInteractive('df-cb77486d-9929-4000-bf6e-cbee1dbc77aa')\"\n",
              "              title=\"Convert this dataframe to an interactive table.\"\n",
              "              style=\"display:none;\">\n",
              "        \n",
              "  <svg xmlns=\"http://www.w3.org/2000/svg\" height=\"24px\"viewBox=\"0 0 24 24\"\n",
              "       width=\"24px\">\n",
              "    <path d=\"M0 0h24v24H0V0z\" fill=\"none\"/>\n",
              "    <path d=\"M18.56 5.44l.94 2.06.94-2.06 2.06-.94-2.06-.94-.94-2.06-.94 2.06-2.06.94zm-11 1L8.5 8.5l.94-2.06 2.06-.94-2.06-.94L8.5 2.5l-.94 2.06-2.06.94zm10 10l.94 2.06.94-2.06 2.06-.94-2.06-.94-.94-2.06-.94 2.06-2.06.94z\"/><path d=\"M17.41 7.96l-1.37-1.37c-.4-.4-.92-.59-1.43-.59-.52 0-1.04.2-1.43.59L10.3 9.45l-7.72 7.72c-.78.78-.78 2.05 0 2.83L4 21.41c.39.39.9.59 1.41.59.51 0 1.02-.2 1.41-.59l7.78-7.78 2.81-2.81c.8-.78.8-2.07 0-2.86zM5.41 20L4 18.59l7.72-7.72 1.47 1.35L5.41 20z\"/>\n",
              "  </svg>\n",
              "      </button>\n",
              "      \n",
              "  <style>\n",
              "    .colab-df-container {\n",
              "      display:flex;\n",
              "      flex-wrap:wrap;\n",
              "      gap: 12px;\n",
              "    }\n",
              "\n",
              "    .colab-df-convert {\n",
              "      background-color: #E8F0FE;\n",
              "      border: none;\n",
              "      border-radius: 50%;\n",
              "      cursor: pointer;\n",
              "      display: none;\n",
              "      fill: #1967D2;\n",
              "      height: 32px;\n",
              "      padding: 0 0 0 0;\n",
              "      width: 32px;\n",
              "    }\n",
              "\n",
              "    .colab-df-convert:hover {\n",
              "      background-color: #E2EBFA;\n",
              "      box-shadow: 0px 1px 2px rgba(60, 64, 67, 0.3), 0px 1px 3px 1px rgba(60, 64, 67, 0.15);\n",
              "      fill: #174EA6;\n",
              "    }\n",
              "\n",
              "    [theme=dark] .colab-df-convert {\n",
              "      background-color: #3B4455;\n",
              "      fill: #D2E3FC;\n",
              "    }\n",
              "\n",
              "    [theme=dark] .colab-df-convert:hover {\n",
              "      background-color: #434B5C;\n",
              "      box-shadow: 0px 1px 3px 1px rgba(0, 0, 0, 0.15);\n",
              "      filter: drop-shadow(0px 1px 2px rgba(0, 0, 0, 0.3));\n",
              "      fill: #FFFFFF;\n",
              "    }\n",
              "  </style>\n",
              "\n",
              "      <script>\n",
              "        const buttonEl =\n",
              "          document.querySelector('#df-cb77486d-9929-4000-bf6e-cbee1dbc77aa button.colab-df-convert');\n",
              "        buttonEl.style.display =\n",
              "          google.colab.kernel.accessAllowed ? 'block' : 'none';\n",
              "\n",
              "        async function convertToInteractive(key) {\n",
              "          const element = document.querySelector('#df-cb77486d-9929-4000-bf6e-cbee1dbc77aa');\n",
              "          const dataTable =\n",
              "            await google.colab.kernel.invokeFunction('convertToInteractive',\n",
              "                                                     [key], {});\n",
              "          if (!dataTable) return;\n",
              "\n",
              "          const docLinkHtml = 'Like what you see? Visit the ' +\n",
              "            '<a target=\"_blank\" href=https://colab.research.google.com/notebooks/data_table.ipynb>data table notebook</a>'\n",
              "            + ' to learn more about interactive tables.';\n",
              "          element.innerHTML = '';\n",
              "          dataTable['output_type'] = 'display_data';\n",
              "          await google.colab.output.renderOutput(dataTable, element);\n",
              "          const docLink = document.createElement('div');\n",
              "          docLink.innerHTML = docLinkHtml;\n",
              "          element.appendChild(docLink);\n",
              "        }\n",
              "      </script>\n",
              "    </div>\n",
              "  </div>\n",
              "  "
            ]
          },
          "metadata": {},
          "execution_count": 18
        }
      ]
    },
    {
      "cell_type": "markdown",
      "source": [
        "# *based on the tested rusults columns Month and deadline doesn't improve the result so we will not use them in feature sets of training"
      ],
      "metadata": {
        "id": "mWZW6mykJQQ-"
      }
    },
    {
      "cell_type": "markdown",
      "source": [
        "One Hot Encoding\n",
        "# How about education?"
      ],
      "metadata": {
        "id": "Ox9mjn4uJbvI"
      }
    },
    {
      "cell_type": "code",
      "source": [
        "df.groupby(['education'])['loan_status'].value_counts(normalize=True)"
      ],
      "metadata": {
        "colab": {
          "base_uri": "https://localhost:8080/"
        },
        "id": "qDEZL5aWJ0EA",
        "outputId": "e5dc613b-7841-4124-fb9e-ab8cfa80ea0b"
      },
      "execution_count": null,
      "outputs": [
        {
          "output_type": "execute_result",
          "data": {
            "text/plain": [
              "education             loan_status\n",
              "Bechalor              PAIDOFF        0.750000\n",
              "                      COLLECTION     0.250000\n",
              "High School or Below  PAIDOFF        0.741722\n",
              "                      COLLECTION     0.258278\n",
              "Master or Above       COLLECTION     0.500000\n",
              "                      PAIDOFF        0.500000\n",
              "college               PAIDOFF        0.765101\n",
              "                      COLLECTION     0.234899\n",
              "Name: loan_status, dtype: float64"
            ]
          },
          "metadata": {},
          "execution_count": 19
        }
      ]
    },
    {
      "cell_type": "markdown",
      "source": [
        "There are only two people with Master or Above degress,one of them has paid off the loan and the other one hasn't.As a result keeping 'Master or Above' in our data set wont't help much! so we drop it.\n"
      ],
      "metadata": {
        "id": "FGWF-Aa_J7dN"
      }
    },
    {
      "cell_type": "code",
      "source": [
        "len(df[df.education=='Master or Above'])"
      ],
      "metadata": {
        "colab": {
          "base_uri": "https://localhost:8080/"
        },
        "id": "9vy6Z0_8J-4I",
        "outputId": "b3d8aefe-d149-4b1a-97eb-ac99b2bb134b"
      },
      "execution_count": null,
      "outputs": [
        {
          "output_type": "execute_result",
          "data": {
            "text/plain": [
              "2"
            ]
          },
          "metadata": {},
          "execution_count": 21
        }
      ]
    },
    {
      "cell_type": "markdown",
      "source": [
        "# We use one hot encoding technique to convert categorical variables to binary variables and append them to the feature Data Frame"
      ],
      "metadata": {
        "id": "JNC759E_KGiy"
      }
    },
    {
      "cell_type": "code",
      "source": [
        "Feature = df[['Principal','terms','age','Gender']]\n",
        "Feature = pd.concat([Feature,pd.get_dummies(df['education'])], axis=1)\n",
        "Feature.drop(['Master or Above'], axis = 1,inplace=True)\n",
        "Feature.head()"
      ],
      "metadata": {
        "colab": {
          "base_uri": "https://localhost:8080/",
          "height": 206
        },
        "id": "CiyaMJumKIiW",
        "outputId": "ec1fa834-a45c-40d8-f4fe-3ce6040d4e80"
      },
      "execution_count": null,
      "outputs": [
        {
          "output_type": "execute_result",
          "data": {
            "text/plain": [
              "   Principal  terms  age  Gender  Bechalor  High School or Below  college\n",
              "0       1000     30   45       0         0                     1        0\n",
              "1       1000     30   33       1         1                     0        0\n",
              "2       1000     15   27       0         0                     0        1\n",
              "3       1000     30   28       1         0                     0        1\n",
              "4       1000     30   29       0         0                     0        1"
            ],
            "text/html": [
              "\n",
              "  <div id=\"df-d5ad0fe9-91c8-479f-b729-eb6c2ee335bd\">\n",
              "    <div class=\"colab-df-container\">\n",
              "      <div>\n",
              "<style scoped>\n",
              "    .dataframe tbody tr th:only-of-type {\n",
              "        vertical-align: middle;\n",
              "    }\n",
              "\n",
              "    .dataframe tbody tr th {\n",
              "        vertical-align: top;\n",
              "    }\n",
              "\n",
              "    .dataframe thead th {\n",
              "        text-align: right;\n",
              "    }\n",
              "</style>\n",
              "<table border=\"1\" class=\"dataframe\">\n",
              "  <thead>\n",
              "    <tr style=\"text-align: right;\">\n",
              "      <th></th>\n",
              "      <th>Principal</th>\n",
              "      <th>terms</th>\n",
              "      <th>age</th>\n",
              "      <th>Gender</th>\n",
              "      <th>Bechalor</th>\n",
              "      <th>High School or Below</th>\n",
              "      <th>college</th>\n",
              "    </tr>\n",
              "  </thead>\n",
              "  <tbody>\n",
              "    <tr>\n",
              "      <th>0</th>\n",
              "      <td>1000</td>\n",
              "      <td>30</td>\n",
              "      <td>45</td>\n",
              "      <td>0</td>\n",
              "      <td>0</td>\n",
              "      <td>1</td>\n",
              "      <td>0</td>\n",
              "    </tr>\n",
              "    <tr>\n",
              "      <th>1</th>\n",
              "      <td>1000</td>\n",
              "      <td>30</td>\n",
              "      <td>33</td>\n",
              "      <td>1</td>\n",
              "      <td>1</td>\n",
              "      <td>0</td>\n",
              "      <td>0</td>\n",
              "    </tr>\n",
              "    <tr>\n",
              "      <th>2</th>\n",
              "      <td>1000</td>\n",
              "      <td>15</td>\n",
              "      <td>27</td>\n",
              "      <td>0</td>\n",
              "      <td>0</td>\n",
              "      <td>0</td>\n",
              "      <td>1</td>\n",
              "    </tr>\n",
              "    <tr>\n",
              "      <th>3</th>\n",
              "      <td>1000</td>\n",
              "      <td>30</td>\n",
              "      <td>28</td>\n",
              "      <td>1</td>\n",
              "      <td>0</td>\n",
              "      <td>0</td>\n",
              "      <td>1</td>\n",
              "    </tr>\n",
              "    <tr>\n",
              "      <th>4</th>\n",
              "      <td>1000</td>\n",
              "      <td>30</td>\n",
              "      <td>29</td>\n",
              "      <td>0</td>\n",
              "      <td>0</td>\n",
              "      <td>0</td>\n",
              "      <td>1</td>\n",
              "    </tr>\n",
              "  </tbody>\n",
              "</table>\n",
              "</div>\n",
              "      <button class=\"colab-df-convert\" onclick=\"convertToInteractive('df-d5ad0fe9-91c8-479f-b729-eb6c2ee335bd')\"\n",
              "              title=\"Convert this dataframe to an interactive table.\"\n",
              "              style=\"display:none;\">\n",
              "        \n",
              "  <svg xmlns=\"http://www.w3.org/2000/svg\" height=\"24px\"viewBox=\"0 0 24 24\"\n",
              "       width=\"24px\">\n",
              "    <path d=\"M0 0h24v24H0V0z\" fill=\"none\"/>\n",
              "    <path d=\"M18.56 5.44l.94 2.06.94-2.06 2.06-.94-2.06-.94-.94-2.06-.94 2.06-2.06.94zm-11 1L8.5 8.5l.94-2.06 2.06-.94-2.06-.94L8.5 2.5l-.94 2.06-2.06.94zm10 10l.94 2.06.94-2.06 2.06-.94-2.06-.94-.94-2.06-.94 2.06-2.06.94z\"/><path d=\"M17.41 7.96l-1.37-1.37c-.4-.4-.92-.59-1.43-.59-.52 0-1.04.2-1.43.59L10.3 9.45l-7.72 7.72c-.78.78-.78 2.05 0 2.83L4 21.41c.39.39.9.59 1.41.59.51 0 1.02-.2 1.41-.59l7.78-7.78 2.81-2.81c.8-.78.8-2.07 0-2.86zM5.41 20L4 18.59l7.72-7.72 1.47 1.35L5.41 20z\"/>\n",
              "  </svg>\n",
              "      </button>\n",
              "      \n",
              "  <style>\n",
              "    .colab-df-container {\n",
              "      display:flex;\n",
              "      flex-wrap:wrap;\n",
              "      gap: 12px;\n",
              "    }\n",
              "\n",
              "    .colab-df-convert {\n",
              "      background-color: #E8F0FE;\n",
              "      border: none;\n",
              "      border-radius: 50%;\n",
              "      cursor: pointer;\n",
              "      display: none;\n",
              "      fill: #1967D2;\n",
              "      height: 32px;\n",
              "      padding: 0 0 0 0;\n",
              "      width: 32px;\n",
              "    }\n",
              "\n",
              "    .colab-df-convert:hover {\n",
              "      background-color: #E2EBFA;\n",
              "      box-shadow: 0px 1px 2px rgba(60, 64, 67, 0.3), 0px 1px 3px 1px rgba(60, 64, 67, 0.15);\n",
              "      fill: #174EA6;\n",
              "    }\n",
              "\n",
              "    [theme=dark] .colab-df-convert {\n",
              "      background-color: #3B4455;\n",
              "      fill: #D2E3FC;\n",
              "    }\n",
              "\n",
              "    [theme=dark] .colab-df-convert:hover {\n",
              "      background-color: #434B5C;\n",
              "      box-shadow: 0px 1px 3px 1px rgba(0, 0, 0, 0.15);\n",
              "      filter: drop-shadow(0px 1px 2px rgba(0, 0, 0, 0.3));\n",
              "      fill: #FFFFFF;\n",
              "    }\n",
              "  </style>\n",
              "\n",
              "      <script>\n",
              "        const buttonEl =\n",
              "          document.querySelector('#df-d5ad0fe9-91c8-479f-b729-eb6c2ee335bd button.colab-df-convert');\n",
              "        buttonEl.style.display =\n",
              "          google.colab.kernel.accessAllowed ? 'block' : 'none';\n",
              "\n",
              "        async function convertToInteractive(key) {\n",
              "          const element = document.querySelector('#df-d5ad0fe9-91c8-479f-b729-eb6c2ee335bd');\n",
              "          const dataTable =\n",
              "            await google.colab.kernel.invokeFunction('convertToInteractive',\n",
              "                                                     [key], {});\n",
              "          if (!dataTable) return;\n",
              "\n",
              "          const docLinkHtml = 'Like what you see? Visit the ' +\n",
              "            '<a target=\"_blank\" href=https://colab.research.google.com/notebooks/data_table.ipynb>data table notebook</a>'\n",
              "            + ' to learn more about interactive tables.';\n",
              "          element.innerHTML = '';\n",
              "          dataTable['output_type'] = 'display_data';\n",
              "          await google.colab.output.renderOutput(dataTable, element);\n",
              "          const docLink = document.createElement('div');\n",
              "          docLink.innerHTML = docLinkHtml;\n",
              "          element.appendChild(docLink);\n",
              "        }\n",
              "      </script>\n",
              "    </div>\n",
              "  </div>\n",
              "  "
            ]
          },
          "metadata": {},
          "execution_count": 23
        }
      ]
    },
    {
      "cell_type": "markdown",
      "source": [
        "Feature selection\n",
        "# Our data without label"
      ],
      "metadata": {
        "id": "tg5DANn1KdmY"
      }
    },
    {
      "cell_type": "code",
      "source": [
        "X = Feature\n",
        "X[0:5]"
      ],
      "metadata": {
        "colab": {
          "base_uri": "https://localhost:8080/",
          "height": 206
        },
        "id": "VoSqTMooKfUu",
        "outputId": "690c6eb1-6fe2-4f59-d052-7ab6ccbb9797"
      },
      "execution_count": null,
      "outputs": [
        {
          "output_type": "execute_result",
          "data": {
            "text/plain": [
              "   Principal  terms  age  Gender  Bechalor  High School or Below  college\n",
              "0       1000     30   45       0         0                     1        0\n",
              "1       1000     30   33       1         1                     0        0\n",
              "2       1000     15   27       0         0                     0        1\n",
              "3       1000     30   28       1         0                     0        1\n",
              "4       1000     30   29       0         0                     0        1"
            ],
            "text/html": [
              "\n",
              "  <div id=\"df-07b18cc2-7ced-4ec5-bc6c-f511c06ba07d\">\n",
              "    <div class=\"colab-df-container\">\n",
              "      <div>\n",
              "<style scoped>\n",
              "    .dataframe tbody tr th:only-of-type {\n",
              "        vertical-align: middle;\n",
              "    }\n",
              "\n",
              "    .dataframe tbody tr th {\n",
              "        vertical-align: top;\n",
              "    }\n",
              "\n",
              "    .dataframe thead th {\n",
              "        text-align: right;\n",
              "    }\n",
              "</style>\n",
              "<table border=\"1\" class=\"dataframe\">\n",
              "  <thead>\n",
              "    <tr style=\"text-align: right;\">\n",
              "      <th></th>\n",
              "      <th>Principal</th>\n",
              "      <th>terms</th>\n",
              "      <th>age</th>\n",
              "      <th>Gender</th>\n",
              "      <th>Bechalor</th>\n",
              "      <th>High School or Below</th>\n",
              "      <th>college</th>\n",
              "    </tr>\n",
              "  </thead>\n",
              "  <tbody>\n",
              "    <tr>\n",
              "      <th>0</th>\n",
              "      <td>1000</td>\n",
              "      <td>30</td>\n",
              "      <td>45</td>\n",
              "      <td>0</td>\n",
              "      <td>0</td>\n",
              "      <td>1</td>\n",
              "      <td>0</td>\n",
              "    </tr>\n",
              "    <tr>\n",
              "      <th>1</th>\n",
              "      <td>1000</td>\n",
              "      <td>30</td>\n",
              "      <td>33</td>\n",
              "      <td>1</td>\n",
              "      <td>1</td>\n",
              "      <td>0</td>\n",
              "      <td>0</td>\n",
              "    </tr>\n",
              "    <tr>\n",
              "      <th>2</th>\n",
              "      <td>1000</td>\n",
              "      <td>15</td>\n",
              "      <td>27</td>\n",
              "      <td>0</td>\n",
              "      <td>0</td>\n",
              "      <td>0</td>\n",
              "      <td>1</td>\n",
              "    </tr>\n",
              "    <tr>\n",
              "      <th>3</th>\n",
              "      <td>1000</td>\n",
              "      <td>30</td>\n",
              "      <td>28</td>\n",
              "      <td>1</td>\n",
              "      <td>0</td>\n",
              "      <td>0</td>\n",
              "      <td>1</td>\n",
              "    </tr>\n",
              "    <tr>\n",
              "      <th>4</th>\n",
              "      <td>1000</td>\n",
              "      <td>30</td>\n",
              "      <td>29</td>\n",
              "      <td>0</td>\n",
              "      <td>0</td>\n",
              "      <td>0</td>\n",
              "      <td>1</td>\n",
              "    </tr>\n",
              "  </tbody>\n",
              "</table>\n",
              "</div>\n",
              "      <button class=\"colab-df-convert\" onclick=\"convertToInteractive('df-07b18cc2-7ced-4ec5-bc6c-f511c06ba07d')\"\n",
              "              title=\"Convert this dataframe to an interactive table.\"\n",
              "              style=\"display:none;\">\n",
              "        \n",
              "  <svg xmlns=\"http://www.w3.org/2000/svg\" height=\"24px\"viewBox=\"0 0 24 24\"\n",
              "       width=\"24px\">\n",
              "    <path d=\"M0 0h24v24H0V0z\" fill=\"none\"/>\n",
              "    <path d=\"M18.56 5.44l.94 2.06.94-2.06 2.06-.94-2.06-.94-.94-2.06-.94 2.06-2.06.94zm-11 1L8.5 8.5l.94-2.06 2.06-.94-2.06-.94L8.5 2.5l-.94 2.06-2.06.94zm10 10l.94 2.06.94-2.06 2.06-.94-2.06-.94-.94-2.06-.94 2.06-2.06.94z\"/><path d=\"M17.41 7.96l-1.37-1.37c-.4-.4-.92-.59-1.43-.59-.52 0-1.04.2-1.43.59L10.3 9.45l-7.72 7.72c-.78.78-.78 2.05 0 2.83L4 21.41c.39.39.9.59 1.41.59.51 0 1.02-.2 1.41-.59l7.78-7.78 2.81-2.81c.8-.78.8-2.07 0-2.86zM5.41 20L4 18.59l7.72-7.72 1.47 1.35L5.41 20z\"/>\n",
              "  </svg>\n",
              "      </button>\n",
              "      \n",
              "  <style>\n",
              "    .colab-df-container {\n",
              "      display:flex;\n",
              "      flex-wrap:wrap;\n",
              "      gap: 12px;\n",
              "    }\n",
              "\n",
              "    .colab-df-convert {\n",
              "      background-color: #E8F0FE;\n",
              "      border: none;\n",
              "      border-radius: 50%;\n",
              "      cursor: pointer;\n",
              "      display: none;\n",
              "      fill: #1967D2;\n",
              "      height: 32px;\n",
              "      padding: 0 0 0 0;\n",
              "      width: 32px;\n",
              "    }\n",
              "\n",
              "    .colab-df-convert:hover {\n",
              "      background-color: #E2EBFA;\n",
              "      box-shadow: 0px 1px 2px rgba(60, 64, 67, 0.3), 0px 1px 3px 1px rgba(60, 64, 67, 0.15);\n",
              "      fill: #174EA6;\n",
              "    }\n",
              "\n",
              "    [theme=dark] .colab-df-convert {\n",
              "      background-color: #3B4455;\n",
              "      fill: #D2E3FC;\n",
              "    }\n",
              "\n",
              "    [theme=dark] .colab-df-convert:hover {\n",
              "      background-color: #434B5C;\n",
              "      box-shadow: 0px 1px 3px 1px rgba(0, 0, 0, 0.15);\n",
              "      filter: drop-shadow(0px 1px 2px rgba(0, 0, 0, 0.3));\n",
              "      fill: #FFFFFF;\n",
              "    }\n",
              "  </style>\n",
              "\n",
              "      <script>\n",
              "        const buttonEl =\n",
              "          document.querySelector('#df-07b18cc2-7ced-4ec5-bc6c-f511c06ba07d button.colab-df-convert');\n",
              "        buttonEl.style.display =\n",
              "          google.colab.kernel.accessAllowed ? 'block' : 'none';\n",
              "\n",
              "        async function convertToInteractive(key) {\n",
              "          const element = document.querySelector('#df-07b18cc2-7ced-4ec5-bc6c-f511c06ba07d');\n",
              "          const dataTable =\n",
              "            await google.colab.kernel.invokeFunction('convertToInteractive',\n",
              "                                                     [key], {});\n",
              "          if (!dataTable) return;\n",
              "\n",
              "          const docLinkHtml = 'Like what you see? Visit the ' +\n",
              "            '<a target=\"_blank\" href=https://colab.research.google.com/notebooks/data_table.ipynb>data table notebook</a>'\n",
              "            + ' to learn more about interactive tables.';\n",
              "          element.innerHTML = '';\n",
              "          dataTable['output_type'] = 'display_data';\n",
              "          await google.colab.output.renderOutput(dataTable, element);\n",
              "          const docLink = document.createElement('div');\n",
              "          docLink.innerHTML = docLinkHtml;\n",
              "          element.appendChild(docLink);\n",
              "        }\n",
              "      </script>\n",
              "    </div>\n",
              "  </div>\n",
              "  "
            ]
          },
          "metadata": {},
          "execution_count": 24
        }
      ]
    },
    {
      "cell_type": "code",
      "source": [
        "# We encode our labels as 0 and 1 s\n",
        "y = df['loan_status'].replace(to_replace=['PAIDOFF','COLLECTION'], value=[0,1]).values\n",
        "y[0:5]"
      ],
      "metadata": {
        "colab": {
          "base_uri": "https://localhost:8080/"
        },
        "id": "qPQpw4wPKjP9",
        "outputId": "43262630-2f9f-4d14-8714-e94cccfbfe4e"
      },
      "execution_count": null,
      "outputs": [
        {
          "output_type": "execute_result",
          "data": {
            "text/plain": [
              "array([0, 0, 0, 0, 0])"
            ]
          },
          "metadata": {},
          "execution_count": 25
        }
      ]
    },
    {
      "cell_type": "code",
      "source": [
        "X= preprocessing.StandardScaler().fit_transform(X)\n",
        "X[0:5]"
      ],
      "metadata": {
        "colab": {
          "base_uri": "https://localhost:8080/"
        },
        "id": "jtcW6h3AKnf8",
        "outputId": "c0933867-0125-44b4-a635-4111ead1c988"
      },
      "execution_count": null,
      "outputs": [
        {
          "output_type": "execute_result",
          "data": {
            "text/plain": [
              "array([[ 0.51578458,  0.92071769,  2.33152555, -0.42056004, -0.38170062,\n",
              "         1.13639374, -0.86968108],\n",
              "       [ 0.51578458,  0.92071769,  0.34170148,  2.37778177,  2.61985426,\n",
              "        -0.87997669, -0.86968108],\n",
              "       [ 0.51578458, -0.95911111, -0.65321055, -0.42056004, -0.38170062,\n",
              "        -0.87997669,  1.14984679],\n",
              "       [ 0.51578458,  0.92071769, -0.48739188,  2.37778177, -0.38170062,\n",
              "        -0.87997669,  1.14984679],\n",
              "       [ 0.51578458,  0.92071769, -0.3215732 , -0.42056004, -0.38170062,\n",
              "        -0.87997669,  1.14984679]])"
            ]
          },
          "metadata": {},
          "execution_count": 26
        }
      ]
    },
    {
      "cell_type": "code",
      "source": [
        "# import scoring methods\n",
        "\n",
        "from sklearn.metrics import f1_score\n",
        "from sklearn.metrics import log_loss\n",
        "from sklearn.model_selection import cross_val_score"
      ],
      "metadata": {
        "id": "WGhukQCxKwtG"
      },
      "execution_count": null,
      "outputs": []
    },
    {
      "cell_type": "code",
      "source": [
        "# our data for training (used '_train' just for improving readability)\n",
        "X_train, y_train=X,y"
      ],
      "metadata": {
        "id": "nYGK2N2tLBPS"
      },
      "execution_count": null,
      "outputs": []
    },
    {
      "cell_type": "code",
      "source": [
        "X_train.shape, y_train.shape"
      ],
      "metadata": {
        "colab": {
          "base_uri": "https://localhost:8080/"
        },
        "id": "J-6JYkKTLIqm",
        "outputId": "85ba725e-38a5-4736-e613-9debe433b308"
      },
      "execution_count": null,
      "outputs": [
        {
          "output_type": "execute_result",
          "data": {
            "text/plain": [
              "((346, 7), (346,))"
            ]
          },
          "metadata": {},
          "execution_count": 30
        }
      ]
    },
    {
      "cell_type": "code",
      "source": [
        "# a dictionary for keeping all scores of the classifiers\n",
        "trainScores={}"
      ],
      "metadata": {
        "id": "jqSgFxgwLLTv"
      },
      "execution_count": null,
      "outputs": []
    },
    {
      "cell_type": "markdown",
      "source": [
        "# K Nearest Neighbor(KNN)"
      ],
      "metadata": {
        "id": "l706XpiXLPzK"
      }
    },
    {
      "cell_type": "code",
      "source": [
        "from sklearn.neighbors import KNeighborsClassifier\n",
        "\n",
        "bestScore=0.0\n",
        "accList=[]\n",
        "\n",
        "for k in range(3,12):\n",
        "    \n",
        "    clf_knn = KNeighborsClassifier(n_neighbors=k,algorithm='auto')\n",
        "    \n",
        "    # using 10 fold cross validation for scoring the classifier's accuracy\n",
        "    scores = cross_val_score(clf_knn, X, y, cv=10)\n",
        "    score=scores.mean()\n",
        "    accList.append(score)\n",
        "    \n",
        "    if score > bestScore:\n",
        "        bestScore=score\n",
        "        best_clf=clf_knn\n",
        "        bestK=k\n",
        "        \n",
        "print(\"Best K is :\",bestK,\"| Cross validation Accuracy :\",bestScore)\n",
        "clf_knn=best_clf"
      ],
      "metadata": {
        "colab": {
          "base_uri": "https://localhost:8080/"
        },
        "id": "HQVkyYN1LRcq",
        "outputId": "ff18d082-4a15-485e-9cc1-923a5b97d8f6"
      },
      "execution_count": null,
      "outputs": [
        {
          "output_type": "stream",
          "name": "stdout",
          "text": [
            "Best K is : 10 | Cross validation Accuracy : 0.7516806722689076\n"
          ]
        }
      ]
    },
    {
      "cell_type": "code",
      "source": [
        "clf_knn.fit(X_train,y_train)\n",
        "y_pred=best_clf.predict(X_train)"
      ],
      "metadata": {
        "id": "F7s4FEXRLYLH"
      },
      "execution_count": null,
      "outputs": []
    },
    {
      "cell_type": "code",
      "source": [
        "\n",
        "trainScores['KNN-f1-score']=f1_score(y_train, y_pred, average='weighted')  "
      ],
      "metadata": {
        "id": "FuqY75jKLb9l"
      },
      "execution_count": null,
      "outputs": []
    },
    {
      "cell_type": "code",
      "source": [
        "trainScores"
      ],
      "metadata": {
        "colab": {
          "base_uri": "https://localhost:8080/"
        },
        "id": "4H0nQj2vLjv6",
        "outputId": "f2b458d4-97d7-4f64-b4ff-eea6dca9977e"
      },
      "execution_count": null,
      "outputs": [
        {
          "output_type": "execute_result",
          "data": {
            "text/plain": [
              "{'KNN-f1-score': 0.6631626114621141}"
            ]
          },
          "metadata": {},
          "execution_count": 36
        }
      ]
    },
    {
      "cell_type": "code",
      "source": [
        "plt.plot(range(3,12),accList)\n",
        "plt.xlabel('K')\n",
        "plt.ylabel('CV Accuracy')\n",
        "plt.show()"
      ],
      "metadata": {
        "colab": {
          "base_uri": "https://localhost:8080/",
          "height": 279
        },
        "id": "BsBUrI0SLnHN",
        "outputId": "5a211000-4e7c-489b-fbde-87fcd6f87faf"
      },
      "execution_count": null,
      "outputs": [
        {
          "output_type": "display_data",
          "data": {
            "text/plain": [
              "<Figure size 432x288 with 1 Axes>"
            ],
            "image/png": "[encoded data removed]"
          },
          "metadata": {
            "needs_background": "light"
          }
        }
      ]
    },
    {
      "cell_type": "code",
      "source": [
        "from sklearn import tree\n",
        "\n",
        "clf_tree = tree.DecisionTreeClassifier()\n",
        "clf_tree = clf_tree.fit(X_train, y_train)\n",
        "\n",
        "y_pred=clf_tree.predict(X_train)\n",
        "\n",
        "trainScores['Tree-f1-score']=f1_score(y_train, y_pred, average='weighted')  \n",
        "trainScores"
      ],
      "metadata": {
        "colab": {
          "base_uri": "https://localhost:8080/"
        },
        "id": "YbcVGNbML6km",
        "outputId": "233b748f-3bad-49f6-b29c-84c12e72a833"
      },
      "execution_count": null,
      "outputs": [
        {
          "output_type": "execute_result",
          "data": {
            "text/plain": [
              "{'KNN-f1-score': 0.6631626114621141, 'Tree-f1-score': 0.816645656540811}"
            ]
          },
          "metadata": {},
          "execution_count": 39
        }
      ]
    },
    {
      "cell_type": "code",
      "source": [
        "!pip install graphviz\n",
        "!pip install pydotplus\n",
        "import graphviz \n",
        "import pydotplus\n",
        "\n",
        "dot_data = tree.export_graphviz(clf_tree, out_file=None, \n",
        "                     feature_names=['Principal',\n",
        "                                    'terms','age',\n",
        "                                    'Gender',\n",
        "                                    'Bechalor',\n",
        "                                    'High School or Below',\n",
        "                                    'college',\n",
        "                                     #'deadline'\n",
        "#                                     ,'Month'\n",
        "                                   ],  \n",
        "                     class_names='loan_status',  \n",
        "                     filled=True, rounded=True,  \n",
        "                     special_characters=True) \n",
        "\n",
        "graph = pydotplus.graph_from_dot_data(dot_data)\n",
        "graph.set_size('\"8,8!\"')\n",
        "gvz_graph = graphviz.Source(graph.to_string())\n",
        "\n",
        "gvz_graph "
      ],
      "metadata": {
        "colab": {
          "base_uri": "https://localhost:8080/",
          "height": 468
        },
        "id": "Yg9sYNdCMDmQ",
        "outputId": "fc5a453d-76e4-454f-e101-486e0dcd3227"
      },
      "execution_count": null,
      "outputs": [
        {
          "output_type": "stream",
          "name": "stdout",
          "text": [
            "Looking in indexes: https://pypi.org/simple, https://us-python.pkg.dev/colab-wheels/public/simple/\n",
            "Requirement already satisfied: graphviz in /usr/local/lib/python3.7/dist-packages (0.10.1)\n",
            "Looking in indexes: https://pypi.org/simple, https://us-python.pkg.dev/colab-wheels/public/simple/\n",
            "Requirement already satisfied: pydotplus in /usr/local/lib/python3.7/dist-packages (2.0.2)\n",
            "Requirement already satisfied: pyparsing>=2.0.1 in /usr/local/lib/python3.7/dist-packages (from pydotplus) (3.0.9)\n"
          ]
        },
        {
          "output_type": "execute_result",
          "data": {
            "text/plain": [
              "<graphviz.files.Source at 0x7f559a95ca90>"
            ],
            "image/svg+xml": "<?xml version=\"1.0\" encoding=\"UTF-8\" standalone=\"no\"?>\n<!DOCTYPE svg PUBLIC \"-//W3C//DTD SVG 1.1//EN\"\n \"http://www.w3.org/Graphics/SVG/1.1/DTD/svg11.dtd\">\n<!-- Generated by graphviz version 2.40.1 (20161225.0304)\n -->\n<!-- Title: Tree Pages: 1 -->\n<svg width=\"576pt\" height=\"270pt\"\n viewBox=\"0.00 0.00 576.00 270.38\" xmlns=\"http://www.w3.org/2000/svg\" xmlns:xlink=\"http://www.w3.org/1999/xlink\">\n<g id=\"graph0\" class=\"graph\" transform=\"scale(.1219 .1219) rotate(0) translate(4 2214)\">\n<title>Tree</title>\n<polygon fill=\"#ffffff\" stroke=\"transparent\" points=\"-4,4 -4,-2214 4721,-2214 4721,4 -4,4\"/>\n<!-- 0 -->\n<g id=\"node1\" class=\"node\">\n<title>0</title>\n<path fill=\"#eeab7a\" stroke=\"#000000\" d=\"M3733.5,-2210C3733.5,-2210 3633.5,-2210 3633.5,-2210 3627.5,-2210 3621.5,-2204 3621.5,-2198 3621.5,-2198 3621.5,-2139 3621.5,-2139 3621.5,-2133 3627.5,-2127 3633.5,-2127 3633.5,-2127 3733.5,-2127 3733.5,-2127 3739.5,-2127 3745.5,-2133 3745.5,-2139 3745.5,-2139 3745.5,-2198 3745.5,-2198 3745.5,-2204 3739.5,-2210 3733.5,-2210\"/>\n<text text-anchor=\"start\" x=\"3641\" y=\"-2194.8\" font-family=\"Helvetica,sans-Serif\" font-size=\"14.00\" fill=\"#000000\">terms ≤ &#45;1.46</text>\n<text text-anchor=\"start\" x=\"3645.5\" y=\"-2179.8\" font-family=\"Helvetica,sans-Serif\" font-size=\"14.00\" fill=\"#000000\">gini = 0.374</text>\n<text text-anchor=\"start\" x=\"3635.5\" y=\"-2164.8\" font-family=\"Helvetica,sans-Serif\" font-size=\"14.00\" fill=\"#000000\">samples = 346</text>\n<text text-anchor=\"start\" x=\"3629.5\" y=\"-2149.8\" font-family=\"Helvetica,sans-Serif\" font-size=\"14.00\" fill=\"#000000\">value = [260, 86]</text>\n<text text-anchor=\"start\" x=\"3657\" y=\"-2134.8\" font-family=\"Helvetica,sans-Serif\" font-size=\"14.00\" fill=\"#000000\">class = l</text>\n</g>\n<!-- 1 -->\n<g id=\"node2\" class=\"node\">\n<title>1</title>\n<path fill=\"#e58139\" stroke=\"#000000\" d=\"M3658,-2083.5C3658,-2083.5 3575,-2083.5 3575,-2083.5 3569,-2083.5 3563,-2077.5 3563,-2071.5 3563,-2071.5 3563,-2027.5 3563,-2027.5 3563,-2021.5 3569,-2015.5 3575,-2015.5 3575,-2015.5 3658,-2015.5 3658,-2015.5 3664,-2015.5 3670,-2021.5 3670,-2027.5 3670,-2027.5 3670,-2071.5 3670,-2071.5 3670,-2077.5 3664,-2083.5 3658,-2083.5\"/>\n<text text-anchor=\"start\" x=\"3587\" y=\"-2068.3\" font-family=\"Helvetica,sans-Serif\" font-size=\"14.00\" fill=\"#000000\">gini = 0.0</text>\n<text text-anchor=\"start\" x=\"3572.5\" y=\"-2053.3\" font-family=\"Helvetica,sans-Serif\" font-size=\"14.00\" fill=\"#000000\">samples = 14</text>\n<text text-anchor=\"start\" x=\"3571\" y=\"-2038.3\" font-family=\"Helvetica,sans-Serif\" font-size=\"14.00\" fill=\"#000000\">value = [14, 0]</text>\n<text text-anchor=\"start\" x=\"3590\" y=\"-2023.3\" font-family=\"Helvetica,sans-Serif\" font-size=\"14.00\" fill=\"#000000\">class = l</text>\n</g>\n<!-- 0&#45;&gt;1 -->\n<g id=\"edge1\" class=\"edge\">\n<title>0&#45;&gt;1</title>\n<path fill=\"none\" stroke=\"#000000\" d=\"M3660.0667,-2126.8796C3653.8137,-2115.7735 3647.0448,-2103.7513 3640.749,-2092.5691\"/>\n<polygon fill=\"#000000\" stroke=\"#000000\" points=\"3643.7761,-2090.8116 3635.8202,-2083.8149 3637.6765,-2094.2459 3643.7761,-2090.8116\"/>\n<text text-anchor=\"middle\" x=\"3629.089\" y=\"-2104.1917\" font-family=\"Helvetica,sans-Serif\" font-size=\"14.00\" fill=\"#000000\">True</text>\n</g>\n<!-- 2 -->\n<g id=\"node3\" class=\"node\">\n<title>2</title>\n<path fill=\"#eead7e\" stroke=\"#000000\" d=\"M3800.5,-2091C3800.5,-2091 3700.5,-2091 3700.5,-2091 3694.5,-2091 3688.5,-2085 3688.5,-2079 3688.5,-2079 3688.5,-2020 3688.5,-2020 3688.5,-2014 3694.5,-2008 3700.5,-2008 3700.5,-2008 3800.5,-2008 3800.5,-2008 3806.5,-2008 3812.5,-2014 3812.5,-2020 3812.5,-2020 3812.5,-2079 3812.5,-2079 3812.5,-2085 3806.5,-2091 3800.5,-2091\"/>\n<text text-anchor=\"start\" x=\"3700\" y=\"-2075.8\" font-family=\"Helvetica,sans-Serif\" font-size=\"14.00\" fill=\"#000000\">Gender ≤ 0.979</text>\n<text text-anchor=\"start\" x=\"3712.5\" y=\"-2060.8\" font-family=\"Helvetica,sans-Serif\" font-size=\"14.00\" fill=\"#000000\">gini = 0.384</text>\n<text text-anchor=\"start\" x=\"3702.5\" y=\"-2045.8\" font-family=\"Helvetica,sans-Serif\" font-size=\"14.00\" fill=\"#000000\">samples = 332</text>\n<text text-anchor=\"start\" x=\"3696.5\" y=\"-2030.8\" font-family=\"Helvetica,sans-Serif\" font-size=\"14.00\" fill=\"#000000\">value = [246, 86]</text>\n<text text-anchor=\"start\" x=\"3724\" y=\"-2015.8\" font-family=\"Helvetica,sans-Serif\" font-size=\"14.00\" fill=\"#000000\">class = l</text>\n</g>\n<!-- 0&#45;&gt;2 -->\n<g id=\"edge2\" class=\"edge\">\n<title>0&#45;&gt;2</title>\n<path fill=\"none\" stroke=\"#000000\" d=\"M3706.9333,-2126.8796C3711.8013,-2118.2335 3716.9819,-2109.0322 3722.0086,-2100.1042\"/>\n<polygon fill=\"#000000\" stroke=\"#000000\" points=\"3725.1103,-2101.729 3726.9666,-2091.2981 3719.0107,-2098.2947 3725.1103,-2101.729\"/>\n<text text-anchor=\"middle\" x=\"3733.6978\" y=\"-2111.6749\" font-family=\"Helvetica,sans-Serif\" font-size=\"14.00\" fill=\"#000000\">False</text>\n</g>\n<!-- 3 -->\n<g id=\"node4\" class=\"node\">\n<title>3</title>\n<path fill=\"#efb286\" stroke=\"#000000\" d=\"M3600.5,-1972C3600.5,-1972 3500.5,-1972 3500.5,-1972 3494.5,-1972 3488.5,-1966 3488.5,-1960 3488.5,-1960 3488.5,-1901 3488.5,-1901 3488.5,-1895 3494.5,-1889 3500.5,-1889 3500.5,-1889 3600.5,-1889 3600.5,-1889 3606.5,-1889 3612.5,-1895 3612.5,-1901 3612.5,-1901 3612.5,-1960 3612.5,-1960 3612.5,-1966 3606.5,-1972 3600.5,-1972\"/>\n<text text-anchor=\"start\" x=\"3509.5\" y=\"-1956.8\" font-family=\"Helvetica,sans-Serif\" font-size=\"14.00\" fill=\"#000000\">age ≤ &#45;2.063</text>\n<text text-anchor=\"start\" x=\"3512.5\" y=\"-1941.8\" font-family=\"Helvetica,sans-Serif\" font-size=\"14.00\" fill=\"#000000\">gini = 0.402</text>\n<text text-anchor=\"start\" x=\"3502.5\" y=\"-1926.8\" font-family=\"Helvetica,sans-Serif\" font-size=\"14.00\" fill=\"#000000\">samples = 283</text>\n<text text-anchor=\"start\" x=\"3496.5\" y=\"-1911.8\" font-family=\"Helvetica,sans-Serif\" font-size=\"14.00\" fill=\"#000000\">value = [204, 79]</text>\n<text text-anchor=\"start\" x=\"3524\" y=\"-1896.8\" font-family=\"Helvetica,sans-Serif\" font-size=\"14.00\" fill=\"#000000\">class = l</text>\n</g>\n<!-- 2&#45;&gt;3 -->\n<g id=\"edge3\" class=\"edge\">\n<title>2&#45;&gt;3</title>\n<path fill=\"none\" stroke=\"#000000\" d=\"M3688.3151,-2012.5C3667.0565,-1999.8511 3643.1241,-1985.6114 3621.2414,-1972.5911\"/>\n<polygon fill=\"#000000\" stroke=\"#000000\" points=\"3623.03,-1969.5827 3612.6465,-1967.4772 3619.4506,-1975.5984 3623.03,-1969.5827\"/>\n</g>\n<!-- 202 -->\n<g id=\"node203\" class=\"node\">\n<title>202</title>\n<path fill=\"#e9965a\" stroke=\"#000000\" d=\"M4104,-1972C4104,-1972 4021,-1972 4021,-1972 4015,-1972 4009,-1966 4009,-1960 4009,-1960 4009,-1901 4009,-1901 4009,-1895 4015,-1889 4021,-1889 4021,-1889 4104,-1889 4104,-1889 4110,-1889 4116,-1895 4116,-1901 4116,-1901 4116,-1960 4116,-1960 4116,-1966 4110,-1972 4104,-1972\"/>\n<text text-anchor=\"start\" x=\"4021.5\" y=\"-1956.8\" font-family=\"Helvetica,sans-Serif\" font-size=\"14.00\" fill=\"#000000\">age ≤ &#45;0.073</text>\n<text text-anchor=\"start\" x=\"4024.5\" y=\"-1941.8\" font-family=\"Helvetica,sans-Serif\" font-size=\"14.00\" fill=\"#000000\">gini = 0.245</text>\n<text text-anchor=\"start\" x=\"4018.5\" y=\"-1926.8\" font-family=\"Helvetica,sans-Serif\" font-size=\"14.00\" fill=\"#000000\">samples = 49</text>\n<text text-anchor=\"start\" x=\"4017\" y=\"-1911.8\" font-family=\"Helvetica,sans-Serif\" font-size=\"14.00\" fill=\"#000000\">value = [42, 7]</text>\n<text text-anchor=\"start\" x=\"4036\" y=\"-1896.8\" font-family=\"Helvetica,sans-Serif\" font-size=\"14.00\" fill=\"#000000\">class = l</text>\n</g>\n<!-- 2&#45;&gt;202 -->\n<g id=\"edge202\" class=\"edge\">\n<title>2&#45;&gt;202</title>\n<path fill=\"none\" stroke=\"#000000\" d=\"M3812.5142,-2025.8472C3866.664,-2005.1939 3944.9008,-1975.3535 3999.3764,-1954.576\"/>\n<polygon fill=\"#000000\" stroke=\"#000000\" points=\"4000.8253,-1957.7694 4008.9214,-1950.9354 3998.3307,-1951.229 4000.8253,-1957.7694\"/>\n</g>\n<!-- 4 -->\n<g id=\"node5\" class=\"node\">\n<title>4</title>\n<path fill=\"#399de5\" stroke=\"#000000\" d=\"M3458,-1845.5C3458,-1845.5 3383,-1845.5 3383,-1845.5 3377,-1845.5 3371,-1839.5 3371,-1833.5 3371,-1833.5 3371,-1789.5 3371,-1789.5 3371,-1783.5 3377,-1777.5 3383,-1777.5 3383,-1777.5 3458,-1777.5 3458,-1777.5 3464,-1777.5 3470,-1783.5 3470,-1789.5 3470,-1789.5 3470,-1833.5 3470,-1833.5 3470,-1839.5 3464,-1845.5 3458,-1845.5\"/>\n<text text-anchor=\"start\" x=\"3391\" y=\"-1830.3\" font-family=\"Helvetica,sans-Serif\" font-size=\"14.00\" fill=\"#000000\">gini = 0.0</text>\n<text text-anchor=\"start\" x=\"3381\" y=\"-1815.3\" font-family=\"Helvetica,sans-Serif\" font-size=\"14.00\" fill=\"#000000\">samples = 1</text>\n<text text-anchor=\"start\" x=\"3379\" y=\"-1800.3\" font-family=\"Helvetica,sans-Serif\" font-size=\"14.00\" fill=\"#000000\">value = [0, 1]</text>\n<text text-anchor=\"start\" x=\"3391.5\" y=\"-1785.3\" font-family=\"Helvetica,sans-Serif\" font-size=\"14.00\" fill=\"#000000\">class = o</text>\n</g>\n<!-- 3&#45;&gt;4 -->\n<g id=\"edge4\" class=\"edge\">\n<title>3&#45;&gt;4</title>\n<path fill=\"none\" stroke=\"#000000\" d=\"M3505.0323,-1888.8796C3492.1789,-1877.1138 3478.2021,-1864.3197 3465.3834,-1852.5855\"/>\n<polygon fill=\"#000000\" stroke=\"#000000\" points=\"3467.7264,-1849.9854 3457.9869,-1845.8149 3462.9999,-1855.1488 3467.7264,-1849.9854\"/>\n</g>\n<!-- 5 -->\n<g id=\"node6\" class=\"node\">\n<title>5</title>\n<path fill=\"#efb185\" stroke=\"#000000\" d=\"M3600.5,-1853C3600.5,-1853 3500.5,-1853 3500.5,-1853 3494.5,-1853 3488.5,-1847 3488.5,-1841 3488.5,-1841 3488.5,-1782 3488.5,-1782 3488.5,-1776 3494.5,-1770 3500.5,-1770 3500.5,-1770 3600.5,-1770 3600.5,-1770 3606.5,-1770 3612.5,-1776 3612.5,-1782 3612.5,-1782 3612.5,-1841 3612.5,-1841 3612.5,-1847 3606.5,-1853 3600.5,-1853\"/>\n<text text-anchor=\"start\" x=\"3509.5\" y=\"-1837.8\" font-family=\"Helvetica,sans-Serif\" font-size=\"14.00\" fill=\"#000000\">age ≤ &#45;1.731</text>\n<text text-anchor=\"start\" x=\"3521\" y=\"-1822.8\" font-family=\"Helvetica,sans-Serif\" font-size=\"14.00\" fill=\"#000000\">gini = 0.4</text>\n<text text-anchor=\"start\" x=\"3502.5\" y=\"-1807.8\" font-family=\"Helvetica,sans-Serif\" font-size=\"14.00\" fill=\"#000000\">samples = 282</text>\n<text text-anchor=\"start\" x=\"3496.5\" y=\"-1792.8\" font-family=\"Helvetica,sans-Serif\" font-size=\"14.00\" fill=\"#000000\">value = [204, 78]</text>\n<text text-anchor=\"start\" x=\"3524\" y=\"-1777.8\" font-family=\"Helvetica,sans-Serif\" font-size=\"14.00\" fill=\"#000000\">class = l</text>\n</g>\n<!-- 3&#45;&gt;5 -->\n<g id=\"edge5\" class=\"edge\">\n<title>3&#45;&gt;5</title>\n<path fill=\"none\" stroke=\"#000000\" d=\"M3550.5,-1888.8796C3550.5,-1880.6838 3550.5,-1871.9891 3550.5,-1863.5013\"/>\n<polygon fill=\"#000000\" stroke=\"#000000\" points=\"3554.0001,-1863.298 3550.5,-1853.2981 3547.0001,-1863.2981 3554.0001,-1863.298\"/>\n</g>\n<!-- 6 -->\n<g id=\"node7\" class=\"node\">\n<title>6</title>\n<path fill=\"#e58139\" stroke=\"#000000\" d=\"M3458,-1726.5C3458,-1726.5 3383,-1726.5 3383,-1726.5 3377,-1726.5 3371,-1720.5 3371,-1714.5 3371,-1714.5 3371,-1670.5 3371,-1670.5 3371,-1664.5 3377,-1658.5 3383,-1658.5 3383,-1658.5 3458,-1658.5 3458,-1658.5 3464,-1658.5 3470,-1664.5 3470,-1670.5 3470,-1670.5 3470,-1714.5 3470,-1714.5 3470,-1720.5 3464,-1726.5 3458,-1726.5\"/>\n<text text-anchor=\"start\" x=\"3391\" y=\"-1711.3\" font-family=\"Helvetica,sans-Serif\" font-size=\"14.00\" fill=\"#000000\">gini = 0.0</text>\n<text text-anchor=\"start\" x=\"3381\" y=\"-1696.3\" font-family=\"Helvetica,sans-Serif\" font-size=\"14.00\" fill=\"#000000\">samples = 4</text>\n<text text-anchor=\"start\" x=\"3379\" y=\"-1681.3\" font-family=\"Helvetica,sans-Serif\" font-size=\"14.00\" fill=\"#000000\">value = [4, 0]</text>\n<text text-anchor=\"start\" x=\"3394\" y=\"-1666.3\" font-family=\"Helvetica,sans-Serif\" font-size=\"14.00\" fill=\"#000000\">class = l</text>\n</g>\n<!-- 5&#45;&gt;6 -->\n<g id=\"edge6\" class=\"edge\">\n<title>5&#45;&gt;6</title>\n<path fill=\"none\" stroke=\"#000000\" d=\"M3505.0323,-1769.8796C3492.1789,-1758.1138 3478.2021,-1745.3197 3465.3834,-1733.5855\"/>\n<polygon fill=\"#000000\" stroke=\"#000000\" points=\"3467.7264,-1730.9854 3457.9869,-1726.8149 3462.9999,-1736.1488 3467.7264,-1730.9854\"/>\n</g>\n<!-- 7 -->\n<g id=\"node8\" class=\"node\">\n<title>7</title>\n<path fill=\"#efb286\" stroke=\"#000000\" d=\"M3600.5,-1734C3600.5,-1734 3500.5,-1734 3500.5,-1734 3494.5,-1734 3488.5,-1728 3488.5,-1722 3488.5,-1722 3488.5,-1663 3488.5,-1663 3488.5,-1657 3494.5,-1651 3500.5,-1651 3500.5,-1651 3600.5,-1651 3600.5,-1651 3606.5,-1651 3612.5,-1657 3612.5,-1663 3612.5,-1663 3612.5,-1722 3612.5,-1722 3612.5,-1728 3606.5,-1734 3600.5,-1734\"/>\n<text text-anchor=\"start\" x=\"3509.5\" y=\"-1718.8\" font-family=\"Helvetica,sans-Serif\" font-size=\"14.00\" fill=\"#000000\">age ≤ &#45;0.736</text>\n<text text-anchor=\"start\" x=\"3512.5\" y=\"-1703.8\" font-family=\"Helvetica,sans-Serif\" font-size=\"14.00\" fill=\"#000000\">gini = 0.404</text>\n<text text-anchor=\"start\" x=\"3502.5\" y=\"-1688.8\" font-family=\"Helvetica,sans-Serif\" font-size=\"14.00\" fill=\"#000000\">samples = 278</text>\n<text text-anchor=\"start\" x=\"3496.5\" y=\"-1673.8\" font-family=\"Helvetica,sans-Serif\" font-size=\"14.00\" fill=\"#000000\">value = [200, 78]</text>\n<text text-anchor=\"start\" x=\"3524\" y=\"-1658.8\" font-family=\"Helvetica,sans-Serif\" font-size=\"14.00\" fill=\"#000000\">class = l</text>\n</g>\n<!-- 5&#45;&gt;7 -->\n<g id=\"edge7\" class=\"edge\">\n<title>5&#45;&gt;7</title>\n<path fill=\"none\" stroke=\"#000000\" d=\"M3550.5,-1769.8796C3550.5,-1761.6838 3550.5,-1752.9891 3550.5,-1744.5013\"/>\n<polygon fill=\"#000000\" stroke=\"#000000\" points=\"3554.0001,-1744.298 3550.5,-1734.2981 3547.0001,-1744.2981 3554.0001,-1744.298\"/>\n</g>\n<!-- 8 -->\n<g id=\"node9\" class=\"node\">\n<title>8</title>\n<path fill=\"#f3c6a5\" stroke=\"#000000\" d=\"M1140.5,-1615C1140.5,-1615 1048.5,-1615 1048.5,-1615 1042.5,-1615 1036.5,-1609 1036.5,-1603 1036.5,-1603 1036.5,-1544 1036.5,-1544 1036.5,-1538 1042.5,-1532 1048.5,-1532 1048.5,-1532 1140.5,-1532 1140.5,-1532 1146.5,-1532 1152.5,-1538 1152.5,-1544 1152.5,-1544 1152.5,-1603 1152.5,-1603 1152.5,-1609 1146.5,-1615 1140.5,-1615\"/>\n<text text-anchor=\"start\" x=\"1048\" y=\"-1599.8\" font-family=\"Helvetica,sans-Serif\" font-size=\"14.00\" fill=\"#000000\">terms ≤ &#45;0.019</text>\n<text text-anchor=\"start\" x=\"1056.5\" y=\"-1584.8\" font-family=\"Helvetica,sans-Serif\" font-size=\"14.00\" fill=\"#000000\">gini = 0.457</text>\n<text text-anchor=\"start\" x=\"1050.5\" y=\"-1569.8\" font-family=\"Helvetica,sans-Serif\" font-size=\"14.00\" fill=\"#000000\">samples = 65</text>\n<text text-anchor=\"start\" x=\"1044.5\" y=\"-1554.8\" font-family=\"Helvetica,sans-Serif\" font-size=\"14.00\" fill=\"#000000\">value = [42, 23]</text>\n<text text-anchor=\"start\" x=\"1068\" y=\"-1539.8\" font-family=\"Helvetica,sans-Serif\" font-size=\"14.00\" fill=\"#000000\">class = l</text>\n</g>\n<!-- 7&#45;&gt;8 -->\n<g id=\"edge8\" class=\"edge\">\n<title>7&#45;&gt;8</title>\n<path fill=\"none\" stroke=\"#000000\" d=\"M3488.4845,-1654.3646C3485.1685,-1653.0852 3481.83,-1651.9492 3478.5,-1651 3250.8888,-1586.119 1528.5715,-1575.3129 1162.692,-1573.7435\"/>\n<polygon fill=\"#000000\" stroke=\"#000000\" points=\"1162.5336,-1570.2429 1152.5189,-1573.7007 1162.5041,-1577.2428 1162.5336,-1570.2429\"/>\n</g>\n<!-- 61 -->\n<g id=\"node62\" class=\"node\">\n<title>61</title>\n<path fill=\"#eead7e\" stroke=\"#000000\" d=\"M3600.5,-1615C3600.5,-1615 3500.5,-1615 3500.5,-1615 3494.5,-1615 3488.5,-1609 3488.5,-1603 3488.5,-1603 3488.5,-1544 3488.5,-1544 3488.5,-1538 3494.5,-1532 3500.5,-1532 3500.5,-1532 3600.5,-1532 3600.5,-1532 3606.5,-1532 3612.5,-1538 3612.5,-1544 3612.5,-1544 3612.5,-1603 3612.5,-1603 3612.5,-1609 3606.5,-1615 3600.5,-1615\"/>\n<text text-anchor=\"start\" x=\"3512\" y=\"-1599.8\" font-family=\"Helvetica,sans-Serif\" font-size=\"14.00\" fill=\"#000000\">age ≤ 2.083</text>\n<text text-anchor=\"start\" x=\"3512.5\" y=\"-1584.8\" font-family=\"Helvetica,sans-Serif\" font-size=\"14.00\" fill=\"#000000\">gini = 0.383</text>\n<text text-anchor=\"start\" x=\"3502.5\" y=\"-1569.8\" font-family=\"Helvetica,sans-Serif\" font-size=\"14.00\" fill=\"#000000\">samples = 213</text>\n<text text-anchor=\"start\" x=\"3496.5\" y=\"-1554.8\" font-family=\"Helvetica,sans-Serif\" font-size=\"14.00\" fill=\"#000000\">value = [158, 55]</text>\n<text text-anchor=\"start\" x=\"3524\" y=\"-1539.8\" font-family=\"Helvetica,sans-Serif\" font-size=\"14.00\" fill=\"#000000\">class = l</text>\n</g>\n<!-- 7&#45;&gt;61 -->\n<g id=\"edge61\" class=\"edge\">\n<title>7&#45;&gt;61</title>\n<path fill=\"none\" stroke=\"#000000\" d=\"M3550.5,-1650.8796C3550.5,-1642.6838 3550.5,-1633.9891 3550.5,-1625.5013\"/>\n<polygon fill=\"#000000\" stroke=\"#000000\" points=\"3554.0001,-1625.298 3550.5,-1615.2981 3547.0001,-1625.2981 3554.0001,-1625.298\"/>\n</g>\n<!-- 9 -->\n<g id=\"node10\" class=\"node\">\n<title>9</title>\n<path fill=\"#eca26d\" stroke=\"#000000\" d=\"M652.5,-1496C652.5,-1496 550.5,-1496 550.5,-1496 544.5,-1496 538.5,-1490 538.5,-1484 538.5,-1484 538.5,-1425 538.5,-1425 538.5,-1419 544.5,-1413 550.5,-1413 550.5,-1413 652.5,-1413 652.5,-1413 658.5,-1413 664.5,-1419 664.5,-1425 664.5,-1425 664.5,-1484 664.5,-1484 664.5,-1490 658.5,-1496 652.5,-1496\"/>\n<text text-anchor=\"start\" x=\"546.5\" y=\"-1480.8\" font-family=\"Helvetica,sans-Serif\" font-size=\"14.00\" fill=\"#000000\">Bechalor ≤ 1.119</text>\n<text text-anchor=\"start\" x=\"563.5\" y=\"-1465.8\" font-family=\"Helvetica,sans-Serif\" font-size=\"14.00\" fill=\"#000000\">gini = 0.328</text>\n<text text-anchor=\"start\" x=\"557.5\" y=\"-1450.8\" font-family=\"Helvetica,sans-Serif\" font-size=\"14.00\" fill=\"#000000\">samples = 29</text>\n<text text-anchor=\"start\" x=\"556\" y=\"-1435.8\" font-family=\"Helvetica,sans-Serif\" font-size=\"14.00\" fill=\"#000000\">value = [23, 6]</text>\n<text text-anchor=\"start\" x=\"575\" y=\"-1420.8\" font-family=\"Helvetica,sans-Serif\" font-size=\"14.00\" fill=\"#000000\">class = l</text>\n</g>\n<!-- 8&#45;&gt;9 -->\n<g id=\"edge9\" class=\"edge\">\n<title>8&#45;&gt;9</title>\n<path fill=\"none\" stroke=\"#000000\" d=\"M1036.4969,-1559.4993C946.4313,-1537.7593 773.0878,-1495.9177 674.5927,-1472.1431\"/>\n<polygon fill=\"#000000\" stroke=\"#000000\" points=\"675.2581,-1468.7032 664.716,-1469.759 673.6156,-1475.5078 675.2581,-1468.7032\"/>\n</g>\n<!-- 36 -->\n<g id=\"node37\" class=\"node\">\n<title>36</title>\n<path fill=\"#fcf2ea\" stroke=\"#000000\" d=\"M1140.5,-1496C1140.5,-1496 1048.5,-1496 1048.5,-1496 1042.5,-1496 1036.5,-1490 1036.5,-1484 1036.5,-1484 1036.5,-1425 1036.5,-1425 1036.5,-1419 1042.5,-1413 1048.5,-1413 1048.5,-1413 1140.5,-1413 1140.5,-1413 1146.5,-1413 1152.5,-1419 1152.5,-1425 1152.5,-1425 1152.5,-1484 1152.5,-1484 1152.5,-1490 1146.5,-1496 1140.5,-1496\"/>\n<text text-anchor=\"start\" x=\"1053.5\" y=\"-1480.8\" font-family=\"Helvetica,sans-Serif\" font-size=\"14.00\" fill=\"#000000\">age ≤ &#45;1.399</text>\n<text text-anchor=\"start\" x=\"1056.5\" y=\"-1465.8\" font-family=\"Helvetica,sans-Serif\" font-size=\"14.00\" fill=\"#000000\">gini = 0.498</text>\n<text text-anchor=\"start\" x=\"1050.5\" y=\"-1450.8\" font-family=\"Helvetica,sans-Serif\" font-size=\"14.00\" fill=\"#000000\">samples = 36</text>\n<text text-anchor=\"start\" x=\"1044.5\" y=\"-1435.8\" font-family=\"Helvetica,sans-Serif\" font-size=\"14.00\" fill=\"#000000\">value = [19, 17]</text>\n<text text-anchor=\"start\" x=\"1068\" y=\"-1420.8\" font-family=\"Helvetica,sans-Serif\" font-size=\"14.00\" fill=\"#000000\">class = l</text>\n</g>\n<!-- 8&#45;&gt;36 -->\n<g id=\"edge36\" class=\"edge\">\n<title>8&#45;&gt;36</title>\n<path fill=\"none\" stroke=\"#000000\" d=\"M1094.5,-1531.8796C1094.5,-1523.6838 1094.5,-1514.9891 1094.5,-1506.5013\"/>\n<polygon fill=\"#000000\" stroke=\"#000000\" points=\"1098.0001,-1506.298 1094.5,-1496.2981 1091.0001,-1506.2981 1098.0001,-1506.298\"/>\n</g>\n<!-- 10 -->\n<g id=\"node11\" class=\"node\">\n<title>10</title>\n<path fill=\"#ea995f\" stroke=\"#000000\" d=\"M437,-1377C437,-1377 354,-1377 354,-1377 348,-1377 342,-1371 342,-1365 342,-1365 342,-1306 342,-1306 342,-1300 348,-1294 354,-1294 354,-1294 437,-1294 437,-1294 443,-1294 449,-1300 449,-1306 449,-1306 449,-1365 449,-1365 449,-1371 443,-1377 437,-1377\"/>\n<text text-anchor=\"start\" x=\"354.5\" y=\"-1361.8\" font-family=\"Helvetica,sans-Serif\" font-size=\"14.00\" fill=\"#000000\">age ≤ &#45;1.399</text>\n<text text-anchor=\"start\" x=\"357.5\" y=\"-1346.8\" font-family=\"Helvetica,sans-Serif\" font-size=\"14.00\" fill=\"#000000\">gini = 0.269</text>\n<text text-anchor=\"start\" x=\"351.5\" y=\"-1331.8\" font-family=\"Helvetica,sans-Serif\" font-size=\"14.00\" fill=\"#000000\">samples = 25</text>\n<text text-anchor=\"start\" x=\"350\" y=\"-1316.8\" font-family=\"Helvetica,sans-Serif\" font-size=\"14.00\" fill=\"#000000\">value = [21, 4]</text>\n<text text-anchor=\"start\" x=\"369\" y=\"-1301.8\" font-family=\"Helvetica,sans-Serif\" font-size=\"14.00\" fill=\"#000000\">class = l</text>\n</g>\n<!-- 9&#45;&gt;10 -->\n<g id=\"edge10\" class=\"edge\">\n<title>9&#45;&gt;10</title>\n<path fill=\"none\" stroke=\"#000000\" d=\"M538.2932,-1417.9874C512.7962,-1403.2585 483.4548,-1386.3088 458.0268,-1371.6198\"/>\n<polygon fill=\"#000000\" stroke=\"#000000\" points=\"459.6184,-1368.4973 449.2085,-1366.5258 456.1169,-1374.5586 459.6184,-1368.4973\"/>\n</g>\n<!-- 31 -->\n<g id=\"node32\" class=\"node\">\n<title>31</title>\n<path fill=\"#ffffff\" stroke=\"#000000\" d=\"M653.5,-1377C653.5,-1377 549.5,-1377 549.5,-1377 543.5,-1377 537.5,-1371 537.5,-1365 537.5,-1365 537.5,-1306 537.5,-1306 537.5,-1300 543.5,-1294 549.5,-1294 549.5,-1294 653.5,-1294 653.5,-1294 659.5,-1294 665.5,-1300 665.5,-1306 665.5,-1306 665.5,-1365 665.5,-1365 665.5,-1371 659.5,-1377 653.5,-1377\"/>\n<text text-anchor=\"start\" x=\"545.5\" y=\"-1361.8\" font-family=\"Helvetica,sans-Serif\" font-size=\"14.00\" fill=\"#000000\">Principal ≤ &#45;0.399</text>\n<text text-anchor=\"start\" x=\"572\" y=\"-1346.8\" font-family=\"Helvetica,sans-Serif\" font-size=\"14.00\" fill=\"#000000\">gini = 0.5</text>\n<text text-anchor=\"start\" x=\"562\" y=\"-1331.8\" font-family=\"Helvetica,sans-Serif\" font-size=\"14.00\" fill=\"#000000\">samples = 4</text>\n<text text-anchor=\"start\" x=\"560\" y=\"-1316.8\" font-family=\"Helvetica,sans-Serif\" font-size=\"14.00\" fill=\"#000000\">value = [2, 2]</text>\n<text text-anchor=\"start\" x=\"575\" y=\"-1301.8\" font-family=\"Helvetica,sans-Serif\" font-size=\"14.00\" fill=\"#000000\">class = l</text>\n</g>\n<!-- 9&#45;&gt;31 -->\n<g id=\"edge31\" class=\"edge\">\n<title>9&#45;&gt;31</title>\n<path fill=\"none\" stroke=\"#000000\" d=\"M601.5,-1412.8796C601.5,-1404.6838 601.5,-1395.9891 601.5,-1387.5013\"/>\n<polygon fill=\"#000000\" stroke=\"#000000\" points=\"605.0001,-1387.298 601.5,-1377.2981 598.0001,-1387.2981 605.0001,-1387.298\"/>\n</g>\n<!-- 11 -->\n<g id=\"node12\" class=\"node\">\n<title>11</title>\n<path fill=\"#f2c09c\" stroke=\"#000000\" d=\"M260.5,-1258C260.5,-1258 156.5,-1258 156.5,-1258 150.5,-1258 144.5,-1252 144.5,-1246 144.5,-1246 144.5,-1187 144.5,-1187 144.5,-1181 150.5,-1175 156.5,-1175 156.5,-1175 260.5,-1175 260.5,-1175 266.5,-1175 272.5,-1181 272.5,-1187 272.5,-1187 272.5,-1246 272.5,-1246 272.5,-1252 266.5,-1258 260.5,-1258\"/>\n<text text-anchor=\"start\" x=\"152.5\" y=\"-1242.8\" font-family=\"Helvetica,sans-Serif\" font-size=\"14.00\" fill=\"#000000\">Principal ≤ &#45;0.399</text>\n<text text-anchor=\"start\" x=\"170.5\" y=\"-1227.8\" font-family=\"Helvetica,sans-Serif\" font-size=\"14.00\" fill=\"#000000\">gini = 0.444</text>\n<text text-anchor=\"start\" x=\"169\" y=\"-1212.8\" font-family=\"Helvetica,sans-Serif\" font-size=\"14.00\" fill=\"#000000\">samples = 3</text>\n<text text-anchor=\"start\" x=\"167\" y=\"-1197.8\" font-family=\"Helvetica,sans-Serif\" font-size=\"14.00\" fill=\"#000000\">value = [2, 1]</text>\n<text text-anchor=\"start\" x=\"182\" y=\"-1182.8\" font-family=\"Helvetica,sans-Serif\" font-size=\"14.00\" fill=\"#000000\">class = l</text>\n</g>\n<!-- 10&#45;&gt;11 -->\n<g id=\"edge11\" class=\"edge\">\n<title>10&#45;&gt;11</title>\n<path fill=\"none\" stroke=\"#000000\" d=\"M341.9133,-1301.3994C323.0262,-1289.3803 301.4642,-1275.6591 281.2623,-1262.8033\"/>\n<polygon fill=\"#000000\" stroke=\"#000000\" points=\"283.0151,-1259.7702 272.6994,-1257.3542 279.257,-1265.6758 283.0151,-1259.7702\"/>\n</g>\n<!-- 16 -->\n<g id=\"node17\" class=\"node\">\n<title>16</title>\n<path fill=\"#e99558\" stroke=\"#000000\" d=\"M437,-1258C437,-1258 354,-1258 354,-1258 348,-1258 342,-1252 342,-1246 342,-1246 342,-1187 342,-1187 342,-1181 348,-1175 354,-1175 354,-1175 437,-1175 437,-1175 443,-1175 449,-1181 449,-1187 449,-1187 449,-1246 449,-1246 449,-1252 443,-1258 437,-1258\"/>\n<text text-anchor=\"start\" x=\"354.5\" y=\"-1242.8\" font-family=\"Helvetica,sans-Serif\" font-size=\"14.00\" fill=\"#000000\">age ≤ &#45;1.068</text>\n<text text-anchor=\"start\" x=\"357.5\" y=\"-1227.8\" font-family=\"Helvetica,sans-Serif\" font-size=\"14.00\" fill=\"#000000\">gini = 0.236</text>\n<text text-anchor=\"start\" x=\"351.5\" y=\"-1212.8\" font-family=\"Helvetica,sans-Serif\" font-size=\"14.00\" fill=\"#000000\">samples = 22</text>\n<text text-anchor=\"start\" x=\"350\" y=\"-1197.8\" font-family=\"Helvetica,sans-Serif\" font-size=\"14.00\" fill=\"#000000\">value = [19, 3]</text>\n<text text-anchor=\"start\" x=\"369\" y=\"-1182.8\" font-family=\"Helvetica,sans-Serif\" font-size=\"14.00\" fill=\"#000000\">class = l</text>\n</g>\n<!-- 10&#45;&gt;16 -->\n<g id=\"edge16\" class=\"edge\">\n<title>10&#45;&gt;16</title>\n<path fill=\"none\" stroke=\"#000000\" d=\"M395.5,-1293.8796C395.5,-1285.6838 395.5,-1276.9891 395.5,-1268.5013\"/>\n<polygon fill=\"#000000\" stroke=\"#000000\" points=\"399.0001,-1268.298 395.5,-1258.2981 392.0001,-1268.2981 399.0001,-1268.298\"/>\n</g>\n<!-- 12 -->\n<g id=\"node13\" class=\"node\">\n<title>12</title>\n<path fill=\"#ffffff\" stroke=\"#000000\" d=\"M129,-1139C129,-1139 54,-1139 54,-1139 48,-1139 42,-1133 42,-1127 42,-1127 42,-1068 42,-1068 42,-1062 48,-1056 54,-1056 54,-1056 129,-1056 129,-1056 135,-1056 141,-1062 141,-1068 141,-1068 141,-1127 141,-1127 141,-1133 135,-1139 129,-1139\"/>\n<text text-anchor=\"start\" x=\"50.5\" y=\"-1123.8\" font-family=\"Helvetica,sans-Serif\" font-size=\"14.00\" fill=\"#000000\">age ≤ &#45;1.565</text>\n<text text-anchor=\"start\" x=\"62\" y=\"-1108.8\" font-family=\"Helvetica,sans-Serif\" font-size=\"14.00\" fill=\"#000000\">gini = 0.5</text>\n<text text-anchor=\"start\" x=\"52\" y=\"-1093.8\" font-family=\"Helvetica,sans-Serif\" font-size=\"14.00\" fill=\"#000000\">samples = 2</text>\n<text text-anchor=\"start\" x=\"50\" y=\"-1078.8\" font-family=\"Helvetica,sans-Serif\" font-size=\"14.00\" fill=\"#000000\">value = [1, 1]</text>\n<text text-anchor=\"start\" x=\"65\" y=\"-1063.8\" font-family=\"Helvetica,sans-Serif\" font-size=\"14.00\" fill=\"#000000\">class = l</text>\n</g>\n<!-- 11&#45;&gt;12 -->\n<g id=\"edge12\" class=\"edge\">\n<title>11&#45;&gt;12</title>\n<path fill=\"none\" stroke=\"#000000\" d=\"M167.5791,-1174.8796C158.547,-1165.6931 148.8987,-1155.8798 139.6112,-1146.4336\"/>\n<polygon fill=\"#000000\" stroke=\"#000000\" points=\"142.1023,-1143.975 132.5956,-1139.2981 137.1107,-1148.8827 142.1023,-1143.975\"/>\n</g>\n<!-- 15 -->\n<g id=\"node16\" class=\"node\">\n<title>15</title>\n<path fill=\"#e58139\" stroke=\"#000000\" d=\"M246,-1131.5C246,-1131.5 171,-1131.5 171,-1131.5 165,-1131.5 159,-1125.5 159,-1119.5 159,-1119.5 159,-1075.5 159,-1075.5 159,-1069.5 165,-1063.5 171,-1063.5 171,-1063.5 246,-1063.5 246,-1063.5 252,-1063.5 258,-1069.5 258,-1075.5 258,-1075.5 258,-1119.5 258,-1119.5 258,-1125.5 252,-1131.5 246,-1131.5\"/>\n<text text-anchor=\"start\" x=\"179\" y=\"-1116.3\" font-family=\"Helvetica,sans-Serif\" font-size=\"14.00\" fill=\"#000000\">gini = 0.0</text>\n<text text-anchor=\"start\" x=\"169\" y=\"-1101.3\" font-family=\"Helvetica,sans-Serif\" font-size=\"14.00\" fill=\"#000000\">samples = 1</text>\n<text text-anchor=\"start\" x=\"167\" y=\"-1086.3\" font-family=\"Helvetica,sans-Serif\" font-size=\"14.00\" fill=\"#000000\">value = [1, 0]</text>\n<text text-anchor=\"start\" x=\"182\" y=\"-1071.3\" font-family=\"Helvetica,sans-Serif\" font-size=\"14.00\" fill=\"#000000\">class = l</text>\n</g>\n<!-- 11&#45;&gt;15 -->\n<g id=\"edge15\" class=\"edge\">\n<title>11&#45;&gt;15</title>\n<path fill=\"none\" stroke=\"#000000\" d=\"M208.5,-1174.8796C208.5,-1164.2134 208.5,-1152.7021 208.5,-1141.9015\"/>\n<polygon fill=\"#000000\" stroke=\"#000000\" points=\"212.0001,-1141.8149 208.5,-1131.8149 205.0001,-1141.815 212.0001,-1141.8149\"/>\n</g>\n<!-- 13 -->\n<g id=\"node14\" class=\"node\">\n<title>13</title>\n<path fill=\"#e58139\" stroke=\"#000000\" d=\"M87,-1012.5C87,-1012.5 12,-1012.5 12,-1012.5 6,-1012.5 0,-1006.5 0,-1000.5 0,-1000.5 0,-956.5 0,-956.5 0,-950.5 6,-944.5 12,-944.5 12,-944.5 87,-944.5 87,-944.5 93,-944.5 99,-950.5 99,-956.5 99,-956.5 99,-1000.5 99,-1000.5 99,-1006.5 93,-1012.5 87,-1012.5\"/>\n<text text-anchor=\"start\" x=\"20\" y=\"-997.3\" font-family=\"Helvetica,sans-Serif\" font-size=\"14.00\" fill=\"#000000\">gini = 0.0</text>\n<text text-anchor=\"start\" x=\"10\" y=\"-982.3\" font-family=\"Helvetica,sans-Serif\" font-size=\"14.00\" fill=\"#000000\">samples = 1</text>\n<text text-anchor=\"start\" x=\"8\" y=\"-967.3\" font-family=\"Helvetica,sans-Serif\" font-size=\"14.00\" fill=\"#000000\">value = [1, 0]</text>\n<text text-anchor=\"start\" x=\"23\" y=\"-952.3\" font-family=\"Helvetica,sans-Serif\" font-size=\"14.00\" fill=\"#000000\">class = l</text>\n</g>\n<!-- 12&#45;&gt;13 -->\n<g id=\"edge13\" class=\"edge\">\n<title>12&#45;&gt;13</title>\n<path fill=\"none\" stroke=\"#000000\" d=\"M76.8104,-1055.8796C73.0071,-1045.1034 68.8993,-1033.4647 65.0533,-1022.5677\"/>\n<polygon fill=\"#000000\" stroke=\"#000000\" points=\"68.2399,-1021.08 61.6112,-1012.8149 61.639,-1023.4097 68.2399,-1021.08\"/>\n</g>\n<!-- 14 -->\n<g id=\"node15\" class=\"node\">\n<title>14</title>\n<path fill=\"#399de5\" stroke=\"#000000\" d=\"M204,-1012.5C204,-1012.5 129,-1012.5 129,-1012.5 123,-1012.5 117,-1006.5 117,-1000.5 117,-1000.5 117,-956.5 117,-956.5 117,-950.5 123,-944.5 129,-944.5 129,-944.5 204,-944.5 204,-944.5 210,-944.5 216,-950.5 216,-956.5 216,-956.5 216,-1000.5 216,-1000.5 216,-1006.5 210,-1012.5 204,-1012.5\"/>\n<text text-anchor=\"start\" x=\"137\" y=\"-997.3\" font-family=\"Helvetica,sans-Serif\" font-size=\"14.00\" fill=\"#000000\">gini = 0.0</text>\n<text text-anchor=\"start\" x=\"127\" y=\"-982.3\" font-family=\"Helvetica,sans-Serif\" font-size=\"14.00\" fill=\"#000000\">samples = 1</text>\n<text text-anchor=\"start\" x=\"125\" y=\"-967.3\" font-family=\"Helvetica,sans-Serif\" font-size=\"14.00\" fill=\"#000000\">value = [0, 1]</text>\n<text text-anchor=\"start\" x=\"137.5\" y=\"-952.3\" font-family=\"Helvetica,sans-Serif\" font-size=\"14.00\" fill=\"#000000\">class = o</text>\n</g>\n<!-- 12&#45;&gt;14 -->\n<g id=\"edge14\" class=\"edge\">\n<title>12&#45;&gt;14</title>\n<path fill=\"none\" stroke=\"#000000\" d=\"M117.7314,-1055.8796C124.731,-1044.7735 132.308,-1032.7513 139.3556,-1021.5691\"/>\n<polygon fill=\"#000000\" stroke=\"#000000\" points=\"142.502,-1023.1411 144.8729,-1012.8149 136.58,-1019.4087 142.502,-1023.1411\"/>\n</g>\n<!-- 17 -->\n<g id=\"node18\" class=\"node\">\n<title>17</title>\n<path fill=\"#e58139\" stroke=\"#000000\" d=\"M363,-1131.5C363,-1131.5 288,-1131.5 288,-1131.5 282,-1131.5 276,-1125.5 276,-1119.5 276,-1119.5 276,-1075.5 276,-1075.5 276,-1069.5 282,-1063.5 288,-1063.5 288,-1063.5 363,-1063.5 363,-1063.5 369,-1063.5 375,-1069.5 375,-1075.5 375,-1075.5 375,-1119.5 375,-1119.5 375,-1125.5 369,-1131.5 363,-1131.5\"/>\n<text text-anchor=\"start\" x=\"296\" y=\"-1116.3\" font-family=\"Helvetica,sans-Serif\" font-size=\"14.00\" fill=\"#000000\">gini = 0.0</text>\n<text text-anchor=\"start\" x=\"286\" y=\"-1101.3\" font-family=\"Helvetica,sans-Serif\" font-size=\"14.00\" fill=\"#000000\">samples = 6</text>\n<text text-anchor=\"start\" x=\"284\" y=\"-1086.3\" font-family=\"Helvetica,sans-Serif\" font-size=\"14.00\" fill=\"#000000\">value = [6, 0]</text>\n<text text-anchor=\"start\" x=\"299\" y=\"-1071.3\" font-family=\"Helvetica,sans-Serif\" font-size=\"14.00\" fill=\"#000000\">class = l</text>\n</g>\n<!-- 16&#45;&gt;17 -->\n<g id=\"edge17\" class=\"edge\">\n<title>16&#45;&gt;17</title>\n<path fill=\"none\" stroke=\"#000000\" d=\"M371.0174,-1174.8796C364.4844,-1163.7735 357.4125,-1151.7513 350.8348,-1140.5691\"/>\n<polygon fill=\"#000000\" stroke=\"#000000\" points=\"353.7723,-1138.6597 345.6853,-1131.8149 347.7387,-1142.2089 353.7723,-1138.6597\"/>\n</g>\n<!-- 18 -->\n<g id=\"node19\" class=\"node\">\n<title>18</title>\n<path fill=\"#eb9e67\" stroke=\"#000000\" d=\"M488,-1139C488,-1139 405,-1139 405,-1139 399,-1139 393,-1133 393,-1127 393,-1127 393,-1068 393,-1068 393,-1062 399,-1056 405,-1056 405,-1056 488,-1056 488,-1056 494,-1056 500,-1062 500,-1068 500,-1068 500,-1127 500,-1127 500,-1133 494,-1139 488,-1139\"/>\n<text text-anchor=\"start\" x=\"405.5\" y=\"-1123.8\" font-family=\"Helvetica,sans-Serif\" font-size=\"14.00\" fill=\"#000000\">age ≤ &#45;0.902</text>\n<text text-anchor=\"start\" x=\"408.5\" y=\"-1108.8\" font-family=\"Helvetica,sans-Serif\" font-size=\"14.00\" fill=\"#000000\">gini = 0.305</text>\n<text text-anchor=\"start\" x=\"402.5\" y=\"-1093.8\" font-family=\"Helvetica,sans-Serif\" font-size=\"14.00\" fill=\"#000000\">samples = 16</text>\n<text text-anchor=\"start\" x=\"401\" y=\"-1078.8\" font-family=\"Helvetica,sans-Serif\" font-size=\"14.00\" fill=\"#000000\">value = [13, 3]</text>\n<text text-anchor=\"start\" x=\"420\" y=\"-1063.8\" font-family=\"Helvetica,sans-Serif\" font-size=\"14.00\" fill=\"#000000\">class = l</text>\n</g>\n<!-- 16&#45;&gt;18 -->\n<g id=\"edge18\" class=\"edge\">\n<title>16&#45;&gt;18</title>\n<path fill=\"none\" stroke=\"#000000\" d=\"M413.3373,-1174.8796C416.9656,-1166.4136 420.822,-1157.4153 424.5732,-1148.6626\"/>\n<polygon fill=\"#000000\" stroke=\"#000000\" points=\"427.8643,-1149.8683 428.5865,-1139.2981 421.4303,-1147.1108 427.8643,-1149.8683\"/>\n</g>\n<!-- 19 -->\n<g id=\"node20\" class=\"node\">\n<title>19</title>\n<path fill=\"#eeab7b\" stroke=\"#000000\" d=\"M394.5,-1020C394.5,-1020 290.5,-1020 290.5,-1020 284.5,-1020 278.5,-1014 278.5,-1008 278.5,-1008 278.5,-949 278.5,-949 278.5,-943 284.5,-937 290.5,-937 290.5,-937 394.5,-937 394.5,-937 400.5,-937 406.5,-943 406.5,-949 406.5,-949 406.5,-1008 406.5,-1008 406.5,-1014 400.5,-1020 394.5,-1020\"/>\n<text text-anchor=\"start\" x=\"286.5\" y=\"-1004.8\" font-family=\"Helvetica,sans-Serif\" font-size=\"14.00\" fill=\"#000000\">Principal ≤ &#45;0.399</text>\n<text text-anchor=\"start\" x=\"304.5\" y=\"-989.8\" font-family=\"Helvetica,sans-Serif\" font-size=\"14.00\" fill=\"#000000\">gini = 0.375</text>\n<text text-anchor=\"start\" x=\"303\" y=\"-974.8\" font-family=\"Helvetica,sans-Serif\" font-size=\"14.00\" fill=\"#000000\">samples = 8</text>\n<text text-anchor=\"start\" x=\"301\" y=\"-959.8\" font-family=\"Helvetica,sans-Serif\" font-size=\"14.00\" fill=\"#000000\">value = [6, 2]</text>\n<text text-anchor=\"start\" x=\"316\" y=\"-944.8\" font-family=\"Helvetica,sans-Serif\" font-size=\"14.00\" fill=\"#000000\">class = l</text>\n</g>\n<!-- 18&#45;&gt;19 -->\n<g id=\"edge19\" class=\"edge\">\n<title>18&#45;&gt;19</title>\n<path fill=\"none\" stroke=\"#000000\" d=\"M410.1258,-1055.8796C402.2548,-1046.8733 393.8571,-1037.2644 385.7515,-1027.9897\"/>\n<polygon fill=\"#000000\" stroke=\"#000000\" points=\"388.2454,-1025.5246 379.0294,-1020.2981 382.9746,-1030.131 388.2454,-1025.5246\"/>\n</g>\n<!-- 26 -->\n<g id=\"node27\" class=\"node\">\n<title>26</title>\n<path fill=\"#e99355\" stroke=\"#000000\" d=\"M540.5,-1020C540.5,-1020 436.5,-1020 436.5,-1020 430.5,-1020 424.5,-1014 424.5,-1008 424.5,-1008 424.5,-949 424.5,-949 424.5,-943 430.5,-937 436.5,-937 436.5,-937 540.5,-937 540.5,-937 546.5,-937 552.5,-943 552.5,-949 552.5,-949 552.5,-1008 552.5,-1008 552.5,-1014 546.5,-1020 540.5,-1020\"/>\n<text text-anchor=\"start\" x=\"432.5\" y=\"-1004.8\" font-family=\"Helvetica,sans-Serif\" font-size=\"14.00\" fill=\"#000000\">Principal ≤ &#45;0.399</text>\n<text text-anchor=\"start\" x=\"450.5\" y=\"-989.8\" font-family=\"Helvetica,sans-Serif\" font-size=\"14.00\" fill=\"#000000\">gini = 0.219</text>\n<text text-anchor=\"start\" x=\"449\" y=\"-974.8\" font-family=\"Helvetica,sans-Serif\" font-size=\"14.00\" fill=\"#000000\">samples = 8</text>\n<text text-anchor=\"start\" x=\"447\" y=\"-959.8\" font-family=\"Helvetica,sans-Serif\" font-size=\"14.00\" fill=\"#000000\">value = [7, 1]</text>\n<text text-anchor=\"start\" x=\"462\" y=\"-944.8\" font-family=\"Helvetica,sans-Serif\" font-size=\"14.00\" fill=\"#000000\">class = l</text>\n</g>\n<!-- 18&#45;&gt;26 -->\n<g id=\"edge26\" class=\"edge\">\n<title>18&#45;&gt;26</title>\n<path fill=\"none\" stroke=\"#000000\" d=\"M461.1896,-1055.8796C464.1458,-1047.5037 467.2859,-1038.6067 470.344,-1029.942\"/>\n<polygon fill=\"#000000\" stroke=\"#000000\" points=\"473.7199,-1030.8929 473.7477,-1020.2981 467.119,-1028.5631 473.7199,-1030.8929\"/>\n</g>\n<!-- 20 -->\n<g id=\"node21\" class=\"node\">\n<title>20</title>\n<path fill=\"#ffffff\" stroke=\"#000000\" d=\"M263,-901C263,-901 80,-901 80,-901 74,-901 68,-895 68,-889 68,-889 68,-830 68,-830 68,-824 74,-818 80,-818 80,-818 263,-818 263,-818 269,-818 275,-824 275,-830 275,-830 275,-889 275,-889 275,-895 269,-901 263,-901\"/>\n<text text-anchor=\"start\" x=\"76\" y=\"-885.8\" font-family=\"Helvetica,sans-Serif\" font-size=\"14.00\" fill=\"#000000\">High School or Below ≤ 0.128</text>\n<text text-anchor=\"start\" x=\"142\" y=\"-870.8\" font-family=\"Helvetica,sans-Serif\" font-size=\"14.00\" fill=\"#000000\">gini = 0.5</text>\n<text text-anchor=\"start\" x=\"132\" y=\"-855.8\" font-family=\"Helvetica,sans-Serif\" font-size=\"14.00\" fill=\"#000000\">samples = 2</text>\n<text text-anchor=\"start\" x=\"130\" y=\"-840.8\" font-family=\"Helvetica,sans-Serif\" font-size=\"14.00\" fill=\"#000000\">value = [1, 1]</text>\n<text text-anchor=\"start\" x=\"145\" y=\"-825.8\" font-family=\"Helvetica,sans-Serif\" font-size=\"14.00\" fill=\"#000000\">class = l</text>\n</g>\n<!-- 19&#45;&gt;20 -->\n<g id=\"edge20\" class=\"edge\">\n<title>19&#45;&gt;20</title>\n<path fill=\"none\" stroke=\"#000000\" d=\"M282.6925,-936.8796C268.7642,-927.1868 253.8331,-916.7961 239.5769,-906.8752\"/>\n<polygon fill=\"#000000\" stroke=\"#000000\" points=\"241.4811,-903.9362 231.2737,-901.0969 237.4826,-909.6819 241.4811,-903.9362\"/>\n</g>\n<!-- 23 -->\n<g id=\"node24\" class=\"node\">\n<title>23</title>\n<path fill=\"#ea9a61\" stroke=\"#000000\" d=\"M388,-901C388,-901 305,-901 305,-901 299,-901 293,-895 293,-889 293,-889 293,-830 293,-830 293,-824 299,-818 305,-818 305,-818 388,-818 388,-818 394,-818 400,-824 400,-830 400,-830 400,-889 400,-889 400,-895 394,-901 388,-901\"/>\n<text text-anchor=\"start\" x=\"301\" y=\"-885.8\" font-family=\"Helvetica,sans-Serif\" font-size=\"14.00\" fill=\"#000000\">college ≤ 0.14</text>\n<text text-anchor=\"start\" x=\"308.5\" y=\"-870.8\" font-family=\"Helvetica,sans-Serif\" font-size=\"14.00\" fill=\"#000000\">gini = 0.278</text>\n<text text-anchor=\"start\" x=\"307\" y=\"-855.8\" font-family=\"Helvetica,sans-Serif\" font-size=\"14.00\" fill=\"#000000\">samples = 6</text>\n<text text-anchor=\"start\" x=\"305\" y=\"-840.8\" font-family=\"Helvetica,sans-Serif\" font-size=\"14.00\" fill=\"#000000\">value = [5, 1]</text>\n<text text-anchor=\"start\" x=\"320\" y=\"-825.8\" font-family=\"Helvetica,sans-Serif\" font-size=\"14.00\" fill=\"#000000\">class = l</text>\n</g>\n<!-- 19&#45;&gt;23 -->\n<g id=\"edge23\" class=\"edge\">\n<title>19&#45;&gt;23</title>\n<path fill=\"none\" stroke=\"#000000\" d=\"M343.899,-936.8796C344.1745,-928.6838 344.4668,-919.9891 344.7521,-911.5013\"/>\n<polygon fill=\"#000000\" stroke=\"#000000\" points=\"348.257,-911.41 345.095,-901.2981 341.261,-911.1748 348.257,-911.41\"/>\n</g>\n<!-- 21 -->\n<g id=\"node22\" class=\"node\">\n<title>21</title>\n<path fill=\"#e58139\" stroke=\"#000000\" d=\"M107,-774.5C107,-774.5 32,-774.5 32,-774.5 26,-774.5 20,-768.5 20,-762.5 20,-762.5 20,-718.5 20,-718.5 20,-712.5 26,-706.5 32,-706.5 32,-706.5 107,-706.5 107,-706.5 113,-706.5 119,-712.5 119,-718.5 119,-718.5 119,-762.5 119,-762.5 119,-768.5 113,-774.5 107,-774.5\"/>\n<text text-anchor=\"start\" x=\"40\" y=\"-759.3\" font-family=\"Helvetica,sans-Serif\" font-size=\"14.00\" fill=\"#000000\">gini = 0.0</text>\n<text text-anchor=\"start\" x=\"30\" y=\"-744.3\" font-family=\"Helvetica,sans-Serif\" font-size=\"14.00\" fill=\"#000000\">samples = 1</text>\n<text text-anchor=\"start\" x=\"28\" y=\"-729.3\" font-family=\"Helvetica,sans-Serif\" font-size=\"14.00\" fill=\"#000000\">value = [1, 0]</text>\n<text text-anchor=\"start\" x=\"43\" y=\"-714.3\" font-family=\"Helvetica,sans-Serif\" font-size=\"14.00\" fill=\"#000000\">class = l</text>\n</g>\n<!-- 20&#45;&gt;21 -->\n<g id=\"edge21\" class=\"edge\">\n<title>20&#45;&gt;21</title>\n<path fill=\"none\" stroke=\"#000000\" d=\"M135.8253,-817.8796C126.0231,-806.4436 115.3882,-794.0363 105.5643,-782.575\"/>\n<polygon fill=\"#000000\" stroke=\"#000000\" points=\"108.0782,-780.1297 98.9128,-774.8149 102.7633,-784.6853 108.0782,-780.1297\"/>\n</g>\n<!-- 22 -->\n<g id=\"node23\" class=\"node\">\n<title>22</title>\n<path fill=\"#399de5\" stroke=\"#000000\" d=\"M224,-774.5C224,-774.5 149,-774.5 149,-774.5 143,-774.5 137,-768.5 137,-762.5 137,-762.5 137,-718.5 137,-718.5 137,-712.5 143,-706.5 149,-706.5 149,-706.5 224,-706.5 224,-706.5 230,-706.5 236,-712.5 236,-718.5 236,-718.5 236,-762.5 236,-762.5 236,-768.5 230,-774.5 224,-774.5\"/>\n<text text-anchor=\"start\" x=\"157\" y=\"-759.3\" font-family=\"Helvetica,sans-Serif\" font-size=\"14.00\" fill=\"#000000\">gini = 0.0</text>\n<text text-anchor=\"start\" x=\"147\" y=\"-744.3\" font-family=\"Helvetica,sans-Serif\" font-size=\"14.00\" fill=\"#000000\">samples = 1</text>\n<text text-anchor=\"start\" x=\"145\" y=\"-729.3\" font-family=\"Helvetica,sans-Serif\" font-size=\"14.00\" fill=\"#000000\">value = [0, 1]</text>\n<text text-anchor=\"start\" x=\"157.5\" y=\"-714.3\" font-family=\"Helvetica,sans-Serif\" font-size=\"14.00\" fill=\"#000000\">class = o</text>\n</g>\n<!-- 20&#45;&gt;22 -->\n<g id=\"edge22\" class=\"edge\">\n<title>20&#45;&gt;22</title>\n<path fill=\"none\" stroke=\"#000000\" d=\"M176.7463,-817.8796C178.0908,-807.2134 179.5418,-795.7021 180.9032,-784.9015\"/>\n<polygon fill=\"#000000\" stroke=\"#000000\" points=\"184.3964,-785.1742 182.1746,-774.8149 177.4514,-784.2987 184.3964,-785.1742\"/>\n</g>\n<!-- 24 -->\n<g id=\"node25\" class=\"node\">\n<title>24</title>\n<path fill=\"#e58139\" stroke=\"#000000\" d=\"M370,-774.5C370,-774.5 295,-774.5 295,-774.5 289,-774.5 283,-768.5 283,-762.5 283,-762.5 283,-718.5 283,-718.5 283,-712.5 289,-706.5 295,-706.5 295,-706.5 370,-706.5 370,-706.5 376,-706.5 382,-712.5 382,-718.5 382,-718.5 382,-762.5 382,-762.5 382,-768.5 376,-774.5 370,-774.5\"/>\n<text text-anchor=\"start\" x=\"303\" y=\"-759.3\" font-family=\"Helvetica,sans-Serif\" font-size=\"14.00\" fill=\"#000000\">gini = 0.0</text>\n<text text-anchor=\"start\" x=\"293\" y=\"-744.3\" font-family=\"Helvetica,sans-Serif\" font-size=\"14.00\" fill=\"#000000\">samples = 3</text>\n<text text-anchor=\"start\" x=\"291\" y=\"-729.3\" font-family=\"Helvetica,sans-Serif\" font-size=\"14.00\" fill=\"#000000\">value = [3, 0]</text>\n<text text-anchor=\"start\" x=\"306\" y=\"-714.3\" font-family=\"Helvetica,sans-Serif\" font-size=\"14.00\" fill=\"#000000\">class = l</text>\n</g>\n<!-- 23&#45;&gt;24 -->\n<g id=\"edge24\" class=\"edge\">\n<title>23&#45;&gt;24</title>\n<path fill=\"none\" stroke=\"#000000\" d=\"M341.6035,-817.8796C340.3486,-807.2134 338.9944,-795.7021 337.7237,-784.9015\"/>\n<polygon fill=\"#000000\" stroke=\"#000000\" points=\"341.1816,-784.3375 336.5371,-774.8149 334.2295,-785.1554 341.1816,-784.3375\"/>\n</g>\n<!-- 25 -->\n<g id=\"node26\" class=\"node\">\n<title>25</title>\n<path fill=\"#f2c09c\" stroke=\"#000000\" d=\"M487,-774.5C487,-774.5 412,-774.5 412,-774.5 406,-774.5 400,-768.5 400,-762.5 400,-762.5 400,-718.5 400,-718.5 400,-712.5 406,-706.5 412,-706.5 412,-706.5 487,-706.5 487,-706.5 493,-706.5 499,-712.5 499,-718.5 499,-718.5 499,-762.5 499,-762.5 499,-768.5 493,-774.5 487,-774.5\"/>\n<text text-anchor=\"start\" x=\"411.5\" y=\"-759.3\" font-family=\"Helvetica,sans-Serif\" font-size=\"14.00\" fill=\"#000000\">gini = 0.444</text>\n<text text-anchor=\"start\" x=\"410\" y=\"-744.3\" font-family=\"Helvetica,sans-Serif\" font-size=\"14.00\" fill=\"#000000\">samples = 3</text>\n<text text-anchor=\"start\" x=\"408\" y=\"-729.3\" font-family=\"Helvetica,sans-Serif\" font-size=\"14.00\" fill=\"#000000\">value = [2, 1]</text>\n<text text-anchor=\"start\" x=\"423\" y=\"-714.3\" font-family=\"Helvetica,sans-Serif\" font-size=\"14.00\" fill=\"#000000\">class = l</text>\n</g>\n<!-- 23&#45;&gt;25 -->\n<g id=\"edge25\" class=\"edge\">\n<title>23&#45;&gt;25</title>\n<path fill=\"none\" stroke=\"#000000\" d=\"M382.5244,-817.8796C392.4227,-806.4436 403.1619,-794.0363 413.0822,-782.575\"/>\n<polygon fill=\"#000000\" stroke=\"#000000\" points=\"415.9007,-784.6666 419.7988,-774.8149 410.6079,-780.0855 415.9007,-784.6666\"/>\n</g>\n<!-- 27 -->\n<g id=\"node28\" class=\"node\">\n<title>27</title>\n<path fill=\"#e58139\" stroke=\"#000000\" d=\"M518,-893.5C518,-893.5 443,-893.5 443,-893.5 437,-893.5 431,-887.5 431,-881.5 431,-881.5 431,-837.5 431,-837.5 431,-831.5 437,-825.5 443,-825.5 443,-825.5 518,-825.5 518,-825.5 524,-825.5 530,-831.5 530,-837.5 530,-837.5 530,-881.5 530,-881.5 530,-887.5 524,-893.5 518,-893.5\"/>\n<text text-anchor=\"start\" x=\"451\" y=\"-878.3\" font-family=\"Helvetica,sans-Serif\" font-size=\"14.00\" fill=\"#000000\">gini = 0.0</text>\n<text text-anchor=\"start\" x=\"441\" y=\"-863.3\" font-family=\"Helvetica,sans-Serif\" font-size=\"14.00\" fill=\"#000000\">samples = 5</text>\n<text text-anchor=\"start\" x=\"439\" y=\"-848.3\" font-family=\"Helvetica,sans-Serif\" font-size=\"14.00\" fill=\"#000000\">value = [5, 0]</text>\n<text text-anchor=\"start\" x=\"454\" y=\"-833.3\" font-family=\"Helvetica,sans-Serif\" font-size=\"14.00\" fill=\"#000000\">class = l</text>\n</g>\n<!-- 26&#45;&gt;27 -->\n<g id=\"edge27\" class=\"edge\">\n<title>26&#45;&gt;27</title>\n<path fill=\"none\" stroke=\"#000000\" d=\"M485.702,-936.8796C484.9849,-926.2134 484.2111,-914.7021 483.485,-903.9015\"/>\n<polygon fill=\"#000000\" stroke=\"#000000\" points=\"486.9699,-903.5576 482.8069,-893.8149 479.9856,-904.0272 486.9699,-903.5576\"/>\n</g>\n<!-- 28 -->\n<g id=\"node29\" class=\"node\">\n<title>28</title>\n<path fill=\"#f2c09c\" stroke=\"#000000\" d=\"M643,-901C643,-901 560,-901 560,-901 554,-901 548,-895 548,-889 548,-889 548,-830 548,-830 548,-824 554,-818 560,-818 560,-818 643,-818 643,-818 649,-818 655,-824 655,-830 655,-830 655,-889 655,-889 655,-895 649,-901 643,-901\"/>\n<text text-anchor=\"start\" x=\"556\" y=\"-885.8\" font-family=\"Helvetica,sans-Serif\" font-size=\"14.00\" fill=\"#000000\">college ≤ 0.14</text>\n<text text-anchor=\"start\" x=\"563.5\" y=\"-870.8\" font-family=\"Helvetica,sans-Serif\" font-size=\"14.00\" fill=\"#000000\">gini = 0.444</text>\n<text text-anchor=\"start\" x=\"562\" y=\"-855.8\" font-family=\"Helvetica,sans-Serif\" font-size=\"14.00\" fill=\"#000000\">samples = 3</text>\n<text text-anchor=\"start\" x=\"560\" y=\"-840.8\" font-family=\"Helvetica,sans-Serif\" font-size=\"14.00\" fill=\"#000000\">value = [2, 1]</text>\n<text text-anchor=\"start\" x=\"575\" y=\"-825.8\" font-family=\"Helvetica,sans-Serif\" font-size=\"14.00\" fill=\"#000000\">class = l</text>\n</g>\n<!-- 26&#45;&gt;28 -->\n<g id=\"edge28\" class=\"edge\">\n<title>26&#45;&gt;28</title>\n<path fill=\"none\" stroke=\"#000000\" d=\"M528.0219,-936.8796C536.6597,-927.7832 545.881,-918.0722 554.7697,-908.7116\"/>\n<polygon fill=\"#000000\" stroke=\"#000000\" points=\"557.4615,-910.9597 561.8094,-901.2981 552.3854,-906.1395 557.4615,-910.9597\"/>\n</g>\n<!-- 29 -->\n<g id=\"node30\" class=\"node\">\n<title>29</title>\n<path fill=\"#e58139\" stroke=\"#000000\" d=\"M623,-774.5C623,-774.5 548,-774.5 548,-774.5 542,-774.5 536,-768.5 536,-762.5 536,-762.5 536,-718.5 536,-718.5 536,-712.5 542,-706.5 548,-706.5 548,-706.5 623,-706.5 623,-706.5 629,-706.5 635,-712.5 635,-718.5 635,-718.5 635,-762.5 635,-762.5 635,-768.5 629,-774.5 623,-774.5\"/>\n<text text-anchor=\"start\" x=\"556\" y=\"-759.3\" font-family=\"Helvetica,sans-Serif\" font-size=\"14.00\" fill=\"#000000\">gini = 0.0</text>\n<text text-anchor=\"start\" x=\"546\" y=\"-744.3\" font-family=\"Helvetica,sans-Serif\" font-size=\"14.00\" fill=\"#000000\">samples = 1</text>\n<text text-anchor=\"start\" x=\"544\" y=\"-729.3\" font-family=\"Helvetica,sans-Serif\" font-size=\"14.00\" fill=\"#000000\">value = [1, 0]</text>\n<text text-anchor=\"start\" x=\"559\" y=\"-714.3\" font-family=\"Helvetica,sans-Serif\" font-size=\"14.00\" fill=\"#000000\">class = l</text>\n</g>\n<!-- 28&#45;&gt;29 -->\n<g id=\"edge29\" class=\"edge\">\n<title>28&#45;&gt;29</title>\n<path fill=\"none\" stroke=\"#000000\" d=\"M595.904,-817.8796C594.4699,-807.2134 592.9221,-795.7021 591.47,-784.9015\"/>\n<polygon fill=\"#000000\" stroke=\"#000000\" points=\"594.9152,-784.2593 590.1138,-774.8149 587.9776,-785.1922 594.9152,-784.2593\"/>\n</g>\n<!-- 30 -->\n<g id=\"node31\" class=\"node\">\n<title>30</title>\n<path fill=\"#ffffff\" stroke=\"#000000\" d=\"M740,-774.5C740,-774.5 665,-774.5 665,-774.5 659,-774.5 653,-768.5 653,-762.5 653,-762.5 653,-718.5 653,-718.5 653,-712.5 659,-706.5 665,-706.5 665,-706.5 740,-706.5 740,-706.5 746,-706.5 752,-712.5 752,-718.5 752,-718.5 752,-762.5 752,-762.5 752,-768.5 746,-774.5 740,-774.5\"/>\n<text text-anchor=\"start\" x=\"673\" y=\"-759.3\" font-family=\"Helvetica,sans-Serif\" font-size=\"14.00\" fill=\"#000000\">gini = 0.5</text>\n<text text-anchor=\"start\" x=\"663\" y=\"-744.3\" font-family=\"Helvetica,sans-Serif\" font-size=\"14.00\" fill=\"#000000\">samples = 2</text>\n<text text-anchor=\"start\" x=\"661\" y=\"-729.3\" font-family=\"Helvetica,sans-Serif\" font-size=\"14.00\" fill=\"#000000\">value = [1, 1]</text>\n<text text-anchor=\"start\" x=\"676\" y=\"-714.3\" font-family=\"Helvetica,sans-Serif\" font-size=\"14.00\" fill=\"#000000\">class = l</text>\n</g>\n<!-- 28&#45;&gt;30 -->\n<g id=\"edge30\" class=\"edge\">\n<title>28&#45;&gt;30</title>\n<path fill=\"none\" stroke=\"#000000\" d=\"M636.8249,-817.8796C646.531,-806.4436 657.0616,-794.0363 666.7893,-782.575\"/>\n<polygon fill=\"#000000\" stroke=\"#000000\" points=\"669.5731,-784.7039 673.3756,-774.8149 664.2362,-780.1743 669.5731,-784.7039\"/>\n</g>\n<!-- 32 -->\n<g id=\"node33\" class=\"node\">\n<title>32</title>\n<path fill=\"#399de5\" stroke=\"#000000\" d=\"M580,-1250.5C580,-1250.5 505,-1250.5 505,-1250.5 499,-1250.5 493,-1244.5 493,-1238.5 493,-1238.5 493,-1194.5 493,-1194.5 493,-1188.5 499,-1182.5 505,-1182.5 505,-1182.5 580,-1182.5 580,-1182.5 586,-1182.5 592,-1188.5 592,-1194.5 592,-1194.5 592,-1238.5 592,-1238.5 592,-1244.5 586,-1250.5 580,-1250.5\"/>\n<text text-anchor=\"start\" x=\"513\" y=\"-1235.3\" font-family=\"Helvetica,sans-Serif\" font-size=\"14.00\" fill=\"#000000\">gini = 0.0</text>\n<text text-anchor=\"start\" x=\"503\" y=\"-1220.3\" font-family=\"Helvetica,sans-Serif\" font-size=\"14.00\" fill=\"#000000\">samples = 1</text>\n<text text-anchor=\"start\" x=\"501\" y=\"-1205.3\" font-family=\"Helvetica,sans-Serif\" font-size=\"14.00\" fill=\"#000000\">value = [0, 1]</text>\n<text text-anchor=\"start\" x=\"513.5\" y=\"-1190.3\" font-family=\"Helvetica,sans-Serif\" font-size=\"14.00\" fill=\"#000000\">class = o</text>\n</g>\n<!-- 31&#45;&gt;32 -->\n<g id=\"edge32\" class=\"edge\">\n<title>31&#45;&gt;32</title>\n<path fill=\"none\" stroke=\"#000000\" d=\"M580.8647,-1293.8796C575.4128,-1282.8835 569.5157,-1270.9893 564.0184,-1259.9015\"/>\n<polygon fill=\"#000000\" stroke=\"#000000\" points=\"567.0911,-1258.2195 559.5133,-1250.8149 560.8196,-1261.3289 567.0911,-1258.2195\"/>\n</g>\n<!-- 33 -->\n<g id=\"node34\" class=\"node\">\n<title>33</title>\n<path fill=\"#f2c09c\" stroke=\"#000000\" d=\"M697,-1258C697,-1258 622,-1258 622,-1258 616,-1258 610,-1252 610,-1246 610,-1246 610,-1187 610,-1187 610,-1181 616,-1175 622,-1175 622,-1175 697,-1175 697,-1175 703,-1175 709,-1181 709,-1187 709,-1187 709,-1246 709,-1246 709,-1252 703,-1258 697,-1258\"/>\n<text text-anchor=\"start\" x=\"618.5\" y=\"-1242.8\" font-family=\"Helvetica,sans-Serif\" font-size=\"14.00\" fill=\"#000000\">age ≤ &#45;0.985</text>\n<text text-anchor=\"start\" x=\"621.5\" y=\"-1227.8\" font-family=\"Helvetica,sans-Serif\" font-size=\"14.00\" fill=\"#000000\">gini = 0.444</text>\n<text text-anchor=\"start\" x=\"620\" y=\"-1212.8\" font-family=\"Helvetica,sans-Serif\" font-size=\"14.00\" fill=\"#000000\">samples = 3</text>\n<text text-anchor=\"start\" x=\"618\" y=\"-1197.8\" font-family=\"Helvetica,sans-Serif\" font-size=\"14.00\" fill=\"#000000\">value = [2, 1]</text>\n<text text-anchor=\"start\" x=\"633\" y=\"-1182.8\" font-family=\"Helvetica,sans-Serif\" font-size=\"14.00\" fill=\"#000000\">class = l</text>\n</g>\n<!-- 31&#45;&gt;33 -->\n<g id=\"edge33\" class=\"edge\">\n<title>31&#45;&gt;33</title>\n<path fill=\"none\" stroke=\"#000000\" d=\"M621.7856,-1293.8796C625.9557,-1285.3236 630.3909,-1276.2238 634.6997,-1267.3833\"/>\n<polygon fill=\"#000000\" stroke=\"#000000\" points=\"637.8927,-1268.8207 639.1278,-1258.2981 631.6003,-1265.7538 637.8927,-1268.8207\"/>\n</g>\n<!-- 34 -->\n<g id=\"node35\" class=\"node\">\n<title>34</title>\n<path fill=\"#ffffff\" stroke=\"#000000\" d=\"M605,-1131.5C605,-1131.5 530,-1131.5 530,-1131.5 524,-1131.5 518,-1125.5 518,-1119.5 518,-1119.5 518,-1075.5 518,-1075.5 518,-1069.5 524,-1063.5 530,-1063.5 530,-1063.5 605,-1063.5 605,-1063.5 611,-1063.5 617,-1069.5 617,-1075.5 617,-1075.5 617,-1119.5 617,-1119.5 617,-1125.5 611,-1131.5 605,-1131.5\"/>\n<text text-anchor=\"start\" x=\"538\" y=\"-1116.3\" font-family=\"Helvetica,sans-Serif\" font-size=\"14.00\" fill=\"#000000\">gini = 0.5</text>\n<text text-anchor=\"start\" x=\"528\" y=\"-1101.3\" font-family=\"Helvetica,sans-Serif\" font-size=\"14.00\" fill=\"#000000\">samples = 2</text>\n<text text-anchor=\"start\" x=\"526\" y=\"-1086.3\" font-family=\"Helvetica,sans-Serif\" font-size=\"14.00\" fill=\"#000000\">value = [1, 1]</text>\n<text text-anchor=\"start\" x=\"541\" y=\"-1071.3\" font-family=\"Helvetica,sans-Serif\" font-size=\"14.00\" fill=\"#000000\">class = l</text>\n</g>\n<!-- 33&#45;&gt;34 -->\n<g id=\"edge34\" class=\"edge\">\n<title>33&#45;&gt;34</title>\n<path fill=\"none\" stroke=\"#000000\" d=\"M627.3229,-1174.8796C618.5667,-1163.5536 609.0738,-1151.2748 600.2844,-1139.9058\"/>\n<polygon fill=\"#000000\" stroke=\"#000000\" points=\"602.9146,-1137.5856 594.0292,-1131.8149 597.3766,-1141.8671 602.9146,-1137.5856\"/>\n</g>\n<!-- 35 -->\n<g id=\"node36\" class=\"node\">\n<title>35</title>\n<path fill=\"#e58139\" stroke=\"#000000\" d=\"M722,-1131.5C722,-1131.5 647,-1131.5 647,-1131.5 641,-1131.5 635,-1125.5 635,-1119.5 635,-1119.5 635,-1075.5 635,-1075.5 635,-1069.5 641,-1063.5 647,-1063.5 647,-1063.5 722,-1063.5 722,-1063.5 728,-1063.5 734,-1069.5 734,-1075.5 734,-1075.5 734,-1119.5 734,-1119.5 734,-1125.5 728,-1131.5 722,-1131.5\"/>\n<text text-anchor=\"start\" x=\"655\" y=\"-1116.3\" font-family=\"Helvetica,sans-Serif\" font-size=\"14.00\" fill=\"#000000\">gini = 0.0</text>\n<text text-anchor=\"start\" x=\"645\" y=\"-1101.3\" font-family=\"Helvetica,sans-Serif\" font-size=\"14.00\" fill=\"#000000\">samples = 1</text>\n<text text-anchor=\"start\" x=\"643\" y=\"-1086.3\" font-family=\"Helvetica,sans-Serif\" font-size=\"14.00\" fill=\"#000000\">value = [1, 0]</text>\n<text text-anchor=\"start\" x=\"658\" y=\"-1071.3\" font-family=\"Helvetica,sans-Serif\" font-size=\"14.00\" fill=\"#000000\">class = l</text>\n</g>\n<!-- 33&#45;&gt;35 -->\n<g id=\"edge35\" class=\"edge\">\n<title>33&#45;&gt;35</title>\n<path fill=\"none\" stroke=\"#000000\" d=\"M668.2438,-1174.8796C670.4846,-1164.2134 672.9029,-1152.7021 675.1719,-1141.9015\"/>\n<polygon fill=\"#000000\" stroke=\"#000000\" points=\"678.6602,-1142.3209 677.291,-1131.8149 671.8097,-1140.8817 678.6602,-1142.3209\"/>\n</g>\n<!-- 37 -->\n<g id=\"node38\" class=\"node\">\n<title>37</title>\n<path fill=\"#eeab7b\" stroke=\"#000000\" d=\"M1072.5,-1377C1072.5,-1377 970.5,-1377 970.5,-1377 964.5,-1377 958.5,-1371 958.5,-1365 958.5,-1365 958.5,-1306 958.5,-1306 958.5,-1300 964.5,-1294 970.5,-1294 970.5,-1294 1072.5,-1294 1072.5,-1294 1078.5,-1294 1084.5,-1300 1084.5,-1306 1084.5,-1306 1084.5,-1365 1084.5,-1365 1084.5,-1371 1078.5,-1377 1072.5,-1377\"/>\n<text text-anchor=\"start\" x=\"966.5\" y=\"-1361.8\" font-family=\"Helvetica,sans-Serif\" font-size=\"14.00\" fill=\"#000000\">Bechalor ≤ 1.119</text>\n<text text-anchor=\"start\" x=\"983.5\" y=\"-1346.8\" font-family=\"Helvetica,sans-Serif\" font-size=\"14.00\" fill=\"#000000\">gini = 0.375</text>\n<text text-anchor=\"start\" x=\"982\" y=\"-1331.8\" font-family=\"Helvetica,sans-Serif\" font-size=\"14.00\" fill=\"#000000\">samples = 8</text>\n<text text-anchor=\"start\" x=\"980\" y=\"-1316.8\" font-family=\"Helvetica,sans-Serif\" font-size=\"14.00\" fill=\"#000000\">value = [6, 2]</text>\n<text text-anchor=\"start\" x=\"995\" y=\"-1301.8\" font-family=\"Helvetica,sans-Serif\" font-size=\"14.00\" fill=\"#000000\">class = l</text>\n</g>\n<!-- 36&#45;&gt;37 -->\n<g id=\"edge37\" class=\"edge\">\n<title>36&#45;&gt;37</title>\n<path fill=\"none\" stroke=\"#000000\" d=\"M1068.9681,-1412.8796C1063.609,-1404.1434 1057.9021,-1394.8404 1052.3718,-1385.8253\"/>\n<polygon fill=\"#000000\" stroke=\"#000000\" points=\"1055.3533,-1383.9919 1047.1408,-1377.2981 1049.3865,-1387.6522 1055.3533,-1383.9919\"/>\n</g>\n<!-- 44 -->\n<g id=\"node45\" class=\"node\">\n<title>44</title>\n<path fill=\"#e5f2fc\" stroke=\"#000000\" d=\"M1218.5,-1377C1218.5,-1377 1114.5,-1377 1114.5,-1377 1108.5,-1377 1102.5,-1371 1102.5,-1365 1102.5,-1365 1102.5,-1306 1102.5,-1306 1102.5,-1300 1108.5,-1294 1114.5,-1294 1114.5,-1294 1218.5,-1294 1218.5,-1294 1224.5,-1294 1230.5,-1300 1230.5,-1306 1230.5,-1306 1230.5,-1365 1230.5,-1365 1230.5,-1371 1224.5,-1377 1218.5,-1377\"/>\n<text text-anchor=\"start\" x=\"1110.5\" y=\"-1361.8\" font-family=\"Helvetica,sans-Serif\" font-size=\"14.00\" fill=\"#000000\">Principal ≤ &#45;0.399</text>\n<text text-anchor=\"start\" x=\"1128.5\" y=\"-1346.8\" font-family=\"Helvetica,sans-Serif\" font-size=\"14.00\" fill=\"#000000\">gini = 0.497</text>\n<text text-anchor=\"start\" x=\"1122.5\" y=\"-1331.8\" font-family=\"Helvetica,sans-Serif\" font-size=\"14.00\" fill=\"#000000\">samples = 28</text>\n<text text-anchor=\"start\" x=\"1116.5\" y=\"-1316.8\" font-family=\"Helvetica,sans-Serif\" font-size=\"14.00\" fill=\"#000000\">value = [13, 15]</text>\n<text text-anchor=\"start\" x=\"1137.5\" y=\"-1301.8\" font-family=\"Helvetica,sans-Serif\" font-size=\"14.00\" fill=\"#000000\">class = o</text>\n</g>\n<!-- 36&#45;&gt;44 -->\n<g id=\"edge44\" class=\"edge\">\n<title>36&#45;&gt;44</title>\n<path fill=\"none\" stroke=\"#000000\" d=\"M1119.6821,-1412.8796C1124.9133,-1404.2335 1130.4805,-1395.0322 1135.8823,-1386.1042\"/>\n<polygon fill=\"#000000\" stroke=\"#000000\" points=\"1139.0283,-1387.6658 1141.2104,-1377.2981 1133.0392,-1384.0421 1139.0283,-1387.6658\"/>\n</g>\n<!-- 38 -->\n<g id=\"node39\" class=\"node\">\n<title>38</title>\n<path fill=\"#ea9a61\" stroke=\"#000000\" d=\"M956,-1258C956,-1258 881,-1258 881,-1258 875,-1258 869,-1252 869,-1246 869,-1246 869,-1187 869,-1187 869,-1181 875,-1175 881,-1175 881,-1175 956,-1175 956,-1175 962,-1175 968,-1181 968,-1187 968,-1187 968,-1246 968,-1246 968,-1252 962,-1258 956,-1258\"/>\n<text text-anchor=\"start\" x=\"877.5\" y=\"-1242.8\" font-family=\"Helvetica,sans-Serif\" font-size=\"14.00\" fill=\"#000000\">age ≤ &#45;1.565</text>\n<text text-anchor=\"start\" x=\"880.5\" y=\"-1227.8\" font-family=\"Helvetica,sans-Serif\" font-size=\"14.00\" fill=\"#000000\">gini = 0.278</text>\n<text text-anchor=\"start\" x=\"879\" y=\"-1212.8\" font-family=\"Helvetica,sans-Serif\" font-size=\"14.00\" fill=\"#000000\">samples = 6</text>\n<text text-anchor=\"start\" x=\"877\" y=\"-1197.8\" font-family=\"Helvetica,sans-Serif\" font-size=\"14.00\" fill=\"#000000\">value = [5, 1]</text>\n<text text-anchor=\"start\" x=\"892\" y=\"-1182.8\" font-family=\"Helvetica,sans-Serif\" font-size=\"14.00\" fill=\"#000000\">class = l</text>\n</g>\n<!-- 37&#45;&gt;38 -->\n<g id=\"edge38\" class=\"edge\">\n<title>37&#45;&gt;38</title>\n<path fill=\"none\" stroke=\"#000000\" d=\"M985.4756,-1293.8796C977.6802,-1284.8733 969.3633,-1275.2644 961.3356,-1265.9897\"/>\n<polygon fill=\"#000000\" stroke=\"#000000\" points=\"963.8691,-1263.5686 954.6782,-1258.2981 958.5763,-1268.1498 963.8691,-1263.5686\"/>\n</g>\n<!-- 41 -->\n<g id=\"node42\" class=\"node\">\n<title>41</title>\n<path fill=\"#ffffff\" stroke=\"#000000\" d=\"M1073,-1258C1073,-1258 998,-1258 998,-1258 992,-1258 986,-1252 986,-1246 986,-1246 986,-1187 986,-1187 986,-1181 992,-1175 998,-1175 998,-1175 1073,-1175 1073,-1175 1079,-1175 1085,-1181 1085,-1187 1085,-1187 1085,-1246 1085,-1246 1085,-1252 1079,-1258 1073,-1258\"/>\n<text text-anchor=\"start\" x=\"994.5\" y=\"-1242.8\" font-family=\"Helvetica,sans-Serif\" font-size=\"14.00\" fill=\"#000000\">age ≤ &#45;1.565</text>\n<text text-anchor=\"start\" x=\"1006\" y=\"-1227.8\" font-family=\"Helvetica,sans-Serif\" font-size=\"14.00\" fill=\"#000000\">gini = 0.5</text>\n<text text-anchor=\"start\" x=\"996\" y=\"-1212.8\" font-family=\"Helvetica,sans-Serif\" font-size=\"14.00\" fill=\"#000000\">samples = 2</text>\n<text text-anchor=\"start\" x=\"994\" y=\"-1197.8\" font-family=\"Helvetica,sans-Serif\" font-size=\"14.00\" fill=\"#000000\">value = [1, 1]</text>\n<text text-anchor=\"start\" x=\"1009\" y=\"-1182.8\" font-family=\"Helvetica,sans-Serif\" font-size=\"14.00\" fill=\"#000000\">class = l</text>\n</g>\n<!-- 37&#45;&gt;41 -->\n<g id=\"edge41\" class=\"edge\">\n<title>37&#45;&gt;41</title>\n<path fill=\"none\" stroke=\"#000000\" d=\"M1026.3965,-1293.8796C1027.3607,-1285.6838 1028.3836,-1276.9891 1029.3822,-1268.5013\"/>\n<polygon fill=\"#000000\" stroke=\"#000000\" points=\"1032.8901,-1268.6386 1030.5826,-1258.2981 1025.9381,-1267.8206 1032.8901,-1268.6386\"/>\n</g>\n<!-- 39 -->\n<g id=\"node40\" class=\"node\">\n<title>39</title>\n<path fill=\"#f2c09c\" stroke=\"#000000\" d=\"M839,-1131.5C839,-1131.5 764,-1131.5 764,-1131.5 758,-1131.5 752,-1125.5 752,-1119.5 752,-1119.5 752,-1075.5 752,-1075.5 752,-1069.5 758,-1063.5 764,-1063.5 764,-1063.5 839,-1063.5 839,-1063.5 845,-1063.5 851,-1069.5 851,-1075.5 851,-1075.5 851,-1119.5 851,-1119.5 851,-1125.5 845,-1131.5 839,-1131.5\"/>\n<text text-anchor=\"start\" x=\"763.5\" y=\"-1116.3\" font-family=\"Helvetica,sans-Serif\" font-size=\"14.00\" fill=\"#000000\">gini = 0.444</text>\n<text text-anchor=\"start\" x=\"762\" y=\"-1101.3\" font-family=\"Helvetica,sans-Serif\" font-size=\"14.00\" fill=\"#000000\">samples = 3</text>\n<text text-anchor=\"start\" x=\"760\" y=\"-1086.3\" font-family=\"Helvetica,sans-Serif\" font-size=\"14.00\" fill=\"#000000\">value = [2, 1]</text>\n<text text-anchor=\"start\" x=\"775\" y=\"-1071.3\" font-family=\"Helvetica,sans-Serif\" font-size=\"14.00\" fill=\"#000000\">class = l</text>\n</g>\n<!-- 38&#45;&gt;39 -->\n<g id=\"edge39\" class=\"edge\">\n<title>38&#45;&gt;39</title>\n<path fill=\"none\" stroke=\"#000000\" d=\"M877.5791,-1174.8796C866.2272,-1163.3337 853.9018,-1150.7976 842.543,-1139.2446\"/>\n<polygon fill=\"#000000\" stroke=\"#000000\" points=\"844.7449,-1136.4919 835.2382,-1131.8149 839.7534,-1141.3995 844.7449,-1136.4919\"/>\n</g>\n<!-- 40 -->\n<g id=\"node41\" class=\"node\">\n<title>40</title>\n<path fill=\"#e58139\" stroke=\"#000000\" d=\"M956,-1131.5C956,-1131.5 881,-1131.5 881,-1131.5 875,-1131.5 869,-1125.5 869,-1119.5 869,-1119.5 869,-1075.5 869,-1075.5 869,-1069.5 875,-1063.5 881,-1063.5 881,-1063.5 956,-1063.5 956,-1063.5 962,-1063.5 968,-1069.5 968,-1075.5 968,-1075.5 968,-1119.5 968,-1119.5 968,-1125.5 962,-1131.5 956,-1131.5\"/>\n<text text-anchor=\"start\" x=\"889\" y=\"-1116.3\" font-family=\"Helvetica,sans-Serif\" font-size=\"14.00\" fill=\"#000000\">gini = 0.0</text>\n<text text-anchor=\"start\" x=\"879\" y=\"-1101.3\" font-family=\"Helvetica,sans-Serif\" font-size=\"14.00\" fill=\"#000000\">samples = 3</text>\n<text text-anchor=\"start\" x=\"877\" y=\"-1086.3\" font-family=\"Helvetica,sans-Serif\" font-size=\"14.00\" fill=\"#000000\">value = [3, 0]</text>\n<text text-anchor=\"start\" x=\"892\" y=\"-1071.3\" font-family=\"Helvetica,sans-Serif\" font-size=\"14.00\" fill=\"#000000\">class = l</text>\n</g>\n<!-- 38&#45;&gt;40 -->\n<g id=\"edge40\" class=\"edge\">\n<title>38&#45;&gt;40</title>\n<path fill=\"none\" stroke=\"#000000\" d=\"M918.5,-1174.8796C918.5,-1164.2134 918.5,-1152.7021 918.5,-1141.9015\"/>\n<polygon fill=\"#000000\" stroke=\"#000000\" points=\"922.0001,-1141.8149 918.5,-1131.8149 915.0001,-1141.815 922.0001,-1141.8149\"/>\n</g>\n<!-- 42 -->\n<g id=\"node43\" class=\"node\">\n<title>42</title>\n<path fill=\"#e58139\" stroke=\"#000000\" d=\"M1073,-1131.5C1073,-1131.5 998,-1131.5 998,-1131.5 992,-1131.5 986,-1125.5 986,-1119.5 986,-1119.5 986,-1075.5 986,-1075.5 986,-1069.5 992,-1063.5 998,-1063.5 998,-1063.5 1073,-1063.5 1073,-1063.5 1079,-1063.5 1085,-1069.5 1085,-1075.5 1085,-1075.5 1085,-1119.5 1085,-1119.5 1085,-1125.5 1079,-1131.5 1073,-1131.5\"/>\n<text text-anchor=\"start\" x=\"1006\" y=\"-1116.3\" font-family=\"Helvetica,sans-Serif\" font-size=\"14.00\" fill=\"#000000\">gini = 0.0</text>\n<text text-anchor=\"start\" x=\"996\" y=\"-1101.3\" font-family=\"Helvetica,sans-Serif\" font-size=\"14.00\" fill=\"#000000\">samples = 1</text>\n<text text-anchor=\"start\" x=\"994\" y=\"-1086.3\" font-family=\"Helvetica,sans-Serif\" font-size=\"14.00\" fill=\"#000000\">value = [1, 0]</text>\n<text text-anchor=\"start\" x=\"1009\" y=\"-1071.3\" font-family=\"Helvetica,sans-Serif\" font-size=\"14.00\" fill=\"#000000\">class = l</text>\n</g>\n<!-- 41&#45;&gt;42 -->\n<g id=\"edge42\" class=\"edge\">\n<title>41&#45;&gt;42</title>\n<path fill=\"none\" stroke=\"#000000\" d=\"M1035.5,-1174.8796C1035.5,-1164.2134 1035.5,-1152.7021 1035.5,-1141.9015\"/>\n<polygon fill=\"#000000\" stroke=\"#000000\" points=\"1039.0001,-1141.8149 1035.5,-1131.8149 1032.0001,-1141.815 1039.0001,-1141.8149\"/>\n</g>\n<!-- 43 -->\n<g id=\"node44\" class=\"node\">\n<title>43</title>\n<path fill=\"#399de5\" stroke=\"#000000\" d=\"M1190,-1131.5C1190,-1131.5 1115,-1131.5 1115,-1131.5 1109,-1131.5 1103,-1125.5 1103,-1119.5 1103,-1119.5 1103,-1075.5 1103,-1075.5 1103,-1069.5 1109,-1063.5 1115,-1063.5 1115,-1063.5 1190,-1063.5 1190,-1063.5 1196,-1063.5 1202,-1069.5 1202,-1075.5 1202,-1075.5 1202,-1119.5 1202,-1119.5 1202,-1125.5 1196,-1131.5 1190,-1131.5\"/>\n<text text-anchor=\"start\" x=\"1123\" y=\"-1116.3\" font-family=\"Helvetica,sans-Serif\" font-size=\"14.00\" fill=\"#000000\">gini = 0.0</text>\n<text text-anchor=\"start\" x=\"1113\" y=\"-1101.3\" font-family=\"Helvetica,sans-Serif\" font-size=\"14.00\" fill=\"#000000\">samples = 1</text>\n<text text-anchor=\"start\" x=\"1111\" y=\"-1086.3\" font-family=\"Helvetica,sans-Serif\" font-size=\"14.00\" fill=\"#000000\">value = [0, 1]</text>\n<text text-anchor=\"start\" x=\"1123.5\" y=\"-1071.3\" font-family=\"Helvetica,sans-Serif\" font-size=\"14.00\" fill=\"#000000\">class = o</text>\n</g>\n<!-- 41&#45;&gt;43 -->\n<g id=\"edge43\" class=\"edge\">\n<title>41&#45;&gt;43</title>\n<path fill=\"none\" stroke=\"#000000\" d=\"M1076.4209,-1174.8796C1087.7728,-1163.3337 1100.0982,-1150.7976 1111.457,-1139.2446\"/>\n<polygon fill=\"#000000\" stroke=\"#000000\" points=\"1114.2466,-1141.3995 1118.7618,-1131.8149 1109.2551,-1136.4919 1114.2466,-1141.3995\"/>\n</g>\n<!-- 45 -->\n<g id=\"node46\" class=\"node\">\n<title>45</title>\n<path fill=\"#e58139\" stroke=\"#000000\" d=\"M1197,-1250.5C1197,-1250.5 1122,-1250.5 1122,-1250.5 1116,-1250.5 1110,-1244.5 1110,-1238.5 1110,-1238.5 1110,-1194.5 1110,-1194.5 1110,-1188.5 1116,-1182.5 1122,-1182.5 1122,-1182.5 1197,-1182.5 1197,-1182.5 1203,-1182.5 1209,-1188.5 1209,-1194.5 1209,-1194.5 1209,-1238.5 1209,-1238.5 1209,-1244.5 1203,-1250.5 1197,-1250.5\"/>\n<text text-anchor=\"start\" x=\"1130\" y=\"-1235.3\" font-family=\"Helvetica,sans-Serif\" font-size=\"14.00\" fill=\"#000000\">gini = 0.0</text>\n<text text-anchor=\"start\" x=\"1120\" y=\"-1220.3\" font-family=\"Helvetica,sans-Serif\" font-size=\"14.00\" fill=\"#000000\">samples = 1</text>\n<text text-anchor=\"start\" x=\"1118\" y=\"-1205.3\" font-family=\"Helvetica,sans-Serif\" font-size=\"14.00\" fill=\"#000000\">value = [1, 0]</text>\n<text text-anchor=\"start\" x=\"1133\" y=\"-1190.3\" font-family=\"Helvetica,sans-Serif\" font-size=\"14.00\" fill=\"#000000\">class = l</text>\n</g>\n<!-- 44&#45;&gt;45 -->\n<g id=\"edge45\" class=\"edge\">\n<title>44&#45;&gt;45</title>\n<path fill=\"none\" stroke=\"#000000\" d=\"M1164.0517,-1293.8796C1163.4243,-1283.2134 1162.7472,-1271.7021 1162.1119,-1260.9015\"/>\n<polygon fill=\"#000000\" stroke=\"#000000\" points=\"1165.5998,-1260.5921 1161.5185,-1250.8149 1158.6119,-1261.0032 1165.5998,-1260.5921\"/>\n</g>\n<!-- 46 -->\n<g id=\"node47\" class=\"node\">\n<title>46</title>\n<path fill=\"#d7ebfa\" stroke=\"#000000\" d=\"M1422,-1258C1422,-1258 1239,-1258 1239,-1258 1233,-1258 1227,-1252 1227,-1246 1227,-1246 1227,-1187 1227,-1187 1227,-1181 1233,-1175 1239,-1175 1239,-1175 1422,-1175 1422,-1175 1428,-1175 1434,-1181 1434,-1187 1434,-1187 1434,-1246 1434,-1246 1434,-1252 1428,-1258 1422,-1258\"/>\n<text text-anchor=\"start\" x=\"1235\" y=\"-1242.8\" font-family=\"Helvetica,sans-Serif\" font-size=\"14.00\" fill=\"#000000\">High School or Below ≤ 0.128</text>\n<text text-anchor=\"start\" x=\"1292.5\" y=\"-1227.8\" font-family=\"Helvetica,sans-Serif\" font-size=\"14.00\" fill=\"#000000\">gini = 0.494</text>\n<text text-anchor=\"start\" x=\"1286.5\" y=\"-1212.8\" font-family=\"Helvetica,sans-Serif\" font-size=\"14.00\" fill=\"#000000\">samples = 27</text>\n<text text-anchor=\"start\" x=\"1280.5\" y=\"-1197.8\" font-family=\"Helvetica,sans-Serif\" font-size=\"14.00\" fill=\"#000000\">value = [12, 15]</text>\n<text text-anchor=\"start\" x=\"1301.5\" y=\"-1182.8\" font-family=\"Helvetica,sans-Serif\" font-size=\"14.00\" fill=\"#000000\">class = o</text>\n</g>\n<!-- 44&#45;&gt;46 -->\n<g id=\"edge46\" class=\"edge\">\n<title>44&#45;&gt;46</title>\n<path fill=\"none\" stroke=\"#000000\" d=\"M1223.8592,-1293.8796C1237.0925,-1284.2774 1251.2697,-1273.9903 1264.8264,-1264.1534\"/>\n<polygon fill=\"#000000\" stroke=\"#000000\" points=\"1267.1349,-1266.8027 1273.1731,-1258.0969 1263.0238,-1261.1371 1267.1349,-1266.8027\"/>\n</g>\n<!-- 47 -->\n<g id=\"node48\" class=\"node\">\n<title>47</title>\n<path fill=\"#ffffff\" stroke=\"#000000\" d=\"M1312.5,-1139C1312.5,-1139 1232.5,-1139 1232.5,-1139 1226.5,-1139 1220.5,-1133 1220.5,-1127 1220.5,-1127 1220.5,-1068 1220.5,-1068 1220.5,-1062 1226.5,-1056 1232.5,-1056 1232.5,-1056 1312.5,-1056 1312.5,-1056 1318.5,-1056 1324.5,-1062 1324.5,-1068 1324.5,-1068 1324.5,-1127 1324.5,-1127 1324.5,-1133 1318.5,-1139 1312.5,-1139\"/>\n<text text-anchor=\"start\" x=\"1231.5\" y=\"-1123.8\" font-family=\"Helvetica,sans-Serif\" font-size=\"14.00\" fill=\"#000000\">age ≤ &#45;0.902</text>\n<text text-anchor=\"start\" x=\"1243\" y=\"-1108.8\" font-family=\"Helvetica,sans-Serif\" font-size=\"14.00\" fill=\"#000000\">gini = 0.5</text>\n<text text-anchor=\"start\" x=\"1228.5\" y=\"-1093.8\" font-family=\"Helvetica,sans-Serif\" font-size=\"14.00\" fill=\"#000000\">samples = 14</text>\n<text text-anchor=\"start\" x=\"1231\" y=\"-1078.8\" font-family=\"Helvetica,sans-Serif\" font-size=\"14.00\" fill=\"#000000\">value = [7, 7]</text>\n<text text-anchor=\"start\" x=\"1246\" y=\"-1063.8\" font-family=\"Helvetica,sans-Serif\" font-size=\"14.00\" fill=\"#000000\">class = l</text>\n</g>\n<!-- 46&#45;&gt;47 -->\n<g id=\"edge47\" class=\"edge\">\n<title>46&#45;&gt;47</title>\n<path fill=\"none\" stroke=\"#000000\" d=\"M1310.2144,-1174.8796C1306.0443,-1166.3236 1301.6091,-1157.2238 1297.3003,-1148.3833\"/>\n<polygon fill=\"#000000\" stroke=\"#000000\" points=\"1300.3997,-1146.7538 1292.8722,-1139.2981 1294.1073,-1149.8207 1300.3997,-1146.7538\"/>\n</g>\n<!-- 54 -->\n<g id=\"node55\" class=\"node\">\n<title>54</title>\n<path fill=\"#b5daf5\" stroke=\"#000000\" d=\"M1462.5,-1139C1462.5,-1139 1382.5,-1139 1382.5,-1139 1376.5,-1139 1370.5,-1133 1370.5,-1127 1370.5,-1127 1370.5,-1068 1370.5,-1068 1370.5,-1062 1376.5,-1056 1382.5,-1056 1382.5,-1056 1462.5,-1056 1462.5,-1056 1468.5,-1056 1474.5,-1062 1474.5,-1068 1474.5,-1068 1474.5,-1127 1474.5,-1127 1474.5,-1133 1468.5,-1139 1462.5,-1139\"/>\n<text text-anchor=\"start\" x=\"1381.5\" y=\"-1123.8\" font-family=\"Helvetica,sans-Serif\" font-size=\"14.00\" fill=\"#000000\">age ≤ &#45;1.068</text>\n<text text-anchor=\"start\" x=\"1384.5\" y=\"-1108.8\" font-family=\"Helvetica,sans-Serif\" font-size=\"14.00\" fill=\"#000000\">gini = 0.473</text>\n<text text-anchor=\"start\" x=\"1378.5\" y=\"-1093.8\" font-family=\"Helvetica,sans-Serif\" font-size=\"14.00\" fill=\"#000000\">samples = 13</text>\n<text text-anchor=\"start\" x=\"1381\" y=\"-1078.8\" font-family=\"Helvetica,sans-Serif\" font-size=\"14.00\" fill=\"#000000\">value = [5, 8]</text>\n<text text-anchor=\"start\" x=\"1393.5\" y=\"-1063.8\" font-family=\"Helvetica,sans-Serif\" font-size=\"14.00\" fill=\"#000000\">class = o</text>\n</g>\n<!-- 46&#45;&gt;54 -->\n<g id=\"edge54\" class=\"edge\">\n<title>46&#45;&gt;54</title>\n<path fill=\"none\" stroke=\"#000000\" d=\"M1362.6771,-1174.8796C1369.5704,-1165.9633 1376.9202,-1156.4565 1384.0239,-1147.268\"/>\n<polygon fill=\"#000000\" stroke=\"#000000\" points=\"1386.8381,-1149.3502 1390.1855,-1139.2981 1381.3001,-1145.0687 1386.8381,-1149.3502\"/>\n</g>\n<!-- 48 -->\n<g id=\"node49\" class=\"node\">\n<title>48</title>\n<path fill=\"#9ccef2\" stroke=\"#000000\" d=\"M1048,-1020C1048,-1020 973,-1020 973,-1020 967,-1020 961,-1014 961,-1008 961,-1008 961,-949 961,-949 961,-943 967,-937 973,-937 973,-937 1048,-937 1048,-937 1054,-937 1060,-943 1060,-949 1060,-949 1060,-1008 1060,-1008 1060,-1014 1054,-1020 1048,-1020\"/>\n<text text-anchor=\"start\" x=\"969.5\" y=\"-1004.8\" font-family=\"Helvetica,sans-Serif\" font-size=\"14.00\" fill=\"#000000\">age ≤ &#45;1.068</text>\n<text text-anchor=\"start\" x=\"972.5\" y=\"-989.8\" font-family=\"Helvetica,sans-Serif\" font-size=\"14.00\" fill=\"#000000\">gini = 0.444</text>\n<text text-anchor=\"start\" x=\"971\" y=\"-974.8\" font-family=\"Helvetica,sans-Serif\" font-size=\"14.00\" fill=\"#000000\">samples = 6</text>\n<text text-anchor=\"start\" x=\"969\" y=\"-959.8\" font-family=\"Helvetica,sans-Serif\" font-size=\"14.00\" fill=\"#000000\">value = [2, 4]</text>\n<text text-anchor=\"start\" x=\"981.5\" y=\"-944.8\" font-family=\"Helvetica,sans-Serif\" font-size=\"14.00\" fill=\"#000000\">class = o</text>\n</g>\n<!-- 47&#45;&gt;48 -->\n<g id=\"edge48\" class=\"edge\">\n<title>47&#45;&gt;48</title>\n<path fill=\"none\" stroke=\"#000000\" d=\"M1220.2188,-1061.3644C1216.9725,-1059.4783 1213.7173,-1057.674 1210.5,-1056 1164.9327,-1032.2903 1110.4035,-1011.6303 1069.8004,-997.6174\"/>\n<polygon fill=\"#000000\" stroke=\"#000000\" points=\"1070.9099,-994.2979 1060.3154,-994.3772 1068.647,-1000.922 1070.9099,-994.2979\"/>\n</g>\n<!-- 51 -->\n<g id=\"node52\" class=\"node\">\n<title>51</title>\n<path fill=\"#f5cdb0\" stroke=\"#000000\" d=\"M1286,-1020C1286,-1020 1203,-1020 1203,-1020 1197,-1020 1191,-1014 1191,-1008 1191,-1008 1191,-949 1191,-949 1191,-943 1197,-937 1203,-937 1203,-937 1286,-937 1286,-937 1292,-937 1298,-943 1298,-949 1298,-949 1298,-1008 1298,-1008 1298,-1014 1292,-1020 1286,-1020\"/>\n<text text-anchor=\"start\" x=\"1199\" y=\"-1004.8\" font-family=\"Helvetica,sans-Serif\" font-size=\"14.00\" fill=\"#000000\">college ≤ 0.14</text>\n<text text-anchor=\"start\" x=\"1206.5\" y=\"-989.8\" font-family=\"Helvetica,sans-Serif\" font-size=\"14.00\" fill=\"#000000\">gini = 0.469</text>\n<text text-anchor=\"start\" x=\"1205\" y=\"-974.8\" font-family=\"Helvetica,sans-Serif\" font-size=\"14.00\" fill=\"#000000\">samples = 8</text>\n<text text-anchor=\"start\" x=\"1203\" y=\"-959.8\" font-family=\"Helvetica,sans-Serif\" font-size=\"14.00\" fill=\"#000000\">value = [5, 3]</text>\n<text text-anchor=\"start\" x=\"1218\" y=\"-944.8\" font-family=\"Helvetica,sans-Serif\" font-size=\"14.00\" fill=\"#000000\">class = l</text>\n</g>\n<!-- 47&#45;&gt;51 -->\n<g id=\"edge51\" class=\"edge\">\n<title>47&#45;&gt;51</title>\n<path fill=\"none\" stroke=\"#000000\" d=\"M1262.707,-1055.8796C1260.7574,-1047.5938 1258.6878,-1038.798 1256.6698,-1030.2216\"/>\n<polygon fill=\"#000000\" stroke=\"#000000\" points=\"1260.0323,-1029.2306 1254.3348,-1020.2981 1253.2183,-1030.8339 1260.0323,-1029.2306\"/>\n</g>\n<!-- 49 -->\n<g id=\"node50\" class=\"node\">\n<title>49</title>\n<path fill=\"#ffffff\" stroke=\"#000000\" d=\"M931,-893.5C931,-893.5 856,-893.5 856,-893.5 850,-893.5 844,-887.5 844,-881.5 844,-881.5 844,-837.5 844,-837.5 844,-831.5 850,-825.5 856,-825.5 856,-825.5 931,-825.5 931,-825.5 937,-825.5 943,-831.5 943,-837.5 943,-837.5 943,-881.5 943,-881.5 943,-887.5 937,-893.5 931,-893.5\"/>\n<text text-anchor=\"start\" x=\"864\" y=\"-878.3\" font-family=\"Helvetica,sans-Serif\" font-size=\"14.00\" fill=\"#000000\">gini = 0.5</text>\n<text text-anchor=\"start\" x=\"854\" y=\"-863.3\" font-family=\"Helvetica,sans-Serif\" font-size=\"14.00\" fill=\"#000000\">samples = 4</text>\n<text text-anchor=\"start\" x=\"852\" y=\"-848.3\" font-family=\"Helvetica,sans-Serif\" font-size=\"14.00\" fill=\"#000000\">value = [2, 2]</text>\n<text text-anchor=\"start\" x=\"867\" y=\"-833.3\" font-family=\"Helvetica,sans-Serif\" font-size=\"14.00\" fill=\"#000000\">class = l</text>\n</g>\n<!-- 48&#45;&gt;49 -->\n<g id=\"edge49\" class=\"edge\">\n<title>48&#45;&gt;49</title>\n<path fill=\"none\" stroke=\"#000000\" d=\"M969.5791,-936.8796C958.2272,-925.3337 945.9018,-912.7976 934.543,-901.2446\"/>\n<polygon fill=\"#000000\" stroke=\"#000000\" points=\"936.7449,-898.4919 927.2382,-893.8149 931.7534,-903.3995 936.7449,-898.4919\"/>\n</g>\n<!-- 50 -->\n<g id=\"node51\" class=\"node\">\n<title>50</title>\n<path fill=\"#399de5\" stroke=\"#000000\" d=\"M1048,-893.5C1048,-893.5 973,-893.5 973,-893.5 967,-893.5 961,-887.5 961,-881.5 961,-881.5 961,-837.5 961,-837.5 961,-831.5 967,-825.5 973,-825.5 973,-825.5 1048,-825.5 1048,-825.5 1054,-825.5 1060,-831.5 1060,-837.5 1060,-837.5 1060,-881.5 1060,-881.5 1060,-887.5 1054,-893.5 1048,-893.5\"/>\n<text text-anchor=\"start\" x=\"981\" y=\"-878.3\" font-family=\"Helvetica,sans-Serif\" font-size=\"14.00\" fill=\"#000000\">gini = 0.0</text>\n<text text-anchor=\"start\" x=\"971\" y=\"-863.3\" font-family=\"Helvetica,sans-Serif\" font-size=\"14.00\" fill=\"#000000\">samples = 2</text>\n<text text-anchor=\"start\" x=\"969\" y=\"-848.3\" font-family=\"Helvetica,sans-Serif\" font-size=\"14.00\" fill=\"#000000\">value = [0, 2]</text>\n<text text-anchor=\"start\" x=\"981.5\" y=\"-833.3\" font-family=\"Helvetica,sans-Serif\" font-size=\"14.00\" fill=\"#000000\">class = o</text>\n</g>\n<!-- 48&#45;&gt;50 -->\n<g id=\"edge50\" class=\"edge\">\n<title>48&#45;&gt;50</title>\n<path fill=\"none\" stroke=\"#000000\" d=\"M1010.5,-936.8796C1010.5,-926.2134 1010.5,-914.7021 1010.5,-903.9015\"/>\n<polygon fill=\"#000000\" stroke=\"#000000\" points=\"1014.0001,-903.8149 1010.5,-893.8149 1007.0001,-903.815 1014.0001,-903.8149\"/>\n</g>\n<!-- 52 -->\n<g id=\"node53\" class=\"node\">\n<title>52</title>\n<path fill=\"#ffffff\" stroke=\"#000000\" d=\"M1165,-893.5C1165,-893.5 1090,-893.5 1090,-893.5 1084,-893.5 1078,-887.5 1078,-881.5 1078,-881.5 1078,-837.5 1078,-837.5 1078,-831.5 1084,-825.5 1090,-825.5 1090,-825.5 1165,-825.5 1165,-825.5 1171,-825.5 1177,-831.5 1177,-837.5 1177,-837.5 1177,-881.5 1177,-881.5 1177,-887.5 1171,-893.5 1165,-893.5\"/>\n<text text-anchor=\"start\" x=\"1098\" y=\"-878.3\" font-family=\"Helvetica,sans-Serif\" font-size=\"14.00\" fill=\"#000000\">gini = 0.5</text>\n<text text-anchor=\"start\" x=\"1088\" y=\"-863.3\" font-family=\"Helvetica,sans-Serif\" font-size=\"14.00\" fill=\"#000000\">samples = 2</text>\n<text text-anchor=\"start\" x=\"1086\" y=\"-848.3\" font-family=\"Helvetica,sans-Serif\" font-size=\"14.00\" fill=\"#000000\">value = [1, 1]</text>\n<text text-anchor=\"start\" x=\"1101\" y=\"-833.3\" font-family=\"Helvetica,sans-Serif\" font-size=\"14.00\" fill=\"#000000\">class = l</text>\n</g>\n<!-- 51&#45;&gt;52 -->\n<g id=\"edge52\" class=\"edge\">\n<title>51&#45;&gt;52</title>\n<path fill=\"none\" stroke=\"#000000\" d=\"M1203.5791,-936.8796C1192.2272,-925.3337 1179.9018,-912.7976 1168.543,-901.2446\"/>\n<polygon fill=\"#000000\" stroke=\"#000000\" points=\"1170.7449,-898.4919 1161.2382,-893.8149 1165.7534,-903.3995 1170.7449,-898.4919\"/>\n</g>\n<!-- 53 -->\n<g id=\"node54\" class=\"node\">\n<title>53</title>\n<path fill=\"#f2c09c\" stroke=\"#000000\" d=\"M1282,-893.5C1282,-893.5 1207,-893.5 1207,-893.5 1201,-893.5 1195,-887.5 1195,-881.5 1195,-881.5 1195,-837.5 1195,-837.5 1195,-831.5 1201,-825.5 1207,-825.5 1207,-825.5 1282,-825.5 1282,-825.5 1288,-825.5 1294,-831.5 1294,-837.5 1294,-837.5 1294,-881.5 1294,-881.5 1294,-887.5 1288,-893.5 1282,-893.5\"/>\n<text text-anchor=\"start\" x=\"1206.5\" y=\"-878.3\" font-family=\"Helvetica,sans-Serif\" font-size=\"14.00\" fill=\"#000000\">gini = 0.444</text>\n<text text-anchor=\"start\" x=\"1205\" y=\"-863.3\" font-family=\"Helvetica,sans-Serif\" font-size=\"14.00\" fill=\"#000000\">samples = 6</text>\n<text text-anchor=\"start\" x=\"1203\" y=\"-848.3\" font-family=\"Helvetica,sans-Serif\" font-size=\"14.00\" fill=\"#000000\">value = [4, 2]</text>\n<text text-anchor=\"start\" x=\"1218\" y=\"-833.3\" font-family=\"Helvetica,sans-Serif\" font-size=\"14.00\" fill=\"#000000\">class = l</text>\n</g>\n<!-- 51&#45;&gt;53 -->\n<g id=\"edge53\" class=\"edge\">\n<title>51&#45;&gt;53</title>\n<path fill=\"none\" stroke=\"#000000\" d=\"M1244.5,-936.8796C1244.5,-926.2134 1244.5,-914.7021 1244.5,-903.9015\"/>\n<polygon fill=\"#000000\" stroke=\"#000000\" points=\"1248.0001,-903.8149 1244.5,-893.8149 1241.0001,-903.815 1248.0001,-903.8149\"/>\n</g>\n<!-- 55 -->\n<g id=\"node56\" class=\"node\">\n<title>55</title>\n<path fill=\"#ffffff\" stroke=\"#000000\" d=\"M1460,-1020C1460,-1020 1385,-1020 1385,-1020 1379,-1020 1373,-1014 1373,-1008 1373,-1008 1373,-949 1373,-949 1373,-943 1379,-937 1385,-937 1385,-937 1460,-937 1460,-937 1466,-937 1472,-943 1472,-949 1472,-949 1472,-1008 1472,-1008 1472,-1014 1466,-1020 1460,-1020\"/>\n<text text-anchor=\"start\" x=\"1381.5\" y=\"-1004.8\" font-family=\"Helvetica,sans-Serif\" font-size=\"14.00\" fill=\"#000000\">age ≤ &#45;1.234</text>\n<text text-anchor=\"start\" x=\"1393\" y=\"-989.8\" font-family=\"Helvetica,sans-Serif\" font-size=\"14.00\" fill=\"#000000\">gini = 0.5</text>\n<text text-anchor=\"start\" x=\"1383\" y=\"-974.8\" font-family=\"Helvetica,sans-Serif\" font-size=\"14.00\" fill=\"#000000\">samples = 4</text>\n<text text-anchor=\"start\" x=\"1381\" y=\"-959.8\" font-family=\"Helvetica,sans-Serif\" font-size=\"14.00\" fill=\"#000000\">value = [2, 2]</text>\n<text text-anchor=\"start\" x=\"1396\" y=\"-944.8\" font-family=\"Helvetica,sans-Serif\" font-size=\"14.00\" fill=\"#000000\">class = l</text>\n</g>\n<!-- 54&#45;&gt;55 -->\n<g id=\"edge55\" class=\"edge\">\n<title>54&#45;&gt;55</title>\n<path fill=\"none\" stroke=\"#000000\" d=\"M1422.5,-1055.8796C1422.5,-1047.6838 1422.5,-1038.9891 1422.5,-1030.5013\"/>\n<polygon fill=\"#000000\" stroke=\"#000000\" points=\"1426.0001,-1030.298 1422.5,-1020.2981 1419.0001,-1030.2981 1426.0001,-1030.298\"/>\n</g>\n<!-- 58 -->\n<g id=\"node59\" class=\"node\">\n<title>58</title>\n<path fill=\"#9ccef2\" stroke=\"#000000\" d=\"M1633,-1020C1633,-1020 1558,-1020 1558,-1020 1552,-1020 1546,-1014 1546,-1008 1546,-1008 1546,-949 1546,-949 1546,-943 1552,-937 1558,-937 1558,-937 1633,-937 1633,-937 1639,-937 1645,-943 1645,-949 1645,-949 1645,-1008 1645,-1008 1645,-1014 1639,-1020 1633,-1020\"/>\n<text text-anchor=\"start\" x=\"1554.5\" y=\"-1004.8\" font-family=\"Helvetica,sans-Serif\" font-size=\"14.00\" fill=\"#000000\">age ≤ &#45;0.902</text>\n<text text-anchor=\"start\" x=\"1557.5\" y=\"-989.8\" font-family=\"Helvetica,sans-Serif\" font-size=\"14.00\" fill=\"#000000\">gini = 0.444</text>\n<text text-anchor=\"start\" x=\"1556\" y=\"-974.8\" font-family=\"Helvetica,sans-Serif\" font-size=\"14.00\" fill=\"#000000\">samples = 9</text>\n<text text-anchor=\"start\" x=\"1554\" y=\"-959.8\" font-family=\"Helvetica,sans-Serif\" font-size=\"14.00\" fill=\"#000000\">value = [3, 6]</text>\n<text text-anchor=\"start\" x=\"1566.5\" y=\"-944.8\" font-family=\"Helvetica,sans-Serif\" font-size=\"14.00\" fill=\"#000000\">class = o</text>\n</g>\n<!-- 54&#45;&gt;58 -->\n<g id=\"edge58\" class=\"edge\">\n<title>54&#45;&gt;58</title>\n<path fill=\"none\" stroke=\"#000000\" d=\"M1474.8752,-1061.4731C1494.7166,-1047.825 1517.4109,-1032.2145 1537.7219,-1018.2433\"/>\n<polygon fill=\"#000000\" stroke=\"#000000\" points=\"1539.7122,-1021.1224 1545.9677,-1012.5714 1535.7451,-1015.3551 1539.7122,-1021.1224\"/>\n</g>\n<!-- 56 -->\n<g id=\"node57\" class=\"node\">\n<title>56</title>\n<path fill=\"#9ccef2\" stroke=\"#000000\" d=\"M1399,-893.5C1399,-893.5 1324,-893.5 1324,-893.5 1318,-893.5 1312,-887.5 1312,-881.5 1312,-881.5 1312,-837.5 1312,-837.5 1312,-831.5 1318,-825.5 1324,-825.5 1324,-825.5 1399,-825.5 1399,-825.5 1405,-825.5 1411,-831.5 1411,-837.5 1411,-837.5 1411,-881.5 1411,-881.5 1411,-887.5 1405,-893.5 1399,-893.5\"/>\n<text text-anchor=\"start\" x=\"1323.5\" y=\"-878.3\" font-family=\"Helvetica,sans-Serif\" font-size=\"14.00\" fill=\"#000000\">gini = 0.444</text>\n<text text-anchor=\"start\" x=\"1322\" y=\"-863.3\" font-family=\"Helvetica,sans-Serif\" font-size=\"14.00\" fill=\"#000000\">samples = 3</text>\n<text text-anchor=\"start\" x=\"1320\" y=\"-848.3\" font-family=\"Helvetica,sans-Serif\" font-size=\"14.00\" fill=\"#000000\">value = [1, 2]</text>\n<text text-anchor=\"start\" x=\"1332.5\" y=\"-833.3\" font-family=\"Helvetica,sans-Serif\" font-size=\"14.00\" fill=\"#000000\">class = o</text>\n</g>\n<!-- 55&#45;&gt;56 -->\n<g id=\"edge56\" class=\"edge\">\n<title>55&#45;&gt;56</title>\n<path fill=\"none\" stroke=\"#000000\" d=\"M1401.1652,-936.8796C1395.5285,-925.8835 1389.4315,-913.9893 1383.7478,-902.9015\"/>\n<polygon fill=\"#000000\" stroke=\"#000000\" points=\"1386.7663,-901.1173 1379.09,-893.8149 1380.5371,-904.3105 1386.7663,-901.1173\"/>\n</g>\n<!-- 57 -->\n<g id=\"node58\" class=\"node\">\n<title>57</title>\n<path fill=\"#e58139\" stroke=\"#000000\" d=\"M1516,-893.5C1516,-893.5 1441,-893.5 1441,-893.5 1435,-893.5 1429,-887.5 1429,-881.5 1429,-881.5 1429,-837.5 1429,-837.5 1429,-831.5 1435,-825.5 1441,-825.5 1441,-825.5 1516,-825.5 1516,-825.5 1522,-825.5 1528,-831.5 1528,-837.5 1528,-837.5 1528,-881.5 1528,-881.5 1528,-887.5 1522,-893.5 1516,-893.5\"/>\n<text text-anchor=\"start\" x=\"1449\" y=\"-878.3\" font-family=\"Helvetica,sans-Serif\" font-size=\"14.00\" fill=\"#000000\">gini = 0.0</text>\n<text text-anchor=\"start\" x=\"1439\" y=\"-863.3\" font-family=\"Helvetica,sans-Serif\" font-size=\"14.00\" fill=\"#000000\">samples = 1</text>\n<text text-anchor=\"start\" x=\"1437\" y=\"-848.3\" font-family=\"Helvetica,sans-Serif\" font-size=\"14.00\" fill=\"#000000\">value = [1, 0]</text>\n<text text-anchor=\"start\" x=\"1452\" y=\"-833.3\" font-family=\"Helvetica,sans-Serif\" font-size=\"14.00\" fill=\"#000000\">class = l</text>\n</g>\n<!-- 55&#45;&gt;57 -->\n<g id=\"edge57\" class=\"edge\">\n<title>55&#45;&gt;57</title>\n<path fill=\"none\" stroke=\"#000000\" d=\"M1442.0861,-936.8796C1447.2607,-925.8835 1452.858,-913.9893 1458.0758,-902.9015\"/>\n<polygon fill=\"#000000\" stroke=\"#000000\" points=\"1461.2606,-904.3534 1462.3518,-893.8149 1454.9269,-901.3728 1461.2606,-904.3534\"/>\n</g>\n<!-- 59 -->\n<g id=\"node60\" class=\"node\">\n<title>59</title>\n<path fill=\"#9ccef2\" stroke=\"#000000\" d=\"M1633,-893.5C1633,-893.5 1558,-893.5 1558,-893.5 1552,-893.5 1546,-887.5 1546,-881.5 1546,-881.5 1546,-837.5 1546,-837.5 1546,-831.5 1552,-825.5 1558,-825.5 1558,-825.5 1633,-825.5 1633,-825.5 1639,-825.5 1645,-831.5 1645,-837.5 1645,-837.5 1645,-881.5 1645,-881.5 1645,-887.5 1639,-893.5 1633,-893.5\"/>\n<text text-anchor=\"start\" x=\"1557.5\" y=\"-878.3\" font-family=\"Helvetica,sans-Serif\" font-size=\"14.00\" fill=\"#000000\">gini = 0.444</text>\n<text text-anchor=\"start\" x=\"1556\" y=\"-863.3\" font-family=\"Helvetica,sans-Serif\" font-size=\"14.00\" fill=\"#000000\">samples = 3</text>\n<text text-anchor=\"start\" x=\"1554\" y=\"-848.3\" font-family=\"Helvetica,sans-Serif\" font-size=\"14.00\" fill=\"#000000\">value = [1, 2]</text>\n<text text-anchor=\"start\" x=\"1566.5\" y=\"-833.3\" font-family=\"Helvetica,sans-Serif\" font-size=\"14.00\" fill=\"#000000\">class = o</text>\n</g>\n<!-- 58&#45;&gt;59 -->\n<g id=\"edge59\" class=\"edge\">\n<title>58&#45;&gt;59</title>\n<path fill=\"none\" stroke=\"#000000\" d=\"M1595.5,-936.8796C1595.5,-926.2134 1595.5,-914.7021 1595.5,-903.9015\"/>\n<polygon fill=\"#000000\" stroke=\"#000000\" points=\"1599.0001,-903.8149 1595.5,-893.8149 1592.0001,-903.815 1599.0001,-903.8149\"/>\n</g>\n<!-- 60 -->\n<g id=\"node61\" class=\"node\">\n<title>60</title>\n<path fill=\"#9ccef2\" stroke=\"#000000\" d=\"M1750,-893.5C1750,-893.5 1675,-893.5 1675,-893.5 1669,-893.5 1663,-887.5 1663,-881.5 1663,-881.5 1663,-837.5 1663,-837.5 1663,-831.5 1669,-825.5 1675,-825.5 1675,-825.5 1750,-825.5 1750,-825.5 1756,-825.5 1762,-831.5 1762,-837.5 1762,-837.5 1762,-881.5 1762,-881.5 1762,-887.5 1756,-893.5 1750,-893.5\"/>\n<text text-anchor=\"start\" x=\"1674.5\" y=\"-878.3\" font-family=\"Helvetica,sans-Serif\" font-size=\"14.00\" fill=\"#000000\">gini = 0.444</text>\n<text text-anchor=\"start\" x=\"1673\" y=\"-863.3\" font-family=\"Helvetica,sans-Serif\" font-size=\"14.00\" fill=\"#000000\">samples = 6</text>\n<text text-anchor=\"start\" x=\"1671\" y=\"-848.3\" font-family=\"Helvetica,sans-Serif\" font-size=\"14.00\" fill=\"#000000\">value = [2, 4]</text>\n<text text-anchor=\"start\" x=\"1683.5\" y=\"-833.3\" font-family=\"Helvetica,sans-Serif\" font-size=\"14.00\" fill=\"#000000\">class = o</text>\n</g>\n<!-- 58&#45;&gt;60 -->\n<g id=\"edge60\" class=\"edge\">\n<title>58&#45;&gt;60</title>\n<path fill=\"none\" stroke=\"#000000\" d=\"M1636.4209,-936.8796C1647.7728,-925.3337 1660.0982,-912.7976 1671.457,-901.2446\"/>\n<polygon fill=\"#000000\" stroke=\"#000000\" points=\"1674.2466,-903.3995 1678.7618,-893.8149 1669.2551,-898.4919 1674.2466,-903.3995\"/>\n</g>\n<!-- 62 -->\n<g id=\"node63\" class=\"node\">\n<title>62</title>\n<path fill=\"#eeac7c\" stroke=\"#000000\" d=\"M3528.5,-1496C3528.5,-1496 3428.5,-1496 3428.5,-1496 3422.5,-1496 3416.5,-1490 3416.5,-1484 3416.5,-1484 3416.5,-1425 3416.5,-1425 3416.5,-1419 3422.5,-1413 3428.5,-1413 3428.5,-1413 3528.5,-1413 3528.5,-1413 3534.5,-1413 3540.5,-1419 3540.5,-1425 3540.5,-1425 3540.5,-1484 3540.5,-1484 3540.5,-1490 3534.5,-1496 3528.5,-1496\"/>\n<text text-anchor=\"start\" x=\"3440\" y=\"-1480.8\" font-family=\"Helvetica,sans-Serif\" font-size=\"14.00\" fill=\"#000000\">age ≤ 1.751</text>\n<text text-anchor=\"start\" x=\"3440.5\" y=\"-1465.8\" font-family=\"Helvetica,sans-Serif\" font-size=\"14.00\" fill=\"#000000\">gini = 0.379</text>\n<text text-anchor=\"start\" x=\"3430.5\" y=\"-1450.8\" font-family=\"Helvetica,sans-Serif\" font-size=\"14.00\" fill=\"#000000\">samples = 201</text>\n<text text-anchor=\"start\" x=\"3424.5\" y=\"-1435.8\" font-family=\"Helvetica,sans-Serif\" font-size=\"14.00\" fill=\"#000000\">value = [150, 51]</text>\n<text text-anchor=\"start\" x=\"3452\" y=\"-1420.8\" font-family=\"Helvetica,sans-Serif\" font-size=\"14.00\" fill=\"#000000\">class = l</text>\n</g>\n<!-- 61&#45;&gt;62 -->\n<g id=\"edge62\" class=\"edge\">\n<title>61&#45;&gt;62</title>\n<path fill=\"none\" stroke=\"#000000\" d=\"M3525.3179,-1531.8796C3520.0867,-1523.2335 3514.5195,-1514.0322 3509.1177,-1505.1042\"/>\n<polygon fill=\"#000000\" stroke=\"#000000\" points=\"3511.9608,-1503.0421 3503.7896,-1496.2981 3505.9717,-1506.6658 3511.9608,-1503.0421\"/>\n</g>\n<!-- 189 -->\n<g id=\"node190\" class=\"node\">\n<title>189</title>\n<path fill=\"#f2c09c\" stroke=\"#000000\" d=\"M3672.5,-1496C3672.5,-1496 3570.5,-1496 3570.5,-1496 3564.5,-1496 3558.5,-1490 3558.5,-1484 3558.5,-1484 3558.5,-1425 3558.5,-1425 3558.5,-1419 3564.5,-1413 3570.5,-1413 3570.5,-1413 3672.5,-1413 3672.5,-1413 3678.5,-1413 3684.5,-1419 3684.5,-1425 3684.5,-1425 3684.5,-1484 3684.5,-1484 3684.5,-1490 3678.5,-1496 3672.5,-1496\"/>\n<text text-anchor=\"start\" x=\"3566.5\" y=\"-1480.8\" font-family=\"Helvetica,sans-Serif\" font-size=\"14.00\" fill=\"#000000\">Bechalor ≤ 1.119</text>\n<text text-anchor=\"start\" x=\"3583.5\" y=\"-1465.8\" font-family=\"Helvetica,sans-Serif\" font-size=\"14.00\" fill=\"#000000\">gini = 0.444</text>\n<text text-anchor=\"start\" x=\"3577.5\" y=\"-1450.8\" font-family=\"Helvetica,sans-Serif\" font-size=\"14.00\" fill=\"#000000\">samples = 12</text>\n<text text-anchor=\"start\" x=\"3580\" y=\"-1435.8\" font-family=\"Helvetica,sans-Serif\" font-size=\"14.00\" fill=\"#000000\">value = [8, 4]</text>\n<text text-anchor=\"start\" x=\"3595\" y=\"-1420.8\" font-family=\"Helvetica,sans-Serif\" font-size=\"14.00\" fill=\"#000000\">class = l</text>\n</g>\n<!-- 61&#45;&gt;189 -->\n<g id=\"edge189\" class=\"edge\">\n<title>61&#45;&gt;189</title>\n<path fill=\"none\" stroke=\"#000000\" d=\"M3575.3324,-1531.8796C3580.4909,-1523.2335 3585.9808,-1514.0322 3591.3076,-1505.1042\"/>\n<polygon fill=\"#000000\" stroke=\"#000000\" points=\"3594.4436,-1506.679 3596.5617,-1496.2981 3588.4322,-1503.0924 3594.4436,-1506.679\"/>\n</g>\n<!-- 63 -->\n<g id=\"node64\" class=\"node\">\n<title>63</title>\n<path fill=\"#eeae7f\" stroke=\"#000000\" d=\"M3403.5,-1377C3403.5,-1377 3303.5,-1377 3303.5,-1377 3297.5,-1377 3291.5,-1371 3291.5,-1365 3291.5,-1365 3291.5,-1306 3291.5,-1306 3291.5,-1300 3297.5,-1294 3303.5,-1294 3303.5,-1294 3403.5,-1294 3403.5,-1294 3409.5,-1294 3415.5,-1300 3415.5,-1306 3415.5,-1306 3415.5,-1365 3415.5,-1365 3415.5,-1371 3409.5,-1377 3403.5,-1377\"/>\n<text text-anchor=\"start\" x=\"3319\" y=\"-1361.8\" font-family=\"Helvetica,sans-Serif\" font-size=\"14.00\" fill=\"#000000\">age ≤ 1.42</text>\n<text text-anchor=\"start\" x=\"3315.5\" y=\"-1346.8\" font-family=\"Helvetica,sans-Serif\" font-size=\"14.00\" fill=\"#000000\">gini = 0.386</text>\n<text text-anchor=\"start\" x=\"3305.5\" y=\"-1331.8\" font-family=\"Helvetica,sans-Serif\" font-size=\"14.00\" fill=\"#000000\">samples = 195</text>\n<text text-anchor=\"start\" x=\"3299.5\" y=\"-1316.8\" font-family=\"Helvetica,sans-Serif\" font-size=\"14.00\" fill=\"#000000\">value = [144, 51]</text>\n<text text-anchor=\"start\" x=\"3327\" y=\"-1301.8\" font-family=\"Helvetica,sans-Serif\" font-size=\"14.00\" fill=\"#000000\">class = l</text>\n</g>\n<!-- 62&#45;&gt;63 -->\n<g id=\"edge63\" class=\"edge\">\n<title>62&#45;&gt;63</title>\n<path fill=\"none\" stroke=\"#000000\" d=\"M3434.7811,-1412.8796C3425.1314,-1403.6931 3414.8234,-1393.8798 3404.9009,-1384.4336\"/>\n<polygon fill=\"#000000\" stroke=\"#000000\" points=\"3407.0616,-1381.6582 3397.4055,-1377.2981 3402.235,-1386.7282 3407.0616,-1381.6582\"/>\n</g>\n<!-- 188 -->\n<g id=\"node189\" class=\"node\">\n<title>188</title>\n<path fill=\"#e58139\" stroke=\"#000000\" d=\"M3521,-1369.5C3521,-1369.5 3446,-1369.5 3446,-1369.5 3440,-1369.5 3434,-1363.5 3434,-1357.5 3434,-1357.5 3434,-1313.5 3434,-1313.5 3434,-1307.5 3440,-1301.5 3446,-1301.5 3446,-1301.5 3521,-1301.5 3521,-1301.5 3527,-1301.5 3533,-1307.5 3533,-1313.5 3533,-1313.5 3533,-1357.5 3533,-1357.5 3533,-1363.5 3527,-1369.5 3521,-1369.5\"/>\n<text text-anchor=\"start\" x=\"3454\" y=\"-1354.3\" font-family=\"Helvetica,sans-Serif\" font-size=\"14.00\" fill=\"#000000\">gini = 0.0</text>\n<text text-anchor=\"start\" x=\"3444\" y=\"-1339.3\" font-family=\"Helvetica,sans-Serif\" font-size=\"14.00\" fill=\"#000000\">samples = 6</text>\n<text text-anchor=\"start\" x=\"3442\" y=\"-1324.3\" font-family=\"Helvetica,sans-Serif\" font-size=\"14.00\" fill=\"#000000\">value = [6, 0]</text>\n<text text-anchor=\"start\" x=\"3457\" y=\"-1309.3\" font-family=\"Helvetica,sans-Serif\" font-size=\"14.00\" fill=\"#000000\">class = l</text>\n</g>\n<!-- 62&#45;&gt;188 -->\n<g id=\"edge188\" class=\"edge\">\n<title>62&#45;&gt;188</title>\n<path fill=\"none\" stroke=\"#000000\" d=\"M3480.2488,-1412.8796C3480.6969,-1402.2134 3481.1806,-1390.7021 3481.6344,-1379.9015\"/>\n<polygon fill=\"#000000\" stroke=\"#000000\" points=\"3485.1352,-1379.9531 3482.0582,-1369.8149 3478.1414,-1379.6592 3485.1352,-1379.9531\"/>\n</g>\n<!-- 64 -->\n<g id=\"node65\" class=\"node\">\n<title>64</title>\n<path fill=\"#eeac7c\" stroke=\"#000000\" d=\"M3265.5,-1258C3265.5,-1258 3165.5,-1258 3165.5,-1258 3159.5,-1258 3153.5,-1252 3153.5,-1246 3153.5,-1246 3153.5,-1187 3153.5,-1187 3153.5,-1181 3159.5,-1175 3165.5,-1175 3165.5,-1175 3265.5,-1175 3265.5,-1175 3271.5,-1175 3277.5,-1181 3277.5,-1187 3277.5,-1187 3277.5,-1246 3277.5,-1246 3277.5,-1252 3271.5,-1258 3265.5,-1258\"/>\n<text text-anchor=\"start\" x=\"3169\" y=\"-1242.8\" font-family=\"Helvetica,sans-Serif\" font-size=\"14.00\" fill=\"#000000\">terms ≤ &#45;0.019</text>\n<text text-anchor=\"start\" x=\"3177.5\" y=\"-1227.8\" font-family=\"Helvetica,sans-Serif\" font-size=\"14.00\" fill=\"#000000\">gini = 0.378</text>\n<text text-anchor=\"start\" x=\"3167.5\" y=\"-1212.8\" font-family=\"Helvetica,sans-Serif\" font-size=\"14.00\" fill=\"#000000\">samples = 186</text>\n<text text-anchor=\"start\" x=\"3161.5\" y=\"-1197.8\" font-family=\"Helvetica,sans-Serif\" font-size=\"14.00\" fill=\"#000000\">value = [139, 47]</text>\n<text text-anchor=\"start\" x=\"3189\" y=\"-1182.8\" font-family=\"Helvetica,sans-Serif\" font-size=\"14.00\" fill=\"#000000\">class = l</text>\n</g>\n<!-- 63&#45;&gt;64 -->\n<g id=\"edge64\" class=\"edge\">\n<title>63&#45;&gt;64</title>\n<path fill=\"none\" stroke=\"#000000\" d=\"M3305.2343,-1293.8796C3294.3722,-1284.513 3282.7544,-1274.4948 3271.6027,-1264.8784\"/>\n<polygon fill=\"#000000\" stroke=\"#000000\" points=\"3273.8306,-1262.178 3263.9717,-1258.2981 3269.2592,-1267.4792 3273.8306,-1262.178\"/>\n</g>\n<!-- 179 -->\n<g id=\"node180\" class=\"node\">\n<title>179</title>\n<path fill=\"#fae6d7\" stroke=\"#000000\" d=\"M3411.5,-1258C3411.5,-1258 3307.5,-1258 3307.5,-1258 3301.5,-1258 3295.5,-1252 3295.5,-1246 3295.5,-1246 3295.5,-1187 3295.5,-1187 3295.5,-1181 3301.5,-1175 3307.5,-1175 3307.5,-1175 3411.5,-1175 3411.5,-1175 3417.5,-1175 3423.5,-1181 3423.5,-1187 3423.5,-1187 3423.5,-1246 3423.5,-1246 3423.5,-1252 3417.5,-1258 3411.5,-1258\"/>\n<text text-anchor=\"start\" x=\"3303.5\" y=\"-1242.8\" font-family=\"Helvetica,sans-Serif\" font-size=\"14.00\" fill=\"#000000\">Principal ≤ &#45;0.399</text>\n<text text-anchor=\"start\" x=\"3321.5\" y=\"-1227.8\" font-family=\"Helvetica,sans-Serif\" font-size=\"14.00\" fill=\"#000000\">gini = 0.494</text>\n<text text-anchor=\"start\" x=\"3320\" y=\"-1212.8\" font-family=\"Helvetica,sans-Serif\" font-size=\"14.00\" fill=\"#000000\">samples = 9</text>\n<text text-anchor=\"start\" x=\"3318\" y=\"-1197.8\" font-family=\"Helvetica,sans-Serif\" font-size=\"14.00\" fill=\"#000000\">value = [5, 4]</text>\n<text text-anchor=\"start\" x=\"3333\" y=\"-1182.8\" font-family=\"Helvetica,sans-Serif\" font-size=\"14.00\" fill=\"#000000\">class = l</text>\n</g>\n<!-- 63&#45;&gt;179 -->\n<g id=\"edge179\" class=\"edge\">\n<title>63&#45;&gt;179</title>\n<path fill=\"none\" stroke=\"#000000\" d=\"M3355.5985,-1293.8796C3356.0117,-1285.6838 3356.4501,-1276.9891 3356.8781,-1268.5013\"/>\n<polygon fill=\"#000000\" stroke=\"#000000\" points=\"3360.3844,-1268.4617 3357.3925,-1258.2981 3353.3933,-1268.1091 3360.3844,-1268.4617\"/>\n</g>\n<!-- 65 -->\n<g id=\"node66\" class=\"node\">\n<title>65</title>\n<path fill=\"#efb184\" stroke=\"#000000\" d=\"M2592.5,-1139C2592.5,-1139 2490.5,-1139 2490.5,-1139 2484.5,-1139 2478.5,-1133 2478.5,-1127 2478.5,-1127 2478.5,-1068 2478.5,-1068 2478.5,-1062 2484.5,-1056 2490.5,-1056 2490.5,-1056 2592.5,-1056 2592.5,-1056 2598.5,-1056 2604.5,-1062 2604.5,-1068 2604.5,-1068 2604.5,-1127 2604.5,-1127 2604.5,-1133 2598.5,-1139 2592.5,-1139\"/>\n<text text-anchor=\"start\" x=\"2486.5\" y=\"-1123.8\" font-family=\"Helvetica,sans-Serif\" font-size=\"14.00\" fill=\"#000000\">Bechalor ≤ 1.119</text>\n<text text-anchor=\"start\" x=\"2503.5\" y=\"-1108.8\" font-family=\"Helvetica,sans-Serif\" font-size=\"14.00\" fill=\"#000000\">gini = 0.399</text>\n<text text-anchor=\"start\" x=\"2497.5\" y=\"-1093.8\" font-family=\"Helvetica,sans-Serif\" font-size=\"14.00\" fill=\"#000000\">samples = 80</text>\n<text text-anchor=\"start\" x=\"2491.5\" y=\"-1078.8\" font-family=\"Helvetica,sans-Serif\" font-size=\"14.00\" fill=\"#000000\">value = [58, 22]</text>\n<text text-anchor=\"start\" x=\"2515\" y=\"-1063.8\" font-family=\"Helvetica,sans-Serif\" font-size=\"14.00\" fill=\"#000000\">class = l</text>\n</g>\n<!-- 64&#45;&gt;65 -->\n<g id=\"edge65\" class=\"edge\">\n<title>64&#45;&gt;65</title>\n<path fill=\"none\" stroke=\"#000000\" d=\"M3153.2998,-1205.5181C3028.4778,-1183.4798 2748.026,-1133.9638 2614.6491,-1110.4151\"/>\n<polygon fill=\"#000000\" stroke=\"#000000\" points=\"2614.986,-1106.9205 2604.5297,-1108.6284 2613.7688,-1113.8139 2614.986,-1106.9205\"/>\n</g>\n<!-- 130 -->\n<g id=\"node131\" class=\"node\">\n<title>130</title>\n<path fill=\"#eda876\" stroke=\"#000000\" d=\"M3263.5,-1139C3263.5,-1139 3171.5,-1139 3171.5,-1139 3165.5,-1139 3159.5,-1133 3159.5,-1127 3159.5,-1127 3159.5,-1068 3159.5,-1068 3159.5,-1062 3165.5,-1056 3171.5,-1056 3171.5,-1056 3263.5,-1056 3263.5,-1056 3269.5,-1056 3275.5,-1062 3275.5,-1068 3275.5,-1068 3275.5,-1127 3275.5,-1127 3275.5,-1133 3269.5,-1139 3263.5,-1139\"/>\n<text text-anchor=\"start\" x=\"3179\" y=\"-1123.8\" font-family=\"Helvetica,sans-Serif\" font-size=\"14.00\" fill=\"#000000\">age ≤ 1.088</text>\n<text text-anchor=\"start\" x=\"3184\" y=\"-1108.8\" font-family=\"Helvetica,sans-Serif\" font-size=\"14.00\" fill=\"#000000\">gini = 0.36</text>\n<text text-anchor=\"start\" x=\"3169.5\" y=\"-1093.8\" font-family=\"Helvetica,sans-Serif\" font-size=\"14.00\" fill=\"#000000\">samples = 106</text>\n<text text-anchor=\"start\" x=\"3167.5\" y=\"-1078.8\" font-family=\"Helvetica,sans-Serif\" font-size=\"14.00\" fill=\"#000000\">value = [81, 25]</text>\n<text text-anchor=\"start\" x=\"3191\" y=\"-1063.8\" font-family=\"Helvetica,sans-Serif\" font-size=\"14.00\" fill=\"#000000\">class = l</text>\n</g>\n<!-- 64&#45;&gt;130 -->\n<g id=\"edge130\" class=\"edge\">\n<title>64&#45;&gt;130</title>\n<path fill=\"none\" stroke=\"#000000\" d=\"M3216.1995,-1174.8796C3216.3372,-1166.6838 3216.4834,-1157.9891 3216.626,-1149.5013\"/>\n<polygon fill=\"#000000\" stroke=\"#000000\" points=\"3220.1289,-1149.3555 3216.7975,-1139.2981 3213.1299,-1149.2378 3220.1289,-1149.3555\"/>\n</g>\n<!-- 66 -->\n<g id=\"node67\" class=\"node\">\n<title>66</title>\n<path fill=\"#eeac7c\" stroke=\"#000000\" d=\"M2084.5,-1020C2084.5,-1020 1992.5,-1020 1992.5,-1020 1986.5,-1020 1980.5,-1014 1980.5,-1008 1980.5,-1008 1980.5,-949 1980.5,-949 1980.5,-943 1986.5,-937 1992.5,-937 1992.5,-937 2084.5,-937 2084.5,-937 2090.5,-937 2096.5,-943 2096.5,-949 2096.5,-949 2096.5,-1008 2096.5,-1008 2096.5,-1014 2090.5,-1020 2084.5,-1020\"/>\n<text text-anchor=\"start\" x=\"1997.5\" y=\"-1004.8\" font-family=\"Helvetica,sans-Serif\" font-size=\"14.00\" fill=\"#000000\">age ≤ &#45;0.404</text>\n<text text-anchor=\"start\" x=\"2000.5\" y=\"-989.8\" font-family=\"Helvetica,sans-Serif\" font-size=\"14.00\" fill=\"#000000\">gini = 0.379</text>\n<text text-anchor=\"start\" x=\"1994.5\" y=\"-974.8\" font-family=\"Helvetica,sans-Serif\" font-size=\"14.00\" fill=\"#000000\">samples = 67</text>\n<text text-anchor=\"start\" x=\"1988.5\" y=\"-959.8\" font-family=\"Helvetica,sans-Serif\" font-size=\"14.00\" fill=\"#000000\">value = [50, 17]</text>\n<text text-anchor=\"start\" x=\"2012\" y=\"-944.8\" font-family=\"Helvetica,sans-Serif\" font-size=\"14.00\" fill=\"#000000\">class = l</text>\n</g>\n<!-- 65&#45;&gt;66 -->\n<g id=\"edge66\" class=\"edge\">\n<title>65&#45;&gt;66</title>\n<path fill=\"none\" stroke=\"#000000\" d=\"M2478.304,-1082.5491C2383.2803,-1060.0683 2204.3409,-1017.7347 2106.5482,-994.5989\"/>\n<polygon fill=\"#000000\" stroke=\"#000000\" points=\"2107.3036,-991.181 2096.7664,-992.2847 2105.692,-997.993 2107.3036,-991.181\"/>\n</g>\n<!-- 115 -->\n<g id=\"node116\" class=\"node\">\n<title>115</title>\n<path fill=\"#f5d0b5\" stroke=\"#000000\" d=\"M2581.5,-1020C2581.5,-1020 2501.5,-1020 2501.5,-1020 2495.5,-1020 2489.5,-1014 2489.5,-1008 2489.5,-1008 2489.5,-949 2489.5,-949 2489.5,-943 2495.5,-937 2501.5,-937 2501.5,-937 2581.5,-937 2581.5,-937 2587.5,-937 2593.5,-943 2593.5,-949 2593.5,-949 2593.5,-1008 2593.5,-1008 2593.5,-1014 2587.5,-1020 2581.5,-1020\"/>\n<text text-anchor=\"start\" x=\"2500.5\" y=\"-1004.8\" font-family=\"Helvetica,sans-Serif\" font-size=\"14.00\" fill=\"#000000\">age ≤ &#45;0.073</text>\n<text text-anchor=\"start\" x=\"2503.5\" y=\"-989.8\" font-family=\"Helvetica,sans-Serif\" font-size=\"14.00\" fill=\"#000000\">gini = 0.473</text>\n<text text-anchor=\"start\" x=\"2497.5\" y=\"-974.8\" font-family=\"Helvetica,sans-Serif\" font-size=\"14.00\" fill=\"#000000\">samples = 13</text>\n<text text-anchor=\"start\" x=\"2500\" y=\"-959.8\" font-family=\"Helvetica,sans-Serif\" font-size=\"14.00\" fill=\"#000000\">value = [8, 5]</text>\n<text text-anchor=\"start\" x=\"2515\" y=\"-944.8\" font-family=\"Helvetica,sans-Serif\" font-size=\"14.00\" fill=\"#000000\">class = l</text>\n</g>\n<!-- 65&#45;&gt;115 -->\n<g id=\"edge115\" class=\"edge\">\n<title>65&#45;&gt;115</title>\n<path fill=\"none\" stroke=\"#000000\" d=\"M2541.5,-1055.8796C2541.5,-1047.6838 2541.5,-1038.9891 2541.5,-1030.5013\"/>\n<polygon fill=\"#000000\" stroke=\"#000000\" points=\"2545.0001,-1030.298 2541.5,-1020.2981 2538.0001,-1030.2981 2545.0001,-1030.298\"/>\n</g>\n<!-- 67 -->\n<g id=\"node68\" class=\"node\">\n<title>67</title>\n<path fill=\"#ea985d\" stroke=\"#000000\" d=\"M1896.5,-901C1896.5,-901 1792.5,-901 1792.5,-901 1786.5,-901 1780.5,-895 1780.5,-889 1780.5,-889 1780.5,-830 1780.5,-830 1780.5,-824 1786.5,-818 1792.5,-818 1792.5,-818 1896.5,-818 1896.5,-818 1902.5,-818 1908.5,-824 1908.5,-830 1908.5,-830 1908.5,-889 1908.5,-889 1908.5,-895 1902.5,-901 1896.5,-901\"/>\n<text text-anchor=\"start\" x=\"1788.5\" y=\"-885.8\" font-family=\"Helvetica,sans-Serif\" font-size=\"14.00\" fill=\"#000000\">Principal ≤ &#45;0.857</text>\n<text text-anchor=\"start\" x=\"1811\" y=\"-870.8\" font-family=\"Helvetica,sans-Serif\" font-size=\"14.00\" fill=\"#000000\">gini = 0.26</text>\n<text text-anchor=\"start\" x=\"1800.5\" y=\"-855.8\" font-family=\"Helvetica,sans-Serif\" font-size=\"14.00\" fill=\"#000000\">samples = 13</text>\n<text text-anchor=\"start\" x=\"1799\" y=\"-840.8\" font-family=\"Helvetica,sans-Serif\" font-size=\"14.00\" fill=\"#000000\">value = [11, 2]</text>\n<text text-anchor=\"start\" x=\"1818\" y=\"-825.8\" font-family=\"Helvetica,sans-Serif\" font-size=\"14.00\" fill=\"#000000\">class = l</text>\n</g>\n<!-- 66&#45;&gt;67 -->\n<g id=\"edge67\" class=\"edge\">\n<title>66&#45;&gt;67</title>\n<path fill=\"none\" stroke=\"#000000\" d=\"M1980.2936,-942.7961C1960.5667,-930.6955 1938.2768,-917.0229 1917.5445,-904.3057\"/>\n<polygon fill=\"#000000\" stroke=\"#000000\" points=\"1919.1208,-901.1666 1908.7666,-898.9213 1915.4607,-907.1335 1919.1208,-901.1666\"/>\n</g>\n<!-- 74 -->\n<g id=\"node75\" class=\"node\">\n<title>74</title>\n<path fill=\"#efb185\" stroke=\"#000000\" d=\"M2084.5,-901C2084.5,-901 1992.5,-901 1992.5,-901 1986.5,-901 1980.5,-895 1980.5,-889 1980.5,-889 1980.5,-830 1980.5,-830 1980.5,-824 1986.5,-818 1992.5,-818 1992.5,-818 2084.5,-818 2084.5,-818 2090.5,-818 2096.5,-824 2096.5,-830 2096.5,-830 2096.5,-889 2096.5,-889 2096.5,-895 2090.5,-901 2084.5,-901\"/>\n<text text-anchor=\"start\" x=\"2000\" y=\"-885.8\" font-family=\"Helvetica,sans-Serif\" font-size=\"14.00\" fill=\"#000000\">age ≤ 0.259</text>\n<text text-anchor=\"start\" x=\"2000.5\" y=\"-870.8\" font-family=\"Helvetica,sans-Serif\" font-size=\"14.00\" fill=\"#000000\">gini = 0.401</text>\n<text text-anchor=\"start\" x=\"1994.5\" y=\"-855.8\" font-family=\"Helvetica,sans-Serif\" font-size=\"14.00\" fill=\"#000000\">samples = 54</text>\n<text text-anchor=\"start\" x=\"1988.5\" y=\"-840.8\" font-family=\"Helvetica,sans-Serif\" font-size=\"14.00\" fill=\"#000000\">value = [39, 15]</text>\n<text text-anchor=\"start\" x=\"2012\" y=\"-825.8\" font-family=\"Helvetica,sans-Serif\" font-size=\"14.00\" fill=\"#000000\">class = l</text>\n</g>\n<!-- 66&#45;&gt;74 -->\n<g id=\"edge74\" class=\"edge\">\n<title>66&#45;&gt;74</title>\n<path fill=\"none\" stroke=\"#000000\" d=\"M2038.5,-936.8796C2038.5,-928.6838 2038.5,-919.9891 2038.5,-911.5013\"/>\n<polygon fill=\"#000000\" stroke=\"#000000\" points=\"2042.0001,-911.298 2038.5,-901.2981 2035.0001,-911.2981 2042.0001,-911.298\"/>\n</g>\n<!-- 68 -->\n<g id=\"node69\" class=\"node\">\n<title>68</title>\n<path fill=\"#eeab7b\" stroke=\"#000000\" d=\"M1683,-782C1683,-782 1500,-782 1500,-782 1494,-782 1488,-776 1488,-770 1488,-770 1488,-711 1488,-711 1488,-705 1494,-699 1500,-699 1500,-699 1683,-699 1683,-699 1689,-699 1695,-705 1695,-711 1695,-711 1695,-770 1695,-770 1695,-776 1689,-782 1683,-782\"/>\n<text text-anchor=\"start\" x=\"1496\" y=\"-766.8\" font-family=\"Helvetica,sans-Serif\" font-size=\"14.00\" fill=\"#000000\">High School or Below ≤ 0.128</text>\n<text text-anchor=\"start\" x=\"1553.5\" y=\"-751.8\" font-family=\"Helvetica,sans-Serif\" font-size=\"14.00\" fill=\"#000000\">gini = 0.375</text>\n<text text-anchor=\"start\" x=\"1552\" y=\"-736.8\" font-family=\"Helvetica,sans-Serif\" font-size=\"14.00\" fill=\"#000000\">samples = 8</text>\n<text text-anchor=\"start\" x=\"1550\" y=\"-721.8\" font-family=\"Helvetica,sans-Serif\" font-size=\"14.00\" fill=\"#000000\">value = [6, 2]</text>\n<text text-anchor=\"start\" x=\"1565\" y=\"-706.8\" font-family=\"Helvetica,sans-Serif\" font-size=\"14.00\" fill=\"#000000\">class = l</text>\n</g>\n<!-- 67&#45;&gt;68 -->\n<g id=\"edge68\" class=\"edge\">\n<title>67&#45;&gt;68</title>\n<path fill=\"none\" stroke=\"#000000\" d=\"M1780.1344,-822.8915C1776.8922,-821.2084 1773.6679,-819.5689 1770.5,-818 1748.6294,-807.1683 1724.8861,-796.2931 1702.058,-786.2572\"/>\n<polygon fill=\"#000000\" stroke=\"#000000\" points=\"1703.2466,-782.957 1692.6818,-782.1592 1700.4432,-789.3712 1703.2466,-782.957\"/>\n</g>\n<!-- 73 -->\n<g id=\"node74\" class=\"node\">\n<title>73</title>\n<path fill=\"#e58139\" stroke=\"#000000\" d=\"M1854,-774.5C1854,-774.5 1779,-774.5 1779,-774.5 1773,-774.5 1767,-768.5 1767,-762.5 1767,-762.5 1767,-718.5 1767,-718.5 1767,-712.5 1773,-706.5 1779,-706.5 1779,-706.5 1854,-706.5 1854,-706.5 1860,-706.5 1866,-712.5 1866,-718.5 1866,-718.5 1866,-762.5 1866,-762.5 1866,-768.5 1860,-774.5 1854,-774.5\"/>\n<text text-anchor=\"start\" x=\"1787\" y=\"-759.3\" font-family=\"Helvetica,sans-Serif\" font-size=\"14.00\" fill=\"#000000\">gini = 0.0</text>\n<text text-anchor=\"start\" x=\"1777\" y=\"-744.3\" font-family=\"Helvetica,sans-Serif\" font-size=\"14.00\" fill=\"#000000\">samples = 5</text>\n<text text-anchor=\"start\" x=\"1775\" y=\"-729.3\" font-family=\"Helvetica,sans-Serif\" font-size=\"14.00\" fill=\"#000000\">value = [5, 0]</text>\n<text text-anchor=\"start\" x=\"1790\" y=\"-714.3\" font-family=\"Helvetica,sans-Serif\" font-size=\"14.00\" fill=\"#000000\">class = l</text>\n</g>\n<!-- 67&#45;&gt;73 -->\n<g id=\"edge73\" class=\"edge\">\n<title>67&#45;&gt;73</title>\n<path fill=\"none\" stroke=\"#000000\" d=\"M1834.707,-817.8796C1832.1714,-807.1034 1829.4329,-795.4647 1826.8689,-784.5677\"/>\n<polygon fill=\"#000000\" stroke=\"#000000\" points=\"1830.2715,-783.7474 1824.5741,-774.8149 1823.4576,-785.3508 1830.2715,-783.7474\"/>\n</g>\n<!-- 69 -->\n<g id=\"node70\" class=\"node\">\n<title>69</title>\n<path fill=\"#f2c09c\" stroke=\"#000000\" d=\"M1459,-663C1459,-663 1384,-663 1384,-663 1378,-663 1372,-657 1372,-651 1372,-651 1372,-592 1372,-592 1372,-586 1378,-580 1384,-580 1384,-580 1459,-580 1459,-580 1465,-580 1471,-586 1471,-592 1471,-592 1471,-651 1471,-651 1471,-657 1465,-663 1459,-663\"/>\n<text text-anchor=\"start\" x=\"1385\" y=\"-647.8\" font-family=\"Helvetica,sans-Serif\" font-size=\"14.00\" fill=\"#000000\">age ≤ &#45;0.57</text>\n<text text-anchor=\"start\" x=\"1383.5\" y=\"-632.8\" font-family=\"Helvetica,sans-Serif\" font-size=\"14.00\" fill=\"#000000\">gini = 0.444</text>\n<text text-anchor=\"start\" x=\"1382\" y=\"-617.8\" font-family=\"Helvetica,sans-Serif\" font-size=\"14.00\" fill=\"#000000\">samples = 6</text>\n<text text-anchor=\"start\" x=\"1380\" y=\"-602.8\" font-family=\"Helvetica,sans-Serif\" font-size=\"14.00\" fill=\"#000000\">value = [4, 2]</text>\n<text text-anchor=\"start\" x=\"1395\" y=\"-587.8\" font-family=\"Helvetica,sans-Serif\" font-size=\"14.00\" fill=\"#000000\">class = l</text>\n</g>\n<!-- 68&#45;&gt;69 -->\n<g id=\"edge69\" class=\"edge\">\n<title>68&#45;&gt;69</title>\n<path fill=\"none\" stroke=\"#000000\" d=\"M1532.0422,-698.8796C1514.9273,-686.8991 1496.2892,-673.8524 1479.2776,-661.9443\"/>\n<polygon fill=\"#000000\" stroke=\"#000000\" points=\"1481.2703,-659.0669 1471.0709,-656.1996 1477.2561,-664.8016 1481.2703,-659.0669\"/>\n</g>\n<!-- 72 -->\n<g id=\"node73\" class=\"node\">\n<title>72</title>\n<path fill=\"#e58139\" stroke=\"#000000\" d=\"M1629,-655.5C1629,-655.5 1554,-655.5 1554,-655.5 1548,-655.5 1542,-649.5 1542,-643.5 1542,-643.5 1542,-599.5 1542,-599.5 1542,-593.5 1548,-587.5 1554,-587.5 1554,-587.5 1629,-587.5 1629,-587.5 1635,-587.5 1641,-593.5 1641,-599.5 1641,-599.5 1641,-643.5 1641,-643.5 1641,-649.5 1635,-655.5 1629,-655.5\"/>\n<text text-anchor=\"start\" x=\"1562\" y=\"-640.3\" font-family=\"Helvetica,sans-Serif\" font-size=\"14.00\" fill=\"#000000\">gini = 0.0</text>\n<text text-anchor=\"start\" x=\"1552\" y=\"-625.3\" font-family=\"Helvetica,sans-Serif\" font-size=\"14.00\" fill=\"#000000\">samples = 2</text>\n<text text-anchor=\"start\" x=\"1550\" y=\"-610.3\" font-family=\"Helvetica,sans-Serif\" font-size=\"14.00\" fill=\"#000000\">value = [2, 0]</text>\n<text text-anchor=\"start\" x=\"1565\" y=\"-595.3\" font-family=\"Helvetica,sans-Serif\" font-size=\"14.00\" fill=\"#000000\">class = l</text>\n</g>\n<!-- 68&#45;&gt;72 -->\n<g id=\"edge72\" class=\"edge\">\n<title>68&#45;&gt;72</title>\n<path fill=\"none\" stroke=\"#000000\" d=\"M1591.5,-698.8796C1591.5,-688.2134 1591.5,-676.7021 1591.5,-665.9015\"/>\n<polygon fill=\"#000000\" stroke=\"#000000\" points=\"1595.0001,-665.8149 1591.5,-655.8149 1588.0001,-665.815 1595.0001,-665.8149\"/>\n</g>\n<!-- 70 -->\n<g id=\"node71\" class=\"node\">\n<title>70</title>\n<path fill=\"#f2c09c\" stroke=\"#000000\" d=\"M1342,-536.5C1342,-536.5 1267,-536.5 1267,-536.5 1261,-536.5 1255,-530.5 1255,-524.5 1255,-524.5 1255,-480.5 1255,-480.5 1255,-474.5 1261,-468.5 1267,-468.5 1267,-468.5 1342,-468.5 1342,-468.5 1348,-468.5 1354,-474.5 1354,-480.5 1354,-480.5 1354,-524.5 1354,-524.5 1354,-530.5 1348,-536.5 1342,-536.5\"/>\n<text text-anchor=\"start\" x=\"1266.5\" y=\"-521.3\" font-family=\"Helvetica,sans-Serif\" font-size=\"14.00\" fill=\"#000000\">gini = 0.444</text>\n<text text-anchor=\"start\" x=\"1265\" y=\"-506.3\" font-family=\"Helvetica,sans-Serif\" font-size=\"14.00\" fill=\"#000000\">samples = 3</text>\n<text text-anchor=\"start\" x=\"1263\" y=\"-491.3\" font-family=\"Helvetica,sans-Serif\" font-size=\"14.00\" fill=\"#000000\">value = [2, 1]</text>\n<text text-anchor=\"start\" x=\"1278\" y=\"-476.3\" font-family=\"Helvetica,sans-Serif\" font-size=\"14.00\" fill=\"#000000\">class = l</text>\n</g>\n<!-- 69&#45;&gt;70 -->\n<g id=\"edge70\" class=\"edge\">\n<title>69&#45;&gt;70</title>\n<path fill=\"none\" stroke=\"#000000\" d=\"M1380.5791,-579.8796C1369.2272,-568.3337 1356.9018,-555.7976 1345.543,-544.2446\"/>\n<polygon fill=\"#000000\" stroke=\"#000000\" points=\"1347.7449,-541.4919 1338.2382,-536.8149 1342.7534,-546.3995 1347.7449,-541.4919\"/>\n</g>\n<!-- 71 -->\n<g id=\"node72\" class=\"node\">\n<title>71</title>\n<path fill=\"#f2c09c\" stroke=\"#000000\" d=\"M1459,-536.5C1459,-536.5 1384,-536.5 1384,-536.5 1378,-536.5 1372,-530.5 1372,-524.5 1372,-524.5 1372,-480.5 1372,-480.5 1372,-474.5 1378,-468.5 1384,-468.5 1384,-468.5 1459,-468.5 1459,-468.5 1465,-468.5 1471,-474.5 1471,-480.5 1471,-480.5 1471,-524.5 1471,-524.5 1471,-530.5 1465,-536.5 1459,-536.5\"/>\n<text text-anchor=\"start\" x=\"1383.5\" y=\"-521.3\" font-family=\"Helvetica,sans-Serif\" font-size=\"14.00\" fill=\"#000000\">gini = 0.444</text>\n<text text-anchor=\"start\" x=\"1382\" y=\"-506.3\" font-family=\"Helvetica,sans-Serif\" font-size=\"14.00\" fill=\"#000000\">samples = 3</text>\n<text text-anchor=\"start\" x=\"1380\" y=\"-491.3\" font-family=\"Helvetica,sans-Serif\" font-size=\"14.00\" fill=\"#000000\">value = [2, 1]</text>\n<text text-anchor=\"start\" x=\"1395\" y=\"-476.3\" font-family=\"Helvetica,sans-Serif\" font-size=\"14.00\" fill=\"#000000\">class = l</text>\n</g>\n<!-- 69&#45;&gt;71 -->\n<g id=\"edge71\" class=\"edge\">\n<title>69&#45;&gt;71</title>\n<path fill=\"none\" stroke=\"#000000\" d=\"M1421.5,-579.8796C1421.5,-569.2134 1421.5,-557.7021 1421.5,-546.9015\"/>\n<polygon fill=\"#000000\" stroke=\"#000000\" points=\"1425.0001,-546.8149 1421.5,-536.8149 1418.0001,-546.815 1425.0001,-546.8149\"/>\n</g>\n<!-- 75 -->\n<g id=\"node76\" class=\"node\">\n<title>75</title>\n<path fill=\"#f3c4a2\" stroke=\"#000000\" d=\"M1979,-782C1979,-782 1896,-782 1896,-782 1890,-782 1884,-776 1884,-770 1884,-770 1884,-711 1884,-711 1884,-705 1890,-699 1896,-699 1896,-699 1979,-699 1979,-699 1985,-699 1991,-705 1991,-711 1991,-711 1991,-770 1991,-770 1991,-776 1985,-782 1979,-782\"/>\n<text text-anchor=\"start\" x=\"1899\" y=\"-766.8\" font-family=\"Helvetica,sans-Serif\" font-size=\"14.00\" fill=\"#000000\">age ≤ 0.093</text>\n<text text-anchor=\"start\" x=\"1899.5\" y=\"-751.8\" font-family=\"Helvetica,sans-Serif\" font-size=\"14.00\" fill=\"#000000\">gini = 0.453</text>\n<text text-anchor=\"start\" x=\"1893.5\" y=\"-736.8\" font-family=\"Helvetica,sans-Serif\" font-size=\"14.00\" fill=\"#000000\">samples = 26</text>\n<text text-anchor=\"start\" x=\"1892\" y=\"-721.8\" font-family=\"Helvetica,sans-Serif\" font-size=\"14.00\" fill=\"#000000\">value = [17, 9]</text>\n<text text-anchor=\"start\" x=\"1911\" y=\"-706.8\" font-family=\"Helvetica,sans-Serif\" font-size=\"14.00\" fill=\"#000000\">class = l</text>\n</g>\n<!-- 74&#45;&gt;75 -->\n<g id=\"edge75\" class=\"edge\">\n<title>74&#45;&gt;75</title>\n<path fill=\"none\" stroke=\"#000000\" d=\"M2003.1751,-817.8796C1995.5311,-808.8733 1987.3757,-799.2644 1979.5039,-789.9897\"/>\n<polygon fill=\"#000000\" stroke=\"#000000\" points=\"1982.1151,-787.6574 1972.9757,-782.2981 1976.7782,-792.1871 1982.1151,-787.6574\"/>\n</g>\n<!-- 94 -->\n<g id=\"node95\" class=\"node\">\n<title>94</title>\n<path fill=\"#eca36f\" stroke=\"#000000\" d=\"M2107,-782C2107,-782 2024,-782 2024,-782 2018,-782 2012,-776 2012,-770 2012,-770 2012,-711 2012,-711 2012,-705 2018,-699 2024,-699 2024,-699 2107,-699 2107,-699 2113,-699 2119,-705 2119,-711 2119,-711 2119,-770 2119,-770 2119,-776 2113,-782 2107,-782\"/>\n<text text-anchor=\"start\" x=\"2027\" y=\"-766.8\" font-family=\"Helvetica,sans-Serif\" font-size=\"14.00\" fill=\"#000000\">age ≤ 0.425</text>\n<text text-anchor=\"start\" x=\"2027.5\" y=\"-751.8\" font-family=\"Helvetica,sans-Serif\" font-size=\"14.00\" fill=\"#000000\">gini = 0.337</text>\n<text text-anchor=\"start\" x=\"2021.5\" y=\"-736.8\" font-family=\"Helvetica,sans-Serif\" font-size=\"14.00\" fill=\"#000000\">samples = 28</text>\n<text text-anchor=\"start\" x=\"2020\" y=\"-721.8\" font-family=\"Helvetica,sans-Serif\" font-size=\"14.00\" fill=\"#000000\">value = [22, 6]</text>\n<text text-anchor=\"start\" x=\"2039\" y=\"-706.8\" font-family=\"Helvetica,sans-Serif\" font-size=\"14.00\" fill=\"#000000\">class = l</text>\n</g>\n<!-- 74&#45;&gt;94 -->\n<g id=\"edge94\" class=\"edge\">\n<title>74&#45;&gt;94</title>\n<path fill=\"none\" stroke=\"#000000\" d=\"M2047.9433,-817.8796C2049.8233,-809.5938 2051.8189,-800.798 2053.7649,-792.2216\"/>\n<polygon fill=\"#000000\" stroke=\"#000000\" points=\"2057.2169,-792.8247 2056.0164,-782.2981 2050.3904,-791.2757 2057.2169,-792.8247\"/>\n</g>\n<!-- 76 -->\n<g id=\"node77\" class=\"node\">\n<title>76</title>\n<path fill=\"#efb083\" stroke=\"#000000\" d=\"M1837.5,-663C1837.5,-663 1733.5,-663 1733.5,-663 1727.5,-663 1721.5,-657 1721.5,-651 1721.5,-651 1721.5,-592 1721.5,-592 1721.5,-586 1727.5,-580 1733.5,-580 1733.5,-580 1837.5,-580 1837.5,-580 1843.5,-580 1849.5,-586 1849.5,-592 1849.5,-592 1849.5,-651 1849.5,-651 1849.5,-657 1843.5,-663 1837.5,-663\"/>\n<text text-anchor=\"start\" x=\"1729.5\" y=\"-647.8\" font-family=\"Helvetica,sans-Serif\" font-size=\"14.00\" fill=\"#000000\">Principal ≤ &#45;0.399</text>\n<text text-anchor=\"start\" x=\"1747.5\" y=\"-632.8\" font-family=\"Helvetica,sans-Serif\" font-size=\"14.00\" fill=\"#000000\">gini = 0.397</text>\n<text text-anchor=\"start\" x=\"1741.5\" y=\"-617.8\" font-family=\"Helvetica,sans-Serif\" font-size=\"14.00\" fill=\"#000000\">samples = 22</text>\n<text text-anchor=\"start\" x=\"1740\" y=\"-602.8\" font-family=\"Helvetica,sans-Serif\" font-size=\"14.00\" fill=\"#000000\">value = [16, 6]</text>\n<text text-anchor=\"start\" x=\"1759\" y=\"-587.8\" font-family=\"Helvetica,sans-Serif\" font-size=\"14.00\" fill=\"#000000\">class = l</text>\n</g>\n<!-- 75&#45;&gt;76 -->\n<g id=\"edge76\" class=\"edge\">\n<title>75&#45;&gt;76</title>\n<path fill=\"none\" stroke=\"#000000\" d=\"M1884.3378,-698.8796C1872.1885,-689.368 1859.1808,-679.1843 1846.724,-669.432\"/>\n<polygon fill=\"#000000\" stroke=\"#000000\" points=\"1848.6638,-666.5055 1838.6322,-663.0969 1844.3486,-672.0173 1848.6638,-666.5055\"/>\n</g>\n<!-- 91 -->\n<g id=\"node92\" class=\"node\">\n<title>91</title>\n<path fill=\"#7bbeee\" stroke=\"#000000\" d=\"M1985.5,-663C1985.5,-663 1881.5,-663 1881.5,-663 1875.5,-663 1869.5,-657 1869.5,-651 1869.5,-651 1869.5,-592 1869.5,-592 1869.5,-586 1875.5,-580 1881.5,-580 1881.5,-580 1985.5,-580 1985.5,-580 1991.5,-580 1997.5,-586 1997.5,-592 1997.5,-592 1997.5,-651 1997.5,-651 1997.5,-657 1991.5,-663 1985.5,-663\"/>\n<text text-anchor=\"start\" x=\"1877.5\" y=\"-647.8\" font-family=\"Helvetica,sans-Serif\" font-size=\"14.00\" fill=\"#000000\">Principal ≤ &#45;0.399</text>\n<text text-anchor=\"start\" x=\"1895.5\" y=\"-632.8\" font-family=\"Helvetica,sans-Serif\" font-size=\"14.00\" fill=\"#000000\">gini = 0.375</text>\n<text text-anchor=\"start\" x=\"1894\" y=\"-617.8\" font-family=\"Helvetica,sans-Serif\" font-size=\"14.00\" fill=\"#000000\">samples = 4</text>\n<text text-anchor=\"start\" x=\"1892\" y=\"-602.8\" font-family=\"Helvetica,sans-Serif\" font-size=\"14.00\" fill=\"#000000\">value = [1, 3]</text>\n<text text-anchor=\"start\" x=\"1904.5\" y=\"-587.8\" font-family=\"Helvetica,sans-Serif\" font-size=\"14.00\" fill=\"#000000\">class = o</text>\n</g>\n<!-- 75&#45;&gt;91 -->\n<g id=\"edge91\" class=\"edge\">\n<title>75&#45;&gt;91</title>\n<path fill=\"none\" stroke=\"#000000\" d=\"M1936.101,-698.8796C1935.8255,-690.6838 1935.5332,-681.9891 1935.2479,-673.5013\"/>\n<polygon fill=\"#000000\" stroke=\"#000000\" points=\"1938.739,-673.1748 1934.905,-663.2981 1931.743,-673.41 1938.739,-673.1748\"/>\n</g>\n<!-- 77 -->\n<g id=\"node78\" class=\"node\">\n<title>77</title>\n<path fill=\"#e9965a\" stroke=\"#000000\" d=\"M1684,-544C1684,-544 1501,-544 1501,-544 1495,-544 1489,-538 1489,-532 1489,-532 1489,-473 1489,-473 1489,-467 1495,-461 1501,-461 1501,-461 1684,-461 1684,-461 1690,-461 1696,-467 1696,-473 1696,-473 1696,-532 1696,-532 1696,-538 1690,-544 1684,-544\"/>\n<text text-anchor=\"start\" x=\"1497\" y=\"-528.8\" font-family=\"Helvetica,sans-Serif\" font-size=\"14.00\" fill=\"#000000\">High School or Below ≤ 0.128</text>\n<text text-anchor=\"start\" x=\"1554.5\" y=\"-513.8\" font-family=\"Helvetica,sans-Serif\" font-size=\"14.00\" fill=\"#000000\">gini = 0.245</text>\n<text text-anchor=\"start\" x=\"1553\" y=\"-498.8\" font-family=\"Helvetica,sans-Serif\" font-size=\"14.00\" fill=\"#000000\">samples = 7</text>\n<text text-anchor=\"start\" x=\"1551\" y=\"-483.8\" font-family=\"Helvetica,sans-Serif\" font-size=\"14.00\" fill=\"#000000\">value = [6, 1]</text>\n<text text-anchor=\"start\" x=\"1566\" y=\"-468.8\" font-family=\"Helvetica,sans-Serif\" font-size=\"14.00\" fill=\"#000000\">class = l</text>\n</g>\n<!-- 76&#45;&gt;77 -->\n<g id=\"edge77\" class=\"edge\">\n<title>76&#45;&gt;77</title>\n<path fill=\"none\" stroke=\"#000000\" d=\"M1721.2338,-581.8747C1704.519,-571.5687 1686.3465,-560.3639 1669.0657,-549.7089\"/>\n<polygon fill=\"#000000\" stroke=\"#000000\" points=\"1670.4717,-546.464 1660.1228,-544.1949 1666.7979,-552.4225 1670.4717,-546.464\"/>\n</g>\n<!-- 82 -->\n<g id=\"node83\" class=\"node\">\n<title>82</title>\n<path fill=\"#f2c09c\" stroke=\"#000000\" d=\"M1827,-544C1827,-544 1744,-544 1744,-544 1738,-544 1732,-538 1732,-532 1732,-532 1732,-473 1732,-473 1732,-467 1738,-461 1744,-461 1744,-461 1827,-461 1827,-461 1833,-461 1839,-467 1839,-473 1839,-473 1839,-532 1839,-532 1839,-538 1833,-544 1827,-544\"/>\n<text text-anchor=\"start\" x=\"1740\" y=\"-528.8\" font-family=\"Helvetica,sans-Serif\" font-size=\"14.00\" fill=\"#000000\">college ≤ 0.14</text>\n<text text-anchor=\"start\" x=\"1747.5\" y=\"-513.8\" font-family=\"Helvetica,sans-Serif\" font-size=\"14.00\" fill=\"#000000\">gini = 0.444</text>\n<text text-anchor=\"start\" x=\"1741.5\" y=\"-498.8\" font-family=\"Helvetica,sans-Serif\" font-size=\"14.00\" fill=\"#000000\">samples = 15</text>\n<text text-anchor=\"start\" x=\"1740\" y=\"-483.8\" font-family=\"Helvetica,sans-Serif\" font-size=\"14.00\" fill=\"#000000\">value = [10, 5]</text>\n<text text-anchor=\"start\" x=\"1759\" y=\"-468.8\" font-family=\"Helvetica,sans-Serif\" font-size=\"14.00\" fill=\"#000000\">class = l</text>\n</g>\n<!-- 76&#45;&gt;82 -->\n<g id=\"edge82\" class=\"edge\">\n<title>76&#45;&gt;82</title>\n<path fill=\"none\" stroke=\"#000000\" d=\"M1785.5,-579.8796C1785.5,-571.6838 1785.5,-562.9891 1785.5,-554.5013\"/>\n<polygon fill=\"#000000\" stroke=\"#000000\" points=\"1789.0001,-554.298 1785.5,-544.2981 1782.0001,-554.2981 1789.0001,-554.298\"/>\n</g>\n<!-- 78 -->\n<g id=\"node79\" class=\"node\">\n<title>78</title>\n<path fill=\"#e58139\" stroke=\"#000000\" d=\"M1485,-417.5C1485,-417.5 1410,-417.5 1410,-417.5 1404,-417.5 1398,-411.5 1398,-405.5 1398,-405.5 1398,-361.5 1398,-361.5 1398,-355.5 1404,-349.5 1410,-349.5 1410,-349.5 1485,-349.5 1485,-349.5 1491,-349.5 1497,-355.5 1497,-361.5 1497,-361.5 1497,-405.5 1497,-405.5 1497,-411.5 1491,-417.5 1485,-417.5\"/>\n<text text-anchor=\"start\" x=\"1418\" y=\"-402.3\" font-family=\"Helvetica,sans-Serif\" font-size=\"14.00\" fill=\"#000000\">gini = 0.0</text>\n<text text-anchor=\"start\" x=\"1408\" y=\"-387.3\" font-family=\"Helvetica,sans-Serif\" font-size=\"14.00\" fill=\"#000000\">samples = 3</text>\n<text text-anchor=\"start\" x=\"1406\" y=\"-372.3\" font-family=\"Helvetica,sans-Serif\" font-size=\"14.00\" fill=\"#000000\">value = [3, 0]</text>\n<text text-anchor=\"start\" x=\"1421\" y=\"-357.3\" font-family=\"Helvetica,sans-Serif\" font-size=\"14.00\" fill=\"#000000\">class = l</text>\n</g>\n<!-- 77&#45;&gt;78 -->\n<g id=\"edge78\" class=\"edge\">\n<title>77&#45;&gt;78</title>\n<path fill=\"none\" stroke=\"#000000\" d=\"M1541.786,-460.8796C1527.3156,-449.0038 1511.5686,-436.0804 1497.1617,-424.2568\"/>\n<polygon fill=\"#000000\" stroke=\"#000000\" points=\"1499.2628,-421.4534 1489.3123,-417.8149 1494.822,-426.8645 1499.2628,-421.4534\"/>\n</g>\n<!-- 79 -->\n<g id=\"node80\" class=\"node\">\n<title>79</title>\n<path fill=\"#eeab7b\" stroke=\"#000000\" d=\"M1602,-425C1602,-425 1527,-425 1527,-425 1521,-425 1515,-419 1515,-413 1515,-413 1515,-354 1515,-354 1515,-348 1521,-342 1527,-342 1527,-342 1602,-342 1602,-342 1608,-342 1614,-348 1614,-354 1614,-354 1614,-413 1614,-413 1614,-419 1608,-425 1602,-425\"/>\n<text text-anchor=\"start\" x=\"1523.5\" y=\"-409.8\" font-family=\"Helvetica,sans-Serif\" font-size=\"14.00\" fill=\"#000000\">age ≤ &#45;0.239</text>\n<text text-anchor=\"start\" x=\"1526.5\" y=\"-394.8\" font-family=\"Helvetica,sans-Serif\" font-size=\"14.00\" fill=\"#000000\">gini = 0.375</text>\n<text text-anchor=\"start\" x=\"1525\" y=\"-379.8\" font-family=\"Helvetica,sans-Serif\" font-size=\"14.00\" fill=\"#000000\">samples = 4</text>\n<text text-anchor=\"start\" x=\"1523\" y=\"-364.8\" font-family=\"Helvetica,sans-Serif\" font-size=\"14.00\" fill=\"#000000\">value = [3, 1]</text>\n<text text-anchor=\"start\" x=\"1538\" y=\"-349.8\" font-family=\"Helvetica,sans-Serif\" font-size=\"14.00\" fill=\"#000000\">class = l</text>\n</g>\n<!-- 77&#45;&gt;79 -->\n<g id=\"edge79\" class=\"edge\">\n<title>77&#45;&gt;79</title>\n<path fill=\"none\" stroke=\"#000000\" d=\"M1582.707,-460.8796C1580.7574,-452.5938 1578.6878,-443.798 1576.6698,-435.2216\"/>\n<polygon fill=\"#000000\" stroke=\"#000000\" points=\"1580.0323,-434.2306 1574.3348,-425.2981 1573.2183,-435.8339 1580.0323,-434.2306\"/>\n</g>\n<!-- 80 -->\n<g id=\"node81\" class=\"node\">\n<title>80</title>\n<path fill=\"#f2c09c\" stroke=\"#000000\" d=\"M1471,-298.5C1471,-298.5 1396,-298.5 1396,-298.5 1390,-298.5 1384,-292.5 1384,-286.5 1384,-286.5 1384,-242.5 1384,-242.5 1384,-236.5 1390,-230.5 1396,-230.5 1396,-230.5 1471,-230.5 1471,-230.5 1477,-230.5 1483,-236.5 1483,-242.5 1483,-242.5 1483,-286.5 1483,-286.5 1483,-292.5 1477,-298.5 1471,-298.5\"/>\n<text text-anchor=\"start\" x=\"1395.5\" y=\"-283.3\" font-family=\"Helvetica,sans-Serif\" font-size=\"14.00\" fill=\"#000000\">gini = 0.444</text>\n<text text-anchor=\"start\" x=\"1394\" y=\"-268.3\" font-family=\"Helvetica,sans-Serif\" font-size=\"14.00\" fill=\"#000000\">samples = 3</text>\n<text text-anchor=\"start\" x=\"1392\" y=\"-253.3\" font-family=\"Helvetica,sans-Serif\" font-size=\"14.00\" fill=\"#000000\">value = [2, 1]</text>\n<text text-anchor=\"start\" x=\"1407\" y=\"-238.3\" font-family=\"Helvetica,sans-Serif\" font-size=\"14.00\" fill=\"#000000\">class = l</text>\n</g>\n<!-- 79&#45;&gt;80 -->\n<g id=\"edge80\" class=\"edge\">\n<title>79&#45;&gt;80</title>\n<path fill=\"none\" stroke=\"#000000\" d=\"M1518.6826,-341.8796C1505.7303,-330.1138 1491.646,-317.3197 1478.7286,-305.5855\"/>\n<polygon fill=\"#000000\" stroke=\"#000000\" points=\"1481.0306,-302.9482 1471.2753,-298.8149 1476.3239,-308.1296 1481.0306,-302.9482\"/>\n</g>\n<!-- 81 -->\n<g id=\"node82\" class=\"node\">\n<title>81</title>\n<path fill=\"#e58139\" stroke=\"#000000\" d=\"M1588,-298.5C1588,-298.5 1513,-298.5 1513,-298.5 1507,-298.5 1501,-292.5 1501,-286.5 1501,-286.5 1501,-242.5 1501,-242.5 1501,-236.5 1507,-230.5 1513,-230.5 1513,-230.5 1588,-230.5 1588,-230.5 1594,-230.5 1600,-236.5 1600,-242.5 1600,-242.5 1600,-286.5 1600,-286.5 1600,-292.5 1594,-298.5 1588,-298.5\"/>\n<text text-anchor=\"start\" x=\"1521\" y=\"-283.3\" font-family=\"Helvetica,sans-Serif\" font-size=\"14.00\" fill=\"#000000\">gini = 0.0</text>\n<text text-anchor=\"start\" x=\"1511\" y=\"-268.3\" font-family=\"Helvetica,sans-Serif\" font-size=\"14.00\" fill=\"#000000\">samples = 1</text>\n<text text-anchor=\"start\" x=\"1509\" y=\"-253.3\" font-family=\"Helvetica,sans-Serif\" font-size=\"14.00\" fill=\"#000000\">value = [1, 0]</text>\n<text text-anchor=\"start\" x=\"1524\" y=\"-238.3\" font-family=\"Helvetica,sans-Serif\" font-size=\"14.00\" fill=\"#000000\">class = l</text>\n</g>\n<!-- 79&#45;&gt;81 -->\n<g id=\"edge81\" class=\"edge\">\n<title>79&#45;&gt;81</title>\n<path fill=\"none\" stroke=\"#000000\" d=\"M1559.6035,-341.8796C1558.3486,-331.2134 1556.9944,-319.7021 1555.7237,-308.9015\"/>\n<polygon fill=\"#000000\" stroke=\"#000000\" points=\"1559.1816,-308.3375 1554.5371,-298.8149 1552.2295,-309.1554 1559.1816,-308.3375\"/>\n</g>\n<!-- 83 -->\n<g id=\"node84\" class=\"node\">\n<title>83</title>\n<path fill=\"#eca06a\" stroke=\"#000000\" d=\"M1820,-425C1820,-425 1745,-425 1745,-425 1739,-425 1733,-419 1733,-413 1733,-413 1733,-354 1733,-354 1733,-348 1739,-342 1745,-342 1745,-342 1820,-342 1820,-342 1826,-342 1832,-348 1832,-354 1832,-354 1832,-413 1832,-413 1832,-419 1826,-425 1820,-425\"/>\n<text text-anchor=\"start\" x=\"1741.5\" y=\"-409.8\" font-family=\"Helvetica,sans-Serif\" font-size=\"14.00\" fill=\"#000000\">age ≤ &#45;0.239</text>\n<text text-anchor=\"start\" x=\"1749\" y=\"-394.8\" font-family=\"Helvetica,sans-Serif\" font-size=\"14.00\" fill=\"#000000\">gini = 0.32</text>\n<text text-anchor=\"start\" x=\"1743\" y=\"-379.8\" font-family=\"Helvetica,sans-Serif\" font-size=\"14.00\" fill=\"#000000\">samples = 5</text>\n<text text-anchor=\"start\" x=\"1741\" y=\"-364.8\" font-family=\"Helvetica,sans-Serif\" font-size=\"14.00\" fill=\"#000000\">value = [4, 1]</text>\n<text text-anchor=\"start\" x=\"1756\" y=\"-349.8\" font-family=\"Helvetica,sans-Serif\" font-size=\"14.00\" fill=\"#000000\">class = l</text>\n</g>\n<!-- 82&#45;&gt;83 -->\n<g id=\"edge83\" class=\"edge\">\n<title>82&#45;&gt;83</title>\n<path fill=\"none\" stroke=\"#000000\" d=\"M1784.4507,-460.8796C1784.2441,-452.6838 1784.0249,-443.9891 1783.811,-435.5013\"/>\n<polygon fill=\"#000000\" stroke=\"#000000\" points=\"1787.3047,-435.2067 1783.5537,-425.2981 1780.307,-435.3831 1787.3047,-435.2067\"/>\n</g>\n<!-- 86 -->\n<g id=\"node87\" class=\"node\">\n<title>86</title>\n<path fill=\"#f6d5bd\" stroke=\"#000000\" d=\"M1942.5,-425C1942.5,-425 1862.5,-425 1862.5,-425 1856.5,-425 1850.5,-419 1850.5,-413 1850.5,-413 1850.5,-354 1850.5,-354 1850.5,-348 1856.5,-342 1862.5,-342 1862.5,-342 1942.5,-342 1942.5,-342 1948.5,-342 1954.5,-348 1954.5,-354 1954.5,-354 1954.5,-413 1954.5,-413 1954.5,-419 1948.5,-425 1942.5,-425\"/>\n<text text-anchor=\"start\" x=\"1861.5\" y=\"-409.8\" font-family=\"Helvetica,sans-Serif\" font-size=\"14.00\" fill=\"#000000\">age ≤ &#45;0.073</text>\n<text text-anchor=\"start\" x=\"1869\" y=\"-394.8\" font-family=\"Helvetica,sans-Serif\" font-size=\"14.00\" fill=\"#000000\">gini = 0.48</text>\n<text text-anchor=\"start\" x=\"1858.5\" y=\"-379.8\" font-family=\"Helvetica,sans-Serif\" font-size=\"14.00\" fill=\"#000000\">samples = 10</text>\n<text text-anchor=\"start\" x=\"1861\" y=\"-364.8\" font-family=\"Helvetica,sans-Serif\" font-size=\"14.00\" fill=\"#000000\">value = [6, 4]</text>\n<text text-anchor=\"start\" x=\"1876\" y=\"-349.8\" font-family=\"Helvetica,sans-Serif\" font-size=\"14.00\" fill=\"#000000\">class = l</text>\n</g>\n<!-- 82&#45;&gt;86 -->\n<g id=\"edge86\" class=\"edge\">\n<title>82&#45;&gt;86</title>\n<path fill=\"none\" stroke=\"#000000\" d=\"M1826.4209,-460.8796C1835.453,-451.6931 1845.1013,-441.8798 1854.3888,-432.4336\"/>\n<polygon fill=\"#000000\" stroke=\"#000000\" points=\"1856.8893,-434.8827 1861.4044,-425.2981 1851.8977,-429.975 1856.8893,-434.8827\"/>\n</g>\n<!-- 84 -->\n<g id=\"node85\" class=\"node\">\n<title>84</title>\n<path fill=\"#ffffff\" stroke=\"#000000\" d=\"M1705,-298.5C1705,-298.5 1630,-298.5 1630,-298.5 1624,-298.5 1618,-292.5 1618,-286.5 1618,-286.5 1618,-242.5 1618,-242.5 1618,-236.5 1624,-230.5 1630,-230.5 1630,-230.5 1705,-230.5 1705,-230.5 1711,-230.5 1717,-236.5 1717,-242.5 1717,-242.5 1717,-286.5 1717,-286.5 1717,-292.5 1711,-298.5 1705,-298.5\"/>\n<text text-anchor=\"start\" x=\"1638\" y=\"-283.3\" font-family=\"Helvetica,sans-Serif\" font-size=\"14.00\" fill=\"#000000\">gini = 0.5</text>\n<text text-anchor=\"start\" x=\"1628\" y=\"-268.3\" font-family=\"Helvetica,sans-Serif\" font-size=\"14.00\" fill=\"#000000\">samples = 2</text>\n<text text-anchor=\"start\" x=\"1626\" y=\"-253.3\" font-family=\"Helvetica,sans-Serif\" font-size=\"14.00\" fill=\"#000000\">value = [1, 1]</text>\n<text text-anchor=\"start\" x=\"1641\" y=\"-238.3\" font-family=\"Helvetica,sans-Serif\" font-size=\"14.00\" fill=\"#000000\">class = l</text>\n</g>\n<!-- 83&#45;&gt;84 -->\n<g id=\"edge84\" class=\"edge\">\n<title>83&#45;&gt;84</title>\n<path fill=\"none\" stroke=\"#000000\" d=\"M1742.2786,-341.8796C1731.1208,-330.3337 1719.0061,-317.7976 1707.8414,-306.2446\"/>\n<polygon fill=\"#000000\" stroke=\"#000000\" points=\"1710.1275,-303.5736 1700.6615,-298.8149 1705.0939,-308.4381 1710.1275,-303.5736\"/>\n</g>\n<!-- 85 -->\n<g id=\"node86\" class=\"node\">\n<title>85</title>\n<path fill=\"#e58139\" stroke=\"#000000\" d=\"M1822,-298.5C1822,-298.5 1747,-298.5 1747,-298.5 1741,-298.5 1735,-292.5 1735,-286.5 1735,-286.5 1735,-242.5 1735,-242.5 1735,-236.5 1741,-230.5 1747,-230.5 1747,-230.5 1822,-230.5 1822,-230.5 1828,-230.5 1834,-236.5 1834,-242.5 1834,-242.5 1834,-286.5 1834,-286.5 1834,-292.5 1828,-298.5 1822,-298.5\"/>\n<text text-anchor=\"start\" x=\"1755\" y=\"-283.3\" font-family=\"Helvetica,sans-Serif\" font-size=\"14.00\" fill=\"#000000\">gini = 0.0</text>\n<text text-anchor=\"start\" x=\"1745\" y=\"-268.3\" font-family=\"Helvetica,sans-Serif\" font-size=\"14.00\" fill=\"#000000\">samples = 3</text>\n<text text-anchor=\"start\" x=\"1743\" y=\"-253.3\" font-family=\"Helvetica,sans-Serif\" font-size=\"14.00\" fill=\"#000000\">value = [3, 0]</text>\n<text text-anchor=\"start\" x=\"1758\" y=\"-238.3\" font-family=\"Helvetica,sans-Serif\" font-size=\"14.00\" fill=\"#000000\">class = l</text>\n</g>\n<!-- 83&#45;&gt;85 -->\n<g id=\"edge85\" class=\"edge\">\n<title>83&#45;&gt;85</title>\n<path fill=\"none\" stroke=\"#000000\" d=\"M1783.1995,-341.8796C1783.3788,-331.2134 1783.5722,-319.7021 1783.7538,-308.9015\"/>\n<polygon fill=\"#000000\" stroke=\"#000000\" points=\"1787.2546,-308.8724 1783.9233,-298.8149 1780.2556,-308.7547 1787.2546,-308.8724\"/>\n</g>\n<!-- 87 -->\n<g id=\"node88\" class=\"node\">\n<title>87</title>\n<path fill=\"#f5cdb0\" stroke=\"#000000\" d=\"M1939,-306C1939,-306 1864,-306 1864,-306 1858,-306 1852,-300 1852,-294 1852,-294 1852,-235 1852,-235 1852,-229 1858,-223 1864,-223 1864,-223 1939,-223 1939,-223 1945,-223 1951,-229 1951,-235 1951,-235 1951,-294 1951,-294 1951,-300 1945,-306 1939,-306\"/>\n<text text-anchor=\"start\" x=\"1860.5\" y=\"-290.8\" font-family=\"Helvetica,sans-Serif\" font-size=\"14.00\" fill=\"#000000\">age ≤ &#45;0.239</text>\n<text text-anchor=\"start\" x=\"1863.5\" y=\"-275.8\" font-family=\"Helvetica,sans-Serif\" font-size=\"14.00\" fill=\"#000000\">gini = 0.469</text>\n<text text-anchor=\"start\" x=\"1862\" y=\"-260.8\" font-family=\"Helvetica,sans-Serif\" font-size=\"14.00\" fill=\"#000000\">samples = 8</text>\n<text text-anchor=\"start\" x=\"1860\" y=\"-245.8\" font-family=\"Helvetica,sans-Serif\" font-size=\"14.00\" fill=\"#000000\">value = [5, 3]</text>\n<text text-anchor=\"start\" x=\"1875\" y=\"-230.8\" font-family=\"Helvetica,sans-Serif\" font-size=\"14.00\" fill=\"#000000\">class = l</text>\n</g>\n<!-- 86&#45;&gt;87 -->\n<g id=\"edge87\" class=\"edge\">\n<title>86&#45;&gt;87</title>\n<path fill=\"none\" stroke=\"#000000\" d=\"M1902.1502,-341.8796C1902.0814,-333.6838 1902.0083,-324.9891 1901.937,-316.5013\"/>\n<polygon fill=\"#000000\" stroke=\"#000000\" points=\"1905.4352,-316.2683 1901.8512,-306.2981 1898.4355,-316.3272 1905.4352,-316.2683\"/>\n</g>\n<!-- 90 -->\n<g id=\"node91\" class=\"node\">\n<title>90</title>\n<path fill=\"#ffffff\" stroke=\"#000000\" d=\"M2056,-298.5C2056,-298.5 1981,-298.5 1981,-298.5 1975,-298.5 1969,-292.5 1969,-286.5 1969,-286.5 1969,-242.5 1969,-242.5 1969,-236.5 1975,-230.5 1981,-230.5 1981,-230.5 2056,-230.5 2056,-230.5 2062,-230.5 2068,-236.5 2068,-242.5 2068,-242.5 2068,-286.5 2068,-286.5 2068,-292.5 2062,-298.5 2056,-298.5\"/>\n<text text-anchor=\"start\" x=\"1989\" y=\"-283.3\" font-family=\"Helvetica,sans-Serif\" font-size=\"14.00\" fill=\"#000000\">gini = 0.5</text>\n<text text-anchor=\"start\" x=\"1979\" y=\"-268.3\" font-family=\"Helvetica,sans-Serif\" font-size=\"14.00\" fill=\"#000000\">samples = 2</text>\n<text text-anchor=\"start\" x=\"1977\" y=\"-253.3\" font-family=\"Helvetica,sans-Serif\" font-size=\"14.00\" fill=\"#000000\">value = [1, 1]</text>\n<text text-anchor=\"start\" x=\"1992\" y=\"-238.3\" font-family=\"Helvetica,sans-Serif\" font-size=\"14.00\" fill=\"#000000\">class = l</text>\n</g>\n<!-- 86&#45;&gt;90 -->\n<g id=\"edge90\" class=\"edge\">\n<title>86&#45;&gt;90</title>\n<path fill=\"none\" stroke=\"#000000\" d=\"M1943.0712,-341.8796C1954.326,-330.3337 1966.5461,-317.7976 1977.8078,-306.2446\"/>\n<polygon fill=\"#000000\" stroke=\"#000000\" points=\"1980.5762,-308.4188 1985.0501,-298.8149 1975.5636,-303.5326 1980.5762,-308.4188\"/>\n</g>\n<!-- 88 -->\n<g id=\"node89\" class=\"node\">\n<title>88</title>\n<path fill=\"#f2c09c\" stroke=\"#000000\" d=\"M1880,-179.5C1880,-179.5 1805,-179.5 1805,-179.5 1799,-179.5 1793,-173.5 1793,-167.5 1793,-167.5 1793,-123.5 1793,-123.5 1793,-117.5 1799,-111.5 1805,-111.5 1805,-111.5 1880,-111.5 1880,-111.5 1886,-111.5 1892,-117.5 1892,-123.5 1892,-123.5 1892,-167.5 1892,-167.5 1892,-173.5 1886,-179.5 1880,-179.5\"/>\n<text text-anchor=\"start\" x=\"1804.5\" y=\"-164.3\" font-family=\"Helvetica,sans-Serif\" font-size=\"14.00\" fill=\"#000000\">gini = 0.444</text>\n<text text-anchor=\"start\" x=\"1803\" y=\"-149.3\" font-family=\"Helvetica,sans-Serif\" font-size=\"14.00\" fill=\"#000000\">samples = 3</text>\n<text text-anchor=\"start\" x=\"1801\" y=\"-134.3\" font-family=\"Helvetica,sans-Serif\" font-size=\"14.00\" fill=\"#000000\">value = [2, 1]</text>\n<text text-anchor=\"start\" x=\"1816\" y=\"-119.3\" font-family=\"Helvetica,sans-Serif\" font-size=\"14.00\" fill=\"#000000\">class = l</text>\n</g>\n<!-- 87&#45;&gt;88 -->\n<g id=\"edge88\" class=\"edge\">\n<title>87&#45;&gt;88</title>\n<path fill=\"none\" stroke=\"#000000\" d=\"M1880.8647,-222.8796C1875.4128,-211.8835 1869.5157,-199.9893 1864.0184,-188.9015\"/>\n<polygon fill=\"#000000\" stroke=\"#000000\" points=\"1867.0911,-187.2195 1859.5133,-179.8149 1860.8196,-190.3289 1867.0911,-187.2195\"/>\n</g>\n<!-- 89 -->\n<g id=\"node90\" class=\"node\">\n<title>89</title>\n<path fill=\"#f6d5bd\" stroke=\"#000000\" d=\"M1997,-179.5C1997,-179.5 1922,-179.5 1922,-179.5 1916,-179.5 1910,-173.5 1910,-167.5 1910,-167.5 1910,-123.5 1910,-123.5 1910,-117.5 1916,-111.5 1922,-111.5 1922,-111.5 1997,-111.5 1997,-111.5 2003,-111.5 2009,-117.5 2009,-123.5 2009,-123.5 2009,-167.5 2009,-167.5 2009,-173.5 2003,-179.5 1997,-179.5\"/>\n<text text-anchor=\"start\" x=\"1926\" y=\"-164.3\" font-family=\"Helvetica,sans-Serif\" font-size=\"14.00\" fill=\"#000000\">gini = 0.48</text>\n<text text-anchor=\"start\" x=\"1920\" y=\"-149.3\" font-family=\"Helvetica,sans-Serif\" font-size=\"14.00\" fill=\"#000000\">samples = 5</text>\n<text text-anchor=\"start\" x=\"1918\" y=\"-134.3\" font-family=\"Helvetica,sans-Serif\" font-size=\"14.00\" fill=\"#000000\">value = [3, 2]</text>\n<text text-anchor=\"start\" x=\"1933\" y=\"-119.3\" font-family=\"Helvetica,sans-Serif\" font-size=\"14.00\" fill=\"#000000\">class = l</text>\n</g>\n<!-- 87&#45;&gt;89 -->\n<g id=\"edge89\" class=\"edge\">\n<title>87&#45;&gt;89</title>\n<path fill=\"none\" stroke=\"#000000\" d=\"M1921.7856,-222.8796C1927.145,-211.8835 1932.9422,-199.9893 1938.3463,-188.9015\"/>\n<polygon fill=\"#000000\" stroke=\"#000000\" points=\"1941.54,-190.3375 1942.7751,-179.8149 1935.2476,-187.2706 1941.54,-190.3375\"/>\n</g>\n<!-- 92 -->\n<g id=\"node93\" class=\"node\">\n<title>92</title>\n<path fill=\"#399de5\" stroke=\"#000000\" d=\"M1962,-536.5C1962,-536.5 1887,-536.5 1887,-536.5 1881,-536.5 1875,-530.5 1875,-524.5 1875,-524.5 1875,-480.5 1875,-480.5 1875,-474.5 1881,-468.5 1887,-468.5 1887,-468.5 1962,-468.5 1962,-468.5 1968,-468.5 1974,-474.5 1974,-480.5 1974,-480.5 1974,-524.5 1974,-524.5 1974,-530.5 1968,-536.5 1962,-536.5\"/>\n<text text-anchor=\"start\" x=\"1895\" y=\"-521.3\" font-family=\"Helvetica,sans-Serif\" font-size=\"14.00\" fill=\"#000000\">gini = 0.0</text>\n<text text-anchor=\"start\" x=\"1885\" y=\"-506.3\" font-family=\"Helvetica,sans-Serif\" font-size=\"14.00\" fill=\"#000000\">samples = 2</text>\n<text text-anchor=\"start\" x=\"1883\" y=\"-491.3\" font-family=\"Helvetica,sans-Serif\" font-size=\"14.00\" fill=\"#000000\">value = [0, 2]</text>\n<text text-anchor=\"start\" x=\"1895.5\" y=\"-476.3\" font-family=\"Helvetica,sans-Serif\" font-size=\"14.00\" fill=\"#000000\">class = o</text>\n</g>\n<!-- 91&#45;&gt;92 -->\n<g id=\"edge92\" class=\"edge\">\n<title>91&#45;&gt;92</title>\n<path fill=\"none\" stroke=\"#000000\" d=\"M1930.3522,-579.8796C1929.5455,-569.2134 1928.6749,-557.7021 1927.8581,-546.9015\"/>\n<polygon fill=\"#000000\" stroke=\"#000000\" points=\"1931.3395,-546.5225 1927.0952,-536.8149 1924.3595,-547.0504 1931.3395,-546.5225\"/>\n</g>\n<!-- 93 -->\n<g id=\"node94\" class=\"node\">\n<title>93</title>\n<path fill=\"#ffffff\" stroke=\"#000000\" d=\"M2079,-536.5C2079,-536.5 2004,-536.5 2004,-536.5 1998,-536.5 1992,-530.5 1992,-524.5 1992,-524.5 1992,-480.5 1992,-480.5 1992,-474.5 1998,-468.5 2004,-468.5 2004,-468.5 2079,-468.5 2079,-468.5 2085,-468.5 2091,-474.5 2091,-480.5 2091,-480.5 2091,-524.5 2091,-524.5 2091,-530.5 2085,-536.5 2079,-536.5\"/>\n<text text-anchor=\"start\" x=\"2012\" y=\"-521.3\" font-family=\"Helvetica,sans-Serif\" font-size=\"14.00\" fill=\"#000000\">gini = 0.5</text>\n<text text-anchor=\"start\" x=\"2002\" y=\"-506.3\" font-family=\"Helvetica,sans-Serif\" font-size=\"14.00\" fill=\"#000000\">samples = 2</text>\n<text text-anchor=\"start\" x=\"2000\" y=\"-491.3\" font-family=\"Helvetica,sans-Serif\" font-size=\"14.00\" fill=\"#000000\">value = [1, 1]</text>\n<text text-anchor=\"start\" x=\"2015\" y=\"-476.3\" font-family=\"Helvetica,sans-Serif\" font-size=\"14.00\" fill=\"#000000\">class = l</text>\n</g>\n<!-- 91&#45;&gt;93 -->\n<g id=\"edge93\" class=\"edge\">\n<title>91&#45;&gt;93</title>\n<path fill=\"none\" stroke=\"#000000\" d=\"M1971.2732,-579.8796C1981.7518,-568.3337 1993.1291,-555.7976 2003.6141,-544.2446\"/>\n<polygon fill=\"#000000\" stroke=\"#000000\" points=\"2006.2282,-546.5722 2010.357,-536.8149 2001.0447,-541.8678 2006.2282,-546.5722\"/>\n</g>\n<!-- 95 -->\n<g id=\"node96\" class=\"node\">\n<title>95</title>\n<path fill=\"#e58139\" stroke=\"#000000\" d=\"M2103,-655.5C2103,-655.5 2028,-655.5 2028,-655.5 2022,-655.5 2016,-649.5 2016,-643.5 2016,-643.5 2016,-599.5 2016,-599.5 2016,-593.5 2022,-587.5 2028,-587.5 2028,-587.5 2103,-587.5 2103,-587.5 2109,-587.5 2115,-593.5 2115,-599.5 2115,-599.5 2115,-643.5 2115,-643.5 2115,-649.5 2109,-655.5 2103,-655.5\"/>\n<text text-anchor=\"start\" x=\"2036\" y=\"-640.3\" font-family=\"Helvetica,sans-Serif\" font-size=\"14.00\" fill=\"#000000\">gini = 0.0</text>\n<text text-anchor=\"start\" x=\"2026\" y=\"-625.3\" font-family=\"Helvetica,sans-Serif\" font-size=\"14.00\" fill=\"#000000\">samples = 4</text>\n<text text-anchor=\"start\" x=\"2024\" y=\"-610.3\" font-family=\"Helvetica,sans-Serif\" font-size=\"14.00\" fill=\"#000000\">value = [4, 0]</text>\n<text text-anchor=\"start\" x=\"2039\" y=\"-595.3\" font-family=\"Helvetica,sans-Serif\" font-size=\"14.00\" fill=\"#000000\">class = l</text>\n</g>\n<!-- 94&#45;&gt;95 -->\n<g id=\"edge95\" class=\"edge\">\n<title>94&#45;&gt;95</title>\n<path fill=\"none\" stroke=\"#000000\" d=\"M2065.5,-698.8796C2065.5,-688.2134 2065.5,-676.7021 2065.5,-665.9015\"/>\n<polygon fill=\"#000000\" stroke=\"#000000\" points=\"2069.0001,-665.8149 2065.5,-655.8149 2062.0001,-665.815 2069.0001,-665.8149\"/>\n</g>\n<!-- 96 -->\n<g id=\"node97\" class=\"node\">\n<title>96</title>\n<path fill=\"#eeab7b\" stroke=\"#000000\" d=\"M2228,-663C2228,-663 2145,-663 2145,-663 2139,-663 2133,-657 2133,-651 2133,-651 2133,-592 2133,-592 2133,-586 2139,-580 2145,-580 2145,-580 2228,-580 2228,-580 2234,-580 2240,-586 2240,-592 2240,-592 2240,-651 2240,-651 2240,-657 2234,-663 2228,-663\"/>\n<text text-anchor=\"start\" x=\"2148\" y=\"-647.8\" font-family=\"Helvetica,sans-Serif\" font-size=\"14.00\" fill=\"#000000\">age ≤ 0.756</text>\n<text text-anchor=\"start\" x=\"2148.5\" y=\"-632.8\" font-family=\"Helvetica,sans-Serif\" font-size=\"14.00\" fill=\"#000000\">gini = 0.375</text>\n<text text-anchor=\"start\" x=\"2142.5\" y=\"-617.8\" font-family=\"Helvetica,sans-Serif\" font-size=\"14.00\" fill=\"#000000\">samples = 24</text>\n<text text-anchor=\"start\" x=\"2141\" y=\"-602.8\" font-family=\"Helvetica,sans-Serif\" font-size=\"14.00\" fill=\"#000000\">value = [18, 6]</text>\n<text text-anchor=\"start\" x=\"2160\" y=\"-587.8\" font-family=\"Helvetica,sans-Serif\" font-size=\"14.00\" fill=\"#000000\">class = l</text>\n</g>\n<!-- 94&#45;&gt;96 -->\n<g id=\"edge96\" class=\"edge\">\n<title>94&#45;&gt;96</title>\n<path fill=\"none\" stroke=\"#000000\" d=\"M2107.8199,-698.8796C2117.1608,-689.6931 2127.139,-679.8798 2136.744,-670.4336\"/>\n<polygon fill=\"#000000\" stroke=\"#000000\" points=\"2139.3238,-672.8054 2143.9994,-663.2981 2134.4155,-667.8146 2139.3238,-672.8054\"/>\n</g>\n<!-- 97 -->\n<g id=\"node98\" class=\"node\">\n<title>97</title>\n<path fill=\"#f2c09c\" stroke=\"#000000\" d=\"M2243.5,-544C2243.5,-544 2139.5,-544 2139.5,-544 2133.5,-544 2127.5,-538 2127.5,-532 2127.5,-532 2127.5,-473 2127.5,-473 2127.5,-467 2133.5,-461 2139.5,-461 2139.5,-461 2243.5,-461 2243.5,-461 2249.5,-461 2255.5,-467 2255.5,-473 2255.5,-473 2255.5,-532 2255.5,-532 2255.5,-538 2249.5,-544 2243.5,-544\"/>\n<text text-anchor=\"start\" x=\"2135.5\" y=\"-528.8\" font-family=\"Helvetica,sans-Serif\" font-size=\"14.00\" fill=\"#000000\">Principal ≤ &#45;0.399</text>\n<text text-anchor=\"start\" x=\"2153.5\" y=\"-513.8\" font-family=\"Helvetica,sans-Serif\" font-size=\"14.00\" fill=\"#000000\">gini = 0.444</text>\n<text text-anchor=\"start\" x=\"2147.5\" y=\"-498.8\" font-family=\"Helvetica,sans-Serif\" font-size=\"14.00\" fill=\"#000000\">samples = 12</text>\n<text text-anchor=\"start\" x=\"2150\" y=\"-483.8\" font-family=\"Helvetica,sans-Serif\" font-size=\"14.00\" fill=\"#000000\">value = [8, 4]</text>\n<text text-anchor=\"start\" x=\"2165\" y=\"-468.8\" font-family=\"Helvetica,sans-Serif\" font-size=\"14.00\" fill=\"#000000\">class = l</text>\n</g>\n<!-- 96&#45;&gt;97 -->\n<g id=\"edge97\" class=\"edge\">\n<title>96&#45;&gt;97</title>\n<path fill=\"none\" stroke=\"#000000\" d=\"M2188.2488,-579.8796C2188.5931,-571.6838 2188.9584,-562.9891 2189.3151,-554.5013\"/>\n<polygon fill=\"#000000\" stroke=\"#000000\" points=\"2192.8208,-554.4362 2189.7438,-544.2981 2185.827,-554.1423 2192.8208,-554.4362\"/>\n</g>\n<!-- 108 -->\n<g id=\"node109\" class=\"node\">\n<title>108</title>\n<path fill=\"#ea9a61\" stroke=\"#000000\" d=\"M2540,-544C2540,-544 2457,-544 2457,-544 2451,-544 2445,-538 2445,-532 2445,-532 2445,-473 2445,-473 2445,-467 2451,-461 2457,-461 2457,-461 2540,-461 2540,-461 2546,-461 2552,-467 2552,-473 2552,-473 2552,-532 2552,-532 2552,-538 2546,-544 2540,-544\"/>\n<text text-anchor=\"start\" x=\"2460\" y=\"-528.8\" font-family=\"Helvetica,sans-Serif\" font-size=\"14.00\" fill=\"#000000\">age ≤ 1.254</text>\n<text text-anchor=\"start\" x=\"2460.5\" y=\"-513.8\" font-family=\"Helvetica,sans-Serif\" font-size=\"14.00\" fill=\"#000000\">gini = 0.278</text>\n<text text-anchor=\"start\" x=\"2454.5\" y=\"-498.8\" font-family=\"Helvetica,sans-Serif\" font-size=\"14.00\" fill=\"#000000\">samples = 12</text>\n<text text-anchor=\"start\" x=\"2453\" y=\"-483.8\" font-family=\"Helvetica,sans-Serif\" font-size=\"14.00\" fill=\"#000000\">value = [10, 2]</text>\n<text text-anchor=\"start\" x=\"2472\" y=\"-468.8\" font-family=\"Helvetica,sans-Serif\" font-size=\"14.00\" fill=\"#000000\">class = l</text>\n</g>\n<!-- 96&#45;&gt;108 -->\n<g id=\"edge108\" class=\"edge\">\n<title>96&#45;&gt;108</title>\n<path fill=\"none\" stroke=\"#000000\" d=\"M2240.0548,-584.3245C2242.87,-582.7913 2245.6944,-581.3388 2248.5,-580 2309.0545,-551.104 2382.9249,-529.7589 2434.6054,-516.8673\"/>\n<polygon fill=\"#000000\" stroke=\"#000000\" points=\"2435.7596,-520.1878 2444.6351,-514.4019 2434.0886,-513.3902 2435.7596,-520.1878\"/>\n</g>\n<!-- 98 -->\n<g id=\"node99\" class=\"node\">\n<title>98</title>\n<path fill=\"#f6d5bd\" stroke=\"#000000\" d=\"M2283,-425C2283,-425 2100,-425 2100,-425 2094,-425 2088,-419 2088,-413 2088,-413 2088,-354 2088,-354 2088,-348 2094,-342 2100,-342 2100,-342 2283,-342 2283,-342 2289,-342 2295,-348 2295,-354 2295,-354 2295,-413 2295,-413 2295,-419 2289,-425 2283,-425\"/>\n<text text-anchor=\"start\" x=\"2096\" y=\"-409.8\" font-family=\"Helvetica,sans-Serif\" font-size=\"14.00\" fill=\"#000000\">High School or Below ≤ 0.128</text>\n<text text-anchor=\"start\" x=\"2158\" y=\"-394.8\" font-family=\"Helvetica,sans-Serif\" font-size=\"14.00\" fill=\"#000000\">gini = 0.48</text>\n<text text-anchor=\"start\" x=\"2152\" y=\"-379.8\" font-family=\"Helvetica,sans-Serif\" font-size=\"14.00\" fill=\"#000000\">samples = 5</text>\n<text text-anchor=\"start\" x=\"2150\" y=\"-364.8\" font-family=\"Helvetica,sans-Serif\" font-size=\"14.00\" fill=\"#000000\">value = [3, 2]</text>\n<text text-anchor=\"start\" x=\"2165\" y=\"-349.8\" font-family=\"Helvetica,sans-Serif\" font-size=\"14.00\" fill=\"#000000\">class = l</text>\n</g>\n<!-- 97&#45;&gt;98 -->\n<g id=\"edge98\" class=\"edge\">\n<title>97&#45;&gt;98</title>\n<path fill=\"none\" stroke=\"#000000\" d=\"M2191.5,-460.8796C2191.5,-452.6838 2191.5,-443.9891 2191.5,-435.5013\"/>\n<polygon fill=\"#000000\" stroke=\"#000000\" points=\"2195.0001,-435.298 2191.5,-425.2981 2188.0001,-435.2981 2195.0001,-435.298\"/>\n</g>\n<!-- 103 -->\n<g id=\"node104\" class=\"node\">\n<title>103</title>\n<path fill=\"#efb388\" stroke=\"#000000\" d=\"M2411,-425C2411,-425 2336,-425 2336,-425 2330,-425 2324,-419 2324,-413 2324,-413 2324,-354 2324,-354 2324,-348 2330,-342 2336,-342 2336,-342 2411,-342 2411,-342 2417,-342 2423,-348 2423,-354 2423,-354 2423,-413 2423,-413 2423,-419 2417,-425 2411,-425\"/>\n<text text-anchor=\"start\" x=\"2339\" y=\"-409.8\" font-family=\"Helvetica,sans-Serif\" font-size=\"14.00\" fill=\"#000000\">age ≤ 0.59</text>\n<text text-anchor=\"start\" x=\"2335.5\" y=\"-394.8\" font-family=\"Helvetica,sans-Serif\" font-size=\"14.00\" fill=\"#000000\">gini = 0.408</text>\n<text text-anchor=\"start\" x=\"2334\" y=\"-379.8\" font-family=\"Helvetica,sans-Serif\" font-size=\"14.00\" fill=\"#000000\">samples = 7</text>\n<text text-anchor=\"start\" x=\"2332\" y=\"-364.8\" font-family=\"Helvetica,sans-Serif\" font-size=\"14.00\" fill=\"#000000\">value = [5, 2]</text>\n<text text-anchor=\"start\" x=\"2347\" y=\"-349.8\" font-family=\"Helvetica,sans-Serif\" font-size=\"14.00\" fill=\"#000000\">class = l</text>\n</g>\n<!-- 97&#45;&gt;103 -->\n<g id=\"edge103\" class=\"edge\">\n<title>97&#45;&gt;103</title>\n<path fill=\"none\" stroke=\"#000000\" d=\"M2255.1548,-460.8796C2274.7993,-448.0351 2296.318,-433.9651 2315.5558,-421.3866\"/>\n<polygon fill=\"#000000\" stroke=\"#000000\" points=\"2317.4787,-424.3111 2323.933,-415.9092 2313.6479,-418.4523 2317.4787,-424.3111\"/>\n</g>\n<!-- 99 -->\n<g id=\"node100\" class=\"node\">\n<title>99</title>\n<path fill=\"#e58139\" stroke=\"#000000\" d=\"M2173,-298.5C2173,-298.5 2098,-298.5 2098,-298.5 2092,-298.5 2086,-292.5 2086,-286.5 2086,-286.5 2086,-242.5 2086,-242.5 2086,-236.5 2092,-230.5 2098,-230.5 2098,-230.5 2173,-230.5 2173,-230.5 2179,-230.5 2185,-236.5 2185,-242.5 2185,-242.5 2185,-286.5 2185,-286.5 2185,-292.5 2179,-298.5 2173,-298.5\"/>\n<text text-anchor=\"start\" x=\"2106\" y=\"-283.3\" font-family=\"Helvetica,sans-Serif\" font-size=\"14.00\" fill=\"#000000\">gini = 0.0</text>\n<text text-anchor=\"start\" x=\"2096\" y=\"-268.3\" font-family=\"Helvetica,sans-Serif\" font-size=\"14.00\" fill=\"#000000\">samples = 1</text>\n<text text-anchor=\"start\" x=\"2094\" y=\"-253.3\" font-family=\"Helvetica,sans-Serif\" font-size=\"14.00\" fill=\"#000000\">value = [1, 0]</text>\n<text text-anchor=\"start\" x=\"2109\" y=\"-238.3\" font-family=\"Helvetica,sans-Serif\" font-size=\"14.00\" fill=\"#000000\">class = l</text>\n</g>\n<!-- 98&#45;&gt;99 -->\n<g id=\"edge99\" class=\"edge\">\n<title>98&#45;&gt;99</title>\n<path fill=\"none\" stroke=\"#000000\" d=\"M2171.9139,-341.8796C2166.7393,-330.8835 2161.142,-318.9893 2155.9242,-307.9015\"/>\n<polygon fill=\"#000000\" stroke=\"#000000\" points=\"2159.0731,-306.3728 2151.6482,-298.8149 2152.7394,-309.3534 2159.0731,-306.3728\"/>\n</g>\n<!-- 100 -->\n<g id=\"node101\" class=\"node\">\n<title>100</title>\n<path fill=\"#ffffff\" stroke=\"#000000\" d=\"M2290,-306C2290,-306 2215,-306 2215,-306 2209,-306 2203,-300 2203,-294 2203,-294 2203,-235 2203,-235 2203,-229 2209,-223 2215,-223 2215,-223 2290,-223 2290,-223 2296,-223 2302,-229 2302,-235 2302,-235 2302,-294 2302,-294 2302,-300 2296,-306 2290,-306\"/>\n<text text-anchor=\"start\" x=\"2218\" y=\"-290.8\" font-family=\"Helvetica,sans-Serif\" font-size=\"14.00\" fill=\"#000000\">age ≤ 0.59</text>\n<text text-anchor=\"start\" x=\"2223\" y=\"-275.8\" font-family=\"Helvetica,sans-Serif\" font-size=\"14.00\" fill=\"#000000\">gini = 0.5</text>\n<text text-anchor=\"start\" x=\"2213\" y=\"-260.8\" font-family=\"Helvetica,sans-Serif\" font-size=\"14.00\" fill=\"#000000\">samples = 4</text>\n<text text-anchor=\"start\" x=\"2211\" y=\"-245.8\" font-family=\"Helvetica,sans-Serif\" font-size=\"14.00\" fill=\"#000000\">value = [2, 2]</text>\n<text text-anchor=\"start\" x=\"2226\" y=\"-230.8\" font-family=\"Helvetica,sans-Serif\" font-size=\"14.00\" fill=\"#000000\">class = l</text>\n</g>\n<!-- 98&#45;&gt;100 -->\n<g id=\"edge100\" class=\"edge\">\n<title>98&#45;&gt;100</title>\n<path fill=\"none\" stroke=\"#000000\" d=\"M2212.8348,-341.8796C2217.2207,-333.3236 2221.8853,-324.2238 2226.417,-315.3833\"/>\n<polygon fill=\"#000000\" stroke=\"#000000\" points=\"2229.627,-316.7936 2231.0741,-306.2981 2223.3978,-313.6004 2229.627,-316.7936\"/>\n</g>\n<!-- 101 -->\n<g id=\"node102\" class=\"node\">\n<title>101</title>\n<path fill=\"#e58139\" stroke=\"#000000\" d=\"M2174,-179.5C2174,-179.5 2099,-179.5 2099,-179.5 2093,-179.5 2087,-173.5 2087,-167.5 2087,-167.5 2087,-123.5 2087,-123.5 2087,-117.5 2093,-111.5 2099,-111.5 2099,-111.5 2174,-111.5 2174,-111.5 2180,-111.5 2186,-117.5 2186,-123.5 2186,-123.5 2186,-167.5 2186,-167.5 2186,-173.5 2180,-179.5 2174,-179.5\"/>\n<text text-anchor=\"start\" x=\"2107\" y=\"-164.3\" font-family=\"Helvetica,sans-Serif\" font-size=\"14.00\" fill=\"#000000\">gini = 0.0</text>\n<text text-anchor=\"start\" x=\"2097\" y=\"-149.3\" font-family=\"Helvetica,sans-Serif\" font-size=\"14.00\" fill=\"#000000\">samples = 1</text>\n<text text-anchor=\"start\" x=\"2095\" y=\"-134.3\" font-family=\"Helvetica,sans-Serif\" font-size=\"14.00\" fill=\"#000000\">value = [1, 0]</text>\n<text text-anchor=\"start\" x=\"2110\" y=\"-119.3\" font-family=\"Helvetica,sans-Serif\" font-size=\"14.00\" fill=\"#000000\">class = l</text>\n</g>\n<!-- 100&#45;&gt;101 -->\n<g id=\"edge101\" class=\"edge\">\n<title>100&#45;&gt;101</title>\n<path fill=\"none\" stroke=\"#000000\" d=\"M2211.9288,-222.8796C2200.674,-211.3337 2188.4539,-198.7976 2177.1922,-187.2446\"/>\n<polygon fill=\"#000000\" stroke=\"#000000\" points=\"2179.4364,-184.5326 2169.9499,-179.8149 2174.4238,-189.4188 2179.4364,-184.5326\"/>\n</g>\n<!-- 102 -->\n<g id=\"node103\" class=\"node\">\n<title>102</title>\n<path fill=\"#9ccef2\" stroke=\"#000000\" d=\"M2291,-179.5C2291,-179.5 2216,-179.5 2216,-179.5 2210,-179.5 2204,-173.5 2204,-167.5 2204,-167.5 2204,-123.5 2204,-123.5 2204,-117.5 2210,-111.5 2216,-111.5 2216,-111.5 2291,-111.5 2291,-111.5 2297,-111.5 2303,-117.5 2303,-123.5 2303,-123.5 2303,-167.5 2303,-167.5 2303,-173.5 2297,-179.5 2291,-179.5\"/>\n<text text-anchor=\"start\" x=\"2215.5\" y=\"-164.3\" font-family=\"Helvetica,sans-Serif\" font-size=\"14.00\" fill=\"#000000\">gini = 0.444</text>\n<text text-anchor=\"start\" x=\"2214\" y=\"-149.3\" font-family=\"Helvetica,sans-Serif\" font-size=\"14.00\" fill=\"#000000\">samples = 3</text>\n<text text-anchor=\"start\" x=\"2212\" y=\"-134.3\" font-family=\"Helvetica,sans-Serif\" font-size=\"14.00\" fill=\"#000000\">value = [1, 2]</text>\n<text text-anchor=\"start\" x=\"2224.5\" y=\"-119.3\" font-family=\"Helvetica,sans-Serif\" font-size=\"14.00\" fill=\"#000000\">class = o</text>\n</g>\n<!-- 100&#45;&gt;102 -->\n<g id=\"edge102\" class=\"edge\">\n<title>100&#45;&gt;102</title>\n<path fill=\"none\" stroke=\"#000000\" d=\"M2252.8498,-222.8796C2252.9394,-212.2134 2253.0361,-200.7021 2253.1269,-189.9015\"/>\n<polygon fill=\"#000000\" stroke=\"#000000\" points=\"2256.6274,-189.844 2253.2116,-179.8149 2249.6276,-189.7851 2256.6274,-189.844\"/>\n</g>\n<!-- 104 -->\n<g id=\"node105\" class=\"node\">\n<title>104</title>\n<path fill=\"#ffffff\" stroke=\"#000000\" d=\"M2415,-306C2415,-306 2332,-306 2332,-306 2326,-306 2320,-300 2320,-294 2320,-294 2320,-235 2320,-235 2320,-229 2326,-223 2332,-223 2332,-223 2415,-223 2415,-223 2421,-223 2427,-229 2427,-235 2427,-235 2427,-294 2427,-294 2427,-300 2421,-306 2415,-306\"/>\n<text text-anchor=\"start\" x=\"2328\" y=\"-290.8\" font-family=\"Helvetica,sans-Serif\" font-size=\"14.00\" fill=\"#000000\">college ≤ 0.14</text>\n<text text-anchor=\"start\" x=\"2344\" y=\"-275.8\" font-family=\"Helvetica,sans-Serif\" font-size=\"14.00\" fill=\"#000000\">gini = 0.5</text>\n<text text-anchor=\"start\" x=\"2334\" y=\"-260.8\" font-family=\"Helvetica,sans-Serif\" font-size=\"14.00\" fill=\"#000000\">samples = 4</text>\n<text text-anchor=\"start\" x=\"2332\" y=\"-245.8\" font-family=\"Helvetica,sans-Serif\" font-size=\"14.00\" fill=\"#000000\">value = [2, 2]</text>\n<text text-anchor=\"start\" x=\"2347\" y=\"-230.8\" font-family=\"Helvetica,sans-Serif\" font-size=\"14.00\" fill=\"#000000\">class = l</text>\n</g>\n<!-- 103&#45;&gt;104 -->\n<g id=\"edge104\" class=\"edge\">\n<title>103&#45;&gt;104</title>\n<path fill=\"none\" stroke=\"#000000\" d=\"M2373.5,-341.8796C2373.5,-333.6838 2373.5,-324.9891 2373.5,-316.5013\"/>\n<polygon fill=\"#000000\" stroke=\"#000000\" points=\"2377.0001,-316.298 2373.5,-306.2981 2370.0001,-316.2981 2377.0001,-316.298\"/>\n</g>\n<!-- 107 -->\n<g id=\"node108\" class=\"node\">\n<title>107</title>\n<path fill=\"#e58139\" stroke=\"#000000\" d=\"M2532,-298.5C2532,-298.5 2457,-298.5 2457,-298.5 2451,-298.5 2445,-292.5 2445,-286.5 2445,-286.5 2445,-242.5 2445,-242.5 2445,-236.5 2451,-230.5 2457,-230.5 2457,-230.5 2532,-230.5 2532,-230.5 2538,-230.5 2544,-236.5 2544,-242.5 2544,-242.5 2544,-286.5 2544,-286.5 2544,-292.5 2538,-298.5 2532,-298.5\"/>\n<text text-anchor=\"start\" x=\"2465\" y=\"-283.3\" font-family=\"Helvetica,sans-Serif\" font-size=\"14.00\" fill=\"#000000\">gini = 0.0</text>\n<text text-anchor=\"start\" x=\"2455\" y=\"-268.3\" font-family=\"Helvetica,sans-Serif\" font-size=\"14.00\" fill=\"#000000\">samples = 3</text>\n<text text-anchor=\"start\" x=\"2453\" y=\"-253.3\" font-family=\"Helvetica,sans-Serif\" font-size=\"14.00\" fill=\"#000000\">value = [3, 0]</text>\n<text text-anchor=\"start\" x=\"2468\" y=\"-238.3\" font-family=\"Helvetica,sans-Serif\" font-size=\"14.00\" fill=\"#000000\">class = l</text>\n</g>\n<!-- 103&#45;&gt;107 -->\n<g id=\"edge107\" class=\"edge\">\n<title>103&#45;&gt;107</title>\n<path fill=\"none\" stroke=\"#000000\" d=\"M2415.8199,-341.8796C2427.6717,-330.2237 2440.5495,-317.5587 2452.3891,-305.9148\"/>\n<polygon fill=\"#000000\" stroke=\"#000000\" points=\"2454.9327,-308.3223 2459.6083,-298.8149 2450.0244,-303.3314 2454.9327,-308.3223\"/>\n</g>\n<!-- 105 -->\n<g id=\"node106\" class=\"node\">\n<title>105</title>\n<path fill=\"#e58139\" stroke=\"#000000\" d=\"M2410,-179.5C2410,-179.5 2335,-179.5 2335,-179.5 2329,-179.5 2323,-173.5 2323,-167.5 2323,-167.5 2323,-123.5 2323,-123.5 2323,-117.5 2329,-111.5 2335,-111.5 2335,-111.5 2410,-111.5 2410,-111.5 2416,-111.5 2422,-117.5 2422,-123.5 2422,-123.5 2422,-167.5 2422,-167.5 2422,-173.5 2416,-179.5 2410,-179.5\"/>\n<text text-anchor=\"start\" x=\"2343\" y=\"-164.3\" font-family=\"Helvetica,sans-Serif\" font-size=\"14.00\" fill=\"#000000\">gini = 0.0</text>\n<text text-anchor=\"start\" x=\"2333\" y=\"-149.3\" font-family=\"Helvetica,sans-Serif\" font-size=\"14.00\" fill=\"#000000\">samples = 1</text>\n<text text-anchor=\"start\" x=\"2331\" y=\"-134.3\" font-family=\"Helvetica,sans-Serif\" font-size=\"14.00\" fill=\"#000000\">value = [1, 0]</text>\n<text text-anchor=\"start\" x=\"2346\" y=\"-119.3\" font-family=\"Helvetica,sans-Serif\" font-size=\"14.00\" fill=\"#000000\">class = l</text>\n</g>\n<!-- 104&#45;&gt;105 -->\n<g id=\"edge105\" class=\"edge\">\n<title>104&#45;&gt;105</title>\n<path fill=\"none\" stroke=\"#000000\" d=\"M2373.1502,-222.8796C2373.0606,-212.2134 2372.9639,-200.7021 2372.8731,-189.9015\"/>\n<polygon fill=\"#000000\" stroke=\"#000000\" points=\"2376.3724,-189.7851 2372.7884,-179.8149 2369.3726,-189.844 2376.3724,-189.7851\"/>\n</g>\n<!-- 106 -->\n<g id=\"node107\" class=\"node\">\n<title>106</title>\n<path fill=\"#9ccef2\" stroke=\"#000000\" d=\"M2527,-179.5C2527,-179.5 2452,-179.5 2452,-179.5 2446,-179.5 2440,-173.5 2440,-167.5 2440,-167.5 2440,-123.5 2440,-123.5 2440,-117.5 2446,-111.5 2452,-111.5 2452,-111.5 2527,-111.5 2527,-111.5 2533,-111.5 2539,-117.5 2539,-123.5 2539,-123.5 2539,-167.5 2539,-167.5 2539,-173.5 2533,-179.5 2527,-179.5\"/>\n<text text-anchor=\"start\" x=\"2451.5\" y=\"-164.3\" font-family=\"Helvetica,sans-Serif\" font-size=\"14.00\" fill=\"#000000\">gini = 0.444</text>\n<text text-anchor=\"start\" x=\"2450\" y=\"-149.3\" font-family=\"Helvetica,sans-Serif\" font-size=\"14.00\" fill=\"#000000\">samples = 3</text>\n<text text-anchor=\"start\" x=\"2448\" y=\"-134.3\" font-family=\"Helvetica,sans-Serif\" font-size=\"14.00\" fill=\"#000000\">value = [1, 2]</text>\n<text text-anchor=\"start\" x=\"2460.5\" y=\"-119.3\" font-family=\"Helvetica,sans-Serif\" font-size=\"14.00\" fill=\"#000000\">class = o</text>\n</g>\n<!-- 104&#45;&gt;106 -->\n<g id=\"edge106\" class=\"edge\">\n<title>104&#45;&gt;106</title>\n<path fill=\"none\" stroke=\"#000000\" d=\"M2414.0712,-222.8796C2425.326,-211.3337 2437.5461,-198.7976 2448.8078,-187.2446\"/>\n<polygon fill=\"#000000\" stroke=\"#000000\" points=\"2451.5762,-189.4188 2456.0501,-179.8149 2446.5636,-184.5326 2451.5762,-189.4188\"/>\n</g>\n<!-- 109 -->\n<g id=\"node110\" class=\"node\">\n<title>109</title>\n<path fill=\"#e58139\" stroke=\"#000000\" d=\"M2536,-417.5C2536,-417.5 2461,-417.5 2461,-417.5 2455,-417.5 2449,-411.5 2449,-405.5 2449,-405.5 2449,-361.5 2449,-361.5 2449,-355.5 2455,-349.5 2461,-349.5 2461,-349.5 2536,-349.5 2536,-349.5 2542,-349.5 2548,-355.5 2548,-361.5 2548,-361.5 2548,-405.5 2548,-405.5 2548,-411.5 2542,-417.5 2536,-417.5\"/>\n<text text-anchor=\"start\" x=\"2469\" y=\"-402.3\" font-family=\"Helvetica,sans-Serif\" font-size=\"14.00\" fill=\"#000000\">gini = 0.0</text>\n<text text-anchor=\"start\" x=\"2459\" y=\"-387.3\" font-family=\"Helvetica,sans-Serif\" font-size=\"14.00\" fill=\"#000000\">samples = 7</text>\n<text text-anchor=\"start\" x=\"2457\" y=\"-372.3\" font-family=\"Helvetica,sans-Serif\" font-size=\"14.00\" fill=\"#000000\">value = [7, 0]</text>\n<text text-anchor=\"start\" x=\"2472\" y=\"-357.3\" font-family=\"Helvetica,sans-Serif\" font-size=\"14.00\" fill=\"#000000\">class = l</text>\n</g>\n<!-- 108&#45;&gt;109 -->\n<g id=\"edge109\" class=\"edge\">\n<title>108&#45;&gt;109</title>\n<path fill=\"none\" stroke=\"#000000\" d=\"M2498.5,-460.8796C2498.5,-450.2134 2498.5,-438.7021 2498.5,-427.9015\"/>\n<polygon fill=\"#000000\" stroke=\"#000000\" points=\"2502.0001,-427.8149 2498.5,-417.8149 2495.0001,-427.815 2502.0001,-427.8149\"/>\n</g>\n<!-- 110 -->\n<g id=\"node111\" class=\"node\">\n<title>110</title>\n<path fill=\"#f6d5bd\" stroke=\"#000000\" d=\"M2668,-425C2668,-425 2585,-425 2585,-425 2579,-425 2573,-419 2573,-413 2573,-413 2573,-354 2573,-354 2573,-348 2579,-342 2585,-342 2585,-342 2668,-342 2668,-342 2674,-342 2680,-348 2680,-354 2680,-354 2680,-413 2680,-413 2680,-419 2674,-425 2668,-425\"/>\n<text text-anchor=\"start\" x=\"2581\" y=\"-409.8\" font-family=\"Helvetica,sans-Serif\" font-size=\"14.00\" fill=\"#000000\">college ≤ 0.14</text>\n<text text-anchor=\"start\" x=\"2593\" y=\"-394.8\" font-family=\"Helvetica,sans-Serif\" font-size=\"14.00\" fill=\"#000000\">gini = 0.48</text>\n<text text-anchor=\"start\" x=\"2587\" y=\"-379.8\" font-family=\"Helvetica,sans-Serif\" font-size=\"14.00\" fill=\"#000000\">samples = 5</text>\n<text text-anchor=\"start\" x=\"2585\" y=\"-364.8\" font-family=\"Helvetica,sans-Serif\" font-size=\"14.00\" fill=\"#000000\">value = [3, 2]</text>\n<text text-anchor=\"start\" x=\"2600\" y=\"-349.8\" font-family=\"Helvetica,sans-Serif\" font-size=\"14.00\" fill=\"#000000\">class = l</text>\n</g>\n<!-- 108&#45;&gt;110 -->\n<g id=\"edge110\" class=\"edge\">\n<title>108&#45;&gt;110</title>\n<path fill=\"none\" stroke=\"#000000\" d=\"M2543.2682,-460.8796C2553.2463,-451.6031 2563.9119,-441.6874 2574.1642,-432.1559\"/>\n<polygon fill=\"#000000\" stroke=\"#000000\" points=\"2576.6,-434.6704 2581.5407,-425.2981 2571.8337,-429.5436 2576.6,-434.6704\"/>\n</g>\n<!-- 111 -->\n<g id=\"node112\" class=\"node\">\n<title>111</title>\n<path fill=\"#eeab7b\" stroke=\"#000000\" d=\"M2678.5,-306C2678.5,-306 2574.5,-306 2574.5,-306 2568.5,-306 2562.5,-300 2562.5,-294 2562.5,-294 2562.5,-235 2562.5,-235 2562.5,-229 2568.5,-223 2574.5,-223 2574.5,-223 2678.5,-223 2678.5,-223 2684.5,-223 2690.5,-229 2690.5,-235 2690.5,-235 2690.5,-294 2690.5,-294 2690.5,-300 2684.5,-306 2678.5,-306\"/>\n<text text-anchor=\"start\" x=\"2570.5\" y=\"-290.8\" font-family=\"Helvetica,sans-Serif\" font-size=\"14.00\" fill=\"#000000\">Principal ≤ &#45;0.399</text>\n<text text-anchor=\"start\" x=\"2588.5\" y=\"-275.8\" font-family=\"Helvetica,sans-Serif\" font-size=\"14.00\" fill=\"#000000\">gini = 0.375</text>\n<text text-anchor=\"start\" x=\"2587\" y=\"-260.8\" font-family=\"Helvetica,sans-Serif\" font-size=\"14.00\" fill=\"#000000\">samples = 4</text>\n<text text-anchor=\"start\" x=\"2585\" y=\"-245.8\" font-family=\"Helvetica,sans-Serif\" font-size=\"14.00\" fill=\"#000000\">value = [3, 1]</text>\n<text text-anchor=\"start\" x=\"2600\" y=\"-230.8\" font-family=\"Helvetica,sans-Serif\" font-size=\"14.00\" fill=\"#000000\">class = l</text>\n</g>\n<!-- 110&#45;&gt;111 -->\n<g id=\"edge111\" class=\"edge\">\n<title>110&#45;&gt;111</title>\n<path fill=\"none\" stroke=\"#000000\" d=\"M2626.5,-341.8796C2626.5,-333.6838 2626.5,-324.9891 2626.5,-316.5013\"/>\n<polygon fill=\"#000000\" stroke=\"#000000\" points=\"2630.0001,-316.298 2626.5,-306.2981 2623.0001,-316.2981 2630.0001,-316.298\"/>\n</g>\n<!-- 114 -->\n<g id=\"node115\" class=\"node\">\n<title>114</title>\n<path fill=\"#399de5\" stroke=\"#000000\" d=\"M2796,-298.5C2796,-298.5 2721,-298.5 2721,-298.5 2715,-298.5 2709,-292.5 2709,-286.5 2709,-286.5 2709,-242.5 2709,-242.5 2709,-236.5 2715,-230.5 2721,-230.5 2721,-230.5 2796,-230.5 2796,-230.5 2802,-230.5 2808,-236.5 2808,-242.5 2808,-242.5 2808,-286.5 2808,-286.5 2808,-292.5 2802,-298.5 2796,-298.5\"/>\n<text text-anchor=\"start\" x=\"2729\" y=\"-283.3\" font-family=\"Helvetica,sans-Serif\" font-size=\"14.00\" fill=\"#000000\">gini = 0.0</text>\n<text text-anchor=\"start\" x=\"2719\" y=\"-268.3\" font-family=\"Helvetica,sans-Serif\" font-size=\"14.00\" fill=\"#000000\">samples = 1</text>\n<text text-anchor=\"start\" x=\"2717\" y=\"-253.3\" font-family=\"Helvetica,sans-Serif\" font-size=\"14.00\" fill=\"#000000\">value = [0, 1]</text>\n<text text-anchor=\"start\" x=\"2729.5\" y=\"-238.3\" font-family=\"Helvetica,sans-Serif\" font-size=\"14.00\" fill=\"#000000\">class = o</text>\n</g>\n<!-- 110&#45;&gt;114 -->\n<g id=\"edge114\" class=\"edge\">\n<title>110&#45;&gt;114</title>\n<path fill=\"none\" stroke=\"#000000\" d=\"M2672.6672,-341.8796C2685.7183,-330.1138 2699.9101,-317.3197 2712.9261,-305.5855\"/>\n<polygon fill=\"#000000\" stroke=\"#000000\" points=\"2715.3526,-308.1104 2720.4364,-298.8149 2710.6654,-302.9113 2715.3526,-308.1104\"/>\n</g>\n<!-- 112 -->\n<g id=\"node113\" class=\"node\">\n<title>112</title>\n<path fill=\"#e58139\" stroke=\"#000000\" d=\"M2655,-179.5C2655,-179.5 2580,-179.5 2580,-179.5 2574,-179.5 2568,-173.5 2568,-167.5 2568,-167.5 2568,-123.5 2568,-123.5 2568,-117.5 2574,-111.5 2580,-111.5 2580,-111.5 2655,-111.5 2655,-111.5 2661,-111.5 2667,-117.5 2667,-123.5 2667,-123.5 2667,-167.5 2667,-167.5 2667,-173.5 2661,-179.5 2655,-179.5\"/>\n<text text-anchor=\"start\" x=\"2588\" y=\"-164.3\" font-family=\"Helvetica,sans-Serif\" font-size=\"14.00\" fill=\"#000000\">gini = 0.0</text>\n<text text-anchor=\"start\" x=\"2578\" y=\"-149.3\" font-family=\"Helvetica,sans-Serif\" font-size=\"14.00\" fill=\"#000000\">samples = 2</text>\n<text text-anchor=\"start\" x=\"2576\" y=\"-134.3\" font-family=\"Helvetica,sans-Serif\" font-size=\"14.00\" fill=\"#000000\">value = [2, 0]</text>\n<text text-anchor=\"start\" x=\"2591\" y=\"-119.3\" font-family=\"Helvetica,sans-Serif\" font-size=\"14.00\" fill=\"#000000\">class = l</text>\n</g>\n<!-- 111&#45;&gt;112 -->\n<g id=\"edge112\" class=\"edge\">\n<title>111&#45;&gt;112</title>\n<path fill=\"none\" stroke=\"#000000\" d=\"M2623.3522,-222.8796C2622.5455,-212.2134 2621.6749,-200.7021 2620.8581,-189.9015\"/>\n<polygon fill=\"#000000\" stroke=\"#000000\" points=\"2624.3395,-189.5225 2620.0952,-179.8149 2617.3595,-190.0504 2624.3395,-189.5225\"/>\n</g>\n<!-- 113 -->\n<g id=\"node114\" class=\"node\">\n<title>113</title>\n<path fill=\"#ffffff\" stroke=\"#000000\" d=\"M2772,-179.5C2772,-179.5 2697,-179.5 2697,-179.5 2691,-179.5 2685,-173.5 2685,-167.5 2685,-167.5 2685,-123.5 2685,-123.5 2685,-117.5 2691,-111.5 2697,-111.5 2697,-111.5 2772,-111.5 2772,-111.5 2778,-111.5 2784,-117.5 2784,-123.5 2784,-123.5 2784,-167.5 2784,-167.5 2784,-173.5 2778,-179.5 2772,-179.5\"/>\n<text text-anchor=\"start\" x=\"2705\" y=\"-164.3\" font-family=\"Helvetica,sans-Serif\" font-size=\"14.00\" fill=\"#000000\">gini = 0.5</text>\n<text text-anchor=\"start\" x=\"2695\" y=\"-149.3\" font-family=\"Helvetica,sans-Serif\" font-size=\"14.00\" fill=\"#000000\">samples = 2</text>\n<text text-anchor=\"start\" x=\"2693\" y=\"-134.3\" font-family=\"Helvetica,sans-Serif\" font-size=\"14.00\" fill=\"#000000\">value = [1, 1]</text>\n<text text-anchor=\"start\" x=\"2708\" y=\"-119.3\" font-family=\"Helvetica,sans-Serif\" font-size=\"14.00\" fill=\"#000000\">class = l</text>\n</g>\n<!-- 111&#45;&gt;113 -->\n<g id=\"edge113\" class=\"edge\">\n<title>111&#45;&gt;113</title>\n<path fill=\"none\" stroke=\"#000000\" d=\"M2664.2732,-222.8796C2674.7518,-211.3337 2686.1291,-198.7976 2696.6141,-187.2446\"/>\n<polygon fill=\"#000000\" stroke=\"#000000\" points=\"2699.2282,-189.5722 2703.357,-179.8149 2694.0447,-184.8678 2699.2282,-189.5722\"/>\n</g>\n<!-- 116 -->\n<g id=\"node117\" class=\"node\">\n<title>116</title>\n<path fill=\"#9ccef2\" stroke=\"#000000\" d=\"M2476.5,-901C2476.5,-901 2372.5,-901 2372.5,-901 2366.5,-901 2360.5,-895 2360.5,-889 2360.5,-889 2360.5,-830 2360.5,-830 2360.5,-824 2366.5,-818 2372.5,-818 2372.5,-818 2476.5,-818 2476.5,-818 2482.5,-818 2488.5,-824 2488.5,-830 2488.5,-830 2488.5,-889 2488.5,-889 2488.5,-895 2482.5,-901 2476.5,-901\"/>\n<text text-anchor=\"start\" x=\"2368.5\" y=\"-885.8\" font-family=\"Helvetica,sans-Serif\" font-size=\"14.00\" fill=\"#000000\">Principal ≤ &#45;0.399</text>\n<text text-anchor=\"start\" x=\"2386.5\" y=\"-870.8\" font-family=\"Helvetica,sans-Serif\" font-size=\"14.00\" fill=\"#000000\">gini = 0.444</text>\n<text text-anchor=\"start\" x=\"2385\" y=\"-855.8\" font-family=\"Helvetica,sans-Serif\" font-size=\"14.00\" fill=\"#000000\">samples = 3</text>\n<text text-anchor=\"start\" x=\"2383\" y=\"-840.8\" font-family=\"Helvetica,sans-Serif\" font-size=\"14.00\" fill=\"#000000\">value = [1, 2]</text>\n<text text-anchor=\"start\" x=\"2395.5\" y=\"-825.8\" font-family=\"Helvetica,sans-Serif\" font-size=\"14.00\" fill=\"#000000\">class = o</text>\n</g>\n<!-- 115&#45;&gt;116 -->\n<g id=\"edge116\" class=\"edge\">\n<title>115&#45;&gt;116</title>\n<path fill=\"none\" stroke=\"#000000\" d=\"M2500.5791,-936.8796C2491.547,-927.6931 2481.8987,-917.8798 2472.6112,-908.4336\"/>\n<polygon fill=\"#000000\" stroke=\"#000000\" points=\"2475.1023,-905.975 2465.5956,-901.2981 2470.1107,-910.8827 2475.1023,-905.975\"/>\n</g>\n<!-- 121 -->\n<g id=\"node122\" class=\"node\">\n<title>121</title>\n<path fill=\"#f0b78e\" stroke=\"#000000\" d=\"M2648.5,-901C2648.5,-901 2568.5,-901 2568.5,-901 2562.5,-901 2556.5,-895 2556.5,-889 2556.5,-889 2556.5,-830 2556.5,-830 2556.5,-824 2562.5,-818 2568.5,-818 2568.5,-818 2648.5,-818 2648.5,-818 2654.5,-818 2660.5,-824 2660.5,-830 2660.5,-830 2660.5,-889 2660.5,-889 2660.5,-895 2654.5,-901 2648.5,-901\"/>\n<text text-anchor=\"start\" x=\"2570\" y=\"-885.8\" font-family=\"Helvetica,sans-Serif\" font-size=\"14.00\" fill=\"#000000\">age ≤ 1.088</text>\n<text text-anchor=\"start\" x=\"2575\" y=\"-870.8\" font-family=\"Helvetica,sans-Serif\" font-size=\"14.00\" fill=\"#000000\">gini = 0.42</text>\n<text text-anchor=\"start\" x=\"2564.5\" y=\"-855.8\" font-family=\"Helvetica,sans-Serif\" font-size=\"14.00\" fill=\"#000000\">samples = 10</text>\n<text text-anchor=\"start\" x=\"2567\" y=\"-840.8\" font-family=\"Helvetica,sans-Serif\" font-size=\"14.00\" fill=\"#000000\">value = [7, 3]</text>\n<text text-anchor=\"start\" x=\"2582\" y=\"-825.8\" font-family=\"Helvetica,sans-Serif\" font-size=\"14.00\" fill=\"#000000\">class = l</text>\n</g>\n<!-- 115&#45;&gt;121 -->\n<g id=\"edge121\" class=\"edge\">\n<title>115&#45;&gt;121</title>\n<path fill=\"none\" stroke=\"#000000\" d=\"M2564.9333,-936.8796C2569.8013,-928.2335 2574.9819,-919.0322 2580.0086,-910.1042\"/>\n<polygon fill=\"#000000\" stroke=\"#000000\" points=\"2583.1103,-911.729 2584.9666,-901.2981 2577.0107,-908.2947 2583.1103,-911.729\"/>\n</g>\n<!-- 117 -->\n<g id=\"node118\" class=\"node\">\n<title>117</title>\n<path fill=\"#399de5\" stroke=\"#000000\" d=\"M2345,-774.5C2345,-774.5 2270,-774.5 2270,-774.5 2264,-774.5 2258,-768.5 2258,-762.5 2258,-762.5 2258,-718.5 2258,-718.5 2258,-712.5 2264,-706.5 2270,-706.5 2270,-706.5 2345,-706.5 2345,-706.5 2351,-706.5 2357,-712.5 2357,-718.5 2357,-718.5 2357,-762.5 2357,-762.5 2357,-768.5 2351,-774.5 2345,-774.5\"/>\n<text text-anchor=\"start\" x=\"2278\" y=\"-759.3\" font-family=\"Helvetica,sans-Serif\" font-size=\"14.00\" fill=\"#000000\">gini = 0.0</text>\n<text text-anchor=\"start\" x=\"2268\" y=\"-744.3\" font-family=\"Helvetica,sans-Serif\" font-size=\"14.00\" fill=\"#000000\">samples = 1</text>\n<text text-anchor=\"start\" x=\"2266\" y=\"-729.3\" font-family=\"Helvetica,sans-Serif\" font-size=\"14.00\" fill=\"#000000\">value = [0, 1]</text>\n<text text-anchor=\"start\" x=\"2278.5\" y=\"-714.3\" font-family=\"Helvetica,sans-Serif\" font-size=\"14.00\" fill=\"#000000\">class = o</text>\n</g>\n<!-- 116&#45;&gt;117 -->\n<g id=\"edge117\" class=\"edge\">\n<title>116&#45;&gt;117</title>\n<path fill=\"none\" stroke=\"#000000\" d=\"M2383.5791,-817.8796C2372.2272,-806.3337 2359.9018,-793.7976 2348.543,-782.2446\"/>\n<polygon fill=\"#000000\" stroke=\"#000000\" points=\"2350.7449,-779.4919 2341.2382,-774.8149 2345.7534,-784.3995 2350.7449,-779.4919\"/>\n</g>\n<!-- 118 -->\n<g id=\"node119\" class=\"node\">\n<title>118</title>\n<path fill=\"#ffffff\" stroke=\"#000000\" d=\"M2462,-782C2462,-782 2387,-782 2387,-782 2381,-782 2375,-776 2375,-770 2375,-770 2375,-711 2375,-711 2375,-705 2381,-699 2387,-699 2387,-699 2462,-699 2462,-699 2468,-699 2474,-705 2474,-711 2474,-711 2474,-770 2474,-770 2474,-776 2468,-782 2462,-782\"/>\n<text text-anchor=\"start\" x=\"2383.5\" y=\"-766.8\" font-family=\"Helvetica,sans-Serif\" font-size=\"14.00\" fill=\"#000000\">age ≤ &#45;0.322</text>\n<text text-anchor=\"start\" x=\"2395\" y=\"-751.8\" font-family=\"Helvetica,sans-Serif\" font-size=\"14.00\" fill=\"#000000\">gini = 0.5</text>\n<text text-anchor=\"start\" x=\"2385\" y=\"-736.8\" font-family=\"Helvetica,sans-Serif\" font-size=\"14.00\" fill=\"#000000\">samples = 2</text>\n<text text-anchor=\"start\" x=\"2383\" y=\"-721.8\" font-family=\"Helvetica,sans-Serif\" font-size=\"14.00\" fill=\"#000000\">value = [1, 1]</text>\n<text text-anchor=\"start\" x=\"2398\" y=\"-706.8\" font-family=\"Helvetica,sans-Serif\" font-size=\"14.00\" fill=\"#000000\">class = l</text>\n</g>\n<!-- 116&#45;&gt;118 -->\n<g id=\"edge118\" class=\"edge\">\n<title>116&#45;&gt;118</title>\n<path fill=\"none\" stroke=\"#000000\" d=\"M2424.5,-817.8796C2424.5,-809.6838 2424.5,-800.9891 2424.5,-792.5013\"/>\n<polygon fill=\"#000000\" stroke=\"#000000\" points=\"2428.0001,-792.298 2424.5,-782.2981 2421.0001,-792.2981 2428.0001,-792.298\"/>\n</g>\n<!-- 119 -->\n<g id=\"node120\" class=\"node\">\n<title>119</title>\n<path fill=\"#e58139\" stroke=\"#000000\" d=\"M2345,-655.5C2345,-655.5 2270,-655.5 2270,-655.5 2264,-655.5 2258,-649.5 2258,-643.5 2258,-643.5 2258,-599.5 2258,-599.5 2258,-593.5 2264,-587.5 2270,-587.5 2270,-587.5 2345,-587.5 2345,-587.5 2351,-587.5 2357,-593.5 2357,-599.5 2357,-599.5 2357,-643.5 2357,-643.5 2357,-649.5 2351,-655.5 2345,-655.5\"/>\n<text text-anchor=\"start\" x=\"2278\" y=\"-640.3\" font-family=\"Helvetica,sans-Serif\" font-size=\"14.00\" fill=\"#000000\">gini = 0.0</text>\n<text text-anchor=\"start\" x=\"2268\" y=\"-625.3\" font-family=\"Helvetica,sans-Serif\" font-size=\"14.00\" fill=\"#000000\">samples = 1</text>\n<text text-anchor=\"start\" x=\"2266\" y=\"-610.3\" font-family=\"Helvetica,sans-Serif\" font-size=\"14.00\" fill=\"#000000\">value = [1, 0]</text>\n<text text-anchor=\"start\" x=\"2281\" y=\"-595.3\" font-family=\"Helvetica,sans-Serif\" font-size=\"14.00\" fill=\"#000000\">class = l</text>\n</g>\n<!-- 118&#45;&gt;119 -->\n<g id=\"edge119\" class=\"edge\">\n<title>118&#45;&gt;119</title>\n<path fill=\"none\" stroke=\"#000000\" d=\"M2383.5791,-698.8796C2372.2272,-687.3337 2359.9018,-674.7976 2348.543,-663.2446\"/>\n<polygon fill=\"#000000\" stroke=\"#000000\" points=\"2350.7449,-660.4919 2341.2382,-655.8149 2345.7534,-665.3995 2350.7449,-660.4919\"/>\n</g>\n<!-- 120 -->\n<g id=\"node121\" class=\"node\">\n<title>120</title>\n<path fill=\"#399de5\" stroke=\"#000000\" d=\"M2462,-655.5C2462,-655.5 2387,-655.5 2387,-655.5 2381,-655.5 2375,-649.5 2375,-643.5 2375,-643.5 2375,-599.5 2375,-599.5 2375,-593.5 2381,-587.5 2387,-587.5 2387,-587.5 2462,-587.5 2462,-587.5 2468,-587.5 2474,-593.5 2474,-599.5 2474,-599.5 2474,-643.5 2474,-643.5 2474,-649.5 2468,-655.5 2462,-655.5\"/>\n<text text-anchor=\"start\" x=\"2395\" y=\"-640.3\" font-family=\"Helvetica,sans-Serif\" font-size=\"14.00\" fill=\"#000000\">gini = 0.0</text>\n<text text-anchor=\"start\" x=\"2385\" y=\"-625.3\" font-family=\"Helvetica,sans-Serif\" font-size=\"14.00\" fill=\"#000000\">samples = 1</text>\n<text text-anchor=\"start\" x=\"2383\" y=\"-610.3\" font-family=\"Helvetica,sans-Serif\" font-size=\"14.00\" fill=\"#000000\">value = [0, 1]</text>\n<text text-anchor=\"start\" x=\"2395.5\" y=\"-595.3\" font-family=\"Helvetica,sans-Serif\" font-size=\"14.00\" fill=\"#000000\">class = o</text>\n</g>\n<!-- 118&#45;&gt;120 -->\n<g id=\"edge120\" class=\"edge\">\n<title>118&#45;&gt;120</title>\n<path fill=\"none\" stroke=\"#000000\" d=\"M2424.5,-698.8796C2424.5,-688.2134 2424.5,-676.7021 2424.5,-665.9015\"/>\n<polygon fill=\"#000000\" stroke=\"#000000\" points=\"2428.0001,-665.8149 2424.5,-655.8149 2421.0001,-665.815 2428.0001,-665.8149\"/>\n</g>\n<!-- 122 -->\n<g id=\"node123\" class=\"node\">\n<title>122</title>\n<path fill=\"#e9965a\" stroke=\"#000000\" d=\"M2646,-782C2646,-782 2571,-782 2571,-782 2565,-782 2559,-776 2559,-770 2559,-770 2559,-711 2559,-711 2559,-705 2565,-699 2571,-699 2571,-699 2646,-699 2646,-699 2652,-699 2658,-705 2658,-711 2658,-711 2658,-770 2658,-770 2658,-776 2652,-782 2646,-782\"/>\n<text text-anchor=\"start\" x=\"2574\" y=\"-766.8\" font-family=\"Helvetica,sans-Serif\" font-size=\"14.00\" fill=\"#000000\">age ≤ 0.59</text>\n<text text-anchor=\"start\" x=\"2570.5\" y=\"-751.8\" font-family=\"Helvetica,sans-Serif\" font-size=\"14.00\" fill=\"#000000\">gini = 0.245</text>\n<text text-anchor=\"start\" x=\"2569\" y=\"-736.8\" font-family=\"Helvetica,sans-Serif\" font-size=\"14.00\" fill=\"#000000\">samples = 7</text>\n<text text-anchor=\"start\" x=\"2567\" y=\"-721.8\" font-family=\"Helvetica,sans-Serif\" font-size=\"14.00\" fill=\"#000000\">value = [6, 1]</text>\n<text text-anchor=\"start\" x=\"2582\" y=\"-706.8\" font-family=\"Helvetica,sans-Serif\" font-size=\"14.00\" fill=\"#000000\">class = l</text>\n</g>\n<!-- 121&#45;&gt;122 -->\n<g id=\"edge122\" class=\"edge\">\n<title>121&#45;&gt;122</title>\n<path fill=\"none\" stroke=\"#000000\" d=\"M2608.5,-817.8796C2608.5,-809.6838 2608.5,-800.9891 2608.5,-792.5013\"/>\n<polygon fill=\"#000000\" stroke=\"#000000\" points=\"2612.0001,-792.298 2608.5,-782.2981 2605.0001,-792.2981 2612.0001,-792.298\"/>\n</g>\n<!-- 127 -->\n<g id=\"node128\" class=\"node\">\n<title>127</title>\n<path fill=\"#9ccef2\" stroke=\"#000000\" d=\"M2813,-782C2813,-782 2738,-782 2738,-782 2732,-782 2726,-776 2726,-770 2726,-770 2726,-711 2726,-711 2726,-705 2732,-699 2738,-699 2738,-699 2813,-699 2813,-699 2819,-699 2825,-705 2825,-711 2825,-711 2825,-770 2825,-770 2825,-776 2819,-782 2813,-782\"/>\n<text text-anchor=\"start\" x=\"2737\" y=\"-766.8\" font-family=\"Helvetica,sans-Serif\" font-size=\"14.00\" fill=\"#000000\">age ≤ 1.254</text>\n<text text-anchor=\"start\" x=\"2737.5\" y=\"-751.8\" font-family=\"Helvetica,sans-Serif\" font-size=\"14.00\" fill=\"#000000\">gini = 0.444</text>\n<text text-anchor=\"start\" x=\"2736\" y=\"-736.8\" font-family=\"Helvetica,sans-Serif\" font-size=\"14.00\" fill=\"#000000\">samples = 3</text>\n<text text-anchor=\"start\" x=\"2734\" y=\"-721.8\" font-family=\"Helvetica,sans-Serif\" font-size=\"14.00\" fill=\"#000000\">value = [1, 2]</text>\n<text text-anchor=\"start\" x=\"2746.5\" y=\"-706.8\" font-family=\"Helvetica,sans-Serif\" font-size=\"14.00\" fill=\"#000000\">class = o</text>\n</g>\n<!-- 121&#45;&gt;127 -->\n<g id=\"edge127\" class=\"edge\">\n<title>121&#45;&gt;127</title>\n<path fill=\"none\" stroke=\"#000000\" d=\"M2660.8816,-822.1742C2678.8821,-809.3475 2699.134,-794.9165 2717.5507,-781.7932\"/>\n<polygon fill=\"#000000\" stroke=\"#000000\" points=\"2719.7559,-784.5196 2725.8687,-775.866 2715.6936,-778.8188 2719.7559,-784.5196\"/>\n</g>\n<!-- 123 -->\n<g id=\"node124\" class=\"node\">\n<title>123</title>\n<path fill=\"#e58139\" stroke=\"#000000\" d=\"M2579,-655.5C2579,-655.5 2504,-655.5 2504,-655.5 2498,-655.5 2492,-649.5 2492,-643.5 2492,-643.5 2492,-599.5 2492,-599.5 2492,-593.5 2498,-587.5 2504,-587.5 2504,-587.5 2579,-587.5 2579,-587.5 2585,-587.5 2591,-593.5 2591,-599.5 2591,-599.5 2591,-643.5 2591,-643.5 2591,-649.5 2585,-655.5 2579,-655.5\"/>\n<text text-anchor=\"start\" x=\"2512\" y=\"-640.3\" font-family=\"Helvetica,sans-Serif\" font-size=\"14.00\" fill=\"#000000\">gini = 0.0</text>\n<text text-anchor=\"start\" x=\"2502\" y=\"-625.3\" font-family=\"Helvetica,sans-Serif\" font-size=\"14.00\" fill=\"#000000\">samples = 3</text>\n<text text-anchor=\"start\" x=\"2500\" y=\"-610.3\" font-family=\"Helvetica,sans-Serif\" font-size=\"14.00\" fill=\"#000000\">value = [3, 0]</text>\n<text text-anchor=\"start\" x=\"2515\" y=\"-595.3\" font-family=\"Helvetica,sans-Serif\" font-size=\"14.00\" fill=\"#000000\">class = l</text>\n</g>\n<!-- 122&#45;&gt;123 -->\n<g id=\"edge123\" class=\"edge\">\n<title>122&#45;&gt;123</title>\n<path fill=\"none\" stroke=\"#000000\" d=\"M2585.0667,-698.8796C2578.8137,-687.7735 2572.0448,-675.7513 2565.749,-664.5691\"/>\n<polygon fill=\"#000000\" stroke=\"#000000\" points=\"2568.7761,-662.8116 2560.8202,-655.8149 2562.6765,-666.2459 2568.7761,-662.8116\"/>\n</g>\n<!-- 124 -->\n<g id=\"node125\" class=\"node\">\n<title>124</title>\n<path fill=\"#eeab7b\" stroke=\"#000000\" d=\"M2696,-663C2696,-663 2621,-663 2621,-663 2615,-663 2609,-657 2609,-651 2609,-651 2609,-592 2609,-592 2609,-586 2615,-580 2621,-580 2621,-580 2696,-580 2696,-580 2702,-580 2708,-586 2708,-592 2708,-592 2708,-651 2708,-651 2708,-657 2702,-663 2696,-663\"/>\n<text text-anchor=\"start\" x=\"2620\" y=\"-647.8\" font-family=\"Helvetica,sans-Serif\" font-size=\"14.00\" fill=\"#000000\">age ≤ 0.756</text>\n<text text-anchor=\"start\" x=\"2620.5\" y=\"-632.8\" font-family=\"Helvetica,sans-Serif\" font-size=\"14.00\" fill=\"#000000\">gini = 0.375</text>\n<text text-anchor=\"start\" x=\"2619\" y=\"-617.8\" font-family=\"Helvetica,sans-Serif\" font-size=\"14.00\" fill=\"#000000\">samples = 4</text>\n<text text-anchor=\"start\" x=\"2617\" y=\"-602.8\" font-family=\"Helvetica,sans-Serif\" font-size=\"14.00\" fill=\"#000000\">value = [3, 1]</text>\n<text text-anchor=\"start\" x=\"2632\" y=\"-587.8\" font-family=\"Helvetica,sans-Serif\" font-size=\"14.00\" fill=\"#000000\">class = l</text>\n</g>\n<!-- 122&#45;&gt;124 -->\n<g id=\"edge124\" class=\"edge\">\n<title>122&#45;&gt;124</title>\n<path fill=\"none\" stroke=\"#000000\" d=\"M2625.9876,-698.8796C2629.5447,-690.4136 2633.3255,-681.4153 2637.0031,-672.6626\"/>\n<polygon fill=\"#000000\" stroke=\"#000000\" points=\"2640.2908,-673.8731 2640.9378,-663.2981 2633.8373,-671.1616 2640.2908,-673.8731\"/>\n</g>\n<!-- 125 -->\n<g id=\"node126\" class=\"node\">\n<title>125</title>\n<path fill=\"#ffffff\" stroke=\"#000000\" d=\"M2674,-536.5C2674,-536.5 2599,-536.5 2599,-536.5 2593,-536.5 2587,-530.5 2587,-524.5 2587,-524.5 2587,-480.5 2587,-480.5 2587,-474.5 2593,-468.5 2599,-468.5 2599,-468.5 2674,-468.5 2674,-468.5 2680,-468.5 2686,-474.5 2686,-480.5 2686,-480.5 2686,-524.5 2686,-524.5 2686,-530.5 2680,-536.5 2674,-536.5\"/>\n<text text-anchor=\"start\" x=\"2607\" y=\"-521.3\" font-family=\"Helvetica,sans-Serif\" font-size=\"14.00\" fill=\"#000000\">gini = 0.5</text>\n<text text-anchor=\"start\" x=\"2597\" y=\"-506.3\" font-family=\"Helvetica,sans-Serif\" font-size=\"14.00\" fill=\"#000000\">samples = 2</text>\n<text text-anchor=\"start\" x=\"2595\" y=\"-491.3\" font-family=\"Helvetica,sans-Serif\" font-size=\"14.00\" fill=\"#000000\">value = [1, 1]</text>\n<text text-anchor=\"start\" x=\"2610\" y=\"-476.3\" font-family=\"Helvetica,sans-Serif\" font-size=\"14.00\" fill=\"#000000\">class = l</text>\n</g>\n<!-- 124&#45;&gt;125 -->\n<g id=\"edge125\" class=\"edge\">\n<title>124&#45;&gt;125</title>\n<path fill=\"none\" stroke=\"#000000\" d=\"M2650.8055,-579.8796C2648.8336,-569.2134 2646.7054,-557.7021 2644.7087,-546.9015\"/>\n<polygon fill=\"#000000\" stroke=\"#000000\" points=\"2648.1036,-546.012 2642.8439,-536.8149 2641.2203,-547.2846 2648.1036,-546.012\"/>\n</g>\n<!-- 126 -->\n<g id=\"node127\" class=\"node\">\n<title>126</title>\n<path fill=\"#e58139\" stroke=\"#000000\" d=\"M2791,-536.5C2791,-536.5 2716,-536.5 2716,-536.5 2710,-536.5 2704,-530.5 2704,-524.5 2704,-524.5 2704,-480.5 2704,-480.5 2704,-474.5 2710,-468.5 2716,-468.5 2716,-468.5 2791,-468.5 2791,-468.5 2797,-468.5 2803,-474.5 2803,-480.5 2803,-480.5 2803,-524.5 2803,-524.5 2803,-530.5 2797,-536.5 2791,-536.5\"/>\n<text text-anchor=\"start\" x=\"2724\" y=\"-521.3\" font-family=\"Helvetica,sans-Serif\" font-size=\"14.00\" fill=\"#000000\">gini = 0.0</text>\n<text text-anchor=\"start\" x=\"2714\" y=\"-506.3\" font-family=\"Helvetica,sans-Serif\" font-size=\"14.00\" fill=\"#000000\">samples = 2</text>\n<text text-anchor=\"start\" x=\"2712\" y=\"-491.3\" font-family=\"Helvetica,sans-Serif\" font-size=\"14.00\" fill=\"#000000\">value = [2, 0]</text>\n<text text-anchor=\"start\" x=\"2727\" y=\"-476.3\" font-family=\"Helvetica,sans-Serif\" font-size=\"14.00\" fill=\"#000000\">class = l</text>\n</g>\n<!-- 124&#45;&gt;126 -->\n<g id=\"edge126\" class=\"edge\">\n<title>124&#45;&gt;126</title>\n<path fill=\"none\" stroke=\"#000000\" d=\"M2691.7264,-579.8796C2700.7681,-568.5536 2710.5705,-556.2748 2719.6466,-544.9058\"/>\n<polygon fill=\"#000000\" stroke=\"#000000\" points=\"2722.602,-546.8137 2726.1057,-536.8149 2717.1315,-542.4464 2722.602,-546.8137\"/>\n</g>\n<!-- 128 -->\n<g id=\"node129\" class=\"node\">\n<title>128</title>\n<path fill=\"#399de5\" stroke=\"#000000\" d=\"M2813,-655.5C2813,-655.5 2738,-655.5 2738,-655.5 2732,-655.5 2726,-649.5 2726,-643.5 2726,-643.5 2726,-599.5 2726,-599.5 2726,-593.5 2732,-587.5 2738,-587.5 2738,-587.5 2813,-587.5 2813,-587.5 2819,-587.5 2825,-593.5 2825,-599.5 2825,-599.5 2825,-643.5 2825,-643.5 2825,-649.5 2819,-655.5 2813,-655.5\"/>\n<text text-anchor=\"start\" x=\"2746\" y=\"-640.3\" font-family=\"Helvetica,sans-Serif\" font-size=\"14.00\" fill=\"#000000\">gini = 0.0</text>\n<text text-anchor=\"start\" x=\"2736\" y=\"-625.3\" font-family=\"Helvetica,sans-Serif\" font-size=\"14.00\" fill=\"#000000\">samples = 2</text>\n<text text-anchor=\"start\" x=\"2734\" y=\"-610.3\" font-family=\"Helvetica,sans-Serif\" font-size=\"14.00\" fill=\"#000000\">value = [0, 2]</text>\n<text text-anchor=\"start\" x=\"2746.5\" y=\"-595.3\" font-family=\"Helvetica,sans-Serif\" font-size=\"14.00\" fill=\"#000000\">class = o</text>\n</g>\n<!-- 127&#45;&gt;128 -->\n<g id=\"edge128\" class=\"edge\">\n<title>127&#45;&gt;128</title>\n<path fill=\"none\" stroke=\"#000000\" d=\"M2775.5,-698.8796C2775.5,-688.2134 2775.5,-676.7021 2775.5,-665.9015\"/>\n<polygon fill=\"#000000\" stroke=\"#000000\" points=\"2779.0001,-665.8149 2775.5,-655.8149 2772.0001,-665.815 2779.0001,-665.8149\"/>\n</g>\n<!-- 129 -->\n<g id=\"node130\" class=\"node\">\n<title>129</title>\n<path fill=\"#e58139\" stroke=\"#000000\" d=\"M2930,-655.5C2930,-655.5 2855,-655.5 2855,-655.5 2849,-655.5 2843,-649.5 2843,-643.5 2843,-643.5 2843,-599.5 2843,-599.5 2843,-593.5 2849,-587.5 2855,-587.5 2855,-587.5 2930,-587.5 2930,-587.5 2936,-587.5 2942,-593.5 2942,-599.5 2942,-599.5 2942,-643.5 2942,-643.5 2942,-649.5 2936,-655.5 2930,-655.5\"/>\n<text text-anchor=\"start\" x=\"2863\" y=\"-640.3\" font-family=\"Helvetica,sans-Serif\" font-size=\"14.00\" fill=\"#000000\">gini = 0.0</text>\n<text text-anchor=\"start\" x=\"2853\" y=\"-625.3\" font-family=\"Helvetica,sans-Serif\" font-size=\"14.00\" fill=\"#000000\">samples = 1</text>\n<text text-anchor=\"start\" x=\"2851\" y=\"-610.3\" font-family=\"Helvetica,sans-Serif\" font-size=\"14.00\" fill=\"#000000\">value = [1, 0]</text>\n<text text-anchor=\"start\" x=\"2866\" y=\"-595.3\" font-family=\"Helvetica,sans-Serif\" font-size=\"14.00\" fill=\"#000000\">class = l</text>\n</g>\n<!-- 127&#45;&gt;129 -->\n<g id=\"edge129\" class=\"edge\">\n<title>127&#45;&gt;129</title>\n<path fill=\"none\" stroke=\"#000000\" d=\"M2816.4209,-698.8796C2827.7728,-687.3337 2840.0982,-674.7976 2851.457,-663.2446\"/>\n<polygon fill=\"#000000\" stroke=\"#000000\" points=\"2854.2466,-665.3995 2858.7618,-655.8149 2849.2551,-660.4919 2854.2466,-665.3995\"/>\n</g>\n<!-- 131 -->\n<g id=\"node132\" class=\"node\">\n<title>131</title>\n<path fill=\"#edaa79\" stroke=\"#000000\" d=\"M3268.5,-1020C3268.5,-1020 3166.5,-1020 3166.5,-1020 3160.5,-1020 3154.5,-1014 3154.5,-1008 3154.5,-1008 3154.5,-949 3154.5,-949 3154.5,-943 3160.5,-937 3166.5,-937 3166.5,-937 3268.5,-937 3268.5,-937 3274.5,-937 3280.5,-943 3280.5,-949 3280.5,-949 3280.5,-1008 3280.5,-1008 3280.5,-1014 3274.5,-1020 3268.5,-1020\"/>\n<text text-anchor=\"start\" x=\"3162.5\" y=\"-1004.8\" font-family=\"Helvetica,sans-Serif\" font-size=\"14.00\" fill=\"#000000\">Bechalor ≤ 1.119</text>\n<text text-anchor=\"start\" x=\"3184\" y=\"-989.8\" font-family=\"Helvetica,sans-Serif\" font-size=\"14.00\" fill=\"#000000\">gini = 0.37</text>\n<text text-anchor=\"start\" x=\"3169.5\" y=\"-974.8\" font-family=\"Helvetica,sans-Serif\" font-size=\"14.00\" fill=\"#000000\">samples = 102</text>\n<text text-anchor=\"start\" x=\"3167.5\" y=\"-959.8\" font-family=\"Helvetica,sans-Serif\" font-size=\"14.00\" fill=\"#000000\">value = [77, 25]</text>\n<text text-anchor=\"start\" x=\"3191\" y=\"-944.8\" font-family=\"Helvetica,sans-Serif\" font-size=\"14.00\" fill=\"#000000\">class = l</text>\n</g>\n<!-- 130&#45;&gt;131 -->\n<g id=\"edge131\" class=\"edge\">\n<title>130&#45;&gt;131</title>\n<path fill=\"none\" stroke=\"#000000\" d=\"M3217.5,-1055.8796C3217.5,-1047.6838 3217.5,-1038.9891 3217.5,-1030.5013\"/>\n<polygon fill=\"#000000\" stroke=\"#000000\" points=\"3221.0001,-1030.298 3217.5,-1020.2981 3214.0001,-1030.2981 3221.0001,-1030.298\"/>\n</g>\n<!-- 178 -->\n<g id=\"node179\" class=\"node\">\n<title>178</title>\n<path fill=\"#e58139\" stroke=\"#000000\" d=\"M3386,-1012.5C3386,-1012.5 3311,-1012.5 3311,-1012.5 3305,-1012.5 3299,-1006.5 3299,-1000.5 3299,-1000.5 3299,-956.5 3299,-956.5 3299,-950.5 3305,-944.5 3311,-944.5 3311,-944.5 3386,-944.5 3386,-944.5 3392,-944.5 3398,-950.5 3398,-956.5 3398,-956.5 3398,-1000.5 3398,-1000.5 3398,-1006.5 3392,-1012.5 3386,-1012.5\"/>\n<text text-anchor=\"start\" x=\"3319\" y=\"-997.3\" font-family=\"Helvetica,sans-Serif\" font-size=\"14.00\" fill=\"#000000\">gini = 0.0</text>\n<text text-anchor=\"start\" x=\"3309\" y=\"-982.3\" font-family=\"Helvetica,sans-Serif\" font-size=\"14.00\" fill=\"#000000\">samples = 4</text>\n<text text-anchor=\"start\" x=\"3307\" y=\"-967.3\" font-family=\"Helvetica,sans-Serif\" font-size=\"14.00\" fill=\"#000000\">value = [4, 0]</text>\n<text text-anchor=\"start\" x=\"3322\" y=\"-952.3\" font-family=\"Helvetica,sans-Serif\" font-size=\"14.00\" fill=\"#000000\">class = l</text>\n</g>\n<!-- 130&#45;&gt;178 -->\n<g id=\"edge178\" class=\"edge\">\n<title>130&#45;&gt;178</title>\n<path fill=\"none\" stroke=\"#000000\" d=\"M3263.3174,-1055.8796C3276.2697,-1044.1138 3290.354,-1031.3197 3303.2714,-1019.5855\"/>\n<polygon fill=\"#000000\" stroke=\"#000000\" points=\"3305.6761,-1022.1296 3310.7247,-1012.8149 3300.9694,-1016.9482 3305.6761,-1022.1296\"/>\n</g>\n<!-- 132 -->\n<g id=\"node133\" class=\"node\">\n<title>132</title>\n<path fill=\"#eead7e\" stroke=\"#000000\" d=\"M3263.5,-901C3263.5,-901 3171.5,-901 3171.5,-901 3165.5,-901 3159.5,-895 3159.5,-889 3159.5,-889 3159.5,-830 3159.5,-830 3159.5,-824 3165.5,-818 3171.5,-818 3171.5,-818 3263.5,-818 3263.5,-818 3269.5,-818 3275.5,-824 3275.5,-830 3275.5,-830 3275.5,-889 3275.5,-889 3275.5,-895 3269.5,-901 3263.5,-901\"/>\n<text text-anchor=\"start\" x=\"3179\" y=\"-885.8\" font-family=\"Helvetica,sans-Serif\" font-size=\"14.00\" fill=\"#000000\">age ≤ 0.093</text>\n<text text-anchor=\"start\" x=\"3179.5\" y=\"-870.8\" font-family=\"Helvetica,sans-Serif\" font-size=\"14.00\" fill=\"#000000\">gini = 0.383</text>\n<text text-anchor=\"start\" x=\"3173.5\" y=\"-855.8\" font-family=\"Helvetica,sans-Serif\" font-size=\"14.00\" fill=\"#000000\">samples = 93</text>\n<text text-anchor=\"start\" x=\"3167.5\" y=\"-840.8\" font-family=\"Helvetica,sans-Serif\" font-size=\"14.00\" fill=\"#000000\">value = [69, 24]</text>\n<text text-anchor=\"start\" x=\"3191\" y=\"-825.8\" font-family=\"Helvetica,sans-Serif\" font-size=\"14.00\" fill=\"#000000\">class = l</text>\n</g>\n<!-- 131&#45;&gt;132 -->\n<g id=\"edge132\" class=\"edge\">\n<title>131&#45;&gt;132</title>\n<path fill=\"none\" stroke=\"#000000\" d=\"M3217.5,-936.8796C3217.5,-928.6838 3217.5,-919.9891 3217.5,-911.5013\"/>\n<polygon fill=\"#000000\" stroke=\"#000000\" points=\"3221.0001,-911.298 3217.5,-901.2981 3214.0001,-911.2981 3221.0001,-911.298\"/>\n</g>\n<!-- 175 -->\n<g id=\"node176\" class=\"node\">\n<title>175</title>\n<path fill=\"#e89152\" stroke=\"#000000\" d=\"M3387,-901C3387,-901 3312,-901 3312,-901 3306,-901 3300,-895 3300,-889 3300,-889 3300,-830 3300,-830 3300,-824 3306,-818 3312,-818 3312,-818 3387,-818 3387,-818 3393,-818 3399,-824 3399,-830 3399,-830 3399,-889 3399,-889 3399,-895 3393,-901 3387,-901\"/>\n<text text-anchor=\"start\" x=\"3308.5\" y=\"-885.8\" font-family=\"Helvetica,sans-Serif\" font-size=\"14.00\" fill=\"#000000\">age ≤ &#45;0.322</text>\n<text text-anchor=\"start\" x=\"3311.5\" y=\"-870.8\" font-family=\"Helvetica,sans-Serif\" font-size=\"14.00\" fill=\"#000000\">gini = 0.198</text>\n<text text-anchor=\"start\" x=\"3310\" y=\"-855.8\" font-family=\"Helvetica,sans-Serif\" font-size=\"14.00\" fill=\"#000000\">samples = 9</text>\n<text text-anchor=\"start\" x=\"3308\" y=\"-840.8\" font-family=\"Helvetica,sans-Serif\" font-size=\"14.00\" fill=\"#000000\">value = [8, 1]</text>\n<text text-anchor=\"start\" x=\"3323\" y=\"-825.8\" font-family=\"Helvetica,sans-Serif\" font-size=\"14.00\" fill=\"#000000\">class = l</text>\n</g>\n<!-- 131&#45;&gt;175 -->\n<g id=\"edge175\" class=\"edge\">\n<title>131&#45;&gt;175</title>\n<path fill=\"none\" stroke=\"#000000\" d=\"M3263.6672,-936.8796C3273.9571,-927.6031 3284.956,-917.6874 3295.5287,-908.1559\"/>\n<polygon fill=\"#000000\" stroke=\"#000000\" points=\"3298.0519,-910.5935 3303.1358,-901.2981 3293.3648,-905.3944 3298.0519,-910.5935\"/>\n</g>\n<!-- 133 -->\n<g id=\"node134\" class=\"node\">\n<title>133</title>\n<path fill=\"#eca572\" stroke=\"#000000\" d=\"M3123.5,-782C3123.5,-782 3031.5,-782 3031.5,-782 3025.5,-782 3019.5,-776 3019.5,-770 3019.5,-770 3019.5,-711 3019.5,-711 3019.5,-705 3025.5,-699 3031.5,-699 3031.5,-699 3123.5,-699 3123.5,-699 3129.5,-699 3135.5,-705 3135.5,-711 3135.5,-711 3135.5,-770 3135.5,-770 3135.5,-776 3129.5,-782 3123.5,-782\"/>\n<text text-anchor=\"start\" x=\"3036.5\" y=\"-766.8\" font-family=\"Helvetica,sans-Serif\" font-size=\"14.00\" fill=\"#000000\">age ≤ &#45;0.404</text>\n<text text-anchor=\"start\" x=\"3039.5\" y=\"-751.8\" font-family=\"Helvetica,sans-Serif\" font-size=\"14.00\" fill=\"#000000\">gini = 0.346</text>\n<text text-anchor=\"start\" x=\"3033.5\" y=\"-736.8\" font-family=\"Helvetica,sans-Serif\" font-size=\"14.00\" fill=\"#000000\">samples = 54</text>\n<text text-anchor=\"start\" x=\"3027.5\" y=\"-721.8\" font-family=\"Helvetica,sans-Serif\" font-size=\"14.00\" fill=\"#000000\">value = [42, 12]</text>\n<text text-anchor=\"start\" x=\"3051\" y=\"-706.8\" font-family=\"Helvetica,sans-Serif\" font-size=\"14.00\" fill=\"#000000\">class = l</text>\n</g>\n<!-- 132&#45;&gt;133 -->\n<g id=\"edge133\" class=\"edge\">\n<title>132&#45;&gt;133</title>\n<path fill=\"none\" stroke=\"#000000\" d=\"M3168.5348,-817.8796C3157.5153,-808.513 3145.7291,-798.4948 3134.4158,-788.8784\"/>\n<polygon fill=\"#000000\" stroke=\"#000000\" points=\"3136.5604,-786.1078 3126.6742,-782.2981 3132.0268,-791.4414 3136.5604,-786.1078\"/>\n</g>\n<!-- 154 -->\n<g id=\"node155\" class=\"node\">\n<title>154</title>\n<path fill=\"#f1b991\" stroke=\"#000000\" d=\"M3269.5,-782C3269.5,-782 3165.5,-782 3165.5,-782 3159.5,-782 3153.5,-776 3153.5,-770 3153.5,-770 3153.5,-711 3153.5,-711 3153.5,-705 3159.5,-699 3165.5,-699 3165.5,-699 3269.5,-699 3269.5,-699 3275.5,-699 3281.5,-705 3281.5,-711 3281.5,-711 3281.5,-770 3281.5,-770 3281.5,-776 3275.5,-782 3269.5,-782\"/>\n<text text-anchor=\"start\" x=\"3161.5\" y=\"-766.8\" font-family=\"Helvetica,sans-Serif\" font-size=\"14.00\" fill=\"#000000\">Principal ≤ &#45;0.399</text>\n<text text-anchor=\"start\" x=\"3179.5\" y=\"-751.8\" font-family=\"Helvetica,sans-Serif\" font-size=\"14.00\" fill=\"#000000\">gini = 0.426</text>\n<text text-anchor=\"start\" x=\"3173.5\" y=\"-736.8\" font-family=\"Helvetica,sans-Serif\" font-size=\"14.00\" fill=\"#000000\">samples = 39</text>\n<text text-anchor=\"start\" x=\"3167.5\" y=\"-721.8\" font-family=\"Helvetica,sans-Serif\" font-size=\"14.00\" fill=\"#000000\">value = [27, 12]</text>\n<text text-anchor=\"start\" x=\"3191\" y=\"-706.8\" font-family=\"Helvetica,sans-Serif\" font-size=\"14.00\" fill=\"#000000\">class = l</text>\n</g>\n<!-- 132&#45;&gt;154 -->\n<g id=\"edge154\" class=\"edge\">\n<title>132&#45;&gt;154</title>\n<path fill=\"none\" stroke=\"#000000\" d=\"M3217.5,-817.8796C3217.5,-809.6838 3217.5,-800.9891 3217.5,-792.5013\"/>\n<polygon fill=\"#000000\" stroke=\"#000000\" points=\"3221.0001,-792.298 3217.5,-782.2981 3214.0001,-792.2981 3221.0001,-792.298\"/>\n</g>\n<!-- 134 -->\n<g id=\"node135\" class=\"node\">\n<title>134</title>\n<path fill=\"#eead7f\" stroke=\"#000000\" d=\"M3055,-663C3055,-663 2972,-663 2972,-663 2966,-663 2960,-657 2960,-651 2960,-651 2960,-592 2960,-592 2960,-586 2966,-580 2972,-580 2972,-580 3055,-580 3055,-580 3061,-580 3067,-586 3067,-592 3067,-592 3067,-651 3067,-651 3067,-657 3061,-663 3055,-663\"/>\n<text text-anchor=\"start\" x=\"2968\" y=\"-647.8\" font-family=\"Helvetica,sans-Serif\" font-size=\"14.00\" fill=\"#000000\">college ≤ 0.14</text>\n<text text-anchor=\"start\" x=\"2975.5\" y=\"-632.8\" font-family=\"Helvetica,sans-Serif\" font-size=\"14.00\" fill=\"#000000\">gini = 0.386</text>\n<text text-anchor=\"start\" x=\"2969.5\" y=\"-617.8\" font-family=\"Helvetica,sans-Serif\" font-size=\"14.00\" fill=\"#000000\">samples = 23</text>\n<text text-anchor=\"start\" x=\"2968\" y=\"-602.8\" font-family=\"Helvetica,sans-Serif\" font-size=\"14.00\" fill=\"#000000\">value = [17, 6]</text>\n<text text-anchor=\"start\" x=\"2987\" y=\"-587.8\" font-family=\"Helvetica,sans-Serif\" font-size=\"14.00\" fill=\"#000000\">class = l</text>\n</g>\n<!-- 133&#45;&gt;134 -->\n<g id=\"edge134\" class=\"edge\">\n<title>133&#45;&gt;134</title>\n<path fill=\"none\" stroke=\"#000000\" d=\"M3055.1159,-698.8796C3050.5144,-690.3236 3045.6204,-681.2238 3040.8658,-672.3833\"/>\n<polygon fill=\"#000000\" stroke=\"#000000\" points=\"3043.7988,-670.4473 3035.9796,-663.2981 3037.6338,-673.763 3043.7988,-670.4473\"/>\n</g>\n<!-- 141 -->\n<g id=\"node142\" class=\"node\">\n<title>141</title>\n<path fill=\"#eb9f69\" stroke=\"#000000\" d=\"M3201.5,-663C3201.5,-663 3097.5,-663 3097.5,-663 3091.5,-663 3085.5,-657 3085.5,-651 3085.5,-651 3085.5,-592 3085.5,-592 3085.5,-586 3091.5,-580 3097.5,-580 3097.5,-580 3201.5,-580 3201.5,-580 3207.5,-580 3213.5,-586 3213.5,-592 3213.5,-592 3213.5,-651 3213.5,-651 3213.5,-657 3207.5,-663 3201.5,-663\"/>\n<text text-anchor=\"start\" x=\"3093.5\" y=\"-647.8\" font-family=\"Helvetica,sans-Serif\" font-size=\"14.00\" fill=\"#000000\">Principal ≤ &#45;0.399</text>\n<text text-anchor=\"start\" x=\"3111.5\" y=\"-632.8\" font-family=\"Helvetica,sans-Serif\" font-size=\"14.00\" fill=\"#000000\">gini = 0.312</text>\n<text text-anchor=\"start\" x=\"3105.5\" y=\"-617.8\" font-family=\"Helvetica,sans-Serif\" font-size=\"14.00\" fill=\"#000000\">samples = 31</text>\n<text text-anchor=\"start\" x=\"3104\" y=\"-602.8\" font-family=\"Helvetica,sans-Serif\" font-size=\"14.00\" fill=\"#000000\">value = [25, 6]</text>\n<text text-anchor=\"start\" x=\"3123\" y=\"-587.8\" font-family=\"Helvetica,sans-Serif\" font-size=\"14.00\" fill=\"#000000\">class = l</text>\n</g>\n<!-- 133&#45;&gt;141 -->\n<g id=\"edge141\" class=\"edge\">\n<title>133&#45;&gt;141</title>\n<path fill=\"none\" stroke=\"#000000\" d=\"M3102.6821,-698.8796C3107.9133,-690.2335 3113.4805,-681.0322 3118.8823,-672.1042\"/>\n<polygon fill=\"#000000\" stroke=\"#000000\" points=\"3122.0283,-673.6658 3124.2104,-663.2981 3116.0392,-670.0421 3122.0283,-673.6658\"/>\n</g>\n<!-- 135 -->\n<g id=\"node136\" class=\"node\">\n<title>135</title>\n<path fill=\"#f2c09c\" stroke=\"#000000\" d=\"M2917.5,-544C2917.5,-544 2837.5,-544 2837.5,-544 2831.5,-544 2825.5,-538 2825.5,-532 2825.5,-532 2825.5,-473 2825.5,-473 2825.5,-467 2831.5,-461 2837.5,-461 2837.5,-461 2917.5,-461 2917.5,-461 2923.5,-461 2929.5,-467 2929.5,-473 2929.5,-473 2929.5,-532 2929.5,-532 2929.5,-538 2923.5,-544 2917.5,-544\"/>\n<text text-anchor=\"start\" x=\"2841\" y=\"-528.8\" font-family=\"Helvetica,sans-Serif\" font-size=\"14.00\" fill=\"#000000\">age ≤ &#45;0.57</text>\n<text text-anchor=\"start\" x=\"2839.5\" y=\"-513.8\" font-family=\"Helvetica,sans-Serif\" font-size=\"14.00\" fill=\"#000000\">gini = 0.444</text>\n<text text-anchor=\"start\" x=\"2833.5\" y=\"-498.8\" font-family=\"Helvetica,sans-Serif\" font-size=\"14.00\" fill=\"#000000\">samples = 12</text>\n<text text-anchor=\"start\" x=\"2836\" y=\"-483.8\" font-family=\"Helvetica,sans-Serif\" font-size=\"14.00\" fill=\"#000000\">value = [8, 4]</text>\n<text text-anchor=\"start\" x=\"2851\" y=\"-468.8\" font-family=\"Helvetica,sans-Serif\" font-size=\"14.00\" fill=\"#000000\">class = l</text>\n</g>\n<!-- 134&#45;&gt;135 -->\n<g id=\"edge135\" class=\"edge\">\n<title>134&#45;&gt;135</title>\n<path fill=\"none\" stroke=\"#000000\" d=\"M2965.9338,-579.8796C2955.3321,-570.6031 2943.9998,-560.6874 2933.1067,-551.1559\"/>\n<polygon fill=\"#000000\" stroke=\"#000000\" points=\"2935.0998,-548.2491 2925.2692,-544.2981 2930.4902,-553.5172 2935.0998,-548.2491\"/>\n</g>\n<!-- 138 -->\n<g id=\"node139\" class=\"node\">\n<title>138</title>\n<path fill=\"#eb9d65\" stroke=\"#000000\" d=\"M3053.5,-544C3053.5,-544 2973.5,-544 2973.5,-544 2967.5,-544 2961.5,-538 2961.5,-532 2961.5,-532 2961.5,-473 2961.5,-473 2961.5,-467 2967.5,-461 2973.5,-461 2973.5,-461 3053.5,-461 3053.5,-461 3059.5,-461 3065.5,-467 3065.5,-473 3065.5,-473 3065.5,-532 3065.5,-532 3065.5,-538 3059.5,-544 3053.5,-544\"/>\n<text text-anchor=\"start\" x=\"2977\" y=\"-528.8\" font-family=\"Helvetica,sans-Serif\" font-size=\"14.00\" fill=\"#000000\">age ≤ &#45;0.57</text>\n<text text-anchor=\"start\" x=\"2975.5\" y=\"-513.8\" font-family=\"Helvetica,sans-Serif\" font-size=\"14.00\" fill=\"#000000\">gini = 0.298</text>\n<text text-anchor=\"start\" x=\"2969.5\" y=\"-498.8\" font-family=\"Helvetica,sans-Serif\" font-size=\"14.00\" fill=\"#000000\">samples = 11</text>\n<text text-anchor=\"start\" x=\"2972\" y=\"-483.8\" font-family=\"Helvetica,sans-Serif\" font-size=\"14.00\" fill=\"#000000\">value = [9, 2]</text>\n<text text-anchor=\"start\" x=\"2987\" y=\"-468.8\" font-family=\"Helvetica,sans-Serif\" font-size=\"14.00\" fill=\"#000000\">class = l</text>\n</g>\n<!-- 134&#45;&gt;138 -->\n<g id=\"edge138\" class=\"edge\">\n<title>134&#45;&gt;138</title>\n<path fill=\"none\" stroke=\"#000000\" d=\"M3013.5,-579.8796C3013.5,-571.6838 3013.5,-562.9891 3013.5,-554.5013\"/>\n<polygon fill=\"#000000\" stroke=\"#000000\" points=\"3017.0001,-554.298 3013.5,-544.2981 3010.0001,-554.2981 3017.0001,-554.298\"/>\n</g>\n<!-- 136 -->\n<g id=\"node137\" class=\"node\">\n<title>136</title>\n<path fill=\"#efb388\" stroke=\"#000000\" d=\"M2798,-417.5C2798,-417.5 2723,-417.5 2723,-417.5 2717,-417.5 2711,-411.5 2711,-405.5 2711,-405.5 2711,-361.5 2711,-361.5 2711,-355.5 2717,-349.5 2723,-349.5 2723,-349.5 2798,-349.5 2798,-349.5 2804,-349.5 2810,-355.5 2810,-361.5 2810,-361.5 2810,-405.5 2810,-405.5 2810,-411.5 2804,-417.5 2798,-417.5\"/>\n<text text-anchor=\"start\" x=\"2722.5\" y=\"-402.3\" font-family=\"Helvetica,sans-Serif\" font-size=\"14.00\" fill=\"#000000\">gini = 0.408</text>\n<text text-anchor=\"start\" x=\"2721\" y=\"-387.3\" font-family=\"Helvetica,sans-Serif\" font-size=\"14.00\" fill=\"#000000\">samples = 7</text>\n<text text-anchor=\"start\" x=\"2719\" y=\"-372.3\" font-family=\"Helvetica,sans-Serif\" font-size=\"14.00\" fill=\"#000000\">value = [5, 2]</text>\n<text text-anchor=\"start\" x=\"2734\" y=\"-357.3\" font-family=\"Helvetica,sans-Serif\" font-size=\"14.00\" fill=\"#000000\">class = l</text>\n</g>\n<!-- 135&#45;&gt;136 -->\n<g id=\"edge136\" class=\"edge\">\n<title>135&#45;&gt;136</title>\n<path fill=\"none\" stroke=\"#000000\" d=\"M2836.5791,-460.8796C2825.2272,-449.3337 2812.9018,-436.7976 2801.543,-425.2446\"/>\n<polygon fill=\"#000000\" stroke=\"#000000\" points=\"2803.7449,-422.4919 2794.2382,-417.8149 2798.7534,-427.3995 2803.7449,-422.4919\"/>\n</g>\n<!-- 137 -->\n<g id=\"node138\" class=\"node\">\n<title>137</title>\n<path fill=\"#f6d5bd\" stroke=\"#000000\" d=\"M2915,-417.5C2915,-417.5 2840,-417.5 2840,-417.5 2834,-417.5 2828,-411.5 2828,-405.5 2828,-405.5 2828,-361.5 2828,-361.5 2828,-355.5 2834,-349.5 2840,-349.5 2840,-349.5 2915,-349.5 2915,-349.5 2921,-349.5 2927,-355.5 2927,-361.5 2927,-361.5 2927,-405.5 2927,-405.5 2927,-411.5 2921,-417.5 2915,-417.5\"/>\n<text text-anchor=\"start\" x=\"2844\" y=\"-402.3\" font-family=\"Helvetica,sans-Serif\" font-size=\"14.00\" fill=\"#000000\">gini = 0.48</text>\n<text text-anchor=\"start\" x=\"2838\" y=\"-387.3\" font-family=\"Helvetica,sans-Serif\" font-size=\"14.00\" fill=\"#000000\">samples = 5</text>\n<text text-anchor=\"start\" x=\"2836\" y=\"-372.3\" font-family=\"Helvetica,sans-Serif\" font-size=\"14.00\" fill=\"#000000\">value = [3, 2]</text>\n<text text-anchor=\"start\" x=\"2851\" y=\"-357.3\" font-family=\"Helvetica,sans-Serif\" font-size=\"14.00\" fill=\"#000000\">class = l</text>\n</g>\n<!-- 135&#45;&gt;137 -->\n<g id=\"edge137\" class=\"edge\">\n<title>135&#45;&gt;137</title>\n<path fill=\"none\" stroke=\"#000000\" d=\"M2877.5,-460.8796C2877.5,-450.2134 2877.5,-438.7021 2877.5,-427.9015\"/>\n<polygon fill=\"#000000\" stroke=\"#000000\" points=\"2881.0001,-427.8149 2877.5,-417.8149 2874.0001,-427.815 2881.0001,-427.8149\"/>\n</g>\n<!-- 139 -->\n<g id=\"node140\" class=\"node\">\n<title>139</title>\n<path fill=\"#eeab7b\" stroke=\"#000000\" d=\"M3032,-417.5C3032,-417.5 2957,-417.5 2957,-417.5 2951,-417.5 2945,-411.5 2945,-405.5 2945,-405.5 2945,-361.5 2945,-361.5 2945,-355.5 2951,-349.5 2957,-349.5 2957,-349.5 3032,-349.5 3032,-349.5 3038,-349.5 3044,-355.5 3044,-361.5 3044,-361.5 3044,-405.5 3044,-405.5 3044,-411.5 3038,-417.5 3032,-417.5\"/>\n<text text-anchor=\"start\" x=\"2956.5\" y=\"-402.3\" font-family=\"Helvetica,sans-Serif\" font-size=\"14.00\" fill=\"#000000\">gini = 0.375</text>\n<text text-anchor=\"start\" x=\"2955\" y=\"-387.3\" font-family=\"Helvetica,sans-Serif\" font-size=\"14.00\" fill=\"#000000\">samples = 4</text>\n<text text-anchor=\"start\" x=\"2953\" y=\"-372.3\" font-family=\"Helvetica,sans-Serif\" font-size=\"14.00\" fill=\"#000000\">value = [3, 1]</text>\n<text text-anchor=\"start\" x=\"2968\" y=\"-357.3\" font-family=\"Helvetica,sans-Serif\" font-size=\"14.00\" fill=\"#000000\">class = l</text>\n</g>\n<!-- 138&#45;&gt;139 -->\n<g id=\"edge139\" class=\"edge\">\n<title>138&#45;&gt;139</title>\n<path fill=\"none\" stroke=\"#000000\" d=\"M3006.8547,-460.8796C3005.1517,-450.2134 3003.3138,-438.7021 3001.5893,-427.9015\"/>\n<polygon fill=\"#000000\" stroke=\"#000000\" points=\"3005.0118,-427.138 2999.9789,-417.8149 2998.0994,-428.2417 3005.0118,-427.138\"/>\n</g>\n<!-- 140 -->\n<g id=\"node141\" class=\"node\">\n<title>140</title>\n<path fill=\"#e9965a\" stroke=\"#000000\" d=\"M3149,-417.5C3149,-417.5 3074,-417.5 3074,-417.5 3068,-417.5 3062,-411.5 3062,-405.5 3062,-405.5 3062,-361.5 3062,-361.5 3062,-355.5 3068,-349.5 3074,-349.5 3074,-349.5 3149,-349.5 3149,-349.5 3155,-349.5 3161,-355.5 3161,-361.5 3161,-361.5 3161,-405.5 3161,-405.5 3161,-411.5 3155,-417.5 3149,-417.5\"/>\n<text text-anchor=\"start\" x=\"3073.5\" y=\"-402.3\" font-family=\"Helvetica,sans-Serif\" font-size=\"14.00\" fill=\"#000000\">gini = 0.245</text>\n<text text-anchor=\"start\" x=\"3072\" y=\"-387.3\" font-family=\"Helvetica,sans-Serif\" font-size=\"14.00\" fill=\"#000000\">samples = 7</text>\n<text text-anchor=\"start\" x=\"3070\" y=\"-372.3\" font-family=\"Helvetica,sans-Serif\" font-size=\"14.00\" fill=\"#000000\">value = [6, 1]</text>\n<text text-anchor=\"start\" x=\"3085\" y=\"-357.3\" font-family=\"Helvetica,sans-Serif\" font-size=\"14.00\" fill=\"#000000\">class = l</text>\n</g>\n<!-- 138&#45;&gt;140 -->\n<g id=\"edge140\" class=\"edge\">\n<title>138&#45;&gt;140</title>\n<path fill=\"none\" stroke=\"#000000\" d=\"M3047.7756,-460.8796C3057.1935,-449.4436 3067.4113,-437.0363 3076.85,-425.575\"/>\n<polygon fill=\"#000000\" stroke=\"#000000\" points=\"3079.5853,-427.7592 3083.2406,-417.8149 3074.1818,-423.3093 3079.5853,-427.7592\"/>\n</g>\n<!-- 142 -->\n<g id=\"node143\" class=\"node\">\n<title>142</title>\n<path fill=\"#e58139\" stroke=\"#000000\" d=\"M3179,-536.5C3179,-536.5 3104,-536.5 3104,-536.5 3098,-536.5 3092,-530.5 3092,-524.5 3092,-524.5 3092,-480.5 3092,-480.5 3092,-474.5 3098,-468.5 3104,-468.5 3104,-468.5 3179,-468.5 3179,-468.5 3185,-468.5 3191,-474.5 3191,-480.5 3191,-480.5 3191,-524.5 3191,-524.5 3191,-530.5 3185,-536.5 3179,-536.5\"/>\n<text text-anchor=\"start\" x=\"3112\" y=\"-521.3\" font-family=\"Helvetica,sans-Serif\" font-size=\"14.00\" fill=\"#000000\">gini = 0.0</text>\n<text text-anchor=\"start\" x=\"3102\" y=\"-506.3\" font-family=\"Helvetica,sans-Serif\" font-size=\"14.00\" fill=\"#000000\">samples = 1</text>\n<text text-anchor=\"start\" x=\"3100\" y=\"-491.3\" font-family=\"Helvetica,sans-Serif\" font-size=\"14.00\" fill=\"#000000\">value = [1, 0]</text>\n<text text-anchor=\"start\" x=\"3115\" y=\"-476.3\" font-family=\"Helvetica,sans-Serif\" font-size=\"14.00\" fill=\"#000000\">class = l</text>\n</g>\n<!-- 141&#45;&gt;142 -->\n<g id=\"edge142\" class=\"edge\">\n<title>141&#45;&gt;142</title>\n<path fill=\"none\" stroke=\"#000000\" d=\"M3146.702,-579.8796C3145.9849,-569.2134 3145.2111,-557.7021 3144.485,-546.9015\"/>\n<polygon fill=\"#000000\" stroke=\"#000000\" points=\"3147.9699,-546.5576 3143.8069,-536.8149 3140.9856,-547.0272 3147.9699,-546.5576\"/>\n</g>\n<!-- 143 -->\n<g id=\"node144\" class=\"node\">\n<title>143</title>\n<path fill=\"#eca06a\" stroke=\"#000000\" d=\"M3304,-544C3304,-544 3221,-544 3221,-544 3215,-544 3209,-538 3209,-532 3209,-532 3209,-473 3209,-473 3209,-467 3215,-461 3221,-461 3221,-461 3304,-461 3304,-461 3310,-461 3316,-467 3316,-473 3316,-473 3316,-532 3316,-532 3316,-538 3310,-544 3304,-544\"/>\n<text text-anchor=\"start\" x=\"3221.5\" y=\"-528.8\" font-family=\"Helvetica,sans-Serif\" font-size=\"14.00\" fill=\"#000000\">age ≤ &#45;0.073</text>\n<text text-anchor=\"start\" x=\"3229\" y=\"-513.8\" font-family=\"Helvetica,sans-Serif\" font-size=\"14.00\" fill=\"#000000\">gini = 0.32</text>\n<text text-anchor=\"start\" x=\"3218.5\" y=\"-498.8\" font-family=\"Helvetica,sans-Serif\" font-size=\"14.00\" fill=\"#000000\">samples = 30</text>\n<text text-anchor=\"start\" x=\"3217\" y=\"-483.8\" font-family=\"Helvetica,sans-Serif\" font-size=\"14.00\" fill=\"#000000\">value = [24, 6]</text>\n<text text-anchor=\"start\" x=\"3236\" y=\"-468.8\" font-family=\"Helvetica,sans-Serif\" font-size=\"14.00\" fill=\"#000000\">class = l</text>\n</g>\n<!-- 141&#45;&gt;143 -->\n<g id=\"edge143\" class=\"edge\">\n<title>141&#45;&gt;143</title>\n<path fill=\"none\" stroke=\"#000000\" d=\"M3189.0219,-579.8796C3197.6597,-570.7832 3206.881,-561.0722 3215.7697,-551.7116\"/>\n<polygon fill=\"#000000\" stroke=\"#000000\" points=\"3218.4615,-553.9597 3222.8094,-544.2981 3213.3854,-549.1395 3218.4615,-553.9597\"/>\n</g>\n<!-- 144 -->\n<g id=\"node145\" class=\"node\">\n<title>144</title>\n<path fill=\"#ea9c63\" stroke=\"#000000\" d=\"M3274,-425C3274,-425 3191,-425 3191,-425 3185,-425 3179,-419 3179,-413 3179,-413 3179,-354 3179,-354 3179,-348 3185,-342 3191,-342 3191,-342 3274,-342 3274,-342 3280,-342 3286,-348 3286,-354 3286,-354 3286,-413 3286,-413 3286,-419 3280,-425 3274,-425\"/>\n<text text-anchor=\"start\" x=\"3187\" y=\"-409.8\" font-family=\"Helvetica,sans-Serif\" font-size=\"14.00\" fill=\"#000000\">college ≤ 0.14</text>\n<text text-anchor=\"start\" x=\"3194.5\" y=\"-394.8\" font-family=\"Helvetica,sans-Serif\" font-size=\"14.00\" fill=\"#000000\">gini = 0.287</text>\n<text text-anchor=\"start\" x=\"3188.5\" y=\"-379.8\" font-family=\"Helvetica,sans-Serif\" font-size=\"14.00\" fill=\"#000000\">samples = 23</text>\n<text text-anchor=\"start\" x=\"3187\" y=\"-364.8\" font-family=\"Helvetica,sans-Serif\" font-size=\"14.00\" fill=\"#000000\">value = [19, 4]</text>\n<text text-anchor=\"start\" x=\"3206\" y=\"-349.8\" font-family=\"Helvetica,sans-Serif\" font-size=\"14.00\" fill=\"#000000\">class = l</text>\n</g>\n<!-- 143&#45;&gt;144 -->\n<g id=\"edge144\" class=\"edge\">\n<title>143&#45;&gt;144</title>\n<path fill=\"none\" stroke=\"#000000\" d=\"M3252.0075,-460.8796C3249.9186,-452.5938 3247.7012,-443.798 3245.5391,-435.2216\"/>\n<polygon fill=\"#000000\" stroke=\"#000000\" points=\"3248.8757,-434.1391 3243.0373,-425.2981 3242.0881,-435.8503 3248.8757,-434.1391\"/>\n</g>\n<!-- 151 -->\n<g id=\"node152\" class=\"node\">\n<title>151</title>\n<path fill=\"#efb388\" stroke=\"#000000\" d=\"M3499,-425C3499,-425 3316,-425 3316,-425 3310,-425 3304,-419 3304,-413 3304,-413 3304,-354 3304,-354 3304,-348 3310,-342 3316,-342 3316,-342 3499,-342 3499,-342 3505,-342 3511,-348 3511,-354 3511,-354 3511,-413 3511,-413 3511,-419 3505,-425 3499,-425\"/>\n<text text-anchor=\"start\" x=\"3312\" y=\"-409.8\" font-family=\"Helvetica,sans-Serif\" font-size=\"14.00\" fill=\"#000000\">High School or Below ≤ 0.128</text>\n<text text-anchor=\"start\" x=\"3369.5\" y=\"-394.8\" font-family=\"Helvetica,sans-Serif\" font-size=\"14.00\" fill=\"#000000\">gini = 0.408</text>\n<text text-anchor=\"start\" x=\"3368\" y=\"-379.8\" font-family=\"Helvetica,sans-Serif\" font-size=\"14.00\" fill=\"#000000\">samples = 7</text>\n<text text-anchor=\"start\" x=\"3366\" y=\"-364.8\" font-family=\"Helvetica,sans-Serif\" font-size=\"14.00\" fill=\"#000000\">value = [5, 2]</text>\n<text text-anchor=\"start\" x=\"3381\" y=\"-349.8\" font-family=\"Helvetica,sans-Serif\" font-size=\"14.00\" fill=\"#000000\">class = l</text>\n</g>\n<!-- 143&#45;&gt;151 -->\n<g id=\"edge151\" class=\"edge\">\n<title>143&#45;&gt;151</title>\n<path fill=\"none\" stroke=\"#000000\" d=\"M3313.214,-460.8796C3324.627,-451.513 3336.8341,-441.4948 3348.5515,-431.8784\"/>\n<polygon fill=\"#000000\" stroke=\"#000000\" points=\"3351.0599,-434.3476 3356.5696,-425.2981 3346.6191,-428.9366 3351.0599,-434.3476\"/>\n</g>\n<!-- 145 -->\n<g id=\"node146\" class=\"node\">\n<title>145</title>\n<path fill=\"#e9965a\" stroke=\"#000000\" d=\"M3153,-306C3153,-306 3070,-306 3070,-306 3064,-306 3058,-300 3058,-294 3058,-294 3058,-235 3058,-235 3058,-229 3064,-223 3070,-223 3070,-223 3153,-223 3153,-223 3159,-223 3165,-229 3165,-235 3165,-235 3165,-294 3165,-294 3165,-300 3159,-306 3153,-306\"/>\n<text text-anchor=\"start\" x=\"3070.5\" y=\"-290.8\" font-family=\"Helvetica,sans-Serif\" font-size=\"14.00\" fill=\"#000000\">age ≤ &#45;0.239</text>\n<text text-anchor=\"start\" x=\"3073.5\" y=\"-275.8\" font-family=\"Helvetica,sans-Serif\" font-size=\"14.00\" fill=\"#000000\">gini = 0.245</text>\n<text text-anchor=\"start\" x=\"3067.5\" y=\"-260.8\" font-family=\"Helvetica,sans-Serif\" font-size=\"14.00\" fill=\"#000000\">samples = 14</text>\n<text text-anchor=\"start\" x=\"3066\" y=\"-245.8\" font-family=\"Helvetica,sans-Serif\" font-size=\"14.00\" fill=\"#000000\">value = [12, 2]</text>\n<text text-anchor=\"start\" x=\"3085\" y=\"-230.8\" font-family=\"Helvetica,sans-Serif\" font-size=\"14.00\" fill=\"#000000\">class = l</text>\n</g>\n<!-- 144&#45;&gt;145 -->\n<g id=\"edge145\" class=\"edge\">\n<title>144&#45;&gt;145</title>\n<path fill=\"none\" stroke=\"#000000\" d=\"M3190.1801,-341.8796C3180.8392,-332.6931 3170.861,-322.8798 3161.256,-313.4336\"/>\n<polygon fill=\"#000000\" stroke=\"#000000\" points=\"3163.5845,-310.8146 3154.0006,-306.2981 3158.6762,-315.8054 3163.5845,-310.8146\"/>\n</g>\n<!-- 148 -->\n<g id=\"node149\" class=\"node\">\n<title>148</title>\n<path fill=\"#eca572\" stroke=\"#000000\" d=\"M3270,-306C3270,-306 3195,-306 3195,-306 3189,-306 3183,-300 3183,-294 3183,-294 3183,-235 3183,-235 3183,-229 3189,-223 3195,-223 3195,-223 3270,-223 3270,-223 3276,-223 3282,-229 3282,-235 3282,-235 3282,-294 3282,-294 3282,-300 3276,-306 3270,-306\"/>\n<text text-anchor=\"start\" x=\"3191.5\" y=\"-290.8\" font-family=\"Helvetica,sans-Serif\" font-size=\"14.00\" fill=\"#000000\">age ≤ &#45;0.239</text>\n<text text-anchor=\"start\" x=\"3194.5\" y=\"-275.8\" font-family=\"Helvetica,sans-Serif\" font-size=\"14.00\" fill=\"#000000\">gini = 0.346</text>\n<text text-anchor=\"start\" x=\"3193\" y=\"-260.8\" font-family=\"Helvetica,sans-Serif\" font-size=\"14.00\" fill=\"#000000\">samples = 9</text>\n<text text-anchor=\"start\" x=\"3191\" y=\"-245.8\" font-family=\"Helvetica,sans-Serif\" font-size=\"14.00\" fill=\"#000000\">value = [7, 2]</text>\n<text text-anchor=\"start\" x=\"3206\" y=\"-230.8\" font-family=\"Helvetica,sans-Serif\" font-size=\"14.00\" fill=\"#000000\">class = l</text>\n</g>\n<!-- 144&#45;&gt;148 -->\n<g id=\"edge148\" class=\"edge\">\n<title>144&#45;&gt;148</title>\n<path fill=\"none\" stroke=\"#000000\" d=\"M3232.5,-341.8796C3232.5,-333.6838 3232.5,-324.9891 3232.5,-316.5013\"/>\n<polygon fill=\"#000000\" stroke=\"#000000\" points=\"3236.0001,-316.298 3232.5,-306.2981 3229.0001,-316.2981 3236.0001,-316.298\"/>\n</g>\n<!-- 146 -->\n<g id=\"node147\" class=\"node\">\n<title>146</title>\n<path fill=\"#ea9a61\" stroke=\"#000000\" d=\"M3033,-179.5C3033,-179.5 2958,-179.5 2958,-179.5 2952,-179.5 2946,-173.5 2946,-167.5 2946,-167.5 2946,-123.5 2946,-123.5 2946,-117.5 2952,-111.5 2958,-111.5 2958,-111.5 3033,-111.5 3033,-111.5 3039,-111.5 3045,-117.5 3045,-123.5 3045,-123.5 3045,-167.5 3045,-167.5 3045,-173.5 3039,-179.5 3033,-179.5\"/>\n<text text-anchor=\"start\" x=\"2957.5\" y=\"-164.3\" font-family=\"Helvetica,sans-Serif\" font-size=\"14.00\" fill=\"#000000\">gini = 0.278</text>\n<text text-anchor=\"start\" x=\"2956\" y=\"-149.3\" font-family=\"Helvetica,sans-Serif\" font-size=\"14.00\" fill=\"#000000\">samples = 6</text>\n<text text-anchor=\"start\" x=\"2954\" y=\"-134.3\" font-family=\"Helvetica,sans-Serif\" font-size=\"14.00\" fill=\"#000000\">value = [5, 1]</text>\n<text text-anchor=\"start\" x=\"2969\" y=\"-119.3\" font-family=\"Helvetica,sans-Serif\" font-size=\"14.00\" fill=\"#000000\">class = l</text>\n</g>\n<!-- 145&#45;&gt;146 -->\n<g id=\"edge146\" class=\"edge\">\n<title>145&#45;&gt;146</title>\n<path fill=\"none\" stroke=\"#000000\" d=\"M3070.9288,-222.8796C3059.674,-211.3337 3047.4539,-198.7976 3036.1922,-187.2446\"/>\n<polygon fill=\"#000000\" stroke=\"#000000\" points=\"3038.4364,-184.5326 3028.9499,-179.8149 3033.4238,-189.4188 3038.4364,-184.5326\"/>\n</g>\n<!-- 147 -->\n<g id=\"node148\" class=\"node\">\n<title>147</title>\n<path fill=\"#e99355\" stroke=\"#000000\" d=\"M3150,-179.5C3150,-179.5 3075,-179.5 3075,-179.5 3069,-179.5 3063,-173.5 3063,-167.5 3063,-167.5 3063,-123.5 3063,-123.5 3063,-117.5 3069,-111.5 3075,-111.5 3075,-111.5 3150,-111.5 3150,-111.5 3156,-111.5 3162,-117.5 3162,-123.5 3162,-123.5 3162,-167.5 3162,-167.5 3162,-173.5 3156,-179.5 3150,-179.5\"/>\n<text text-anchor=\"start\" x=\"3074.5\" y=\"-164.3\" font-family=\"Helvetica,sans-Serif\" font-size=\"14.00\" fill=\"#000000\">gini = 0.219</text>\n<text text-anchor=\"start\" x=\"3073\" y=\"-149.3\" font-family=\"Helvetica,sans-Serif\" font-size=\"14.00\" fill=\"#000000\">samples = 8</text>\n<text text-anchor=\"start\" x=\"3071\" y=\"-134.3\" font-family=\"Helvetica,sans-Serif\" font-size=\"14.00\" fill=\"#000000\">value = [7, 1]</text>\n<text text-anchor=\"start\" x=\"3086\" y=\"-119.3\" font-family=\"Helvetica,sans-Serif\" font-size=\"14.00\" fill=\"#000000\">class = l</text>\n</g>\n<!-- 145&#45;&gt;147 -->\n<g id=\"edge147\" class=\"edge\">\n<title>145&#45;&gt;147</title>\n<path fill=\"none\" stroke=\"#000000\" d=\"M3111.8498,-222.8796C3111.9394,-212.2134 3112.0361,-200.7021 3112.1269,-189.9015\"/>\n<polygon fill=\"#000000\" stroke=\"#000000\" points=\"3115.6274,-189.844 3112.2116,-179.8149 3108.6276,-189.7851 3115.6274,-189.844\"/>\n</g>\n<!-- 149 -->\n<g id=\"node150\" class=\"node\">\n<title>149</title>\n<path fill=\"#eca06a\" stroke=\"#000000\" d=\"M3269,-179.5C3269,-179.5 3194,-179.5 3194,-179.5 3188,-179.5 3182,-173.5 3182,-167.5 3182,-167.5 3182,-123.5 3182,-123.5 3182,-117.5 3188,-111.5 3194,-111.5 3194,-111.5 3269,-111.5 3269,-111.5 3275,-111.5 3281,-117.5 3281,-123.5 3281,-123.5 3281,-167.5 3281,-167.5 3281,-173.5 3275,-179.5 3269,-179.5\"/>\n<text text-anchor=\"start\" x=\"3198\" y=\"-164.3\" font-family=\"Helvetica,sans-Serif\" font-size=\"14.00\" fill=\"#000000\">gini = 0.32</text>\n<text text-anchor=\"start\" x=\"3192\" y=\"-149.3\" font-family=\"Helvetica,sans-Serif\" font-size=\"14.00\" fill=\"#000000\">samples = 5</text>\n<text text-anchor=\"start\" x=\"3190\" y=\"-134.3\" font-family=\"Helvetica,sans-Serif\" font-size=\"14.00\" fill=\"#000000\">value = [4, 1]</text>\n<text text-anchor=\"start\" x=\"3205\" y=\"-119.3\" font-family=\"Helvetica,sans-Serif\" font-size=\"14.00\" fill=\"#000000\">class = l</text>\n</g>\n<!-- 148&#45;&gt;149 -->\n<g id=\"edge149\" class=\"edge\">\n<title>148&#45;&gt;149</title>\n<path fill=\"none\" stroke=\"#000000\" d=\"M3232.1502,-222.8796C3232.0606,-212.2134 3231.9639,-200.7021 3231.8731,-189.9015\"/>\n<polygon fill=\"#000000\" stroke=\"#000000\" points=\"3235.3724,-189.7851 3231.7884,-179.8149 3228.3726,-189.844 3235.3724,-189.7851\"/>\n</g>\n<!-- 150 -->\n<g id=\"node151\" class=\"node\">\n<title>150</title>\n<path fill=\"#eeab7b\" stroke=\"#000000\" d=\"M3386,-179.5C3386,-179.5 3311,-179.5 3311,-179.5 3305,-179.5 3299,-173.5 3299,-167.5 3299,-167.5 3299,-123.5 3299,-123.5 3299,-117.5 3305,-111.5 3311,-111.5 3311,-111.5 3386,-111.5 3386,-111.5 3392,-111.5 3398,-117.5 3398,-123.5 3398,-123.5 3398,-167.5 3398,-167.5 3398,-173.5 3392,-179.5 3386,-179.5\"/>\n<text text-anchor=\"start\" x=\"3310.5\" y=\"-164.3\" font-family=\"Helvetica,sans-Serif\" font-size=\"14.00\" fill=\"#000000\">gini = 0.375</text>\n<text text-anchor=\"start\" x=\"3309\" y=\"-149.3\" font-family=\"Helvetica,sans-Serif\" font-size=\"14.00\" fill=\"#000000\">samples = 4</text>\n<text text-anchor=\"start\" x=\"3307\" y=\"-134.3\" font-family=\"Helvetica,sans-Serif\" font-size=\"14.00\" fill=\"#000000\">value = [3, 1]</text>\n<text text-anchor=\"start\" x=\"3322\" y=\"-119.3\" font-family=\"Helvetica,sans-Serif\" font-size=\"14.00\" fill=\"#000000\">class = l</text>\n</g>\n<!-- 148&#45;&gt;150 -->\n<g id=\"edge150\" class=\"edge\">\n<title>148&#45;&gt;150</title>\n<path fill=\"none\" stroke=\"#000000\" d=\"M3273.0712,-222.8796C3284.326,-211.3337 3296.5461,-198.7976 3307.8078,-187.2446\"/>\n<polygon fill=\"#000000\" stroke=\"#000000\" points=\"3310.5762,-189.4188 3315.0501,-179.8149 3305.5636,-184.5326 3310.5762,-189.4188\"/>\n</g>\n<!-- 152 -->\n<g id=\"node153\" class=\"node\">\n<title>152</title>\n<path fill=\"#eeab7b\" stroke=\"#000000\" d=\"M3387,-298.5C3387,-298.5 3312,-298.5 3312,-298.5 3306,-298.5 3300,-292.5 3300,-286.5 3300,-286.5 3300,-242.5 3300,-242.5 3300,-236.5 3306,-230.5 3312,-230.5 3312,-230.5 3387,-230.5 3387,-230.5 3393,-230.5 3399,-236.5 3399,-242.5 3399,-242.5 3399,-286.5 3399,-286.5 3399,-292.5 3393,-298.5 3387,-298.5\"/>\n<text text-anchor=\"start\" x=\"3311.5\" y=\"-283.3\" font-family=\"Helvetica,sans-Serif\" font-size=\"14.00\" fill=\"#000000\">gini = 0.375</text>\n<text text-anchor=\"start\" x=\"3310\" y=\"-268.3\" font-family=\"Helvetica,sans-Serif\" font-size=\"14.00\" fill=\"#000000\">samples = 4</text>\n<text text-anchor=\"start\" x=\"3308\" y=\"-253.3\" font-family=\"Helvetica,sans-Serif\" font-size=\"14.00\" fill=\"#000000\">value = [3, 1]</text>\n<text text-anchor=\"start\" x=\"3323\" y=\"-238.3\" font-family=\"Helvetica,sans-Serif\" font-size=\"14.00\" fill=\"#000000\">class = l</text>\n</g>\n<!-- 151&#45;&gt;152 -->\n<g id=\"edge152\" class=\"edge\">\n<title>151&#45;&gt;152</title>\n<path fill=\"none\" stroke=\"#000000\" d=\"M3387.2144,-341.8796C3381.855,-330.8835 3376.0578,-318.9893 3370.6537,-307.9015\"/>\n<polygon fill=\"#000000\" stroke=\"#000000\" points=\"3373.7524,-306.2706 3366.2249,-298.8149 3367.46,-309.3375 3373.7524,-306.2706\"/>\n</g>\n<!-- 153 -->\n<g id=\"node154\" class=\"node\">\n<title>153</title>\n<path fill=\"#f2c09c\" stroke=\"#000000\" d=\"M3504,-298.5C3504,-298.5 3429,-298.5 3429,-298.5 3423,-298.5 3417,-292.5 3417,-286.5 3417,-286.5 3417,-242.5 3417,-242.5 3417,-236.5 3423,-230.5 3429,-230.5 3429,-230.5 3504,-230.5 3504,-230.5 3510,-230.5 3516,-236.5 3516,-242.5 3516,-242.5 3516,-286.5 3516,-286.5 3516,-292.5 3510,-298.5 3504,-298.5\"/>\n<text text-anchor=\"start\" x=\"3428.5\" y=\"-283.3\" font-family=\"Helvetica,sans-Serif\" font-size=\"14.00\" fill=\"#000000\">gini = 0.444</text>\n<text text-anchor=\"start\" x=\"3427\" y=\"-268.3\" font-family=\"Helvetica,sans-Serif\" font-size=\"14.00\" fill=\"#000000\">samples = 3</text>\n<text text-anchor=\"start\" x=\"3425\" y=\"-253.3\" font-family=\"Helvetica,sans-Serif\" font-size=\"14.00\" fill=\"#000000\">value = [2, 1]</text>\n<text text-anchor=\"start\" x=\"3440\" y=\"-238.3\" font-family=\"Helvetica,sans-Serif\" font-size=\"14.00\" fill=\"#000000\">class = l</text>\n</g>\n<!-- 151&#45;&gt;153 -->\n<g id=\"edge153\" class=\"edge\">\n<title>151&#45;&gt;153</title>\n<path fill=\"none\" stroke=\"#000000\" d=\"M3428.1353,-341.8796C3433.5872,-330.8835 3439.4843,-318.9893 3444.9816,-307.9015\"/>\n<polygon fill=\"#000000\" stroke=\"#000000\" points=\"3448.1804,-309.3289 3449.4867,-298.8149 3441.9089,-306.2195 3448.1804,-309.3289\"/>\n</g>\n<!-- 155 -->\n<g id=\"node156\" class=\"node\">\n<title>155</title>\n<path fill=\"#399de5\" stroke=\"#000000\" d=\"M3319,-655.5C3319,-655.5 3244,-655.5 3244,-655.5 3238,-655.5 3232,-649.5 3232,-643.5 3232,-643.5 3232,-599.5 3232,-599.5 3232,-593.5 3238,-587.5 3244,-587.5 3244,-587.5 3319,-587.5 3319,-587.5 3325,-587.5 3331,-593.5 3331,-599.5 3331,-599.5 3331,-643.5 3331,-643.5 3331,-649.5 3325,-655.5 3319,-655.5\"/>\n<text text-anchor=\"start\" x=\"3252\" y=\"-640.3\" font-family=\"Helvetica,sans-Serif\" font-size=\"14.00\" fill=\"#000000\">gini = 0.0</text>\n<text text-anchor=\"start\" x=\"3242\" y=\"-625.3\" font-family=\"Helvetica,sans-Serif\" font-size=\"14.00\" fill=\"#000000\">samples = 1</text>\n<text text-anchor=\"start\" x=\"3240\" y=\"-610.3\" font-family=\"Helvetica,sans-Serif\" font-size=\"14.00\" fill=\"#000000\">value = [0, 1]</text>\n<text text-anchor=\"start\" x=\"3252.5\" y=\"-595.3\" font-family=\"Helvetica,sans-Serif\" font-size=\"14.00\" fill=\"#000000\">class = o</text>\n</g>\n<!-- 154&#45;&gt;155 -->\n<g id=\"edge155\" class=\"edge\">\n<title>154&#45;&gt;155</title>\n<path fill=\"none\" stroke=\"#000000\" d=\"M3239.8841,-698.8796C3245.798,-687.8835 3252.1949,-675.9893 3258.158,-664.9015\"/>\n<polygon fill=\"#000000\" stroke=\"#000000\" points=\"3261.3908,-666.2799 3263.0449,-655.8149 3255.2258,-662.9642 3261.3908,-666.2799\"/>\n</g>\n<!-- 156 -->\n<g id=\"node157\" class=\"node\">\n<title>156</title>\n<path fill=\"#f0b48a\" stroke=\"#000000\" d=\"M3779.5,-663C3779.5,-663 3687.5,-663 3687.5,-663 3681.5,-663 3675.5,-657 3675.5,-651 3675.5,-651 3675.5,-592 3675.5,-592 3675.5,-586 3681.5,-580 3687.5,-580 3687.5,-580 3779.5,-580 3779.5,-580 3785.5,-580 3791.5,-586 3791.5,-592 3791.5,-592 3791.5,-651 3791.5,-651 3791.5,-657 3785.5,-663 3779.5,-663\"/>\n<text text-anchor=\"start\" x=\"3695\" y=\"-647.8\" font-family=\"Helvetica,sans-Serif\" font-size=\"14.00\" fill=\"#000000\">age ≤ 0.922</text>\n<text text-anchor=\"start\" x=\"3695.5\" y=\"-632.8\" font-family=\"Helvetica,sans-Serif\" font-size=\"14.00\" fill=\"#000000\">gini = 0.411</text>\n<text text-anchor=\"start\" x=\"3689.5\" y=\"-617.8\" font-family=\"Helvetica,sans-Serif\" font-size=\"14.00\" fill=\"#000000\">samples = 38</text>\n<text text-anchor=\"start\" x=\"3683.5\" y=\"-602.8\" font-family=\"Helvetica,sans-Serif\" font-size=\"14.00\" fill=\"#000000\">value = [27, 11]</text>\n<text text-anchor=\"start\" x=\"3707\" y=\"-587.8\" font-family=\"Helvetica,sans-Serif\" font-size=\"14.00\" fill=\"#000000\">class = l</text>\n</g>\n<!-- 154&#45;&gt;156 -->\n<g id=\"edge156\" class=\"edge\">\n<title>154&#45;&gt;156</title>\n<path fill=\"none\" stroke=\"#000000\" d=\"M3281.8237,-702.4098C3284.7194,-701.1805 3287.619,-700.0356 3290.5,-699 3418.0721,-653.1453 3576.3741,-633.8411 3665.0407,-626.1656\"/>\n<polygon fill=\"#000000\" stroke=\"#000000\" points=\"3665.5676,-629.6337 3675.239,-625.3076 3664.9807,-622.6583 3665.5676,-629.6337\"/>\n</g>\n<!-- 157 -->\n<g id=\"node158\" class=\"node\">\n<title>157</title>\n<path fill=\"#eeaf81\" stroke=\"#000000\" d=\"M3775,-544C3775,-544 3692,-544 3692,-544 3686,-544 3680,-538 3680,-532 3680,-532 3680,-473 3680,-473 3680,-467 3686,-461 3692,-461 3692,-461 3775,-461 3775,-461 3781,-461 3787,-467 3787,-473 3787,-473 3787,-532 3787,-532 3787,-538 3781,-544 3775,-544\"/>\n<text text-anchor=\"start\" x=\"3699\" y=\"-528.8\" font-family=\"Helvetica,sans-Serif\" font-size=\"14.00\" fill=\"#000000\">age ≤ 0.59</text>\n<text text-anchor=\"start\" x=\"3695.5\" y=\"-513.8\" font-family=\"Helvetica,sans-Serif\" font-size=\"14.00\" fill=\"#000000\">gini = 0.391</text>\n<text text-anchor=\"start\" x=\"3689.5\" y=\"-498.8\" font-family=\"Helvetica,sans-Serif\" font-size=\"14.00\" fill=\"#000000\">samples = 30</text>\n<text text-anchor=\"start\" x=\"3688\" y=\"-483.8\" font-family=\"Helvetica,sans-Serif\" font-size=\"14.00\" fill=\"#000000\">value = [22, 8]</text>\n<text text-anchor=\"start\" x=\"3707\" y=\"-468.8\" font-family=\"Helvetica,sans-Serif\" font-size=\"14.00\" fill=\"#000000\">class = l</text>\n</g>\n<!-- 156&#45;&gt;157 -->\n<g id=\"edge157\" class=\"edge\">\n<title>156&#45;&gt;157</title>\n<path fill=\"none\" stroke=\"#000000\" d=\"M3733.5,-579.8796C3733.5,-571.6838 3733.5,-562.9891 3733.5,-554.5013\"/>\n<polygon fill=\"#000000\" stroke=\"#000000\" points=\"3737.0001,-554.298 3733.5,-544.2981 3730.0001,-554.2981 3737.0001,-554.298\"/>\n</g>\n<!-- 172 -->\n<g id=\"node173\" class=\"node\">\n<title>172</title>\n<path fill=\"#f5cdb0\" stroke=\"#000000\" d=\"M4086,-544C4086,-544 3903,-544 3903,-544 3897,-544 3891,-538 3891,-532 3891,-532 3891,-473 3891,-473 3891,-467 3897,-461 3903,-461 3903,-461 4086,-461 4086,-461 4092,-461 4098,-467 4098,-473 4098,-473 4098,-532 4098,-532 4098,-538 4092,-544 4086,-544\"/>\n<text text-anchor=\"start\" x=\"3899\" y=\"-528.8\" font-family=\"Helvetica,sans-Serif\" font-size=\"14.00\" fill=\"#000000\">High School or Below ≤ 0.128</text>\n<text text-anchor=\"start\" x=\"3956.5\" y=\"-513.8\" font-family=\"Helvetica,sans-Serif\" font-size=\"14.00\" fill=\"#000000\">gini = 0.469</text>\n<text text-anchor=\"start\" x=\"3955\" y=\"-498.8\" font-family=\"Helvetica,sans-Serif\" font-size=\"14.00\" fill=\"#000000\">samples = 8</text>\n<text text-anchor=\"start\" x=\"3953\" y=\"-483.8\" font-family=\"Helvetica,sans-Serif\" font-size=\"14.00\" fill=\"#000000\">value = [5, 3]</text>\n<text text-anchor=\"start\" x=\"3968\" y=\"-468.8\" font-family=\"Helvetica,sans-Serif\" font-size=\"14.00\" fill=\"#000000\">class = l</text>\n</g>\n<!-- 156&#45;&gt;172 -->\n<g id=\"edge172\" class=\"edge\">\n<title>156&#45;&gt;172</title>\n<path fill=\"none\" stroke=\"#000000\" d=\"M3791.7486,-594.9422C3821.8831,-581.2027 3859.5231,-564.0412 3894.1634,-548.2474\"/>\n<polygon fill=\"#000000\" stroke=\"#000000\" points=\"3895.7237,-551.3826 3903.3706,-544.0494 3892.8197,-545.0134 3895.7237,-551.3826\"/>\n</g>\n<!-- 158 -->\n<g id=\"node159\" class=\"node\">\n<title>158</title>\n<path fill=\"#f0b78e\" stroke=\"#000000\" d=\"M3690,-425C3690,-425 3607,-425 3607,-425 3601,-425 3595,-419 3595,-413 3595,-413 3595,-354 3595,-354 3595,-348 3601,-342 3607,-342 3607,-342 3690,-342 3690,-342 3696,-342 3702,-348 3702,-354 3702,-354 3702,-413 3702,-413 3702,-419 3696,-425 3690,-425\"/>\n<text text-anchor=\"start\" x=\"3603\" y=\"-409.8\" font-family=\"Helvetica,sans-Serif\" font-size=\"14.00\" fill=\"#000000\">college ≤ 0.14</text>\n<text text-anchor=\"start\" x=\"3615\" y=\"-394.8\" font-family=\"Helvetica,sans-Serif\" font-size=\"14.00\" fill=\"#000000\">gini = 0.42</text>\n<text text-anchor=\"start\" x=\"3604.5\" y=\"-379.8\" font-family=\"Helvetica,sans-Serif\" font-size=\"14.00\" fill=\"#000000\">samples = 20</text>\n<text text-anchor=\"start\" x=\"3603\" y=\"-364.8\" font-family=\"Helvetica,sans-Serif\" font-size=\"14.00\" fill=\"#000000\">value = [14, 6]</text>\n<text text-anchor=\"start\" x=\"3622\" y=\"-349.8\" font-family=\"Helvetica,sans-Serif\" font-size=\"14.00\" fill=\"#000000\">class = l</text>\n</g>\n<!-- 157&#45;&gt;158 -->\n<g id=\"edge158\" class=\"edge\">\n<title>157&#45;&gt;158</title>\n<path fill=\"none\" stroke=\"#000000\" d=\"M3703.7711,-460.8796C3697.4667,-452.0534 3690.749,-442.6485 3684.2476,-433.5466\"/>\n<polygon fill=\"#000000\" stroke=\"#000000\" points=\"3687.0163,-431.4011 3678.3558,-425.2981 3681.3201,-435.4698 3687.0163,-431.4011\"/>\n</g>\n<!-- 167 -->\n<g id=\"node168\" class=\"node\">\n<title>167</title>\n<path fill=\"#eca06a\" stroke=\"#000000\" d=\"M3915,-425C3915,-425 3732,-425 3732,-425 3726,-425 3720,-419 3720,-413 3720,-413 3720,-354 3720,-354 3720,-348 3726,-342 3732,-342 3732,-342 3915,-342 3915,-342 3921,-342 3927,-348 3927,-354 3927,-354 3927,-413 3927,-413 3927,-419 3921,-425 3915,-425\"/>\n<text text-anchor=\"start\" x=\"3728\" y=\"-409.8\" font-family=\"Helvetica,sans-Serif\" font-size=\"14.00\" fill=\"#000000\">High School or Below ≤ 0.128</text>\n<text text-anchor=\"start\" x=\"3790\" y=\"-394.8\" font-family=\"Helvetica,sans-Serif\" font-size=\"14.00\" fill=\"#000000\">gini = 0.32</text>\n<text text-anchor=\"start\" x=\"3779.5\" y=\"-379.8\" font-family=\"Helvetica,sans-Serif\" font-size=\"14.00\" fill=\"#000000\">samples = 10</text>\n<text text-anchor=\"start\" x=\"3782\" y=\"-364.8\" font-family=\"Helvetica,sans-Serif\" font-size=\"14.00\" fill=\"#000000\">value = [8, 2]</text>\n<text text-anchor=\"start\" x=\"3797\" y=\"-349.8\" font-family=\"Helvetica,sans-Serif\" font-size=\"14.00\" fill=\"#000000\">class = l</text>\n</g>\n<!-- 157&#45;&gt;167 -->\n<g id=\"edge167\" class=\"edge\">\n<title>157&#45;&gt;167</title>\n<path fill=\"none\" stroke=\"#000000\" d=\"M3764.9776,-460.8796C3771.6529,-452.0534 3778.7658,-442.6485 3785.6496,-433.5466\"/>\n<polygon fill=\"#000000\" stroke=\"#000000\" points=\"3788.6474,-435.3852 3791.888,-425.2981 3783.0643,-431.1626 3788.6474,-435.3852\"/>\n</g>\n<!-- 159 -->\n<g id=\"node160\" class=\"node\">\n<title>159</title>\n<path fill=\"#ea9a61\" stroke=\"#000000\" d=\"M3621,-306C3621,-306 3546,-306 3546,-306 3540,-306 3534,-300 3534,-294 3534,-294 3534,-235 3534,-235 3534,-229 3540,-223 3546,-223 3546,-223 3621,-223 3621,-223 3627,-223 3633,-229 3633,-235 3633,-235 3633,-294 3633,-294 3633,-300 3627,-306 3621,-306\"/>\n<text text-anchor=\"start\" x=\"3545\" y=\"-290.8\" font-family=\"Helvetica,sans-Serif\" font-size=\"14.00\" fill=\"#000000\">age ≤ 0.425</text>\n<text text-anchor=\"start\" x=\"3545.5\" y=\"-275.8\" font-family=\"Helvetica,sans-Serif\" font-size=\"14.00\" fill=\"#000000\">gini = 0.278</text>\n<text text-anchor=\"start\" x=\"3544\" y=\"-260.8\" font-family=\"Helvetica,sans-Serif\" font-size=\"14.00\" fill=\"#000000\">samples = 6</text>\n<text text-anchor=\"start\" x=\"3542\" y=\"-245.8\" font-family=\"Helvetica,sans-Serif\" font-size=\"14.00\" fill=\"#000000\">value = [5, 1]</text>\n<text text-anchor=\"start\" x=\"3557\" y=\"-230.8\" font-family=\"Helvetica,sans-Serif\" font-size=\"14.00\" fill=\"#000000\">class = l</text>\n</g>\n<!-- 158&#45;&gt;159 -->\n<g id=\"edge159\" class=\"edge\">\n<title>158&#45;&gt;159</title>\n<path fill=\"none\" stroke=\"#000000\" d=\"M3625.7662,-341.8796C3621.0435,-333.2335 3616.0176,-324.0322 3611.141,-315.1042\"/>\n<polygon fill=\"#000000\" stroke=\"#000000\" points=\"3614.1963,-313.3964 3606.3309,-306.2981 3608.053,-316.752 3614.1963,-313.3964\"/>\n</g>\n<!-- 162 -->\n<g id=\"node163\" class=\"node\">\n<title>162</title>\n<path fill=\"#f3c7a7\" stroke=\"#000000\" d=\"M3743.5,-306C3743.5,-306 3663.5,-306 3663.5,-306 3657.5,-306 3651.5,-300 3651.5,-294 3651.5,-294 3651.5,-235 3651.5,-235 3651.5,-229 3657.5,-223 3663.5,-223 3663.5,-223 3743.5,-223 3743.5,-223 3749.5,-223 3755.5,-229 3755.5,-235 3755.5,-235 3755.5,-294 3755.5,-294 3755.5,-300 3749.5,-306 3743.5,-306\"/>\n<text text-anchor=\"start\" x=\"3665\" y=\"-290.8\" font-family=\"Helvetica,sans-Serif\" font-size=\"14.00\" fill=\"#000000\">age ≤ 0.425</text>\n<text text-anchor=\"start\" x=\"3665.5\" y=\"-275.8\" font-family=\"Helvetica,sans-Serif\" font-size=\"14.00\" fill=\"#000000\">gini = 0.459</text>\n<text text-anchor=\"start\" x=\"3659.5\" y=\"-260.8\" font-family=\"Helvetica,sans-Serif\" font-size=\"14.00\" fill=\"#000000\">samples = 14</text>\n<text text-anchor=\"start\" x=\"3662\" y=\"-245.8\" font-family=\"Helvetica,sans-Serif\" font-size=\"14.00\" fill=\"#000000\">value = [9, 5]</text>\n<text text-anchor=\"start\" x=\"3677\" y=\"-230.8\" font-family=\"Helvetica,sans-Serif\" font-size=\"14.00\" fill=\"#000000\">class = l</text>\n</g>\n<!-- 158&#45;&gt;162 -->\n<g id=\"edge162\" class=\"edge\">\n<title>158&#45;&gt;162</title>\n<path fill=\"none\" stroke=\"#000000\" d=\"M3667.7363,-341.8796C3671.6908,-333.3236 3675.8966,-324.2238 3679.9825,-315.3833\"/>\n<polygon fill=\"#000000\" stroke=\"#000000\" points=\"3683.1632,-316.8439 3684.1816,-306.2981 3676.809,-313.907 3683.1632,-316.8439\"/>\n</g>\n<!-- 160 -->\n<g id=\"node161\" class=\"node\">\n<title>160</title>\n<path fill=\"#e58139\" stroke=\"#000000\" d=\"M3504,-179.5C3504,-179.5 3429,-179.5 3429,-179.5 3423,-179.5 3417,-173.5 3417,-167.5 3417,-167.5 3417,-123.5 3417,-123.5 3417,-117.5 3423,-111.5 3429,-111.5 3429,-111.5 3504,-111.5 3504,-111.5 3510,-111.5 3516,-117.5 3516,-123.5 3516,-123.5 3516,-167.5 3516,-167.5 3516,-173.5 3510,-179.5 3504,-179.5\"/>\n<text text-anchor=\"start\" x=\"3437\" y=\"-164.3\" font-family=\"Helvetica,sans-Serif\" font-size=\"14.00\" fill=\"#000000\">gini = 0.0</text>\n<text text-anchor=\"start\" x=\"3427\" y=\"-149.3\" font-family=\"Helvetica,sans-Serif\" font-size=\"14.00\" fill=\"#000000\">samples = 3</text>\n<text text-anchor=\"start\" x=\"3425\" y=\"-134.3\" font-family=\"Helvetica,sans-Serif\" font-size=\"14.00\" fill=\"#000000\">value = [3, 0]</text>\n<text text-anchor=\"start\" x=\"3440\" y=\"-119.3\" font-family=\"Helvetica,sans-Serif\" font-size=\"14.00\" fill=\"#000000\">class = l</text>\n</g>\n<!-- 159&#45;&gt;160 -->\n<g id=\"edge160\" class=\"edge\">\n<title>159&#45;&gt;160</title>\n<path fill=\"none\" stroke=\"#000000\" d=\"M3542.5791,-222.8796C3531.2272,-211.3337 3518.9018,-198.7976 3507.543,-187.2446\"/>\n<polygon fill=\"#000000\" stroke=\"#000000\" points=\"3509.7449,-184.4919 3500.2382,-179.8149 3504.7534,-189.3995 3509.7449,-184.4919\"/>\n</g>\n<!-- 161 -->\n<g id=\"node162\" class=\"node\">\n<title>161</title>\n<path fill=\"#f2c09c\" stroke=\"#000000\" d=\"M3621,-179.5C3621,-179.5 3546,-179.5 3546,-179.5 3540,-179.5 3534,-173.5 3534,-167.5 3534,-167.5 3534,-123.5 3534,-123.5 3534,-117.5 3540,-111.5 3546,-111.5 3546,-111.5 3621,-111.5 3621,-111.5 3627,-111.5 3633,-117.5 3633,-123.5 3633,-123.5 3633,-167.5 3633,-167.5 3633,-173.5 3627,-179.5 3621,-179.5\"/>\n<text text-anchor=\"start\" x=\"3545.5\" y=\"-164.3\" font-family=\"Helvetica,sans-Serif\" font-size=\"14.00\" fill=\"#000000\">gini = 0.444</text>\n<text text-anchor=\"start\" x=\"3544\" y=\"-149.3\" font-family=\"Helvetica,sans-Serif\" font-size=\"14.00\" fill=\"#000000\">samples = 3</text>\n<text text-anchor=\"start\" x=\"3542\" y=\"-134.3\" font-family=\"Helvetica,sans-Serif\" font-size=\"14.00\" fill=\"#000000\">value = [2, 1]</text>\n<text text-anchor=\"start\" x=\"3557\" y=\"-119.3\" font-family=\"Helvetica,sans-Serif\" font-size=\"14.00\" fill=\"#000000\">class = l</text>\n</g>\n<!-- 159&#45;&gt;161 -->\n<g id=\"edge161\" class=\"edge\">\n<title>159&#45;&gt;161</title>\n<path fill=\"none\" stroke=\"#000000\" d=\"M3583.5,-222.8796C3583.5,-212.2134 3583.5,-200.7021 3583.5,-189.9015\"/>\n<polygon fill=\"#000000\" stroke=\"#000000\" points=\"3587.0001,-189.8149 3583.5,-179.8149 3580.0001,-189.815 3587.0001,-189.8149\"/>\n</g>\n<!-- 163 -->\n<g id=\"node164\" class=\"node\">\n<title>163</title>\n<path fill=\"#f6d5bd\" stroke=\"#000000\" d=\"M3743.5,-187C3743.5,-187 3663.5,-187 3663.5,-187 3657.5,-187 3651.5,-181 3651.5,-175 3651.5,-175 3651.5,-116 3651.5,-116 3651.5,-110 3657.5,-104 3663.5,-104 3663.5,-104 3743.5,-104 3743.5,-104 3749.5,-104 3755.5,-110 3755.5,-116 3755.5,-116 3755.5,-175 3755.5,-175 3755.5,-181 3749.5,-187 3743.5,-187\"/>\n<text text-anchor=\"start\" x=\"3665\" y=\"-171.8\" font-family=\"Helvetica,sans-Serif\" font-size=\"14.00\" fill=\"#000000\">age ≤ 0.259</text>\n<text text-anchor=\"start\" x=\"3670\" y=\"-156.8\" font-family=\"Helvetica,sans-Serif\" font-size=\"14.00\" fill=\"#000000\">gini = 0.48</text>\n<text text-anchor=\"start\" x=\"3659.5\" y=\"-141.8\" font-family=\"Helvetica,sans-Serif\" font-size=\"14.00\" fill=\"#000000\">samples = 10</text>\n<text text-anchor=\"start\" x=\"3662\" y=\"-126.8\" font-family=\"Helvetica,sans-Serif\" font-size=\"14.00\" fill=\"#000000\">value = [6, 4]</text>\n<text text-anchor=\"start\" x=\"3677\" y=\"-111.8\" font-family=\"Helvetica,sans-Serif\" font-size=\"14.00\" fill=\"#000000\">class = l</text>\n</g>\n<!-- 162&#45;&gt;163 -->\n<g id=\"edge163\" class=\"edge\">\n<title>162&#45;&gt;163</title>\n<path fill=\"none\" stroke=\"#000000\" d=\"M3703.5,-222.8796C3703.5,-214.6838 3703.5,-205.9891 3703.5,-197.5013\"/>\n<polygon fill=\"#000000\" stroke=\"#000000\" points=\"3707.0001,-197.298 3703.5,-187.2981 3700.0001,-197.2981 3707.0001,-197.298\"/>\n</g>\n<!-- 166 -->\n<g id=\"node167\" class=\"node\">\n<title>166</title>\n<path fill=\"#eeab7b\" stroke=\"#000000\" d=\"M3861,-179.5C3861,-179.5 3786,-179.5 3786,-179.5 3780,-179.5 3774,-173.5 3774,-167.5 3774,-167.5 3774,-123.5 3774,-123.5 3774,-117.5 3780,-111.5 3786,-111.5 3786,-111.5 3861,-111.5 3861,-111.5 3867,-111.5 3873,-117.5 3873,-123.5 3873,-123.5 3873,-167.5 3873,-167.5 3873,-173.5 3867,-179.5 3861,-179.5\"/>\n<text text-anchor=\"start\" x=\"3785.5\" y=\"-164.3\" font-family=\"Helvetica,sans-Serif\" font-size=\"14.00\" fill=\"#000000\">gini = 0.375</text>\n<text text-anchor=\"start\" x=\"3784\" y=\"-149.3\" font-family=\"Helvetica,sans-Serif\" font-size=\"14.00\" fill=\"#000000\">samples = 4</text>\n<text text-anchor=\"start\" x=\"3782\" y=\"-134.3\" font-family=\"Helvetica,sans-Serif\" font-size=\"14.00\" fill=\"#000000\">value = [3, 1]</text>\n<text text-anchor=\"start\" x=\"3797\" y=\"-119.3\" font-family=\"Helvetica,sans-Serif\" font-size=\"14.00\" fill=\"#000000\">class = l</text>\n</g>\n<!-- 162&#45;&gt;166 -->\n<g id=\"edge166\" class=\"edge\">\n<title>162&#45;&gt;166</title>\n<path fill=\"none\" stroke=\"#000000\" d=\"M3745.4702,-222.8796C3757.224,-211.2237 3769.9954,-198.5587 3781.7372,-186.9148\"/>\n<polygon fill=\"#000000\" stroke=\"#000000\" points=\"3784.2606,-189.3416 3788.8967,-179.8149 3779.3316,-184.3712 3784.2606,-189.3416\"/>\n</g>\n<!-- 164 -->\n<g id=\"node165\" class=\"node\">\n<title>164</title>\n<path fill=\"#f6d5bd\" stroke=\"#000000\" d=\"M3682,-68C3682,-68 3607,-68 3607,-68 3601,-68 3595,-62 3595,-56 3595,-56 3595,-12 3595,-12 3595,-6 3601,0 3607,0 3607,0 3682,0 3682,0 3688,0 3694,-6 3694,-12 3694,-12 3694,-56 3694,-56 3694,-62 3688,-68 3682,-68\"/>\n<text text-anchor=\"start\" x=\"3611\" y=\"-52.8\" font-family=\"Helvetica,sans-Serif\" font-size=\"14.00\" fill=\"#000000\">gini = 0.48</text>\n<text text-anchor=\"start\" x=\"3605\" y=\"-37.8\" font-family=\"Helvetica,sans-Serif\" font-size=\"14.00\" fill=\"#000000\">samples = 5</text>\n<text text-anchor=\"start\" x=\"3603\" y=\"-22.8\" font-family=\"Helvetica,sans-Serif\" font-size=\"14.00\" fill=\"#000000\">value = [3, 2]</text>\n<text text-anchor=\"start\" x=\"3618\" y=\"-7.8\" font-family=\"Helvetica,sans-Serif\" font-size=\"14.00\" fill=\"#000000\">class = l</text>\n</g>\n<!-- 163&#45;&gt;164 -->\n<g id=\"edge164\" class=\"edge\">\n<title>163&#45;&gt;164</title>\n<path fill=\"none\" stroke=\"#000000\" d=\"M3681.5306,-103.9815C3676.9105,-95.2504 3672.0264,-86.0202 3667.374,-77.2281\"/>\n<polygon fill=\"#000000\" stroke=\"#000000\" points=\"3670.4013,-75.4655 3662.6306,-68.2637 3664.2141,-78.7395 3670.4013,-75.4655\"/>\n</g>\n<!-- 165 -->\n<g id=\"node166\" class=\"node\">\n<title>165</title>\n<path fill=\"#f6d5bd\" stroke=\"#000000\" d=\"M3799,-68C3799,-68 3724,-68 3724,-68 3718,-68 3712,-62 3712,-56 3712,-56 3712,-12 3712,-12 3712,-6 3718,0 3724,0 3724,0 3799,0 3799,0 3805,0 3811,-6 3811,-12 3811,-12 3811,-56 3811,-56 3811,-62 3805,-68 3799,-68\"/>\n<text text-anchor=\"start\" x=\"3728\" y=\"-52.8\" font-family=\"Helvetica,sans-Serif\" font-size=\"14.00\" fill=\"#000000\">gini = 0.48</text>\n<text text-anchor=\"start\" x=\"3722\" y=\"-37.8\" font-family=\"Helvetica,sans-Serif\" font-size=\"14.00\" fill=\"#000000\">samples = 5</text>\n<text text-anchor=\"start\" x=\"3720\" y=\"-22.8\" font-family=\"Helvetica,sans-Serif\" font-size=\"14.00\" fill=\"#000000\">value = [3, 2]</text>\n<text text-anchor=\"start\" x=\"3735\" y=\"-7.8\" font-family=\"Helvetica,sans-Serif\" font-size=\"14.00\" fill=\"#000000\">class = l</text>\n</g>\n<!-- 163&#45;&gt;165 -->\n<g id=\"edge165\" class=\"edge\">\n<title>163&#45;&gt;165</title>\n<path fill=\"none\" stroke=\"#000000\" d=\"M3725.0971,-103.9815C3729.6388,-95.2504 3734.4402,-86.0202 3739.0137,-77.2281\"/>\n<polygon fill=\"#000000\" stroke=\"#000000\" points=\"3742.1669,-78.7504 3743.6767,-68.2637 3735.9569,-75.52 3742.1669,-78.7504\"/>\n</g>\n<!-- 168 -->\n<g id=\"node169\" class=\"node\">\n<title>168</title>\n<path fill=\"#e58139\" stroke=\"#000000\" d=\"M3861,-298.5C3861,-298.5 3786,-298.5 3786,-298.5 3780,-298.5 3774,-292.5 3774,-286.5 3774,-286.5 3774,-242.5 3774,-242.5 3774,-236.5 3780,-230.5 3786,-230.5 3786,-230.5 3861,-230.5 3861,-230.5 3867,-230.5 3873,-236.5 3873,-242.5 3873,-242.5 3873,-286.5 3873,-286.5 3873,-292.5 3867,-298.5 3861,-298.5\"/>\n<text text-anchor=\"start\" x=\"3794\" y=\"-283.3\" font-family=\"Helvetica,sans-Serif\" font-size=\"14.00\" fill=\"#000000\">gini = 0.0</text>\n<text text-anchor=\"start\" x=\"3784\" y=\"-268.3\" font-family=\"Helvetica,sans-Serif\" font-size=\"14.00\" fill=\"#000000\">samples = 3</text>\n<text text-anchor=\"start\" x=\"3782\" y=\"-253.3\" font-family=\"Helvetica,sans-Serif\" font-size=\"14.00\" fill=\"#000000\">value = [3, 0]</text>\n<text text-anchor=\"start\" x=\"3797\" y=\"-238.3\" font-family=\"Helvetica,sans-Serif\" font-size=\"14.00\" fill=\"#000000\">class = l</text>\n</g>\n<!-- 167&#45;&gt;168 -->\n<g id=\"edge168\" class=\"edge\">\n<title>167&#45;&gt;168</title>\n<path fill=\"none\" stroke=\"#000000\" d=\"M3823.5,-341.8796C3823.5,-331.2134 3823.5,-319.7021 3823.5,-308.9015\"/>\n<polygon fill=\"#000000\" stroke=\"#000000\" points=\"3827.0001,-308.8149 3823.5,-298.8149 3820.0001,-308.815 3827.0001,-308.8149\"/>\n</g>\n<!-- 169 -->\n<g id=\"node170\" class=\"node\">\n<title>169</title>\n<path fill=\"#efb388\" stroke=\"#000000\" d=\"M3978,-306C3978,-306 3903,-306 3903,-306 3897,-306 3891,-300 3891,-294 3891,-294 3891,-235 3891,-235 3891,-229 3897,-223 3903,-223 3903,-223 3978,-223 3978,-223 3984,-223 3990,-229 3990,-235 3990,-235 3990,-294 3990,-294 3990,-300 3984,-306 3978,-306\"/>\n<text text-anchor=\"start\" x=\"3902\" y=\"-290.8\" font-family=\"Helvetica,sans-Serif\" font-size=\"14.00\" fill=\"#000000\">age ≤ 0.756</text>\n<text text-anchor=\"start\" x=\"3902.5\" y=\"-275.8\" font-family=\"Helvetica,sans-Serif\" font-size=\"14.00\" fill=\"#000000\">gini = 0.408</text>\n<text text-anchor=\"start\" x=\"3901\" y=\"-260.8\" font-family=\"Helvetica,sans-Serif\" font-size=\"14.00\" fill=\"#000000\">samples = 7</text>\n<text text-anchor=\"start\" x=\"3899\" y=\"-245.8\" font-family=\"Helvetica,sans-Serif\" font-size=\"14.00\" fill=\"#000000\">value = [5, 2]</text>\n<text text-anchor=\"start\" x=\"3914\" y=\"-230.8\" font-family=\"Helvetica,sans-Serif\" font-size=\"14.00\" fill=\"#000000\">class = l</text>\n</g>\n<!-- 167&#45;&gt;169 -->\n<g id=\"edge169\" class=\"edge\">\n<title>167&#45;&gt;169</title>\n<path fill=\"none\" stroke=\"#000000\" d=\"M3864.4209,-341.8796C3873.453,-332.6931 3883.1013,-322.8798 3892.3888,-313.4336\"/>\n<polygon fill=\"#000000\" stroke=\"#000000\" points=\"3894.8893,-315.8827 3899.4044,-306.2981 3889.8977,-310.975 3894.8893,-315.8827\"/>\n</g>\n<!-- 170 -->\n<g id=\"node171\" class=\"node\">\n<title>170</title>\n<path fill=\"#eca06a\" stroke=\"#000000\" d=\"M3978,-179.5C3978,-179.5 3903,-179.5 3903,-179.5 3897,-179.5 3891,-173.5 3891,-167.5 3891,-167.5 3891,-123.5 3891,-123.5 3891,-117.5 3897,-111.5 3903,-111.5 3903,-111.5 3978,-111.5 3978,-111.5 3984,-111.5 3990,-117.5 3990,-123.5 3990,-123.5 3990,-167.5 3990,-167.5 3990,-173.5 3984,-179.5 3978,-179.5\"/>\n<text text-anchor=\"start\" x=\"3907\" y=\"-164.3\" font-family=\"Helvetica,sans-Serif\" font-size=\"14.00\" fill=\"#000000\">gini = 0.32</text>\n<text text-anchor=\"start\" x=\"3901\" y=\"-149.3\" font-family=\"Helvetica,sans-Serif\" font-size=\"14.00\" fill=\"#000000\">samples = 5</text>\n<text text-anchor=\"start\" x=\"3899\" y=\"-134.3\" font-family=\"Helvetica,sans-Serif\" font-size=\"14.00\" fill=\"#000000\">value = [4, 1]</text>\n<text text-anchor=\"start\" x=\"3914\" y=\"-119.3\" font-family=\"Helvetica,sans-Serif\" font-size=\"14.00\" fill=\"#000000\">class = l</text>\n</g>\n<!-- 169&#45;&gt;170 -->\n<g id=\"edge170\" class=\"edge\">\n<title>169&#45;&gt;170</title>\n<path fill=\"none\" stroke=\"#000000\" d=\"M3940.5,-222.8796C3940.5,-212.2134 3940.5,-200.7021 3940.5,-189.9015\"/>\n<polygon fill=\"#000000\" stroke=\"#000000\" points=\"3944.0001,-189.8149 3940.5,-179.8149 3937.0001,-189.815 3944.0001,-189.8149\"/>\n</g>\n<!-- 171 -->\n<g id=\"node172\" class=\"node\">\n<title>171</title>\n<path fill=\"#ffffff\" stroke=\"#000000\" d=\"M4095,-179.5C4095,-179.5 4020,-179.5 4020,-179.5 4014,-179.5 4008,-173.5 4008,-167.5 4008,-167.5 4008,-123.5 4008,-123.5 4008,-117.5 4014,-111.5 4020,-111.5 4020,-111.5 4095,-111.5 4095,-111.5 4101,-111.5 4107,-117.5 4107,-123.5 4107,-123.5 4107,-167.5 4107,-167.5 4107,-173.5 4101,-179.5 4095,-179.5\"/>\n<text text-anchor=\"start\" x=\"4028\" y=\"-164.3\" font-family=\"Helvetica,sans-Serif\" font-size=\"14.00\" fill=\"#000000\">gini = 0.5</text>\n<text text-anchor=\"start\" x=\"4018\" y=\"-149.3\" font-family=\"Helvetica,sans-Serif\" font-size=\"14.00\" fill=\"#000000\">samples = 2</text>\n<text text-anchor=\"start\" x=\"4016\" y=\"-134.3\" font-family=\"Helvetica,sans-Serif\" font-size=\"14.00\" fill=\"#000000\">value = [1, 1]</text>\n<text text-anchor=\"start\" x=\"4031\" y=\"-119.3\" font-family=\"Helvetica,sans-Serif\" font-size=\"14.00\" fill=\"#000000\">class = l</text>\n</g>\n<!-- 169&#45;&gt;171 -->\n<g id=\"edge171\" class=\"edge\">\n<title>169&#45;&gt;171</title>\n<path fill=\"none\" stroke=\"#000000\" d=\"M3981.4209,-222.8796C3992.7728,-211.3337 4005.0982,-198.7976 4016.457,-187.2446\"/>\n<polygon fill=\"#000000\" stroke=\"#000000\" points=\"4019.2466,-189.3995 4023.7618,-179.8149 4014.2551,-184.4919 4019.2466,-189.3995\"/>\n</g>\n<!-- 173 -->\n<g id=\"node174\" class=\"node\">\n<title>173</title>\n<path fill=\"#eeab7b\" stroke=\"#000000\" d=\"M4032,-417.5C4032,-417.5 3957,-417.5 3957,-417.5 3951,-417.5 3945,-411.5 3945,-405.5 3945,-405.5 3945,-361.5 3945,-361.5 3945,-355.5 3951,-349.5 3957,-349.5 3957,-349.5 4032,-349.5 4032,-349.5 4038,-349.5 4044,-355.5 4044,-361.5 4044,-361.5 4044,-405.5 4044,-405.5 4044,-411.5 4038,-417.5 4032,-417.5\"/>\n<text text-anchor=\"start\" x=\"3956.5\" y=\"-402.3\" font-family=\"Helvetica,sans-Serif\" font-size=\"14.00\" fill=\"#000000\">gini = 0.375</text>\n<text text-anchor=\"start\" x=\"3955\" y=\"-387.3\" font-family=\"Helvetica,sans-Serif\" font-size=\"14.00\" fill=\"#000000\">samples = 4</text>\n<text text-anchor=\"start\" x=\"3953\" y=\"-372.3\" font-family=\"Helvetica,sans-Serif\" font-size=\"14.00\" fill=\"#000000\">value = [3, 1]</text>\n<text text-anchor=\"start\" x=\"3968\" y=\"-357.3\" font-family=\"Helvetica,sans-Serif\" font-size=\"14.00\" fill=\"#000000\">class = l</text>\n</g>\n<!-- 172&#45;&gt;173 -->\n<g id=\"edge173\" class=\"edge\">\n<title>172&#45;&gt;173</title>\n<path fill=\"none\" stroke=\"#000000\" d=\"M3994.5,-460.8796C3994.5,-450.2134 3994.5,-438.7021 3994.5,-427.9015\"/>\n<polygon fill=\"#000000\" stroke=\"#000000\" points=\"3998.0001,-427.8149 3994.5,-417.8149 3991.0001,-427.815 3998.0001,-427.8149\"/>\n</g>\n<!-- 174 -->\n<g id=\"node175\" class=\"node\">\n<title>174</title>\n<path fill=\"#ffffff\" stroke=\"#000000\" d=\"M4149,-417.5C4149,-417.5 4074,-417.5 4074,-417.5 4068,-417.5 4062,-411.5 4062,-405.5 4062,-405.5 4062,-361.5 4062,-361.5 4062,-355.5 4068,-349.5 4074,-349.5 4074,-349.5 4149,-349.5 4149,-349.5 4155,-349.5 4161,-355.5 4161,-361.5 4161,-361.5 4161,-405.5 4161,-405.5 4161,-411.5 4155,-417.5 4149,-417.5\"/>\n<text text-anchor=\"start\" x=\"4082\" y=\"-402.3\" font-family=\"Helvetica,sans-Serif\" font-size=\"14.00\" fill=\"#000000\">gini = 0.5</text>\n<text text-anchor=\"start\" x=\"4072\" y=\"-387.3\" font-family=\"Helvetica,sans-Serif\" font-size=\"14.00\" fill=\"#000000\">samples = 4</text>\n<text text-anchor=\"start\" x=\"4070\" y=\"-372.3\" font-family=\"Helvetica,sans-Serif\" font-size=\"14.00\" fill=\"#000000\">value = [2, 2]</text>\n<text text-anchor=\"start\" x=\"4085\" y=\"-357.3\" font-family=\"Helvetica,sans-Serif\" font-size=\"14.00\" fill=\"#000000\">class = l</text>\n</g>\n<!-- 172&#45;&gt;174 -->\n<g id=\"edge174\" class=\"edge\">\n<title>172&#45;&gt;174</title>\n<path fill=\"none\" stroke=\"#000000\" d=\"M4035.4209,-460.8796C4046.7728,-449.3337 4059.0982,-436.7976 4070.457,-425.2446\"/>\n<polygon fill=\"#000000\" stroke=\"#000000\" points=\"4073.2466,-427.3995 4077.7618,-417.8149 4068.2551,-422.4919 4073.2466,-427.3995\"/>\n</g>\n<!-- 176 -->\n<g id=\"node177\" class=\"node\">\n<title>176</title>\n<path fill=\"#ffffff\" stroke=\"#000000\" d=\"M3387,-774.5C3387,-774.5 3312,-774.5 3312,-774.5 3306,-774.5 3300,-768.5 3300,-762.5 3300,-762.5 3300,-718.5 3300,-718.5 3300,-712.5 3306,-706.5 3312,-706.5 3312,-706.5 3387,-706.5 3387,-706.5 3393,-706.5 3399,-712.5 3399,-718.5 3399,-718.5 3399,-762.5 3399,-762.5 3399,-768.5 3393,-774.5 3387,-774.5\"/>\n<text text-anchor=\"start\" x=\"3320\" y=\"-759.3\" font-family=\"Helvetica,sans-Serif\" font-size=\"14.00\" fill=\"#000000\">gini = 0.5</text>\n<text text-anchor=\"start\" x=\"3310\" y=\"-744.3\" font-family=\"Helvetica,sans-Serif\" font-size=\"14.00\" fill=\"#000000\">samples = 2</text>\n<text text-anchor=\"start\" x=\"3308\" y=\"-729.3\" font-family=\"Helvetica,sans-Serif\" font-size=\"14.00\" fill=\"#000000\">value = [1, 1]</text>\n<text text-anchor=\"start\" x=\"3323\" y=\"-714.3\" font-family=\"Helvetica,sans-Serif\" font-size=\"14.00\" fill=\"#000000\">class = l</text>\n</g>\n<!-- 175&#45;&gt;176 -->\n<g id=\"edge176\" class=\"edge\">\n<title>175&#45;&gt;176</title>\n<path fill=\"none\" stroke=\"#000000\" d=\"M3349.5,-817.8796C3349.5,-807.2134 3349.5,-795.7021 3349.5,-784.9015\"/>\n<polygon fill=\"#000000\" stroke=\"#000000\" points=\"3353.0001,-784.8149 3349.5,-774.8149 3346.0001,-784.815 3353.0001,-784.8149\"/>\n</g>\n<!-- 177 -->\n<g id=\"node178\" class=\"node\">\n<title>177</title>\n<path fill=\"#e58139\" stroke=\"#000000\" d=\"M3504,-774.5C3504,-774.5 3429,-774.5 3429,-774.5 3423,-774.5 3417,-768.5 3417,-762.5 3417,-762.5 3417,-718.5 3417,-718.5 3417,-712.5 3423,-706.5 3429,-706.5 3429,-706.5 3504,-706.5 3504,-706.5 3510,-706.5 3516,-712.5 3516,-718.5 3516,-718.5 3516,-762.5 3516,-762.5 3516,-768.5 3510,-774.5 3504,-774.5\"/>\n<text text-anchor=\"start\" x=\"3437\" y=\"-759.3\" font-family=\"Helvetica,sans-Serif\" font-size=\"14.00\" fill=\"#000000\">gini = 0.0</text>\n<text text-anchor=\"start\" x=\"3427\" y=\"-744.3\" font-family=\"Helvetica,sans-Serif\" font-size=\"14.00\" fill=\"#000000\">samples = 7</text>\n<text text-anchor=\"start\" x=\"3425\" y=\"-729.3\" font-family=\"Helvetica,sans-Serif\" font-size=\"14.00\" fill=\"#000000\">value = [7, 0]</text>\n<text text-anchor=\"start\" x=\"3440\" y=\"-714.3\" font-family=\"Helvetica,sans-Serif\" font-size=\"14.00\" fill=\"#000000\">class = l</text>\n</g>\n<!-- 175&#45;&gt;177 -->\n<g id=\"edge177\" class=\"edge\">\n<title>175&#45;&gt;177</title>\n<path fill=\"none\" stroke=\"#000000\" d=\"M3390.4209,-817.8796C3401.7728,-806.3337 3414.0982,-793.7976 3425.457,-782.2446\"/>\n<polygon fill=\"#000000\" stroke=\"#000000\" points=\"3428.2466,-784.3995 3432.7618,-774.8149 3423.2551,-779.4919 3428.2466,-784.3995\"/>\n</g>\n<!-- 180 -->\n<g id=\"node181\" class=\"node\">\n<title>180</title>\n<path fill=\"#399de5\" stroke=\"#000000\" d=\"M3396,-1131.5C3396,-1131.5 3321,-1131.5 3321,-1131.5 3315,-1131.5 3309,-1125.5 3309,-1119.5 3309,-1119.5 3309,-1075.5 3309,-1075.5 3309,-1069.5 3315,-1063.5 3321,-1063.5 3321,-1063.5 3396,-1063.5 3396,-1063.5 3402,-1063.5 3408,-1069.5 3408,-1075.5 3408,-1075.5 3408,-1119.5 3408,-1119.5 3408,-1125.5 3402,-1131.5 3396,-1131.5\"/>\n<text text-anchor=\"start\" x=\"3329\" y=\"-1116.3\" font-family=\"Helvetica,sans-Serif\" font-size=\"14.00\" fill=\"#000000\">gini = 0.0</text>\n<text text-anchor=\"start\" x=\"3319\" y=\"-1101.3\" font-family=\"Helvetica,sans-Serif\" font-size=\"14.00\" fill=\"#000000\">samples = 1</text>\n<text text-anchor=\"start\" x=\"3317\" y=\"-1086.3\" font-family=\"Helvetica,sans-Serif\" font-size=\"14.00\" fill=\"#000000\">value = [0, 1]</text>\n<text text-anchor=\"start\" x=\"3329.5\" y=\"-1071.3\" font-family=\"Helvetica,sans-Serif\" font-size=\"14.00\" fill=\"#000000\">class = o</text>\n</g>\n<!-- 179&#45;&gt;180 -->\n<g id=\"edge180\" class=\"edge\">\n<title>179&#45;&gt;180</title>\n<path fill=\"none\" stroke=\"#000000\" d=\"M3359.1502,-1174.8796C3359.0606,-1164.2134 3358.9639,-1152.7021 3358.8731,-1141.9015\"/>\n<polygon fill=\"#000000\" stroke=\"#000000\" points=\"3362.3724,-1141.7851 3358.7884,-1131.8149 3355.3726,-1141.844 3362.3724,-1141.7851\"/>\n</g>\n<!-- 181 -->\n<g id=\"node182\" class=\"node\">\n<title>181</title>\n<path fill=\"#f5cdb0\" stroke=\"#000000\" d=\"M3521,-1139C3521,-1139 3438,-1139 3438,-1139 3432,-1139 3426,-1133 3426,-1127 3426,-1127 3426,-1068 3426,-1068 3426,-1062 3432,-1056 3438,-1056 3438,-1056 3521,-1056 3521,-1056 3527,-1056 3533,-1062 3533,-1068 3533,-1068 3533,-1127 3533,-1127 3533,-1133 3527,-1139 3521,-1139\"/>\n<text text-anchor=\"start\" x=\"3434\" y=\"-1123.8\" font-family=\"Helvetica,sans-Serif\" font-size=\"14.00\" fill=\"#000000\">college ≤ 0.14</text>\n<text text-anchor=\"start\" x=\"3441.5\" y=\"-1108.8\" font-family=\"Helvetica,sans-Serif\" font-size=\"14.00\" fill=\"#000000\">gini = 0.469</text>\n<text text-anchor=\"start\" x=\"3440\" y=\"-1093.8\" font-family=\"Helvetica,sans-Serif\" font-size=\"14.00\" fill=\"#000000\">samples = 8</text>\n<text text-anchor=\"start\" x=\"3438\" y=\"-1078.8\" font-family=\"Helvetica,sans-Serif\" font-size=\"14.00\" fill=\"#000000\">value = [5, 3]</text>\n<text text-anchor=\"start\" x=\"3453\" y=\"-1063.8\" font-family=\"Helvetica,sans-Serif\" font-size=\"14.00\" fill=\"#000000\">class = l</text>\n</g>\n<!-- 179&#45;&gt;181 -->\n<g id=\"edge181\" class=\"edge\">\n<title>179&#45;&gt;181</title>\n<path fill=\"none\" stroke=\"#000000\" d=\"M3401.4702,-1174.8796C3410.7338,-1165.6931 3420.6296,-1155.8798 3430.1552,-1146.4336\"/>\n<polygon fill=\"#000000\" stroke=\"#000000\" points=\"3432.7146,-1148.8247 3437.3507,-1139.2981 3427.7856,-1143.8543 3432.7146,-1148.8247\"/>\n</g>\n<!-- 182 -->\n<g id=\"node183\" class=\"node\">\n<title>182</title>\n<path fill=\"#ffffff\" stroke=\"#000000\" d=\"M3518,-1020C3518,-1020 3433,-1020 3433,-1020 3427,-1020 3421,-1014 3421,-1008 3421,-1008 3421,-949 3421,-949 3421,-943 3427,-937 3433,-937 3433,-937 3518,-937 3518,-937 3524,-937 3530,-943 3530,-949 3530,-949 3530,-1008 3530,-1008 3530,-1014 3524,-1020 3518,-1020\"/>\n<text text-anchor=\"start\" x=\"3429\" y=\"-1004.8\" font-family=\"Helvetica,sans-Serif\" font-size=\"14.00\" fill=\"#000000\">terms ≤ &#45;0.019</text>\n<text text-anchor=\"start\" x=\"3446\" y=\"-989.8\" font-family=\"Helvetica,sans-Serif\" font-size=\"14.00\" fill=\"#000000\">gini = 0.5</text>\n<text text-anchor=\"start\" x=\"3436\" y=\"-974.8\" font-family=\"Helvetica,sans-Serif\" font-size=\"14.00\" fill=\"#000000\">samples = 6</text>\n<text text-anchor=\"start\" x=\"3434\" y=\"-959.8\" font-family=\"Helvetica,sans-Serif\" font-size=\"14.00\" fill=\"#000000\">value = [3, 3]</text>\n<text text-anchor=\"start\" x=\"3449\" y=\"-944.8\" font-family=\"Helvetica,sans-Serif\" font-size=\"14.00\" fill=\"#000000\">class = l</text>\n</g>\n<!-- 181&#45;&gt;182 -->\n<g id=\"edge182\" class=\"edge\">\n<title>181&#45;&gt;182</title>\n<path fill=\"none\" stroke=\"#000000\" d=\"M3478.101,-1055.8796C3477.8255,-1047.6838 3477.5332,-1038.9891 3477.2479,-1030.5013\"/>\n<polygon fill=\"#000000\" stroke=\"#000000\" points=\"3480.739,-1030.1748 3476.905,-1020.2981 3473.743,-1030.41 3480.739,-1030.1748\"/>\n</g>\n<!-- 187 -->\n<g id=\"node188\" class=\"node\">\n<title>187</title>\n<path fill=\"#e58139\" stroke=\"#000000\" d=\"M3635,-1012.5C3635,-1012.5 3560,-1012.5 3560,-1012.5 3554,-1012.5 3548,-1006.5 3548,-1000.5 3548,-1000.5 3548,-956.5 3548,-956.5 3548,-950.5 3554,-944.5 3560,-944.5 3560,-944.5 3635,-944.5 3635,-944.5 3641,-944.5 3647,-950.5 3647,-956.5 3647,-956.5 3647,-1000.5 3647,-1000.5 3647,-1006.5 3641,-1012.5 3635,-1012.5\"/>\n<text text-anchor=\"start\" x=\"3568\" y=\"-997.3\" font-family=\"Helvetica,sans-Serif\" font-size=\"14.00\" fill=\"#000000\">gini = 0.0</text>\n<text text-anchor=\"start\" x=\"3558\" y=\"-982.3\" font-family=\"Helvetica,sans-Serif\" font-size=\"14.00\" fill=\"#000000\">samples = 2</text>\n<text text-anchor=\"start\" x=\"3556\" y=\"-967.3\" font-family=\"Helvetica,sans-Serif\" font-size=\"14.00\" fill=\"#000000\">value = [2, 0]</text>\n<text text-anchor=\"start\" x=\"3571\" y=\"-952.3\" font-family=\"Helvetica,sans-Serif\" font-size=\"14.00\" fill=\"#000000\">class = l</text>\n</g>\n<!-- 181&#45;&gt;187 -->\n<g id=\"edge187\" class=\"edge\">\n<title>181&#45;&gt;187</title>\n<path fill=\"none\" stroke=\"#000000\" d=\"M3520.7707,-1055.8796C3532.2195,-1044.3337 3544.6503,-1031.7976 3556.1062,-1020.2446\"/>\n<polygon fill=\"#000000\" stroke=\"#000000\" points=\"3558.9175,-1022.3802 3563.4734,-1012.8149 3553.9469,-1017.4514 3558.9175,-1022.3802\"/>\n</g>\n<!-- 183 -->\n<g id=\"node184\" class=\"node\">\n<title>183</title>\n<path fill=\"#399de5\" stroke=\"#000000\" d=\"M3512,-893.5C3512,-893.5 3437,-893.5 3437,-893.5 3431,-893.5 3425,-887.5 3425,-881.5 3425,-881.5 3425,-837.5 3425,-837.5 3425,-831.5 3431,-825.5 3437,-825.5 3437,-825.5 3512,-825.5 3512,-825.5 3518,-825.5 3524,-831.5 3524,-837.5 3524,-837.5 3524,-881.5 3524,-881.5 3524,-887.5 3518,-893.5 3512,-893.5\"/>\n<text text-anchor=\"start\" x=\"3445\" y=\"-878.3\" font-family=\"Helvetica,sans-Serif\" font-size=\"14.00\" fill=\"#000000\">gini = 0.0</text>\n<text text-anchor=\"start\" x=\"3435\" y=\"-863.3\" font-family=\"Helvetica,sans-Serif\" font-size=\"14.00\" fill=\"#000000\">samples = 1</text>\n<text text-anchor=\"start\" x=\"3433\" y=\"-848.3\" font-family=\"Helvetica,sans-Serif\" font-size=\"14.00\" fill=\"#000000\">value = [0, 1]</text>\n<text text-anchor=\"start\" x=\"3445.5\" y=\"-833.3\" font-family=\"Helvetica,sans-Serif\" font-size=\"14.00\" fill=\"#000000\">class = o</text>\n</g>\n<!-- 182&#45;&gt;183 -->\n<g id=\"edge183\" class=\"edge\">\n<title>182&#45;&gt;183</title>\n<path fill=\"none\" stroke=\"#000000\" d=\"M3475.1502,-936.8796C3475.0606,-926.2134 3474.9639,-914.7021 3474.8731,-903.9015\"/>\n<polygon fill=\"#000000\" stroke=\"#000000\" points=\"3478.3724,-903.7851 3474.7884,-893.8149 3471.3726,-903.844 3478.3724,-903.7851\"/>\n</g>\n<!-- 184 -->\n<g id=\"node185\" class=\"node\">\n<title>184</title>\n<path fill=\"#f6d5bd\" stroke=\"#000000\" d=\"M3629,-901C3629,-901 3554,-901 3554,-901 3548,-901 3542,-895 3542,-889 3542,-889 3542,-830 3542,-830 3542,-824 3548,-818 3554,-818 3554,-818 3629,-818 3629,-818 3635,-818 3641,-824 3641,-830 3641,-830 3641,-889 3641,-889 3641,-895 3635,-901 3629,-901\"/>\n<text text-anchor=\"start\" x=\"3553\" y=\"-885.8\" font-family=\"Helvetica,sans-Serif\" font-size=\"14.00\" fill=\"#000000\">age ≤ 1.585</text>\n<text text-anchor=\"start\" x=\"3558\" y=\"-870.8\" font-family=\"Helvetica,sans-Serif\" font-size=\"14.00\" fill=\"#000000\">gini = 0.48</text>\n<text text-anchor=\"start\" x=\"3552\" y=\"-855.8\" font-family=\"Helvetica,sans-Serif\" font-size=\"14.00\" fill=\"#000000\">samples = 5</text>\n<text text-anchor=\"start\" x=\"3550\" y=\"-840.8\" font-family=\"Helvetica,sans-Serif\" font-size=\"14.00\" fill=\"#000000\">value = [3, 2]</text>\n<text text-anchor=\"start\" x=\"3565\" y=\"-825.8\" font-family=\"Helvetica,sans-Serif\" font-size=\"14.00\" fill=\"#000000\">class = l</text>\n</g>\n<!-- 182&#45;&gt;184 -->\n<g id=\"edge184\" class=\"edge\">\n<title>182&#45;&gt;184</title>\n<path fill=\"none\" stroke=\"#000000\" d=\"M3516.0712,-936.8796C3524.9382,-927.7832 3534.4044,-918.0722 3543.5291,-908.7116\"/>\n<polygon fill=\"#000000\" stroke=\"#000000\" points=\"3546.2817,-910.9019 3550.7557,-901.2981 3541.2691,-906.0158 3546.2817,-910.9019\"/>\n</g>\n<!-- 185 -->\n<g id=\"node186\" class=\"node\">\n<title>185</title>\n<path fill=\"#f2c09c\" stroke=\"#000000\" d=\"M3621,-774.5C3621,-774.5 3546,-774.5 3546,-774.5 3540,-774.5 3534,-768.5 3534,-762.5 3534,-762.5 3534,-718.5 3534,-718.5 3534,-712.5 3540,-706.5 3546,-706.5 3546,-706.5 3621,-706.5 3621,-706.5 3627,-706.5 3633,-712.5 3633,-718.5 3633,-718.5 3633,-762.5 3633,-762.5 3633,-768.5 3627,-774.5 3621,-774.5\"/>\n<text text-anchor=\"start\" x=\"3545.5\" y=\"-759.3\" font-family=\"Helvetica,sans-Serif\" font-size=\"14.00\" fill=\"#000000\">gini = 0.444</text>\n<text text-anchor=\"start\" x=\"3544\" y=\"-744.3\" font-family=\"Helvetica,sans-Serif\" font-size=\"14.00\" fill=\"#000000\">samples = 3</text>\n<text text-anchor=\"start\" x=\"3542\" y=\"-729.3\" font-family=\"Helvetica,sans-Serif\" font-size=\"14.00\" fill=\"#000000\">value = [2, 1]</text>\n<text text-anchor=\"start\" x=\"3557\" y=\"-714.3\" font-family=\"Helvetica,sans-Serif\" font-size=\"14.00\" fill=\"#000000\">class = l</text>\n</g>\n<!-- 184&#45;&gt;185 -->\n<g id=\"edge185\" class=\"edge\">\n<title>184&#45;&gt;185</title>\n<path fill=\"none\" stroke=\"#000000\" d=\"M3588.702,-817.8796C3587.9849,-807.2134 3587.2111,-795.7021 3586.485,-784.9015\"/>\n<polygon fill=\"#000000\" stroke=\"#000000\" points=\"3589.9699,-784.5576 3585.8069,-774.8149 3582.9856,-785.0272 3589.9699,-784.5576\"/>\n</g>\n<!-- 186 -->\n<g id=\"node187\" class=\"node\">\n<title>186</title>\n<path fill=\"#ffffff\" stroke=\"#000000\" d=\"M3738,-774.5C3738,-774.5 3663,-774.5 3663,-774.5 3657,-774.5 3651,-768.5 3651,-762.5 3651,-762.5 3651,-718.5 3651,-718.5 3651,-712.5 3657,-706.5 3663,-706.5 3663,-706.5 3738,-706.5 3738,-706.5 3744,-706.5 3750,-712.5 3750,-718.5 3750,-718.5 3750,-762.5 3750,-762.5 3750,-768.5 3744,-774.5 3738,-774.5\"/>\n<text text-anchor=\"start\" x=\"3671\" y=\"-759.3\" font-family=\"Helvetica,sans-Serif\" font-size=\"14.00\" fill=\"#000000\">gini = 0.5</text>\n<text text-anchor=\"start\" x=\"3661\" y=\"-744.3\" font-family=\"Helvetica,sans-Serif\" font-size=\"14.00\" fill=\"#000000\">samples = 2</text>\n<text text-anchor=\"start\" x=\"3659\" y=\"-729.3\" font-family=\"Helvetica,sans-Serif\" font-size=\"14.00\" fill=\"#000000\">value = [1, 1]</text>\n<text text-anchor=\"start\" x=\"3674\" y=\"-714.3\" font-family=\"Helvetica,sans-Serif\" font-size=\"14.00\" fill=\"#000000\">class = l</text>\n</g>\n<!-- 184&#45;&gt;186 -->\n<g id=\"edge186\" class=\"edge\">\n<title>184&#45;&gt;186</title>\n<path fill=\"none\" stroke=\"#000000\" d=\"M3629.6229,-817.8796C3640.1986,-806.3337 3651.6812,-793.7976 3662.2633,-782.2446\"/>\n<polygon fill=\"#000000\" stroke=\"#000000\" points=\"3664.8951,-784.5531 3669.0687,-774.8149 3659.7333,-779.825 3664.8951,-784.5531\"/>\n</g>\n<!-- 190 -->\n<g id=\"node191\" class=\"node\">\n<title>190</title>\n<path fill=\"#efb083\" stroke=\"#000000\" d=\"M3652,-1377C3652,-1377 3569,-1377 3569,-1377 3563,-1377 3557,-1371 3557,-1365 3557,-1365 3557,-1306 3557,-1306 3557,-1300 3563,-1294 3569,-1294 3569,-1294 3652,-1294 3652,-1294 3658,-1294 3664,-1300 3664,-1306 3664,-1306 3664,-1365 3664,-1365 3664,-1371 3658,-1377 3652,-1377\"/>\n<text text-anchor=\"start\" x=\"3565\" y=\"-1361.8\" font-family=\"Helvetica,sans-Serif\" font-size=\"14.00\" fill=\"#000000\">college ≤ 0.14</text>\n<text text-anchor=\"start\" x=\"3572.5\" y=\"-1346.8\" font-family=\"Helvetica,sans-Serif\" font-size=\"14.00\" fill=\"#000000\">gini = 0.397</text>\n<text text-anchor=\"start\" x=\"3566.5\" y=\"-1331.8\" font-family=\"Helvetica,sans-Serif\" font-size=\"14.00\" fill=\"#000000\">samples = 11</text>\n<text text-anchor=\"start\" x=\"3569\" y=\"-1316.8\" font-family=\"Helvetica,sans-Serif\" font-size=\"14.00\" fill=\"#000000\">value = [8, 3]</text>\n<text text-anchor=\"start\" x=\"3584\" y=\"-1301.8\" font-family=\"Helvetica,sans-Serif\" font-size=\"14.00\" fill=\"#000000\">class = l</text>\n</g>\n<!-- 189&#45;&gt;190 -->\n<g id=\"edge190\" class=\"edge\">\n<title>189&#45;&gt;190</title>\n<path fill=\"none\" stroke=\"#000000\" d=\"M3617.6527,-1412.8796C3616.8951,-1404.6838 3616.0914,-1395.9891 3615.3068,-1387.5013\"/>\n<polygon fill=\"#000000\" stroke=\"#000000\" points=\"3618.7694,-1386.9334 3614.3637,-1377.2981 3611.7991,-1387.5778 3618.7694,-1386.9334\"/>\n</g>\n<!-- 201 -->\n<g id=\"node202\" class=\"node\">\n<title>201</title>\n<path fill=\"#399de5\" stroke=\"#000000\" d=\"M3769,-1369.5C3769,-1369.5 3694,-1369.5 3694,-1369.5 3688,-1369.5 3682,-1363.5 3682,-1357.5 3682,-1357.5 3682,-1313.5 3682,-1313.5 3682,-1307.5 3688,-1301.5 3694,-1301.5 3694,-1301.5 3769,-1301.5 3769,-1301.5 3775,-1301.5 3781,-1307.5 3781,-1313.5 3781,-1313.5 3781,-1357.5 3781,-1357.5 3781,-1363.5 3775,-1369.5 3769,-1369.5\"/>\n<text text-anchor=\"start\" x=\"3702\" y=\"-1354.3\" font-family=\"Helvetica,sans-Serif\" font-size=\"14.00\" fill=\"#000000\">gini = 0.0</text>\n<text text-anchor=\"start\" x=\"3692\" y=\"-1339.3\" font-family=\"Helvetica,sans-Serif\" font-size=\"14.00\" fill=\"#000000\">samples = 1</text>\n<text text-anchor=\"start\" x=\"3690\" y=\"-1324.3\" font-family=\"Helvetica,sans-Serif\" font-size=\"14.00\" fill=\"#000000\">value = [0, 1]</text>\n<text text-anchor=\"start\" x=\"3702.5\" y=\"-1309.3\" font-family=\"Helvetica,sans-Serif\" font-size=\"14.00\" fill=\"#000000\">class = o</text>\n</g>\n<!-- 189&#45;&gt;201 -->\n<g id=\"edge201\" class=\"edge\">\n<title>189&#45;&gt;201</title>\n<path fill=\"none\" stroke=\"#000000\" d=\"M3659.9727,-1412.8796C3670.6453,-1401.3337 3682.2333,-1388.7976 3692.9125,-1377.2446\"/>\n<polygon fill=\"#000000\" stroke=\"#000000\" points=\"3695.5625,-1379.534 3699.7803,-1369.8149 3690.4222,-1374.7825 3695.5625,-1379.534\"/>\n</g>\n<!-- 191 -->\n<g id=\"node192\" class=\"node\">\n<title>191</title>\n<path fill=\"#f5cdb0\" stroke=\"#000000\" d=\"M3702,-1258C3702,-1258 3519,-1258 3519,-1258 3513,-1258 3507,-1252 3507,-1246 3507,-1246 3507,-1187 3507,-1187 3507,-1181 3513,-1175 3519,-1175 3519,-1175 3702,-1175 3702,-1175 3708,-1175 3714,-1181 3714,-1187 3714,-1187 3714,-1246 3714,-1246 3714,-1252 3708,-1258 3702,-1258\"/>\n<text text-anchor=\"start\" x=\"3515\" y=\"-1242.8\" font-family=\"Helvetica,sans-Serif\" font-size=\"14.00\" fill=\"#000000\">High School or Below ≤ 0.128</text>\n<text text-anchor=\"start\" x=\"3572.5\" y=\"-1227.8\" font-family=\"Helvetica,sans-Serif\" font-size=\"14.00\" fill=\"#000000\">gini = 0.469</text>\n<text text-anchor=\"start\" x=\"3571\" y=\"-1212.8\" font-family=\"Helvetica,sans-Serif\" font-size=\"14.00\" fill=\"#000000\">samples = 8</text>\n<text text-anchor=\"start\" x=\"3569\" y=\"-1197.8\" font-family=\"Helvetica,sans-Serif\" font-size=\"14.00\" fill=\"#000000\">value = [5, 3]</text>\n<text text-anchor=\"start\" x=\"3584\" y=\"-1182.8\" font-family=\"Helvetica,sans-Serif\" font-size=\"14.00\" fill=\"#000000\">class = l</text>\n</g>\n<!-- 190&#45;&gt;191 -->\n<g id=\"edge191\" class=\"edge\">\n<title>190&#45;&gt;191</title>\n<path fill=\"none\" stroke=\"#000000\" d=\"M3610.5,-1293.8796C3610.5,-1285.6838 3610.5,-1276.9891 3610.5,-1268.5013\"/>\n<polygon fill=\"#000000\" stroke=\"#000000\" points=\"3614.0001,-1268.298 3610.5,-1258.2981 3607.0001,-1268.2981 3614.0001,-1268.298\"/>\n</g>\n<!-- 200 -->\n<g id=\"node201\" class=\"node\">\n<title>200</title>\n<path fill=\"#e58139\" stroke=\"#000000\" d=\"M3819,-1250.5C3819,-1250.5 3744,-1250.5 3744,-1250.5 3738,-1250.5 3732,-1244.5 3732,-1238.5 3732,-1238.5 3732,-1194.5 3732,-1194.5 3732,-1188.5 3738,-1182.5 3744,-1182.5 3744,-1182.5 3819,-1182.5 3819,-1182.5 3825,-1182.5 3831,-1188.5 3831,-1194.5 3831,-1194.5 3831,-1238.5 3831,-1238.5 3831,-1244.5 3825,-1250.5 3819,-1250.5\"/>\n<text text-anchor=\"start\" x=\"3752\" y=\"-1235.3\" font-family=\"Helvetica,sans-Serif\" font-size=\"14.00\" fill=\"#000000\">gini = 0.0</text>\n<text text-anchor=\"start\" x=\"3742\" y=\"-1220.3\" font-family=\"Helvetica,sans-Serif\" font-size=\"14.00\" fill=\"#000000\">samples = 3</text>\n<text text-anchor=\"start\" x=\"3740\" y=\"-1205.3\" font-family=\"Helvetica,sans-Serif\" font-size=\"14.00\" fill=\"#000000\">value = [3, 0]</text>\n<text text-anchor=\"start\" x=\"3755\" y=\"-1190.3\" font-family=\"Helvetica,sans-Serif\" font-size=\"14.00\" fill=\"#000000\">class = l</text>\n</g>\n<!-- 190&#45;&gt;200 -->\n<g id=\"edge200\" class=\"edge\">\n<title>190&#45;&gt;200</title>\n<path fill=\"none\" stroke=\"#000000\" d=\"M3664.1091,-1298.5281C3682.6279,-1285.7237 3703.4953,-1271.2589 3722.5,-1258 3723.2639,-1257.4671 3724.0332,-1256.9301 3724.8069,-1256.3897\"/>\n<polygon fill=\"#000000\" stroke=\"#000000\" points=\"3727.0358,-1259.102 3733.2239,-1250.5021 3723.0234,-1253.366 3727.0358,-1259.102\"/>\n</g>\n<!-- 192 -->\n<g id=\"node193\" class=\"node\">\n<title>192</title>\n<path fill=\"#399de5\" stroke=\"#000000\" d=\"M3648,-1131.5C3648,-1131.5 3573,-1131.5 3573,-1131.5 3567,-1131.5 3561,-1125.5 3561,-1119.5 3561,-1119.5 3561,-1075.5 3561,-1075.5 3561,-1069.5 3567,-1063.5 3573,-1063.5 3573,-1063.5 3648,-1063.5 3648,-1063.5 3654,-1063.5 3660,-1069.5 3660,-1075.5 3660,-1075.5 3660,-1119.5 3660,-1119.5 3660,-1125.5 3654,-1131.5 3648,-1131.5\"/>\n<text text-anchor=\"start\" x=\"3581\" y=\"-1116.3\" font-family=\"Helvetica,sans-Serif\" font-size=\"14.00\" fill=\"#000000\">gini = 0.0</text>\n<text text-anchor=\"start\" x=\"3571\" y=\"-1101.3\" font-family=\"Helvetica,sans-Serif\" font-size=\"14.00\" fill=\"#000000\">samples = 1</text>\n<text text-anchor=\"start\" x=\"3569\" y=\"-1086.3\" font-family=\"Helvetica,sans-Serif\" font-size=\"14.00\" fill=\"#000000\">value = [0, 1]</text>\n<text text-anchor=\"start\" x=\"3581.5\" y=\"-1071.3\" font-family=\"Helvetica,sans-Serif\" font-size=\"14.00\" fill=\"#000000\">class = o</text>\n</g>\n<!-- 191&#45;&gt;192 -->\n<g id=\"edge192\" class=\"edge\">\n<title>191&#45;&gt;192</title>\n<path fill=\"none\" stroke=\"#000000\" d=\"M3610.5,-1174.8796C3610.5,-1164.2134 3610.5,-1152.7021 3610.5,-1141.9015\"/>\n<polygon fill=\"#000000\" stroke=\"#000000\" points=\"3614.0001,-1141.8149 3610.5,-1131.8149 3607.0001,-1141.815 3614.0001,-1141.8149\"/>\n</g>\n<!-- 193 -->\n<g id=\"node194\" class=\"node\">\n<title>193</title>\n<path fill=\"#efb388\" stroke=\"#000000\" d=\"M3855,-1139C3855,-1139 3780,-1139 3780,-1139 3774,-1139 3768,-1133 3768,-1127 3768,-1127 3768,-1068 3768,-1068 3768,-1062 3774,-1056 3780,-1056 3780,-1056 3855,-1056 3855,-1056 3861,-1056 3867,-1062 3867,-1068 3867,-1068 3867,-1127 3867,-1127 3867,-1133 3861,-1139 3855,-1139\"/>\n<text text-anchor=\"start\" x=\"3783\" y=\"-1123.8\" font-family=\"Helvetica,sans-Serif\" font-size=\"14.00\" fill=\"#000000\">age ≤ 2.58</text>\n<text text-anchor=\"start\" x=\"3779.5\" y=\"-1108.8\" font-family=\"Helvetica,sans-Serif\" font-size=\"14.00\" fill=\"#000000\">gini = 0.408</text>\n<text text-anchor=\"start\" x=\"3778\" y=\"-1093.8\" font-family=\"Helvetica,sans-Serif\" font-size=\"14.00\" fill=\"#000000\">samples = 7</text>\n<text text-anchor=\"start\" x=\"3776\" y=\"-1078.8\" font-family=\"Helvetica,sans-Serif\" font-size=\"14.00\" fill=\"#000000\">value = [5, 2]</text>\n<text text-anchor=\"start\" x=\"3791\" y=\"-1063.8\" font-family=\"Helvetica,sans-Serif\" font-size=\"14.00\" fill=\"#000000\">class = l</text>\n</g>\n<!-- 191&#45;&gt;193 -->\n<g id=\"edge193\" class=\"edge\">\n<title>191&#45;&gt;193</title>\n<path fill=\"none\" stroke=\"#000000\" d=\"M3682.8986,-1174.8796C3707.8132,-1160.5567 3735.3786,-1144.7099 3759.0416,-1131.1065\"/>\n<polygon fill=\"#000000\" stroke=\"#000000\" points=\"3760.9809,-1134.0289 3767.906,-1126.0106 3757.4921,-1127.9602 3760.9809,-1134.0289\"/>\n</g>\n<!-- 194 -->\n<g id=\"node195\" class=\"node\">\n<title>194</title>\n<path fill=\"#ffffff\" stroke=\"#000000\" d=\"M3855,-1020C3855,-1020 3780,-1020 3780,-1020 3774,-1020 3768,-1014 3768,-1008 3768,-1008 3768,-949 3768,-949 3768,-943 3774,-937 3780,-937 3780,-937 3855,-937 3855,-937 3861,-937 3867,-943 3867,-949 3867,-949 3867,-1008 3867,-1008 3867,-1014 3861,-1020 3855,-1020\"/>\n<text text-anchor=\"start\" x=\"3779\" y=\"-1004.8\" font-family=\"Helvetica,sans-Serif\" font-size=\"14.00\" fill=\"#000000\">age ≤ 2.414</text>\n<text text-anchor=\"start\" x=\"3788\" y=\"-989.8\" font-family=\"Helvetica,sans-Serif\" font-size=\"14.00\" fill=\"#000000\">gini = 0.5</text>\n<text text-anchor=\"start\" x=\"3778\" y=\"-974.8\" font-family=\"Helvetica,sans-Serif\" font-size=\"14.00\" fill=\"#000000\">samples = 4</text>\n<text text-anchor=\"start\" x=\"3776\" y=\"-959.8\" font-family=\"Helvetica,sans-Serif\" font-size=\"14.00\" fill=\"#000000\">value = [2, 2]</text>\n<text text-anchor=\"start\" x=\"3791\" y=\"-944.8\" font-family=\"Helvetica,sans-Serif\" font-size=\"14.00\" fill=\"#000000\">class = l</text>\n</g>\n<!-- 193&#45;&gt;194 -->\n<g id=\"edge194\" class=\"edge\">\n<title>193&#45;&gt;194</title>\n<path fill=\"none\" stroke=\"#000000\" d=\"M3817.5,-1055.8796C3817.5,-1047.6838 3817.5,-1038.9891 3817.5,-1030.5013\"/>\n<polygon fill=\"#000000\" stroke=\"#000000\" points=\"3821.0001,-1030.298 3817.5,-1020.2981 3814.0001,-1030.2981 3821.0001,-1030.298\"/>\n</g>\n<!-- 199 -->\n<g id=\"node200\" class=\"node\">\n<title>199</title>\n<path fill=\"#e58139\" stroke=\"#000000\" d=\"M3972,-1012.5C3972,-1012.5 3897,-1012.5 3897,-1012.5 3891,-1012.5 3885,-1006.5 3885,-1000.5 3885,-1000.5 3885,-956.5 3885,-956.5 3885,-950.5 3891,-944.5 3897,-944.5 3897,-944.5 3972,-944.5 3972,-944.5 3978,-944.5 3984,-950.5 3984,-956.5 3984,-956.5 3984,-1000.5 3984,-1000.5 3984,-1006.5 3978,-1012.5 3972,-1012.5\"/>\n<text text-anchor=\"start\" x=\"3905\" y=\"-997.3\" font-family=\"Helvetica,sans-Serif\" font-size=\"14.00\" fill=\"#000000\">gini = 0.0</text>\n<text text-anchor=\"start\" x=\"3895\" y=\"-982.3\" font-family=\"Helvetica,sans-Serif\" font-size=\"14.00\" fill=\"#000000\">samples = 3</text>\n<text text-anchor=\"start\" x=\"3893\" y=\"-967.3\" font-family=\"Helvetica,sans-Serif\" font-size=\"14.00\" fill=\"#000000\">value = [3, 0]</text>\n<text text-anchor=\"start\" x=\"3908\" y=\"-952.3\" font-family=\"Helvetica,sans-Serif\" font-size=\"14.00\" fill=\"#000000\">class = l</text>\n</g>\n<!-- 193&#45;&gt;199 -->\n<g id=\"edge199\" class=\"edge\">\n<title>193&#45;&gt;199</title>\n<path fill=\"none\" stroke=\"#000000\" d=\"M3858.4209,-1055.8796C3869.7728,-1044.3337 3882.0982,-1031.7976 3893.457,-1020.2446\"/>\n<polygon fill=\"#000000\" stroke=\"#000000\" points=\"3896.2466,-1022.3995 3900.7618,-1012.8149 3891.2551,-1017.4919 3896.2466,-1022.3995\"/>\n</g>\n<!-- 195 -->\n<g id=\"node196\" class=\"node\">\n<title>195</title>\n<path fill=\"#f2c09c\" stroke=\"#000000\" d=\"M3860,-901C3860,-901 3775,-901 3775,-901 3769,-901 3763,-895 3763,-889 3763,-889 3763,-830 3763,-830 3763,-824 3769,-818 3775,-818 3775,-818 3860,-818 3860,-818 3866,-818 3872,-824 3872,-830 3872,-830 3872,-889 3872,-889 3872,-895 3866,-901 3860,-901\"/>\n<text text-anchor=\"start\" x=\"3771\" y=\"-885.8\" font-family=\"Helvetica,sans-Serif\" font-size=\"14.00\" fill=\"#000000\">terms ≤ &#45;0.019</text>\n<text text-anchor=\"start\" x=\"3779.5\" y=\"-870.8\" font-family=\"Helvetica,sans-Serif\" font-size=\"14.00\" fill=\"#000000\">gini = 0.444</text>\n<text text-anchor=\"start\" x=\"3778\" y=\"-855.8\" font-family=\"Helvetica,sans-Serif\" font-size=\"14.00\" fill=\"#000000\">samples = 3</text>\n<text text-anchor=\"start\" x=\"3776\" y=\"-840.8\" font-family=\"Helvetica,sans-Serif\" font-size=\"14.00\" fill=\"#000000\">value = [2, 1]</text>\n<text text-anchor=\"start\" x=\"3791\" y=\"-825.8\" font-family=\"Helvetica,sans-Serif\" font-size=\"14.00\" fill=\"#000000\">class = l</text>\n</g>\n<!-- 194&#45;&gt;195 -->\n<g id=\"edge195\" class=\"edge\">\n<title>194&#45;&gt;195</title>\n<path fill=\"none\" stroke=\"#000000\" d=\"M3817.5,-936.8796C3817.5,-928.6838 3817.5,-919.9891 3817.5,-911.5013\"/>\n<polygon fill=\"#000000\" stroke=\"#000000\" points=\"3821.0001,-911.298 3817.5,-901.2981 3814.0001,-911.2981 3821.0001,-911.298\"/>\n</g>\n<!-- 198 -->\n<g id=\"node199\" class=\"node\">\n<title>198</title>\n<path fill=\"#399de5\" stroke=\"#000000\" d=\"M3977,-893.5C3977,-893.5 3902,-893.5 3902,-893.5 3896,-893.5 3890,-887.5 3890,-881.5 3890,-881.5 3890,-837.5 3890,-837.5 3890,-831.5 3896,-825.5 3902,-825.5 3902,-825.5 3977,-825.5 3977,-825.5 3983,-825.5 3989,-831.5 3989,-837.5 3989,-837.5 3989,-881.5 3989,-881.5 3989,-887.5 3983,-893.5 3977,-893.5\"/>\n<text text-anchor=\"start\" x=\"3910\" y=\"-878.3\" font-family=\"Helvetica,sans-Serif\" font-size=\"14.00\" fill=\"#000000\">gini = 0.0</text>\n<text text-anchor=\"start\" x=\"3900\" y=\"-863.3\" font-family=\"Helvetica,sans-Serif\" font-size=\"14.00\" fill=\"#000000\">samples = 1</text>\n<text text-anchor=\"start\" x=\"3898\" y=\"-848.3\" font-family=\"Helvetica,sans-Serif\" font-size=\"14.00\" fill=\"#000000\">value = [0, 1]</text>\n<text text-anchor=\"start\" x=\"3910.5\" y=\"-833.3\" font-family=\"Helvetica,sans-Serif\" font-size=\"14.00\" fill=\"#000000\">class = o</text>\n</g>\n<!-- 194&#45;&gt;198 -->\n<g id=\"edge198\" class=\"edge\">\n<title>194&#45;&gt;198</title>\n<path fill=\"none\" stroke=\"#000000\" d=\"M3860.1697,-936.8796C3872.1194,-925.2237 3885.1037,-912.5587 3897.0411,-900.9148\"/>\n<polygon fill=\"#000000\" stroke=\"#000000\" points=\"3899.6053,-903.303 3904.32,-893.8149 3894.7175,-898.292 3899.6053,-903.303\"/>\n</g>\n<!-- 196 -->\n<g id=\"node197\" class=\"node\">\n<title>196</title>\n<path fill=\"#e58139\" stroke=\"#000000\" d=\"M3855,-774.5C3855,-774.5 3780,-774.5 3780,-774.5 3774,-774.5 3768,-768.5 3768,-762.5 3768,-762.5 3768,-718.5 3768,-718.5 3768,-712.5 3774,-706.5 3780,-706.5 3780,-706.5 3855,-706.5 3855,-706.5 3861,-706.5 3867,-712.5 3867,-718.5 3867,-718.5 3867,-762.5 3867,-762.5 3867,-768.5 3861,-774.5 3855,-774.5\"/>\n<text text-anchor=\"start\" x=\"3788\" y=\"-759.3\" font-family=\"Helvetica,sans-Serif\" font-size=\"14.00\" fill=\"#000000\">gini = 0.0</text>\n<text text-anchor=\"start\" x=\"3778\" y=\"-744.3\" font-family=\"Helvetica,sans-Serif\" font-size=\"14.00\" fill=\"#000000\">samples = 1</text>\n<text text-anchor=\"start\" x=\"3776\" y=\"-729.3\" font-family=\"Helvetica,sans-Serif\" font-size=\"14.00\" fill=\"#000000\">value = [1, 0]</text>\n<text text-anchor=\"start\" x=\"3791\" y=\"-714.3\" font-family=\"Helvetica,sans-Serif\" font-size=\"14.00\" fill=\"#000000\">class = l</text>\n</g>\n<!-- 195&#45;&gt;196 -->\n<g id=\"edge196\" class=\"edge\">\n<title>195&#45;&gt;196</title>\n<path fill=\"none\" stroke=\"#000000\" d=\"M3817.5,-817.8796C3817.5,-807.2134 3817.5,-795.7021 3817.5,-784.9015\"/>\n<polygon fill=\"#000000\" stroke=\"#000000\" points=\"3821.0001,-784.8149 3817.5,-774.8149 3814.0001,-784.815 3821.0001,-784.8149\"/>\n</g>\n<!-- 197 -->\n<g id=\"node198\" class=\"node\">\n<title>197</title>\n<path fill=\"#ffffff\" stroke=\"#000000\" d=\"M3972,-774.5C3972,-774.5 3897,-774.5 3897,-774.5 3891,-774.5 3885,-768.5 3885,-762.5 3885,-762.5 3885,-718.5 3885,-718.5 3885,-712.5 3891,-706.5 3897,-706.5 3897,-706.5 3972,-706.5 3972,-706.5 3978,-706.5 3984,-712.5 3984,-718.5 3984,-718.5 3984,-762.5 3984,-762.5 3984,-768.5 3978,-774.5 3972,-774.5\"/>\n<text text-anchor=\"start\" x=\"3905\" y=\"-759.3\" font-family=\"Helvetica,sans-Serif\" font-size=\"14.00\" fill=\"#000000\">gini = 0.5</text>\n<text text-anchor=\"start\" x=\"3895\" y=\"-744.3\" font-family=\"Helvetica,sans-Serif\" font-size=\"14.00\" fill=\"#000000\">samples = 2</text>\n<text text-anchor=\"start\" x=\"3893\" y=\"-729.3\" font-family=\"Helvetica,sans-Serif\" font-size=\"14.00\" fill=\"#000000\">value = [1, 1]</text>\n<text text-anchor=\"start\" x=\"3908\" y=\"-714.3\" font-family=\"Helvetica,sans-Serif\" font-size=\"14.00\" fill=\"#000000\">class = l</text>\n</g>\n<!-- 195&#45;&gt;197 -->\n<g id=\"edge197\" class=\"edge\">\n<title>195&#45;&gt;197</title>\n<path fill=\"none\" stroke=\"#000000\" d=\"M3858.4209,-817.8796C3869.7728,-806.3337 3882.0982,-793.7976 3893.457,-782.2446\"/>\n<polygon fill=\"#000000\" stroke=\"#000000\" points=\"3896.2466,-784.3995 3900.7618,-774.8149 3891.2551,-779.4919 3896.2466,-784.3995\"/>\n</g>\n<!-- 203 -->\n<g id=\"node204\" class=\"node\">\n<title>203</title>\n<path fill=\"#eeab7b\" stroke=\"#000000\" d=\"M4104,-1853C4104,-1853 4021,-1853 4021,-1853 4015,-1853 4009,-1847 4009,-1841 4009,-1841 4009,-1782 4009,-1782 4009,-1776 4015,-1770 4021,-1770 4021,-1770 4104,-1770 4104,-1770 4110,-1770 4116,-1776 4116,-1782 4116,-1782 4116,-1841 4116,-1841 4116,-1847 4110,-1853 4104,-1853\"/>\n<text text-anchor=\"start\" x=\"4021.5\" y=\"-1837.8\" font-family=\"Helvetica,sans-Serif\" font-size=\"14.00\" fill=\"#000000\">age ≤ &#45;0.902</text>\n<text text-anchor=\"start\" x=\"4024.5\" y=\"-1822.8\" font-family=\"Helvetica,sans-Serif\" font-size=\"14.00\" fill=\"#000000\">gini = 0.375</text>\n<text text-anchor=\"start\" x=\"4018.5\" y=\"-1807.8\" font-family=\"Helvetica,sans-Serif\" font-size=\"14.00\" fill=\"#000000\">samples = 24</text>\n<text text-anchor=\"start\" x=\"4017\" y=\"-1792.8\" font-family=\"Helvetica,sans-Serif\" font-size=\"14.00\" fill=\"#000000\">value = [18, 6]</text>\n<text text-anchor=\"start\" x=\"4036\" y=\"-1777.8\" font-family=\"Helvetica,sans-Serif\" font-size=\"14.00\" fill=\"#000000\">class = l</text>\n</g>\n<!-- 202&#45;&gt;203 -->\n<g id=\"edge203\" class=\"edge\">\n<title>202&#45;&gt;203</title>\n<path fill=\"none\" stroke=\"#000000\" d=\"M4062.5,-1888.8796C4062.5,-1880.6838 4062.5,-1871.9891 4062.5,-1863.5013\"/>\n<polygon fill=\"#000000\" stroke=\"#000000\" points=\"4066.0001,-1863.298 4062.5,-1853.2981 4059.0001,-1863.2981 4066.0001,-1863.298\"/>\n</g>\n<!-- 224 -->\n<g id=\"node225\" class=\"node\">\n<title>224</title>\n<path fill=\"#e68641\" stroke=\"#000000\" d=\"M4289,-1853C4289,-1853 4206,-1853 4206,-1853 4200,-1853 4194,-1847 4194,-1841 4194,-1841 4194,-1782 4194,-1782 4194,-1776 4200,-1770 4206,-1770 4206,-1770 4289,-1770 4289,-1770 4295,-1770 4301,-1776 4301,-1782 4301,-1782 4301,-1841 4301,-1841 4301,-1847 4295,-1853 4289,-1853\"/>\n<text text-anchor=\"start\" x=\"4209\" y=\"-1837.8\" font-family=\"Helvetica,sans-Serif\" font-size=\"14.00\" fill=\"#000000\">age ≤ 1.088</text>\n<text text-anchor=\"start\" x=\"4209.5\" y=\"-1822.8\" font-family=\"Helvetica,sans-Serif\" font-size=\"14.00\" fill=\"#000000\">gini = 0.077</text>\n<text text-anchor=\"start\" x=\"4203.5\" y=\"-1807.8\" font-family=\"Helvetica,sans-Serif\" font-size=\"14.00\" fill=\"#000000\">samples = 25</text>\n<text text-anchor=\"start\" x=\"4202\" y=\"-1792.8\" font-family=\"Helvetica,sans-Serif\" font-size=\"14.00\" fill=\"#000000\">value = [24, 1]</text>\n<text text-anchor=\"start\" x=\"4221\" y=\"-1777.8\" font-family=\"Helvetica,sans-Serif\" font-size=\"14.00\" fill=\"#000000\">class = l</text>\n</g>\n<!-- 202&#45;&gt;224 -->\n<g id=\"edge224\" class=\"edge\">\n<title>202&#45;&gt;224</title>\n<path fill=\"none\" stroke=\"#000000\" d=\"M4116.0097,-1896.0803C4137.6788,-1882.1417 4162.8423,-1865.9555 4185.32,-1851.4969\"/>\n<polygon fill=\"#000000\" stroke=\"#000000\" points=\"4187.2735,-1854.4019 4193.7904,-1846.0483 4183.4866,-1848.5146 4187.2735,-1854.4019\"/>\n</g>\n<!-- 204 -->\n<g id=\"node205\" class=\"node\">\n<title>204</title>\n<path fill=\"#e58139\" stroke=\"#000000\" d=\"M4039,-1726.5C4039,-1726.5 3964,-1726.5 3964,-1726.5 3958,-1726.5 3952,-1720.5 3952,-1714.5 3952,-1714.5 3952,-1670.5 3952,-1670.5 3952,-1664.5 3958,-1658.5 3964,-1658.5 3964,-1658.5 4039,-1658.5 4039,-1658.5 4045,-1658.5 4051,-1664.5 4051,-1670.5 4051,-1670.5 4051,-1714.5 4051,-1714.5 4051,-1720.5 4045,-1726.5 4039,-1726.5\"/>\n<text text-anchor=\"start\" x=\"3972\" y=\"-1711.3\" font-family=\"Helvetica,sans-Serif\" font-size=\"14.00\" fill=\"#000000\">gini = 0.0</text>\n<text text-anchor=\"start\" x=\"3962\" y=\"-1696.3\" font-family=\"Helvetica,sans-Serif\" font-size=\"14.00\" fill=\"#000000\">samples = 6</text>\n<text text-anchor=\"start\" x=\"3960\" y=\"-1681.3\" font-family=\"Helvetica,sans-Serif\" font-size=\"14.00\" fill=\"#000000\">value = [6, 0]</text>\n<text text-anchor=\"start\" x=\"3975\" y=\"-1666.3\" font-family=\"Helvetica,sans-Serif\" font-size=\"14.00\" fill=\"#000000\">class = l</text>\n</g>\n<!-- 203&#45;&gt;204 -->\n<g id=\"edge204\" class=\"edge\">\n<title>203&#45;&gt;204</title>\n<path fill=\"none\" stroke=\"#000000\" d=\"M4041.1652,-1769.8796C4035.5285,-1758.8835 4029.4315,-1746.9893 4023.7478,-1735.9015\"/>\n<polygon fill=\"#000000\" stroke=\"#000000\" points=\"4026.7663,-1734.1173 4019.09,-1726.8149 4020.5371,-1737.3105 4026.7663,-1734.1173\"/>\n</g>\n<!-- 205 -->\n<g id=\"node206\" class=\"node\">\n<title>205</title>\n<path fill=\"#f2c09c\" stroke=\"#000000\" d=\"M4164,-1734C4164,-1734 4081,-1734 4081,-1734 4075,-1734 4069,-1728 4069,-1722 4069,-1722 4069,-1663 4069,-1663 4069,-1657 4075,-1651 4081,-1651 4081,-1651 4164,-1651 4164,-1651 4170,-1651 4176,-1657 4176,-1663 4176,-1663 4176,-1722 4176,-1722 4176,-1728 4170,-1734 4164,-1734\"/>\n<text text-anchor=\"start\" x=\"4077\" y=\"-1718.8\" font-family=\"Helvetica,sans-Serif\" font-size=\"14.00\" fill=\"#000000\">college ≤ 0.14</text>\n<text text-anchor=\"start\" x=\"4084.5\" y=\"-1703.8\" font-family=\"Helvetica,sans-Serif\" font-size=\"14.00\" fill=\"#000000\">gini = 0.444</text>\n<text text-anchor=\"start\" x=\"4078.5\" y=\"-1688.8\" font-family=\"Helvetica,sans-Serif\" font-size=\"14.00\" fill=\"#000000\">samples = 18</text>\n<text text-anchor=\"start\" x=\"4077\" y=\"-1673.8\" font-family=\"Helvetica,sans-Serif\" font-size=\"14.00\" fill=\"#000000\">value = [12, 6]</text>\n<text text-anchor=\"start\" x=\"4096\" y=\"-1658.8\" font-family=\"Helvetica,sans-Serif\" font-size=\"14.00\" fill=\"#000000\">class = l</text>\n</g>\n<!-- 203&#45;&gt;205 -->\n<g id=\"edge205\" class=\"edge\">\n<title>203&#45;&gt;205</title>\n<path fill=\"none\" stroke=\"#000000\" d=\"M4083.4851,-1769.8796C4087.799,-1761.3236 4092.3872,-1752.2238 4096.8446,-1743.3833\"/>\n<polygon fill=\"#000000\" stroke=\"#000000\" points=\"4100.0484,-1744.8031 4101.4253,-1734.2981 4093.7979,-1741.6515 4100.0484,-1744.8031\"/>\n</g>\n<!-- 206 -->\n<g id=\"node207\" class=\"node\">\n<title>206</title>\n<path fill=\"#ffffff\" stroke=\"#000000\" d=\"M4138,-1615C4138,-1615 4053,-1615 4053,-1615 4047,-1615 4041,-1609 4041,-1603 4041,-1603 4041,-1544 4041,-1544 4041,-1538 4047,-1532 4053,-1532 4053,-1532 4138,-1532 4138,-1532 4144,-1532 4150,-1538 4150,-1544 4150,-1544 4150,-1603 4150,-1603 4150,-1609 4144,-1615 4138,-1615\"/>\n<text text-anchor=\"start\" x=\"4049\" y=\"-1599.8\" font-family=\"Helvetica,sans-Serif\" font-size=\"14.00\" fill=\"#000000\">terms ≤ &#45;0.019</text>\n<text text-anchor=\"start\" x=\"4066\" y=\"-1584.8\" font-family=\"Helvetica,sans-Serif\" font-size=\"14.00\" fill=\"#000000\">gini = 0.5</text>\n<text text-anchor=\"start\" x=\"4056\" y=\"-1569.8\" font-family=\"Helvetica,sans-Serif\" font-size=\"14.00\" fill=\"#000000\">samples = 8</text>\n<text text-anchor=\"start\" x=\"4054\" y=\"-1554.8\" font-family=\"Helvetica,sans-Serif\" font-size=\"14.00\" fill=\"#000000\">value = [4, 4]</text>\n<text text-anchor=\"start\" x=\"4069\" y=\"-1539.8\" font-family=\"Helvetica,sans-Serif\" font-size=\"14.00\" fill=\"#000000\">class = l</text>\n</g>\n<!-- 205&#45;&gt;206 -->\n<g id=\"edge206\" class=\"edge\">\n<title>205&#45;&gt;206</title>\n<path fill=\"none\" stroke=\"#000000\" d=\"M4113.0567,-1650.8796C4111.1767,-1642.5938 4109.1811,-1633.798 4107.2351,-1625.2216\"/>\n<polygon fill=\"#000000\" stroke=\"#000000\" points=\"4110.6096,-1624.2757 4104.9836,-1615.2981 4103.7831,-1625.8247 4110.6096,-1624.2757\"/>\n</g>\n<!-- 215 -->\n<g id=\"node216\" class=\"node\">\n<title>215</title>\n<path fill=\"#eca06a\" stroke=\"#000000\" d=\"M4342.5,-1615C4342.5,-1615 4262.5,-1615 4262.5,-1615 4256.5,-1615 4250.5,-1609 4250.5,-1603 4250.5,-1603 4250.5,-1544 4250.5,-1544 4250.5,-1538 4256.5,-1532 4262.5,-1532 4262.5,-1532 4342.5,-1532 4342.5,-1532 4348.5,-1532 4354.5,-1538 4354.5,-1544 4354.5,-1544 4354.5,-1603 4354.5,-1603 4354.5,-1609 4348.5,-1615 4342.5,-1615\"/>\n<text text-anchor=\"start\" x=\"4261.5\" y=\"-1599.8\" font-family=\"Helvetica,sans-Serif\" font-size=\"14.00\" fill=\"#000000\">age ≤ &#45;0.404</text>\n<text text-anchor=\"start\" x=\"4269\" y=\"-1584.8\" font-family=\"Helvetica,sans-Serif\" font-size=\"14.00\" fill=\"#000000\">gini = 0.32</text>\n<text text-anchor=\"start\" x=\"4258.5\" y=\"-1569.8\" font-family=\"Helvetica,sans-Serif\" font-size=\"14.00\" fill=\"#000000\">samples = 10</text>\n<text text-anchor=\"start\" x=\"4261\" y=\"-1554.8\" font-family=\"Helvetica,sans-Serif\" font-size=\"14.00\" fill=\"#000000\">value = [8, 2]</text>\n<text text-anchor=\"start\" x=\"4276\" y=\"-1539.8\" font-family=\"Helvetica,sans-Serif\" font-size=\"14.00\" fill=\"#000000\">class = l</text>\n</g>\n<!-- 205&#45;&gt;215 -->\n<g id=\"edge215\" class=\"edge\">\n<title>205&#45;&gt;215</title>\n<path fill=\"none\" stroke=\"#000000\" d=\"M4176.2493,-1656.4811C4179.0382,-1654.6252 4181.8012,-1652.7894 4184.5,-1651 4203.1043,-1638.6645 4223.4062,-1625.2969 4241.8431,-1613.193\"/>\n<polygon fill=\"#000000\" stroke=\"#000000\" points=\"4244.0077,-1615.9589 4250.4483,-1607.5464 4240.1674,-1610.1064 4244.0077,-1615.9589\"/>\n</g>\n<!-- 207 -->\n<g id=\"node208\" class=\"node\">\n<title>207</title>\n<path fill=\"#f2c09c\" stroke=\"#000000\" d=\"M4003,-1496C4003,-1496 3928,-1496 3928,-1496 3922,-1496 3916,-1490 3916,-1484 3916,-1484 3916,-1425 3916,-1425 3916,-1419 3922,-1413 3928,-1413 3928,-1413 4003,-1413 4003,-1413 4009,-1413 4015,-1419 4015,-1425 4015,-1425 4015,-1484 4015,-1484 4015,-1490 4009,-1496 4003,-1496\"/>\n<text text-anchor=\"start\" x=\"3929\" y=\"-1480.8\" font-family=\"Helvetica,sans-Serif\" font-size=\"14.00\" fill=\"#000000\">age ≤ &#45;0.57</text>\n<text text-anchor=\"start\" x=\"3927.5\" y=\"-1465.8\" font-family=\"Helvetica,sans-Serif\" font-size=\"14.00\" fill=\"#000000\">gini = 0.444</text>\n<text text-anchor=\"start\" x=\"3926\" y=\"-1450.8\" font-family=\"Helvetica,sans-Serif\" font-size=\"14.00\" fill=\"#000000\">samples = 3</text>\n<text text-anchor=\"start\" x=\"3924\" y=\"-1435.8\" font-family=\"Helvetica,sans-Serif\" font-size=\"14.00\" fill=\"#000000\">value = [2, 1]</text>\n<text text-anchor=\"start\" x=\"3939\" y=\"-1420.8\" font-family=\"Helvetica,sans-Serif\" font-size=\"14.00\" fill=\"#000000\">class = l</text>\n</g>\n<!-- 206&#45;&gt;207 -->\n<g id=\"edge207\" class=\"edge\">\n<title>206&#45;&gt;207</title>\n<path fill=\"none\" stroke=\"#000000\" d=\"M4050.0323,-1531.8796C4039.8983,-1522.6031 4029.066,-1512.6874 4018.6535,-1503.1559\"/>\n<polygon fill=\"#000000\" stroke=\"#000000\" points=\"4020.9013,-1500.4685 4011.1618,-1496.2981 4016.1748,-1505.6319 4020.9013,-1500.4685\"/>\n</g>\n<!-- 210 -->\n<g id=\"node211\" class=\"node\">\n<title>210</title>\n<path fill=\"#bddef6\" stroke=\"#000000\" d=\"M4133,-1496C4133,-1496 4058,-1496 4058,-1496 4052,-1496 4046,-1490 4046,-1484 4046,-1484 4046,-1425 4046,-1425 4046,-1419 4052,-1413 4058,-1413 4058,-1413 4133,-1413 4133,-1413 4139,-1413 4145,-1419 4145,-1425 4145,-1425 4145,-1484 4145,-1484 4145,-1490 4139,-1496 4133,-1496\"/>\n<text text-anchor=\"start\" x=\"4054.5\" y=\"-1480.8\" font-family=\"Helvetica,sans-Serif\" font-size=\"14.00\" fill=\"#000000\">age ≤ &#45;0.404</text>\n<text text-anchor=\"start\" x=\"4062\" y=\"-1465.8\" font-family=\"Helvetica,sans-Serif\" font-size=\"14.00\" fill=\"#000000\">gini = 0.48</text>\n<text text-anchor=\"start\" x=\"4056\" y=\"-1450.8\" font-family=\"Helvetica,sans-Serif\" font-size=\"14.00\" fill=\"#000000\">samples = 5</text>\n<text text-anchor=\"start\" x=\"4054\" y=\"-1435.8\" font-family=\"Helvetica,sans-Serif\" font-size=\"14.00\" fill=\"#000000\">value = [2, 3]</text>\n<text text-anchor=\"start\" x=\"4066.5\" y=\"-1420.8\" font-family=\"Helvetica,sans-Serif\" font-size=\"14.00\" fill=\"#000000\">class = o</text>\n</g>\n<!-- 206&#45;&gt;210 -->\n<g id=\"edge210\" class=\"edge\">\n<title>206&#45;&gt;210</title>\n<path fill=\"none\" stroke=\"#000000\" d=\"M4095.5,-1531.8796C4095.5,-1523.6838 4095.5,-1514.9891 4095.5,-1506.5013\"/>\n<polygon fill=\"#000000\" stroke=\"#000000\" points=\"4099.0001,-1506.298 4095.5,-1496.2981 4092.0001,-1506.2981 4099.0001,-1506.298\"/>\n</g>\n<!-- 208 -->\n<g id=\"node209\" class=\"node\">\n<title>208</title>\n<path fill=\"#399de5\" stroke=\"#000000\" d=\"M3886,-1369.5C3886,-1369.5 3811,-1369.5 3811,-1369.5 3805,-1369.5 3799,-1363.5 3799,-1357.5 3799,-1357.5 3799,-1313.5 3799,-1313.5 3799,-1307.5 3805,-1301.5 3811,-1301.5 3811,-1301.5 3886,-1301.5 3886,-1301.5 3892,-1301.5 3898,-1307.5 3898,-1313.5 3898,-1313.5 3898,-1357.5 3898,-1357.5 3898,-1363.5 3892,-1369.5 3886,-1369.5\"/>\n<text text-anchor=\"start\" x=\"3819\" y=\"-1354.3\" font-family=\"Helvetica,sans-Serif\" font-size=\"14.00\" fill=\"#000000\">gini = 0.0</text>\n<text text-anchor=\"start\" x=\"3809\" y=\"-1339.3\" font-family=\"Helvetica,sans-Serif\" font-size=\"14.00\" fill=\"#000000\">samples = 1</text>\n<text text-anchor=\"start\" x=\"3807\" y=\"-1324.3\" font-family=\"Helvetica,sans-Serif\" font-size=\"14.00\" fill=\"#000000\">value = [0, 1]</text>\n<text text-anchor=\"start\" x=\"3819.5\" y=\"-1309.3\" font-family=\"Helvetica,sans-Serif\" font-size=\"14.00\" fill=\"#000000\">class = o</text>\n</g>\n<!-- 207&#45;&gt;208 -->\n<g id=\"edge208\" class=\"edge\">\n<title>207&#45;&gt;208</title>\n<path fill=\"none\" stroke=\"#000000\" d=\"M3924.5791,-1412.8796C3913.2272,-1401.3337 3900.9018,-1388.7976 3889.543,-1377.2446\"/>\n<polygon fill=\"#000000\" stroke=\"#000000\" points=\"3891.7449,-1374.4919 3882.2382,-1369.8149 3886.7534,-1379.3995 3891.7449,-1374.4919\"/>\n</g>\n<!-- 209 -->\n<g id=\"node210\" class=\"node\">\n<title>209</title>\n<path fill=\"#e58139\" stroke=\"#000000\" d=\"M4003,-1369.5C4003,-1369.5 3928,-1369.5 3928,-1369.5 3922,-1369.5 3916,-1363.5 3916,-1357.5 3916,-1357.5 3916,-1313.5 3916,-1313.5 3916,-1307.5 3922,-1301.5 3928,-1301.5 3928,-1301.5 4003,-1301.5 4003,-1301.5 4009,-1301.5 4015,-1307.5 4015,-1313.5 4015,-1313.5 4015,-1357.5 4015,-1357.5 4015,-1363.5 4009,-1369.5 4003,-1369.5\"/>\n<text text-anchor=\"start\" x=\"3936\" y=\"-1354.3\" font-family=\"Helvetica,sans-Serif\" font-size=\"14.00\" fill=\"#000000\">gini = 0.0</text>\n<text text-anchor=\"start\" x=\"3926\" y=\"-1339.3\" font-family=\"Helvetica,sans-Serif\" font-size=\"14.00\" fill=\"#000000\">samples = 2</text>\n<text text-anchor=\"start\" x=\"3924\" y=\"-1324.3\" font-family=\"Helvetica,sans-Serif\" font-size=\"14.00\" fill=\"#000000\">value = [2, 0]</text>\n<text text-anchor=\"start\" x=\"3939\" y=\"-1309.3\" font-family=\"Helvetica,sans-Serif\" font-size=\"14.00\" fill=\"#000000\">class = l</text>\n</g>\n<!-- 207&#45;&gt;209 -->\n<g id=\"edge209\" class=\"edge\">\n<title>207&#45;&gt;209</title>\n<path fill=\"none\" stroke=\"#000000\" d=\"M3965.5,-1412.8796C3965.5,-1402.2134 3965.5,-1390.7021 3965.5,-1379.9015\"/>\n<polygon fill=\"#000000\" stroke=\"#000000\" points=\"3969.0001,-1379.8149 3965.5,-1369.8149 3962.0001,-1379.815 3969.0001,-1379.8149\"/>\n</g>\n<!-- 211 -->\n<g id=\"node212\" class=\"node\">\n<title>211</title>\n<path fill=\"#f2c09c\" stroke=\"#000000\" d=\"M4120,-1377C4120,-1377 4045,-1377 4045,-1377 4039,-1377 4033,-1371 4033,-1365 4033,-1365 4033,-1306 4033,-1306 4033,-1300 4039,-1294 4045,-1294 4045,-1294 4120,-1294 4120,-1294 4126,-1294 4132,-1300 4132,-1306 4132,-1306 4132,-1365 4132,-1365 4132,-1371 4126,-1377 4120,-1377\"/>\n<text text-anchor=\"start\" x=\"4041.5\" y=\"-1361.8\" font-family=\"Helvetica,sans-Serif\" font-size=\"14.00\" fill=\"#000000\">age ≤ &#45;0.736</text>\n<text text-anchor=\"start\" x=\"4044.5\" y=\"-1346.8\" font-family=\"Helvetica,sans-Serif\" font-size=\"14.00\" fill=\"#000000\">gini = 0.444</text>\n<text text-anchor=\"start\" x=\"4043\" y=\"-1331.8\" font-family=\"Helvetica,sans-Serif\" font-size=\"14.00\" fill=\"#000000\">samples = 3</text>\n<text text-anchor=\"start\" x=\"4041\" y=\"-1316.8\" font-family=\"Helvetica,sans-Serif\" font-size=\"14.00\" fill=\"#000000\">value = [2, 1]</text>\n<text text-anchor=\"start\" x=\"4056\" y=\"-1301.8\" font-family=\"Helvetica,sans-Serif\" font-size=\"14.00\" fill=\"#000000\">class = l</text>\n</g>\n<!-- 210&#45;&gt;211 -->\n<g id=\"edge211\" class=\"edge\">\n<title>210&#45;&gt;211</title>\n<path fill=\"none\" stroke=\"#000000\" d=\"M4090.9532,-1412.8796C4090.0579,-1404.6838 4089.1081,-1395.9891 4088.1808,-1387.5013\"/>\n<polygon fill=\"#000000\" stroke=\"#000000\" points=\"4091.6315,-1386.8588 4087.0662,-1377.2981 4084.6729,-1387.6191 4091.6315,-1386.8588\"/>\n</g>\n<!-- 214 -->\n<g id=\"node215\" class=\"node\">\n<title>214</title>\n<path fill=\"#399de5\" stroke=\"#000000\" d=\"M4237,-1369.5C4237,-1369.5 4162,-1369.5 4162,-1369.5 4156,-1369.5 4150,-1363.5 4150,-1357.5 4150,-1357.5 4150,-1313.5 4150,-1313.5 4150,-1307.5 4156,-1301.5 4162,-1301.5 4162,-1301.5 4237,-1301.5 4237,-1301.5 4243,-1301.5 4249,-1307.5 4249,-1313.5 4249,-1313.5 4249,-1357.5 4249,-1357.5 4249,-1363.5 4243,-1369.5 4237,-1369.5\"/>\n<text text-anchor=\"start\" x=\"4170\" y=\"-1354.3\" font-family=\"Helvetica,sans-Serif\" font-size=\"14.00\" fill=\"#000000\">gini = 0.0</text>\n<text text-anchor=\"start\" x=\"4160\" y=\"-1339.3\" font-family=\"Helvetica,sans-Serif\" font-size=\"14.00\" fill=\"#000000\">samples = 2</text>\n<text text-anchor=\"start\" x=\"4158\" y=\"-1324.3\" font-family=\"Helvetica,sans-Serif\" font-size=\"14.00\" fill=\"#000000\">value = [0, 2]</text>\n<text text-anchor=\"start\" x=\"4170.5\" y=\"-1309.3\" font-family=\"Helvetica,sans-Serif\" font-size=\"14.00\" fill=\"#000000\">class = o</text>\n</g>\n<!-- 210&#45;&gt;214 -->\n<g id=\"edge214\" class=\"edge\">\n<title>210&#45;&gt;214</title>\n<path fill=\"none\" stroke=\"#000000\" d=\"M4131.8742,-1412.8796C4141.8686,-1401.4436 4152.712,-1389.0363 4162.7286,-1377.575\"/>\n<polygon fill=\"#000000\" stroke=\"#000000\" points=\"4165.5653,-1379.6479 4169.5105,-1369.8149 4160.2945,-1375.0414 4165.5653,-1379.6479\"/>\n</g>\n<!-- 212 -->\n<g id=\"node213\" class=\"node\">\n<title>212</title>\n<path fill=\"#e58139\" stroke=\"#000000\" d=\"M4033,-1250.5C4033,-1250.5 3958,-1250.5 3958,-1250.5 3952,-1250.5 3946,-1244.5 3946,-1238.5 3946,-1238.5 3946,-1194.5 3946,-1194.5 3946,-1188.5 3952,-1182.5 3958,-1182.5 3958,-1182.5 4033,-1182.5 4033,-1182.5 4039,-1182.5 4045,-1188.5 4045,-1194.5 4045,-1194.5 4045,-1238.5 4045,-1238.5 4045,-1244.5 4039,-1250.5 4033,-1250.5\"/>\n<text text-anchor=\"start\" x=\"3966\" y=\"-1235.3\" font-family=\"Helvetica,sans-Serif\" font-size=\"14.00\" fill=\"#000000\">gini = 0.0</text>\n<text text-anchor=\"start\" x=\"3956\" y=\"-1220.3\" font-family=\"Helvetica,sans-Serif\" font-size=\"14.00\" fill=\"#000000\">samples = 1</text>\n<text text-anchor=\"start\" x=\"3954\" y=\"-1205.3\" font-family=\"Helvetica,sans-Serif\" font-size=\"14.00\" fill=\"#000000\">value = [1, 0]</text>\n<text text-anchor=\"start\" x=\"3969\" y=\"-1190.3\" font-family=\"Helvetica,sans-Serif\" font-size=\"14.00\" fill=\"#000000\">class = l</text>\n</g>\n<!-- 211&#45;&gt;212 -->\n<g id=\"edge212\" class=\"edge\">\n<title>211&#45;&gt;212</title>\n<path fill=\"none\" stroke=\"#000000\" d=\"M4052.0716,-1293.8796C4043.7913,-1282.5536 4034.8143,-1270.2748 4026.5026,-1258.9058\"/>\n<polygon fill=\"#000000\" stroke=\"#000000\" points=\"4029.3147,-1256.822 4020.5874,-1250.8149 4023.6639,-1260.9533 4029.3147,-1256.822\"/>\n</g>\n<!-- 213 -->\n<g id=\"node214\" class=\"node\">\n<title>213</title>\n<path fill=\"#ffffff\" stroke=\"#000000\" d=\"M4150,-1250.5C4150,-1250.5 4075,-1250.5 4075,-1250.5 4069,-1250.5 4063,-1244.5 4063,-1238.5 4063,-1238.5 4063,-1194.5 4063,-1194.5 4063,-1188.5 4069,-1182.5 4075,-1182.5 4075,-1182.5 4150,-1182.5 4150,-1182.5 4156,-1182.5 4162,-1188.5 4162,-1194.5 4162,-1194.5 4162,-1238.5 4162,-1238.5 4162,-1244.5 4156,-1250.5 4150,-1250.5\"/>\n<text text-anchor=\"start\" x=\"4083\" y=\"-1235.3\" font-family=\"Helvetica,sans-Serif\" font-size=\"14.00\" fill=\"#000000\">gini = 0.5</text>\n<text text-anchor=\"start\" x=\"4073\" y=\"-1220.3\" font-family=\"Helvetica,sans-Serif\" font-size=\"14.00\" fill=\"#000000\">samples = 2</text>\n<text text-anchor=\"start\" x=\"4071\" y=\"-1205.3\" font-family=\"Helvetica,sans-Serif\" font-size=\"14.00\" fill=\"#000000\">value = [1, 1]</text>\n<text text-anchor=\"start\" x=\"4086\" y=\"-1190.3\" font-family=\"Helvetica,sans-Serif\" font-size=\"14.00\" fill=\"#000000\">class = l</text>\n</g>\n<!-- 211&#45;&gt;213 -->\n<g id=\"edge213\" class=\"edge\">\n<title>211&#45;&gt;213</title>\n<path fill=\"none\" stroke=\"#000000\" d=\"M4092.9925,-1293.8796C4095.7092,-1283.1034 4098.6434,-1271.4647 4101.3905,-1260.5677\"/>\n<polygon fill=\"#000000\" stroke=\"#000000\" points=\"4104.7984,-1261.3672 4103.8492,-1250.8149 4098.0108,-1259.6559 4104.7984,-1261.3672\"/>\n</g>\n<!-- 216 -->\n<g id=\"node217\" class=\"node\">\n<title>216</title>\n<path fill=\"#e9965a\" stroke=\"#000000\" d=\"M4359,-1496C4359,-1496 4274,-1496 4274,-1496 4268,-1496 4262,-1490 4262,-1484 4262,-1484 4262,-1425 4262,-1425 4262,-1419 4268,-1413 4274,-1413 4274,-1413 4359,-1413 4359,-1413 4365,-1413 4371,-1419 4371,-1425 4371,-1425 4371,-1484 4371,-1484 4371,-1490 4365,-1496 4359,-1496\"/>\n<text text-anchor=\"start\" x=\"4270\" y=\"-1480.8\" font-family=\"Helvetica,sans-Serif\" font-size=\"14.00\" fill=\"#000000\">terms ≤ &#45;0.019</text>\n<text text-anchor=\"start\" x=\"4278.5\" y=\"-1465.8\" font-family=\"Helvetica,sans-Serif\" font-size=\"14.00\" fill=\"#000000\">gini = 0.245</text>\n<text text-anchor=\"start\" x=\"4277\" y=\"-1450.8\" font-family=\"Helvetica,sans-Serif\" font-size=\"14.00\" fill=\"#000000\">samples = 7</text>\n<text text-anchor=\"start\" x=\"4275\" y=\"-1435.8\" font-family=\"Helvetica,sans-Serif\" font-size=\"14.00\" fill=\"#000000\">value = [6, 1]</text>\n<text text-anchor=\"start\" x=\"4290\" y=\"-1420.8\" font-family=\"Helvetica,sans-Serif\" font-size=\"14.00\" fill=\"#000000\">class = l</text>\n</g>\n<!-- 215&#45;&gt;216 -->\n<g id=\"edge216\" class=\"edge\">\n<title>215&#45;&gt;216</title>\n<path fill=\"none\" stroke=\"#000000\" d=\"M4307.3965,-1531.8796C4308.3607,-1523.6838 4309.3836,-1514.9891 4310.3822,-1506.5013\"/>\n<polygon fill=\"#000000\" stroke=\"#000000\" points=\"4313.8901,-1506.6386 4311.5826,-1496.2981 4306.9381,-1505.8206 4313.8901,-1506.6386\"/>\n</g>\n<!-- 221 -->\n<g id=\"node222\" class=\"node\">\n<title>221</title>\n<path fill=\"#f2c09c\" stroke=\"#000000\" d=\"M4588,-1496C4588,-1496 4513,-1496 4513,-1496 4507,-1496 4501,-1490 4501,-1484 4501,-1484 4501,-1425 4501,-1425 4501,-1419 4507,-1413 4513,-1413 4513,-1413 4588,-1413 4588,-1413 4594,-1413 4600,-1419 4600,-1425 4600,-1425 4600,-1484 4600,-1484 4600,-1490 4594,-1496 4588,-1496\"/>\n<text text-anchor=\"start\" x=\"4509.5\" y=\"-1480.8\" font-family=\"Helvetica,sans-Serif\" font-size=\"14.00\" fill=\"#000000\">age ≤ &#45;0.239</text>\n<text text-anchor=\"start\" x=\"4512.5\" y=\"-1465.8\" font-family=\"Helvetica,sans-Serif\" font-size=\"14.00\" fill=\"#000000\">gini = 0.444</text>\n<text text-anchor=\"start\" x=\"4511\" y=\"-1450.8\" font-family=\"Helvetica,sans-Serif\" font-size=\"14.00\" fill=\"#000000\">samples = 3</text>\n<text text-anchor=\"start\" x=\"4509\" y=\"-1435.8\" font-family=\"Helvetica,sans-Serif\" font-size=\"14.00\" fill=\"#000000\">value = [2, 1]</text>\n<text text-anchor=\"start\" x=\"4524\" y=\"-1420.8\" font-family=\"Helvetica,sans-Serif\" font-size=\"14.00\" fill=\"#000000\">class = l</text>\n</g>\n<!-- 215&#45;&gt;221 -->\n<g id=\"edge221\" class=\"edge\">\n<title>215&#45;&gt;221</title>\n<path fill=\"none\" stroke=\"#000000\" d=\"M4354.8318,-1537.4601C4358.0654,-1535.55 4361.304,-1533.7143 4364.5,-1532 4405.3922,-1510.0662 4453.845,-1490.0553 4491.0447,-1475.8633\"/>\n<polygon fill=\"#000000\" stroke=\"#000000\" points=\"4492.6177,-1479.0104 4500.7343,-1472.2008 4490.1427,-1472.4626 4492.6177,-1479.0104\"/>\n</g>\n<!-- 217 -->\n<g id=\"node218\" class=\"node\">\n<title>217</title>\n<path fill=\"#f2c09c\" stroke=\"#000000\" d=\"M4354,-1377C4354,-1377 4279,-1377 4279,-1377 4273,-1377 4267,-1371 4267,-1365 4267,-1365 4267,-1306 4267,-1306 4267,-1300 4273,-1294 4279,-1294 4279,-1294 4354,-1294 4354,-1294 4360,-1294 4366,-1300 4366,-1306 4366,-1306 4366,-1365 4366,-1365 4366,-1371 4360,-1377 4354,-1377\"/>\n<text text-anchor=\"start\" x=\"4280\" y=\"-1361.8\" font-family=\"Helvetica,sans-Serif\" font-size=\"14.00\" fill=\"#000000\">age ≤ &#45;0.57</text>\n<text text-anchor=\"start\" x=\"4278.5\" y=\"-1346.8\" font-family=\"Helvetica,sans-Serif\" font-size=\"14.00\" fill=\"#000000\">gini = 0.444</text>\n<text text-anchor=\"start\" x=\"4277\" y=\"-1331.8\" font-family=\"Helvetica,sans-Serif\" font-size=\"14.00\" fill=\"#000000\">samples = 3</text>\n<text text-anchor=\"start\" x=\"4275\" y=\"-1316.8\" font-family=\"Helvetica,sans-Serif\" font-size=\"14.00\" fill=\"#000000\">value = [2, 1]</text>\n<text text-anchor=\"start\" x=\"4290\" y=\"-1301.8\" font-family=\"Helvetica,sans-Serif\" font-size=\"14.00\" fill=\"#000000\">class = l</text>\n</g>\n<!-- 216&#45;&gt;217 -->\n<g id=\"edge217\" class=\"edge\">\n<title>216&#45;&gt;217</title>\n<path fill=\"none\" stroke=\"#000000\" d=\"M4316.5,-1412.8796C4316.5,-1404.6838 4316.5,-1395.9891 4316.5,-1387.5013\"/>\n<polygon fill=\"#000000\" stroke=\"#000000\" points=\"4320.0001,-1387.298 4316.5,-1377.2981 4313.0001,-1387.2981 4320.0001,-1387.298\"/>\n</g>\n<!-- 220 -->\n<g id=\"node221\" class=\"node\">\n<title>220</title>\n<path fill=\"#e58139\" stroke=\"#000000\" d=\"M4471,-1369.5C4471,-1369.5 4396,-1369.5 4396,-1369.5 4390,-1369.5 4384,-1363.5 4384,-1357.5 4384,-1357.5 4384,-1313.5 4384,-1313.5 4384,-1307.5 4390,-1301.5 4396,-1301.5 4396,-1301.5 4471,-1301.5 4471,-1301.5 4477,-1301.5 4483,-1307.5 4483,-1313.5 4483,-1313.5 4483,-1357.5 4483,-1357.5 4483,-1363.5 4477,-1369.5 4471,-1369.5\"/>\n<text text-anchor=\"start\" x=\"4404\" y=\"-1354.3\" font-family=\"Helvetica,sans-Serif\" font-size=\"14.00\" fill=\"#000000\">gini = 0.0</text>\n<text text-anchor=\"start\" x=\"4394\" y=\"-1339.3\" font-family=\"Helvetica,sans-Serif\" font-size=\"14.00\" fill=\"#000000\">samples = 4</text>\n<text text-anchor=\"start\" x=\"4392\" y=\"-1324.3\" font-family=\"Helvetica,sans-Serif\" font-size=\"14.00\" fill=\"#000000\">value = [4, 0]</text>\n<text text-anchor=\"start\" x=\"4407\" y=\"-1309.3\" font-family=\"Helvetica,sans-Serif\" font-size=\"14.00\" fill=\"#000000\">class = l</text>\n</g>\n<!-- 216&#45;&gt;220 -->\n<g id=\"edge220\" class=\"edge\">\n<title>216&#45;&gt;220</title>\n<path fill=\"none\" stroke=\"#000000\" d=\"M4357.4209,-1412.8796C4368.7728,-1401.3337 4381.0982,-1388.7976 4392.457,-1377.2446\"/>\n<polygon fill=\"#000000\" stroke=\"#000000\" points=\"4395.2466,-1379.3995 4399.7618,-1369.8149 4390.2551,-1374.4919 4395.2466,-1379.3995\"/>\n</g>\n<!-- 218 -->\n<g id=\"node219\" class=\"node\">\n<title>218</title>\n<path fill=\"#ffffff\" stroke=\"#000000\" d=\"M4325,-1250.5C4325,-1250.5 4250,-1250.5 4250,-1250.5 4244,-1250.5 4238,-1244.5 4238,-1238.5 4238,-1238.5 4238,-1194.5 4238,-1194.5 4238,-1188.5 4244,-1182.5 4250,-1182.5 4250,-1182.5 4325,-1182.5 4325,-1182.5 4331,-1182.5 4337,-1188.5 4337,-1194.5 4337,-1194.5 4337,-1238.5 4337,-1238.5 4337,-1244.5 4331,-1250.5 4325,-1250.5\"/>\n<text text-anchor=\"start\" x=\"4258\" y=\"-1235.3\" font-family=\"Helvetica,sans-Serif\" font-size=\"14.00\" fill=\"#000000\">gini = 0.5</text>\n<text text-anchor=\"start\" x=\"4248\" y=\"-1220.3\" font-family=\"Helvetica,sans-Serif\" font-size=\"14.00\" fill=\"#000000\">samples = 2</text>\n<text text-anchor=\"start\" x=\"4246\" y=\"-1205.3\" font-family=\"Helvetica,sans-Serif\" font-size=\"14.00\" fill=\"#000000\">value = [1, 1]</text>\n<text text-anchor=\"start\" x=\"4261\" y=\"-1190.3\" font-family=\"Helvetica,sans-Serif\" font-size=\"14.00\" fill=\"#000000\">class = l</text>\n</g>\n<!-- 217&#45;&gt;218 -->\n<g id=\"edge218\" class=\"edge\">\n<title>217&#45;&gt;218</title>\n<path fill=\"none\" stroke=\"#000000\" d=\"M4306.3572,-1293.8796C4303.7311,-1283.1034 4300.8948,-1271.4647 4298.2392,-1260.5677\"/>\n<polygon fill=\"#000000\" stroke=\"#000000\" points=\"4301.6307,-1259.7019 4295.8625,-1250.8149 4294.8297,-1261.3593 4301.6307,-1259.7019\"/>\n</g>\n<!-- 219 -->\n<g id=\"node220\" class=\"node\">\n<title>219</title>\n<path fill=\"#e58139\" stroke=\"#000000\" d=\"M4442,-1250.5C4442,-1250.5 4367,-1250.5 4367,-1250.5 4361,-1250.5 4355,-1244.5 4355,-1238.5 4355,-1238.5 4355,-1194.5 4355,-1194.5 4355,-1188.5 4361,-1182.5 4367,-1182.5 4367,-1182.5 4442,-1182.5 4442,-1182.5 4448,-1182.5 4454,-1188.5 4454,-1194.5 4454,-1194.5 4454,-1238.5 4454,-1238.5 4454,-1244.5 4448,-1250.5 4442,-1250.5\"/>\n<text text-anchor=\"start\" x=\"4375\" y=\"-1235.3\" font-family=\"Helvetica,sans-Serif\" font-size=\"14.00\" fill=\"#000000\">gini = 0.0</text>\n<text text-anchor=\"start\" x=\"4365\" y=\"-1220.3\" font-family=\"Helvetica,sans-Serif\" font-size=\"14.00\" fill=\"#000000\">samples = 1</text>\n<text text-anchor=\"start\" x=\"4363\" y=\"-1205.3\" font-family=\"Helvetica,sans-Serif\" font-size=\"14.00\" fill=\"#000000\">value = [1, 0]</text>\n<text text-anchor=\"start\" x=\"4378\" y=\"-1190.3\" font-family=\"Helvetica,sans-Serif\" font-size=\"14.00\" fill=\"#000000\">class = l</text>\n</g>\n<!-- 217&#45;&gt;219 -->\n<g id=\"edge219\" class=\"edge\">\n<title>217&#45;&gt;219</title>\n<path fill=\"none\" stroke=\"#000000\" d=\"M4347.2781,-1293.8796C4355.6536,-1282.5536 4364.7338,-1270.2748 4373.1411,-1258.9058\"/>\n<polygon fill=\"#000000\" stroke=\"#000000\" points=\"4375.9925,-1260.9364 4379.1242,-1250.8149 4370.3643,-1256.7743 4375.9925,-1260.9364\"/>\n</g>\n<!-- 222 -->\n<g id=\"node223\" class=\"node\">\n<title>222</title>\n<path fill=\"#ffffff\" stroke=\"#000000\" d=\"M4588,-1369.5C4588,-1369.5 4513,-1369.5 4513,-1369.5 4507,-1369.5 4501,-1363.5 4501,-1357.5 4501,-1357.5 4501,-1313.5 4501,-1313.5 4501,-1307.5 4507,-1301.5 4513,-1301.5 4513,-1301.5 4588,-1301.5 4588,-1301.5 4594,-1301.5 4600,-1307.5 4600,-1313.5 4600,-1313.5 4600,-1357.5 4600,-1357.5 4600,-1363.5 4594,-1369.5 4588,-1369.5\"/>\n<text text-anchor=\"start\" x=\"4521\" y=\"-1354.3\" font-family=\"Helvetica,sans-Serif\" font-size=\"14.00\" fill=\"#000000\">gini = 0.5</text>\n<text text-anchor=\"start\" x=\"4511\" y=\"-1339.3\" font-family=\"Helvetica,sans-Serif\" font-size=\"14.00\" fill=\"#000000\">samples = 2</text>\n<text text-anchor=\"start\" x=\"4509\" y=\"-1324.3\" font-family=\"Helvetica,sans-Serif\" font-size=\"14.00\" fill=\"#000000\">value = [1, 1]</text>\n<text text-anchor=\"start\" x=\"4524\" y=\"-1309.3\" font-family=\"Helvetica,sans-Serif\" font-size=\"14.00\" fill=\"#000000\">class = l</text>\n</g>\n<!-- 221&#45;&gt;222 -->\n<g id=\"edge222\" class=\"edge\">\n<title>221&#45;&gt;222</title>\n<path fill=\"none\" stroke=\"#000000\" d=\"M4550.5,-1412.8796C4550.5,-1402.2134 4550.5,-1390.7021 4550.5,-1379.9015\"/>\n<polygon fill=\"#000000\" stroke=\"#000000\" points=\"4554.0001,-1379.8149 4550.5,-1369.8149 4547.0001,-1379.815 4554.0001,-1379.8149\"/>\n</g>\n<!-- 223 -->\n<g id=\"node224\" class=\"node\">\n<title>223</title>\n<path fill=\"#e58139\" stroke=\"#000000\" d=\"M4705,-1369.5C4705,-1369.5 4630,-1369.5 4630,-1369.5 4624,-1369.5 4618,-1363.5 4618,-1357.5 4618,-1357.5 4618,-1313.5 4618,-1313.5 4618,-1307.5 4624,-1301.5 4630,-1301.5 4630,-1301.5 4705,-1301.5 4705,-1301.5 4711,-1301.5 4717,-1307.5 4717,-1313.5 4717,-1313.5 4717,-1357.5 4717,-1357.5 4717,-1363.5 4711,-1369.5 4705,-1369.5\"/>\n<text text-anchor=\"start\" x=\"4638\" y=\"-1354.3\" font-family=\"Helvetica,sans-Serif\" font-size=\"14.00\" fill=\"#000000\">gini = 0.0</text>\n<text text-anchor=\"start\" x=\"4628\" y=\"-1339.3\" font-family=\"Helvetica,sans-Serif\" font-size=\"14.00\" fill=\"#000000\">samples = 1</text>\n<text text-anchor=\"start\" x=\"4626\" y=\"-1324.3\" font-family=\"Helvetica,sans-Serif\" font-size=\"14.00\" fill=\"#000000\">value = [1, 0]</text>\n<text text-anchor=\"start\" x=\"4641\" y=\"-1309.3\" font-family=\"Helvetica,sans-Serif\" font-size=\"14.00\" fill=\"#000000\">class = l</text>\n</g>\n<!-- 221&#45;&gt;223 -->\n<g id=\"edge223\" class=\"edge\">\n<title>221&#45;&gt;223</title>\n<path fill=\"none\" stroke=\"#000000\" d=\"M4591.4209,-1412.8796C4602.7728,-1401.3337 4615.0982,-1388.7976 4626.457,-1377.2446\"/>\n<polygon fill=\"#000000\" stroke=\"#000000\" points=\"4629.2466,-1379.3995 4633.7618,-1369.8149 4624.2551,-1374.4919 4629.2466,-1379.3995\"/>\n</g>\n<!-- 225 -->\n<g id=\"node226\" class=\"node\">\n<title>225</title>\n<path fill=\"#e58139\" stroke=\"#000000\" d=\"M4289,-1726.5C4289,-1726.5 4206,-1726.5 4206,-1726.5 4200,-1726.5 4194,-1720.5 4194,-1714.5 4194,-1714.5 4194,-1670.5 4194,-1670.5 4194,-1664.5 4200,-1658.5 4206,-1658.5 4206,-1658.5 4289,-1658.5 4289,-1658.5 4295,-1658.5 4301,-1664.5 4301,-1670.5 4301,-1670.5 4301,-1714.5 4301,-1714.5 4301,-1720.5 4295,-1726.5 4289,-1726.5\"/>\n<text text-anchor=\"start\" x=\"4218\" y=\"-1711.3\" font-family=\"Helvetica,sans-Serif\" font-size=\"14.00\" fill=\"#000000\">gini = 0.0</text>\n<text text-anchor=\"start\" x=\"4203.5\" y=\"-1696.3\" font-family=\"Helvetica,sans-Serif\" font-size=\"14.00\" fill=\"#000000\">samples = 20</text>\n<text text-anchor=\"start\" x=\"4202\" y=\"-1681.3\" font-family=\"Helvetica,sans-Serif\" font-size=\"14.00\" fill=\"#000000\">value = [20, 0]</text>\n<text text-anchor=\"start\" x=\"4221\" y=\"-1666.3\" font-family=\"Helvetica,sans-Serif\" font-size=\"14.00\" fill=\"#000000\">class = l</text>\n</g>\n<!-- 224&#45;&gt;225 -->\n<g id=\"edge225\" class=\"edge\">\n<title>224&#45;&gt;225</title>\n<path fill=\"none\" stroke=\"#000000\" d=\"M4247.5,-1769.8796C4247.5,-1759.2134 4247.5,-1747.7021 4247.5,-1736.9015\"/>\n<polygon fill=\"#000000\" stroke=\"#000000\" points=\"4251.0001,-1736.8149 4247.5,-1726.8149 4244.0001,-1736.815 4251.0001,-1736.8149\"/>\n</g>\n<!-- 226 -->\n<g id=\"node227\" class=\"node\">\n<title>226</title>\n<path fill=\"#eca06a\" stroke=\"#000000\" d=\"M4460,-1734C4460,-1734 4385,-1734 4385,-1734 4379,-1734 4373,-1728 4373,-1722 4373,-1722 4373,-1663 4373,-1663 4373,-1657 4379,-1651 4385,-1651 4385,-1651 4460,-1651 4460,-1651 4466,-1651 4472,-1657 4472,-1663 4472,-1663 4472,-1722 4472,-1722 4472,-1728 4466,-1734 4460,-1734\"/>\n<text text-anchor=\"start\" x=\"4384\" y=\"-1718.8\" font-family=\"Helvetica,sans-Serif\" font-size=\"14.00\" fill=\"#000000\">age ≤ 1.337</text>\n<text text-anchor=\"start\" x=\"4389\" y=\"-1703.8\" font-family=\"Helvetica,sans-Serif\" font-size=\"14.00\" fill=\"#000000\">gini = 0.32</text>\n<text text-anchor=\"start\" x=\"4383\" y=\"-1688.8\" font-family=\"Helvetica,sans-Serif\" font-size=\"14.00\" fill=\"#000000\">samples = 5</text>\n<text text-anchor=\"start\" x=\"4381\" y=\"-1673.8\" font-family=\"Helvetica,sans-Serif\" font-size=\"14.00\" fill=\"#000000\">value = [4, 1]</text>\n<text text-anchor=\"start\" x=\"4396\" y=\"-1658.8\" font-family=\"Helvetica,sans-Serif\" font-size=\"14.00\" fill=\"#000000\">class = l</text>\n</g>\n<!-- 224&#45;&gt;226 -->\n<g id=\"edge226\" class=\"edge\">\n<title>224&#45;&gt;226</title>\n<path fill=\"none\" stroke=\"#000000\" d=\"M4301.4337,-1774.8251C4321.3812,-1761.2608 4344.072,-1745.831 4364.3756,-1732.0246\"/>\n<polygon fill=\"#000000\" stroke=\"#000000\" points=\"4366.6148,-1734.7345 4372.916,-1726.2171 4362.6786,-1728.946 4366.6148,-1734.7345\"/>\n</g>\n<!-- 227 -->\n<g id=\"node228\" class=\"node\">\n<title>227</title>\n<path fill=\"#399de5\" stroke=\"#000000\" d=\"M4460,-1607.5C4460,-1607.5 4385,-1607.5 4385,-1607.5 4379,-1607.5 4373,-1601.5 4373,-1595.5 4373,-1595.5 4373,-1551.5 4373,-1551.5 4373,-1545.5 4379,-1539.5 4385,-1539.5 4385,-1539.5 4460,-1539.5 4460,-1539.5 4466,-1539.5 4472,-1545.5 4472,-1551.5 4472,-1551.5 4472,-1595.5 4472,-1595.5 4472,-1601.5 4466,-1607.5 4460,-1607.5\"/>\n<text text-anchor=\"start\" x=\"4393\" y=\"-1592.3\" font-family=\"Helvetica,sans-Serif\" font-size=\"14.00\" fill=\"#000000\">gini = 0.0</text>\n<text text-anchor=\"start\" x=\"4383\" y=\"-1577.3\" font-family=\"Helvetica,sans-Serif\" font-size=\"14.00\" fill=\"#000000\">samples = 1</text>\n<text text-anchor=\"start\" x=\"4381\" y=\"-1562.3\" font-family=\"Helvetica,sans-Serif\" font-size=\"14.00\" fill=\"#000000\">value = [0, 1]</text>\n<text text-anchor=\"start\" x=\"4393.5\" y=\"-1547.3\" font-family=\"Helvetica,sans-Serif\" font-size=\"14.00\" fill=\"#000000\">class = o</text>\n</g>\n<!-- 226&#45;&gt;227 -->\n<g id=\"edge227\" class=\"edge\">\n<title>226&#45;&gt;227</title>\n<path fill=\"none\" stroke=\"#000000\" d=\"M4422.5,-1650.8796C4422.5,-1640.2134 4422.5,-1628.7021 4422.5,-1617.9015\"/>\n<polygon fill=\"#000000\" stroke=\"#000000\" points=\"4426.0001,-1617.8149 4422.5,-1607.8149 4419.0001,-1617.815 4426.0001,-1617.8149\"/>\n</g>\n<!-- 228 -->\n<g id=\"node229\" class=\"node\">\n<title>228</title>\n<path fill=\"#e58139\" stroke=\"#000000\" d=\"M4577,-1607.5C4577,-1607.5 4502,-1607.5 4502,-1607.5 4496,-1607.5 4490,-1601.5 4490,-1595.5 4490,-1595.5 4490,-1551.5 4490,-1551.5 4490,-1545.5 4496,-1539.5 4502,-1539.5 4502,-1539.5 4577,-1539.5 4577,-1539.5 4583,-1539.5 4589,-1545.5 4589,-1551.5 4589,-1551.5 4589,-1595.5 4589,-1595.5 4589,-1601.5 4583,-1607.5 4577,-1607.5\"/>\n<text text-anchor=\"start\" x=\"4510\" y=\"-1592.3\" font-family=\"Helvetica,sans-Serif\" font-size=\"14.00\" fill=\"#000000\">gini = 0.0</text>\n<text text-anchor=\"start\" x=\"4500\" y=\"-1577.3\" font-family=\"Helvetica,sans-Serif\" font-size=\"14.00\" fill=\"#000000\">samples = 4</text>\n<text text-anchor=\"start\" x=\"4498\" y=\"-1562.3\" font-family=\"Helvetica,sans-Serif\" font-size=\"14.00\" fill=\"#000000\">value = [4, 0]</text>\n<text text-anchor=\"start\" x=\"4513\" y=\"-1547.3\" font-family=\"Helvetica,sans-Serif\" font-size=\"14.00\" fill=\"#000000\">class = l</text>\n</g>\n<!-- 226&#45;&gt;228 -->\n<g id=\"edge228\" class=\"edge\">\n<title>226&#45;&gt;228</title>\n<path fill=\"none\" stroke=\"#000000\" d=\"M4463.4209,-1650.8796C4474.7728,-1639.3337 4487.0982,-1626.7976 4498.457,-1615.2446\"/>\n<polygon fill=\"#000000\" stroke=\"#000000\" points=\"4501.2466,-1617.3995 4505.7618,-1607.8149 4496.2551,-1612.4919 4501.2466,-1617.3995\"/>\n</g>\n<!-- \\n -->\n<g id=\"node230\" class=\"node\">\n<title>\\n</title>\n<path fill=\"#000000\" stroke=\"#000000\" d=\"M3805.5,-2186.5C3805.5,-2186.5 3775.5,-2186.5 3775.5,-2186.5 3769.5,-2186.5 3763.5,-2180.5 3763.5,-2174.5 3763.5,-2174.5 3763.5,-2162.5 3763.5,-2162.5 3763.5,-2156.5 3769.5,-2150.5 3775.5,-2150.5 3775.5,-2150.5 3805.5,-2150.5 3805.5,-2150.5 3811.5,-2150.5 3817.5,-2156.5 3817.5,-2162.5 3817.5,-2162.5 3817.5,-2174.5 3817.5,-2174.5 3817.5,-2180.5 3811.5,-2186.5 3805.5,-2186.5\"/>\n</g>\n</g>\n</svg>\n"
          },
          "metadata": {},
          "execution_count": 41
        }
      ]
    },
    {
      "cell_type": "markdown",
      "source": [
        "# Support Vector Machine"
      ],
      "metadata": {
        "id": "9_UMqRL4MZIM"
      }
    },
    {
      "cell_type": "code",
      "source": [
        "y_train=y_train.astype(float)\n",
        "from sklearn import svm\n",
        "\n",
        "clf_svm = svm.LinearSVC(random_state=7)\n",
        "clf_svm.fit(X_train, y_train)  \n",
        "\n",
        "y_pred=clf_svm.predict(X_train)\n",
        "trainScores['SVM-f1-score']=f1_score(y_train, y_pred, average='weighted')  \n",
        "trainScores"
      ],
      "metadata": {
        "colab": {
          "base_uri": "https://localhost:8080/"
        },
        "id": "zq8W0_tSMbWk",
        "outputId": "0f859aed-6deb-4554-f7aa-3bfb29500c5e"
      },
      "execution_count": null,
      "outputs": [
        {
          "output_type": "stream",
          "name": "stderr",
          "text": [
            "/usr/local/lib/python3.7/dist-packages/sklearn/svm/_base.py:1208: ConvergenceWarning: Liblinear failed to converge, increase the number of iterations.\n",
            "  ConvergenceWarning,\n"
          ]
        },
        {
          "output_type": "execute_result",
          "data": {
            "text/plain": [
              "{'KNN-f1-score': 0.6631626114621141,\n",
              " 'Tree-f1-score': 0.816645656540811,\n",
              " 'SVM-f1-score': 0.6448043648295465}"
            ]
          },
          "metadata": {},
          "execution_count": 42
        }
      ]
    },
    {
      "cell_type": "markdown",
      "source": [
        "Logistic Regression\n",
        "# New section"
      ],
      "metadata": {
        "id": "U-DFJ22EMkdc"
      }
    },
    {
      "cell_type": "code",
      "source": [
        "from sklearn.linear_model import LogisticRegression\n",
        "\n",
        "clf_log = LogisticRegression(random_state=0, solver='lbfgs',\n",
        "                         multi_class='multinomial')\n",
        "clf_log.fit(X_train, y_train)\n",
        "\n",
        "y_pred=clf_log.predict(X_train)\n",
        "y_proba=clf_log.predict_proba(X_train)\n",
        "testScores['LogReg-logLoss']=log_loss(testy, proba)\n",
        "trainScores['LogReg-f1-score']=f1_score(y_train, y_pred, average='weighted')  \n",
        "trainScores['LogReg-logLoss']=log_loss(y_train, y_proba)"
      ],
      "metadata": {
        "id": "AS3BNMKUMly7"
      },
      "execution_count": null,
      "outputs": []
    },
    {
      "cell_type": "code",
      "source": [
        "trainScores"
      ],
      "metadata": {
        "colab": {
          "base_uri": "https://localhost:8080/"
        },
        "id": "NN2ngW6rNO4U",
        "outputId": "e660e676-0c63-4f13-dd7d-82ace566b30c"
      },
      "execution_count": null,
      "outputs": [
        {
          "output_type": "execute_result",
          "data": {
            "text/plain": [
              "{'KNN-f1-score': 0.6631626114621141,\n",
              " 'Tree-f1-score': 0.816645656540811,\n",
              " 'SVM-f1-score': 0.6448043648295465}"
            ]
          },
          "metadata": {},
          "execution_count": 46
        }
      ]
    },
    {
      "cell_type": "code",
      "source": [
        "!wget -O loan_test.csv https://s3-api.us-geo.objectstorage.softlayer.net/cf-courses-data/CognitiveClass/ML0101ENv3/labs/loan_test.csv"
      ],
      "metadata": {
        "colab": {
          "base_uri": "https://localhost:8080/"
        },
        "id": "5MqzsCUUNWfT",
        "outputId": "8e8f2f36-c81d-4eaa-afd4-09e25acb6bbd"
      },
      "execution_count": null,
      "outputs": [
        {
          "output_type": "stream",
          "name": "stdout",
          "text": [
            "--2022-09-10 07:03:07--  https://s3-api.us-geo.objectstorage.softlayer.net/cf-courses-data/CognitiveClass/ML0101ENv3/labs/loan_test.csv\n",
            "Resolving s3-api.us-geo.objectstorage.softlayer.net (s3-api.us-geo.objectstorage.softlayer.net)... 67.228.254.196\n",
            "Connecting to s3-api.us-geo.objectstorage.softlayer.net (s3-api.us-geo.objectstorage.softlayer.net)|67.228.254.196|:443... connected.\n",
            "HTTP request sent, awaiting response... 200 OK\n",
            "Length: 3642 (3.6K) [text/csv]\n",
            "Saving to: ‘loan_test.csv’\n",
            "\n",
            "\rloan_test.csv         0%[                    ]       0  --.-KB/s               \rloan_test.csv       100%[===================>]   3.56K  --.-KB/s    in 0s      \n",
            "\n",
            "2022-09-10 07:03:07 (556 MB/s) - ‘loan_test.csv’ saved [3642/3642]\n",
            "\n"
          ]
        }
      ]
    },
    {
      "cell_type": "code",
      "source": [],
      "metadata": {
        "colab": {
          "base_uri": "https://localhost:8080/",
          "height": 206
        },
        "id": "jyeztInlNami",
        "outputId": "d3de7eec-9af6-4186-dbf7-ac48988cc5c3"
      },
      "execution_count": null,
      "outputs": [
        {
          "output_type": "execute_result",
          "data": {
            "text/plain": [
              "   Unnamed: 0  Unnamed: 0.1 loan_status  Principal  terms effective_date  \\\n",
              "0           1             1     PAIDOFF       1000     30       9/8/2016   \n",
              "1           5             5     PAIDOFF        300      7       9/9/2016   \n",
              "2          21            21     PAIDOFF       1000     30      9/10/2016   \n",
              "3          24            24     PAIDOFF       1000     30      9/10/2016   \n",
              "4          35            35     PAIDOFF        800     15      9/11/2016   \n",
              "\n",
              "    due_date  age             education  Gender  \n",
              "0  10/7/2016   50              Bechalor  female  \n",
              "1  9/15/2016   35       Master or Above    male  \n",
              "2  10/9/2016   43  High School or Below  female  \n",
              "3  10/9/2016   26               college    male  \n",
              "4  9/25/2016   29              Bechalor    male  "
            ],
            "text/html": [
              "\n",
              "  <div id=\"df-c2f3adb2-4048-474b-abba-7e4ee7358fd3\">\n",
              "    <div class=\"colab-df-container\">\n",
              "      <div>\n",
              "<style scoped>\n",
              "    .dataframe tbody tr th:only-of-type {\n",
              "        vertical-align: middle;\n",
              "    }\n",
              "\n",
              "    .dataframe tbody tr th {\n",
              "        vertical-align: top;\n",
              "    }\n",
              "\n",
              "    .dataframe thead th {\n",
              "        text-align: right;\n",
              "    }\n",
              "</style>\n",
              "<table border=\"1\" class=\"dataframe\">\n",
              "  <thead>\n",
              "    <tr style=\"text-align: right;\">\n",
              "      <th></th>\n",
              "      <th>Unnamed: 0</th>\n",
              "      <th>Unnamed: 0.1</th>\n",
              "      <th>loan_status</th>\n",
              "      <th>Principal</th>\n",
              "      <th>terms</th>\n",
              "      <th>effective_date</th>\n",
              "      <th>due_date</th>\n",
              "      <th>age</th>\n",
              "      <th>education</th>\n",
              "      <th>Gender</th>\n",
              "    </tr>\n",
              "  </thead>\n",
              "  <tbody>\n",
              "    <tr>\n",
              "      <th>0</th>\n",
              "      <td>1</td>\n",
              "      <td>1</td>\n",
              "      <td>PAIDOFF</td>\n",
              "      <td>1000</td>\n",
              "      <td>30</td>\n",
              "      <td>9/8/2016</td>\n",
              "      <td>10/7/2016</td>\n",
              "      <td>50</td>\n",
              "      <td>Bechalor</td>\n",
              "      <td>female</td>\n",
              "    </tr>\n",
              "    <tr>\n",
              "      <th>1</th>\n",
              "      <td>5</td>\n",
              "      <td>5</td>\n",
              "      <td>PAIDOFF</td>\n",
              "      <td>300</td>\n",
              "      <td>7</td>\n",
              "      <td>9/9/2016</td>\n",
              "      <td>9/15/2016</td>\n",
              "      <td>35</td>\n",
              "      <td>Master or Above</td>\n",
              "      <td>male</td>\n",
              "    </tr>\n",
              "    <tr>\n",
              "      <th>2</th>\n",
              "      <td>21</td>\n",
              "      <td>21</td>\n",
              "      <td>PAIDOFF</td>\n",
              "      <td>1000</td>\n",
              "      <td>30</td>\n",
              "      <td>9/10/2016</td>\n",
              "      <td>10/9/2016</td>\n",
              "      <td>43</td>\n",
              "      <td>High School or Below</td>\n",
              "      <td>female</td>\n",
              "    </tr>\n",
              "    <tr>\n",
              "      <th>3</th>\n",
              "      <td>24</td>\n",
              "      <td>24</td>\n",
              "      <td>PAIDOFF</td>\n",
              "      <td>1000</td>\n",
              "      <td>30</td>\n",
              "      <td>9/10/2016</td>\n",
              "      <td>10/9/2016</td>\n",
              "      <td>26</td>\n",
              "      <td>college</td>\n",
              "      <td>male</td>\n",
              "    </tr>\n",
              "    <tr>\n",
              "      <th>4</th>\n",
              "      <td>35</td>\n",
              "      <td>35</td>\n",
              "      <td>PAIDOFF</td>\n",
              "      <td>800</td>\n",
              "      <td>15</td>\n",
              "      <td>9/11/2016</td>\n",
              "      <td>9/25/2016</td>\n",
              "      <td>29</td>\n",
              "      <td>Bechalor</td>\n",
              "      <td>male</td>\n",
              "    </tr>\n",
              "  </tbody>\n",
              "</table>\n",
              "</div>\n",
              "      <button class=\"colab-df-convert\" onclick=\"convertToInteractive('df-c2f3adb2-4048-474b-abba-7e4ee7358fd3')\"\n",
              "              title=\"Convert this dataframe to an interactive table.\"\n",
              "              style=\"display:none;\">\n",
              "        \n",
              "  <svg xmlns=\"http://www.w3.org/2000/svg\" height=\"24px\"viewBox=\"0 0 24 24\"\n",
              "       width=\"24px\">\n",
              "    <path d=\"M0 0h24v24H0V0z\" fill=\"none\"/>\n",
              "    <path d=\"M18.56 5.44l.94 2.06.94-2.06 2.06-.94-2.06-.94-.94-2.06-.94 2.06-2.06.94zm-11 1L8.5 8.5l.94-2.06 2.06-.94-2.06-.94L8.5 2.5l-.94 2.06-2.06.94zm10 10l.94 2.06.94-2.06 2.06-.94-2.06-.94-.94-2.06-.94 2.06-2.06.94z\"/><path d=\"M17.41 7.96l-1.37-1.37c-.4-.4-.92-.59-1.43-.59-.52 0-1.04.2-1.43.59L10.3 9.45l-7.72 7.72c-.78.78-.78 2.05 0 2.83L4 21.41c.39.39.9.59 1.41.59.51 0 1.02-.2 1.41-.59l7.78-7.78 2.81-2.81c.8-.78.8-2.07 0-2.86zM5.41 20L4 18.59l7.72-7.72 1.47 1.35L5.41 20z\"/>\n",
              "  </svg>\n",
              "      </button>\n",
              "      \n",
              "  <style>\n",
              "    .colab-df-container {\n",
              "      display:flex;\n",
              "      flex-wrap:wrap;\n",
              "      gap: 12px;\n",
              "    }\n",
              "\n",
              "    .colab-df-convert {\n",
              "      background-color: #E8F0FE;\n",
              "      border: none;\n",
              "      border-radius: 50%;\n",
              "      cursor: pointer;\n",
              "      display: none;\n",
              "      fill: #1967D2;\n",
              "      height: 32px;\n",
              "      padding: 0 0 0 0;\n",
              "      width: 32px;\n",
              "    }\n",
              "\n",
              "    .colab-df-convert:hover {\n",
              "      background-color: #E2EBFA;\n",
              "      box-shadow: 0px 1px 2px rgba(60, 64, 67, 0.3), 0px 1px 3px 1px rgba(60, 64, 67, 0.15);\n",
              "      fill: #174EA6;\n",
              "    }\n",
              "\n",
              "    [theme=dark] .colab-df-convert {\n",
              "      background-color: #3B4455;\n",
              "      fill: #D2E3FC;\n",
              "    }\n",
              "\n",
              "    [theme=dark] .colab-df-convert:hover {\n",
              "      background-color: #434B5C;\n",
              "      box-shadow: 0px 1px 3px 1px rgba(0, 0, 0, 0.15);\n",
              "      filter: drop-shadow(0px 1px 2px rgba(0, 0, 0, 0.3));\n",
              "      fill: #FFFFFF;\n",
              "    }\n",
              "  </style>\n",
              "\n",
              "      <script>\n",
              "        const buttonEl =\n",
              "          document.querySelector('#df-c2f3adb2-4048-474b-abba-7e4ee7358fd3 button.colab-df-convert');\n",
              "        buttonEl.style.display =\n",
              "          google.colab.kernel.accessAllowed ? 'block' : 'none';\n",
              "\n",
              "        async function convertToInteractive(key) {\n",
              "          const element = document.querySelector('#df-c2f3adb2-4048-474b-abba-7e4ee7358fd3');\n",
              "          const dataTable =\n",
              "            await google.colab.kernel.invokeFunction('convertToInteractive',\n",
              "                                                     [key], {});\n",
              "          if (!dataTable) return;\n",
              "\n",
              "          const docLinkHtml = 'Like what you see? Visit the ' +\n",
              "            '<a target=\"_blank\" href=https://colab.research.google.com/notebooks/data_table.ipynb>data table notebook</a>'\n",
              "            + ' to learn more about interactive tables.';\n",
              "          element.innerHTML = '';\n",
              "          dataTable['output_type'] = 'display_data';\n",
              "          await google.colab.output.renderOutput(dataTable, element);\n",
              "          const docLink = document.createElement('div');\n",
              "          docLink.innerHTML = docLinkHtml;\n",
              "          element.appendChild(docLink);\n",
              "        }\n",
              "      </script>\n",
              "    </div>\n",
              "  </div>\n",
              "  "
            ]
          },
          "metadata": {},
          "execution_count": 48
        }
      ]
    },
    {
      "cell_type": "code",
      "source": [
        "testScores={}"
      ],
      "metadata": {
        "id": "zasxD9-TNlb4"
      },
      "execution_count": null,
      "outputs": []
    },
    {
      "cell_type": "code",
      "source": [
        "test_df = pd.read_csv('loan_test.csv')\n",
        "test_df.head()"
      ],
      "metadata": {
        "colab": {
          "base_uri": "https://localhost:8080/",
          "height": 206
        },
        "id": "WQSyVzV0Nqz0",
        "outputId": "2e0de121-bc44-4054-c9c5-3b9e228c165b"
      },
      "execution_count": null,
      "outputs": [
        {
          "output_type": "execute_result",
          "data": {
            "text/plain": [
              "   Unnamed: 0  Unnamed: 0.1 loan_status  Principal  terms effective_date  \\\n",
              "0           1             1     PAIDOFF       1000     30       9/8/2016   \n",
              "1           5             5     PAIDOFF        300      7       9/9/2016   \n",
              "2          21            21     PAIDOFF       1000     30      9/10/2016   \n",
              "3          24            24     PAIDOFF       1000     30      9/10/2016   \n",
              "4          35            35     PAIDOFF        800     15      9/11/2016   \n",
              "\n",
              "    due_date  age             education  Gender  \n",
              "0  10/7/2016   50              Bechalor  female  \n",
              "1  9/15/2016   35       Master or Above    male  \n",
              "2  10/9/2016   43  High School or Below  female  \n",
              "3  10/9/2016   26               college    male  \n",
              "4  9/25/2016   29              Bechalor    male  "
            ],
            "text/html": [
              "\n",
              "  <div id=\"df-4e1f9ece-c16d-4264-b45b-20cdbac4c23a\">\n",
              "    <div class=\"colab-df-container\">\n",
              "      <div>\n",
              "<style scoped>\n",
              "    .dataframe tbody tr th:only-of-type {\n",
              "        vertical-align: middle;\n",
              "    }\n",
              "\n",
              "    .dataframe tbody tr th {\n",
              "        vertical-align: top;\n",
              "    }\n",
              "\n",
              "    .dataframe thead th {\n",
              "        text-align: right;\n",
              "    }\n",
              "</style>\n",
              "<table border=\"1\" class=\"dataframe\">\n",
              "  <thead>\n",
              "    <tr style=\"text-align: right;\">\n",
              "      <th></th>\n",
              "      <th>Unnamed: 0</th>\n",
              "      <th>Unnamed: 0.1</th>\n",
              "      <th>loan_status</th>\n",
              "      <th>Principal</th>\n",
              "      <th>terms</th>\n",
              "      <th>effective_date</th>\n",
              "      <th>due_date</th>\n",
              "      <th>age</th>\n",
              "      <th>education</th>\n",
              "      <th>Gender</th>\n",
              "    </tr>\n",
              "  </thead>\n",
              "  <tbody>\n",
              "    <tr>\n",
              "      <th>0</th>\n",
              "      <td>1</td>\n",
              "      <td>1</td>\n",
              "      <td>PAIDOFF</td>\n",
              "      <td>1000</td>\n",
              "      <td>30</td>\n",
              "      <td>9/8/2016</td>\n",
              "      <td>10/7/2016</td>\n",
              "      <td>50</td>\n",
              "      <td>Bechalor</td>\n",
              "      <td>female</td>\n",
              "    </tr>\n",
              "    <tr>\n",
              "      <th>1</th>\n",
              "      <td>5</td>\n",
              "      <td>5</td>\n",
              "      <td>PAIDOFF</td>\n",
              "      <td>300</td>\n",
              "      <td>7</td>\n",
              "      <td>9/9/2016</td>\n",
              "      <td>9/15/2016</td>\n",
              "      <td>35</td>\n",
              "      <td>Master or Above</td>\n",
              "      <td>male</td>\n",
              "    </tr>\n",
              "    <tr>\n",
              "      <th>2</th>\n",
              "      <td>21</td>\n",
              "      <td>21</td>\n",
              "      <td>PAIDOFF</td>\n",
              "      <td>1000</td>\n",
              "      <td>30</td>\n",
              "      <td>9/10/2016</td>\n",
              "      <td>10/9/2016</td>\n",
              "      <td>43</td>\n",
              "      <td>High School or Below</td>\n",
              "      <td>female</td>\n",
              "    </tr>\n",
              "    <tr>\n",
              "      <th>3</th>\n",
              "      <td>24</td>\n",
              "      <td>24</td>\n",
              "      <td>PAIDOFF</td>\n",
              "      <td>1000</td>\n",
              "      <td>30</td>\n",
              "      <td>9/10/2016</td>\n",
              "      <td>10/9/2016</td>\n",
              "      <td>26</td>\n",
              "      <td>college</td>\n",
              "      <td>male</td>\n",
              "    </tr>\n",
              "    <tr>\n",
              "      <th>4</th>\n",
              "      <td>35</td>\n",
              "      <td>35</td>\n",
              "      <td>PAIDOFF</td>\n",
              "      <td>800</td>\n",
              "      <td>15</td>\n",
              "      <td>9/11/2016</td>\n",
              "      <td>9/25/2016</td>\n",
              "      <td>29</td>\n",
              "      <td>Bechalor</td>\n",
              "      <td>male</td>\n",
              "    </tr>\n",
              "  </tbody>\n",
              "</table>\n",
              "</div>\n",
              "      <button class=\"colab-df-convert\" onclick=\"convertToInteractive('df-4e1f9ece-c16d-4264-b45b-20cdbac4c23a')\"\n",
              "              title=\"Convert this dataframe to an interactive table.\"\n",
              "              style=\"display:none;\">\n",
              "        \n",
              "  <svg xmlns=\"http://www.w3.org/2000/svg\" height=\"24px\"viewBox=\"0 0 24 24\"\n",
              "       width=\"24px\">\n",
              "    <path d=\"M0 0h24v24H0V0z\" fill=\"none\"/>\n",
              "    <path d=\"M18.56 5.44l.94 2.06.94-2.06 2.06-.94-2.06-.94-.94-2.06-.94 2.06-2.06.94zm-11 1L8.5 8.5l.94-2.06 2.06-.94-2.06-.94L8.5 2.5l-.94 2.06-2.06.94zm10 10l.94 2.06.94-2.06 2.06-.94-2.06-.94-.94-2.06-.94 2.06-2.06.94z\"/><path d=\"M17.41 7.96l-1.37-1.37c-.4-.4-.92-.59-1.43-.59-.52 0-1.04.2-1.43.59L10.3 9.45l-7.72 7.72c-.78.78-.78 2.05 0 2.83L4 21.41c.39.39.9.59 1.41.59.51 0 1.02-.2 1.41-.59l7.78-7.78 2.81-2.81c.8-.78.8-2.07 0-2.86zM5.41 20L4 18.59l7.72-7.72 1.47 1.35L5.41 20z\"/>\n",
              "  </svg>\n",
              "      </button>\n",
              "      \n",
              "  <style>\n",
              "    .colab-df-container {\n",
              "      display:flex;\n",
              "      flex-wrap:wrap;\n",
              "      gap: 12px;\n",
              "    }\n",
              "\n",
              "    .colab-df-convert {\n",
              "      background-color: #E8F0FE;\n",
              "      border: none;\n",
              "      border-radius: 50%;\n",
              "      cursor: pointer;\n",
              "      display: none;\n",
              "      fill: #1967D2;\n",
              "      height: 32px;\n",
              "      padding: 0 0 0 0;\n",
              "      width: 32px;\n",
              "    }\n",
              "\n",
              "    .colab-df-convert:hover {\n",
              "      background-color: #E2EBFA;\n",
              "      box-shadow: 0px 1px 2px rgba(60, 64, 67, 0.3), 0px 1px 3px 1px rgba(60, 64, 67, 0.15);\n",
              "      fill: #174EA6;\n",
              "    }\n",
              "\n",
              "    [theme=dark] .colab-df-convert {\n",
              "      background-color: #3B4455;\n",
              "      fill: #D2E3FC;\n",
              "    }\n",
              "\n",
              "    [theme=dark] .colab-df-convert:hover {\n",
              "      background-color: #434B5C;\n",
              "      box-shadow: 0px 1px 3px 1px rgba(0, 0, 0, 0.15);\n",
              "      filter: drop-shadow(0px 1px 2px rgba(0, 0, 0, 0.3));\n",
              "      fill: #FFFFFF;\n",
              "    }\n",
              "  </style>\n",
              "\n",
              "      <script>\n",
              "        const buttonEl =\n",
              "          document.querySelector('#df-4e1f9ece-c16d-4264-b45b-20cdbac4c23a button.colab-df-convert');\n",
              "        buttonEl.style.display =\n",
              "          google.colab.kernel.accessAllowed ? 'block' : 'none';\n",
              "\n",
              "        async function convertToInteractive(key) {\n",
              "          const element = document.querySelector('#df-4e1f9ece-c16d-4264-b45b-20cdbac4c23a');\n",
              "          const dataTable =\n",
              "            await google.colab.kernel.invokeFunction('convertToInteractive',\n",
              "                                                     [key], {});\n",
              "          if (!dataTable) return;\n",
              "\n",
              "          const docLinkHtml = 'Like what you see? Visit the ' +\n",
              "            '<a target=\"_blank\" href=https://colab.research.google.com/notebooks/data_table.ipynb>data table notebook</a>'\n",
              "            + ' to learn more about interactive tables.';\n",
              "          element.innerHTML = '';\n",
              "          dataTable['output_type'] = 'display_data';\n",
              "          await google.colab.output.renderOutput(dataTable, element);\n",
              "          const docLink = document.createElement('div');\n",
              "          docLink.innerHTML = docLinkHtml;\n",
              "          element.appendChild(docLink);\n",
              "        }\n",
              "      </script>\n",
              "    </div>\n",
              "  </div>\n",
              "  "
            ]
          },
          "metadata": {},
          "execution_count": 55
        }
      ]
    },
    {
      "cell_type": "code",
      "source": [
        "test_df['due_date'] = pd.to_datetime(test_df['due_date'])\n",
        "test_df['effective_date'] = pd.to_datetime(test_df['effective_date'])\n",
        "\n",
        "test_df['Gender'].replace(to_replace=['male','female'], value=[0,1],inplace=True)\n",
        "\n",
        "# test_df['Month'] = test_df.due_date.dt.month \n",
        "\n",
        "# test_df['deadline']=test_df['due_date']-test_df['effective_date']\n",
        "# test_df['deadline']=test_df['deadline'].dt.days\n",
        "\n",
        "Feature = test_df[['Principal','terms','age','Gender']]\n",
        "Feature = pd.concat([Feature,pd.get_dummies(test_df['education'])], axis=1)\n",
        "Feature.drop(['Master or Above'], axis = 1,inplace=True)\n",
        "\n",
        "X = Feature\n",
        "\n",
        "y = test_df['loan_status'].replace(to_replace=['PAIDOFF','COLLECTION'], value=[0,1]).values\n",
        "\n",
        "testy=y.astype(float)\n",
        "testX= preprocessing.StandardScaler().fit_transform(X)"
      ],
      "metadata": {
        "id": "N4wv1JRHPn3Q"
      },
      "execution_count": null,
      "outputs": []
    },
    {
      "cell_type": "code",
      "source": [
        "testScores={}"
      ],
      "metadata": {
        "id": "DDRIdO1TP23H"
      },
      "execution_count": null,
      "outputs": []
    },
    {
      "cell_type": "code",
      "source": [
        "knn_pred=clf_knn.predict(testX)\n",
        "testScores['KNN-f1-score']=f1_score(testy, knn_pred, average='weighted')  \n",
        "tree_pred=clf_tree.predict(testX)\n",
        "testScores['Tree-f1-score']=f1_score(testy, tree_pred, average='weighted')  \n",
        "svm_pred=clf_svm.predict(testX)\n",
        "testScores['SVM-f1-score']=f1_score(testy, svm_pred, average='weighted')  \n",
        "log_pred=clf_log.predict(testX)\n",
        "proba=clf_log.predict_proba(testX)\n",
        "testScores['LogReg-f1-score']=f1_score(testy, log_pred, average='weighted')  \n",
        "testScores['LogReg-logLoss']=log_loss(testy, proba)"
      ],
      "metadata": {
        "id": "RfVPask2P5Cm"
      },
      "execution_count": null,
      "outputs": []
    },
    {
      "cell_type": "code",
      "source": [
        "trainScores"
      ],
      "metadata": {
        "colab": {
          "base_uri": "https://localhost:8080/"
        },
        "id": "XwkgYvLtQFo7",
        "outputId": "5849180c-dfdd-4598-c0db-cfd16da2d9b3"
      },
      "execution_count": null,
      "outputs": [
        {
          "output_type": "execute_result",
          "data": {
            "text/plain": [
              "{'KNN-f1-score': 0.6631626114621141,\n",
              " 'Tree-f1-score': 0.816645656540811,\n",
              " 'SVM-f1-score': 0.6448043648295465}"
            ]
          },
          "metadata": {},
          "execution_count": 59
        }
      ]
    },
    {
      "cell_type": "code",
      "source": [
        "testScores"
      ],
      "metadata": {
        "colab": {
          "base_uri": "https://localhost:8080/"
        },
        "id": "Xf49u4KgQJln",
        "outputId": "8c0076c4-e28d-4b2d-f100-23cfefae5a42"
      },
      "execution_count": null,
      "outputs": [
        {
          "output_type": "execute_result",
          "data": {
            "text/plain": [
              "{'KNN-f1-score': 0.6304176516942475,\n",
              " 'Tree-f1-score': 0.6579124579124579,\n",
              " 'SVM-f1-score': 0.6304176516942475,\n",
              " 'LogReg-f1-score': 0.6304176516942475,\n",
              " 'LogReg-logLoss': 0.58794958457967}"
            ]
          },
          "metadata": {},
          "execution_count": 60
        }
      ]
    },
    {
      "cell_type": "code",
      "source": [
        "# Features used\n",
        "list(Feature.columns)"
      ],
      "metadata": {
        "colab": {
          "base_uri": "https://localhost:8080/"
        },
        "id": "xIeo6dmgQNL9",
        "outputId": "16fa43f0-0e4f-4389-ee10-bc8047ab3d02"
      },
      "execution_count": null,
      "outputs": [
        {
          "output_type": "execute_result",
          "data": {
            "text/plain": [
              "['Principal',\n",
              " 'terms',\n",
              " 'age',\n",
              " 'Gender',\n",
              " 'Bechalor',\n",
              " 'High School or Below',\n",
              " 'college']"
            ]
          },
          "metadata": {},
          "execution_count": 62
        }
      ]
    },
    {
      "cell_type": "markdown",
      "source": [
        "Reports\n",
        "Algorithm\t\n",
        "\n",
        "'KNN-f1-score': 0.6304176516942475,\n",
        " 'Tree-f1-score': 0.6579124579124579,\n",
        " 'SVM-f1-score': 0.6304176516942475,\n",
        " 'LogReg-f1-score': 0.6304176516942475,\n",
        " 'LogReg-logLoss': 0.58794958457967"
      ],
      "metadata": {
        "id": "93FyUmYUQaK4"
      }
    }
  ]
}